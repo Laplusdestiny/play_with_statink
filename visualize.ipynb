{
 "cells": [
  {
   "cell_type": "code",
   "execution_count": 1,
   "metadata": {},
   "outputs": [],
   "source": [
    "%load_ext autoreload\n",
    "%autoreload 2"
   ]
  },
  {
   "cell_type": "code",
   "execution_count": 2,
   "metadata": {},
   "outputs": [],
   "source": [
    "import pandas as pd\n",
    "from pathlib import Path\n",
    "from plotly import express as px\n",
    "from tqdm.auto import tqdm\n",
    "import json\n",
    "import missingno as msno"
   ]
  },
  {
   "attachments": {},
   "cell_type": "markdown",
   "metadata": {},
   "source": [
    "# battle"
   ]
  },
  {
   "cell_type": "code",
   "execution_count": 3,
   "metadata": {},
   "outputs": [
    {
     "data": {
      "application/vnd.jupyter.widget-view+json": {
       "model_id": "e2a89610171540cca8ee7283d991162c",
       "version_major": 2,
       "version_minor": 0
      },
      "text/plain": [
       "0it [00:00, ?it/s]"
      ]
     },
     "metadata": {},
     "output_type": "display_data"
    }
   ],
   "source": [
    "json_path = Path(\"data/statink-Laplusdestiny\").resolve()\n",
    "with open(json_path) as f:\n",
    "    data = list()\n",
    "    for line in tqdm(f):\n",
    "        data.append(json.loads(line))\n",
    "        # data.append(line)"
   ]
  },
  {
   "cell_type": "code",
   "execution_count": 4,
   "metadata": {},
   "outputs": [
    {
     "data": {
      "text/html": [
       "<div>\n",
       "<style scoped>\n",
       "    .dataframe tbody tr th:only-of-type {\n",
       "        vertical-align: middle;\n",
       "    }\n",
       "\n",
       "    .dataframe tbody tr th {\n",
       "        vertical-align: top;\n",
       "    }\n",
       "\n",
       "    .dataframe thead th {\n",
       "        text-align: right;\n",
       "    }\n",
       "</style>\n",
       "<table border=\"1\" class=\"dataframe\">\n",
       "  <thead>\n",
       "    <tr style=\"text-align: right;\">\n",
       "      <th></th>\n",
       "      <th>id</th>\n",
       "      <th>url</th>\n",
       "      <th>images</th>\n",
       "      <th>user</th>\n",
       "      <th>lobby</th>\n",
       "      <th>rule</th>\n",
       "      <th>stage</th>\n",
       "      <th>weapon</th>\n",
       "      <th>result</th>\n",
       "      <th>knockout</th>\n",
       "      <th>...</th>\n",
       "      <th>start_at</th>\n",
       "      <th>end_at</th>\n",
       "      <th>period</th>\n",
       "      <th>created_at</th>\n",
       "      <th>uuid</th>\n",
       "      <th>bankara_power_after</th>\n",
       "      <th>timestamp</th>\n",
       "      <th>rule_name</th>\n",
       "      <th>stage_name</th>\n",
       "      <th>weapon_name</th>\n",
       "    </tr>\n",
       "  </thead>\n",
       "  <tbody>\n",
       "    <tr>\n",
       "      <th>0</th>\n",
       "      <td>4d02b8c4-5101-4d89-a551-3234109b0eab</td>\n",
       "      <td>https://stat.ink/@Laplusdestiny/spl3/4d02b8c4-...</td>\n",
       "      <td>{'judge': None, 'results': None, 'gear': None}</td>\n",
       "      <td>{'id': 13408, 'name': 'らぷらす', 'screen_name': '...</td>\n",
       "      <td>{'key': 'bankara_open', 'name': {'en_US': 'Ana...</td>\n",
       "      <td>{'key': 'asari', 'aliases': ['clam', 'clam_bli...</td>\n",
       "      <td>{'key': 'sumeshi', 'aliases': ['wahoo_world', ...</td>\n",
       "      <td>{'key': 'sputtery', 'aliases': ['dapple_dualie...</td>\n",
       "      <td>win</td>\n",
       "      <td>False</td>\n",
       "      <td>...</td>\n",
       "      <td>{'time': 1664360534, 'iso8601': '2022-09-28T10...</td>\n",
       "      <td>{'time': 1664360854, 'iso8601': '2022-09-28T10...</td>\n",
       "      <td>{'period': 231161, 'from': '2022-09-28T10:00:0...</td>\n",
       "      <td>{'time': 1664589118, 'iso8601': '2022-10-01T01...</td>\n",
       "      <td>NaN</td>\n",
       "      <td>NaN</td>\n",
       "      <td>2022-09-28 19:22:14+09:00</td>\n",
       "      <td>asari</td>\n",
       "      <td>sumeshi</td>\n",
       "      <td>sputtery</td>\n",
       "    </tr>\n",
       "    <tr>\n",
       "      <th>1</th>\n",
       "      <td>6cb80f4b-de9e-403e-b3f3-50a98a9a2bff</td>\n",
       "      <td>https://stat.ink/@Laplusdestiny/spl3/6cb80f4b-...</td>\n",
       "      <td>{'judge': None, 'results': None, 'gear': None}</td>\n",
       "      <td>{'id': 13408, 'name': 'らぷらす', 'screen_name': '...</td>\n",
       "      <td>{'key': 'bankara_challenge', 'name': {'en_US':...</td>\n",
       "      <td>{'key': 'yagura', 'aliases': ['loft', 'tower_c...</td>\n",
       "      <td>{'key': 'gonzui', 'aliases': ['alley', 'eeltai...</td>\n",
       "      <td>{'key': 'splatroller', 'aliases': ['splat_roll...</td>\n",
       "      <td>win</td>\n",
       "      <td>False</td>\n",
       "      <td>...</td>\n",
       "      <td>{'time': 1664361206, 'iso8601': '2022-09-28T10...</td>\n",
       "      <td>{'time': 1664361520, 'iso8601': '2022-09-28T10...</td>\n",
       "      <td>{'period': 231161, 'from': '2022-09-28T10:00:0...</td>\n",
       "      <td>{'time': 1664589123, 'iso8601': '2022-10-01T01...</td>\n",
       "      <td>NaN</td>\n",
       "      <td>NaN</td>\n",
       "      <td>2022-09-28 19:33:26+09:00</td>\n",
       "      <td>yagura</td>\n",
       "      <td>gonzui</td>\n",
       "      <td>splatroller</td>\n",
       "    </tr>\n",
       "    <tr>\n",
       "      <th>2</th>\n",
       "      <td>e00005cf-ebb6-4c1e-9a45-c78890ea5cba</td>\n",
       "      <td>https://stat.ink/@Laplusdestiny/spl3/e00005cf-...</td>\n",
       "      <td>{'judge': None, 'results': None, 'gear': None}</td>\n",
       "      <td>{'id': 13408, 'name': 'らぷらす', 'screen_name': '...</td>\n",
       "      <td>{'key': 'bankara_challenge', 'name': {'en_US':...</td>\n",
       "      <td>{'key': 'yagura', 'aliases': ['loft', 'tower_c...</td>\n",
       "      <td>{'key': 'gonzui', 'aliases': ['alley', 'eeltai...</td>\n",
       "      <td>{'key': 'splatroller', 'aliases': ['splat_roll...</td>\n",
       "      <td>win</td>\n",
       "      <td>True</td>\n",
       "      <td>...</td>\n",
       "      <td>{'time': 1664361616, 'iso8601': '2022-09-28T10...</td>\n",
       "      <td>{'time': 1664361765, 'iso8601': '2022-09-28T10...</td>\n",
       "      <td>{'period': 231161, 'from': '2022-09-28T10:00:0...</td>\n",
       "      <td>{'time': 1664589126, 'iso8601': '2022-10-01T01...</td>\n",
       "      <td>NaN</td>\n",
       "      <td>NaN</td>\n",
       "      <td>2022-09-28 19:40:16+09:00</td>\n",
       "      <td>yagura</td>\n",
       "      <td>gonzui</td>\n",
       "      <td>splatroller</td>\n",
       "    </tr>\n",
       "    <tr>\n",
       "      <th>3</th>\n",
       "      <td>337a351d-19e6-4675-bc65-3dbfdea97022</td>\n",
       "      <td>https://stat.ink/@Laplusdestiny/spl3/337a351d-...</td>\n",
       "      <td>{'judge': None, 'results': None, 'gear': None}</td>\n",
       "      <td>{'id': 13408, 'name': 'らぷらす', 'screen_name': '...</td>\n",
       "      <td>{'key': 'bankara_challenge', 'name': {'en_US':...</td>\n",
       "      <td>{'key': 'yagura', 'aliases': ['loft', 'tower_c...</td>\n",
       "      <td>{'key': 'kinmedai', 'aliases': ['museum', 'mus...</td>\n",
       "      <td>{'key': 'splatroller', 'aliases': ['splat_roll...</td>\n",
       "      <td>lose</td>\n",
       "      <td>True</td>\n",
       "      <td>...</td>\n",
       "      <td>{'time': 1664361862, 'iso8601': '2022-09-28T10...</td>\n",
       "      <td>{'time': 1664362065, 'iso8601': '2022-09-28T10...</td>\n",
       "      <td>{'period': 231161, 'from': '2022-09-28T10:00:0...</td>\n",
       "      <td>{'time': 1664589130, 'iso8601': '2022-10-01T01...</td>\n",
       "      <td>NaN</td>\n",
       "      <td>NaN</td>\n",
       "      <td>2022-09-28 19:44:22+09:00</td>\n",
       "      <td>yagura</td>\n",
       "      <td>kinmedai</td>\n",
       "      <td>splatroller</td>\n",
       "    </tr>\n",
       "    <tr>\n",
       "      <th>4</th>\n",
       "      <td>2036da86-0cf7-4f78-9667-43c0af5c2f3e</td>\n",
       "      <td>https://stat.ink/@Laplusdestiny/spl3/2036da86-...</td>\n",
       "      <td>{'judge': None, 'results': None, 'gear': None}</td>\n",
       "      <td>{'id': 13408, 'name': 'らぷらす', 'screen_name': '...</td>\n",
       "      <td>{'key': 'bankara_challenge', 'name': {'en_US':...</td>\n",
       "      <td>{'key': 'yagura', 'aliases': ['loft', 'tower_c...</td>\n",
       "      <td>{'key': 'gonzui', 'aliases': ['alley', 'eeltai...</td>\n",
       "      <td>{'key': 'splatroller', 'aliases': ['splat_roll...</td>\n",
       "      <td>win</td>\n",
       "      <td>True</td>\n",
       "      <td>...</td>\n",
       "      <td>{'time': 1664362162, 'iso8601': '2022-09-28T10...</td>\n",
       "      <td>{'time': 1664362227, 'iso8601': '2022-09-28T10...</td>\n",
       "      <td>{'period': 231161, 'from': '2022-09-28T10:00:0...</td>\n",
       "      <td>{'time': 1664589134, 'iso8601': '2022-10-01T01...</td>\n",
       "      <td>NaN</td>\n",
       "      <td>NaN</td>\n",
       "      <td>2022-09-28 19:49:22+09:00</td>\n",
       "      <td>yagura</td>\n",
       "      <td>gonzui</td>\n",
       "      <td>splatroller</td>\n",
       "    </tr>\n",
       "  </tbody>\n",
       "</table>\n",
       "<p>5 rows × 60 columns</p>\n",
       "</div>"
      ],
      "text/plain": [
       "                                     id  \\\n",
       "0  4d02b8c4-5101-4d89-a551-3234109b0eab   \n",
       "1  6cb80f4b-de9e-403e-b3f3-50a98a9a2bff   \n",
       "2  e00005cf-ebb6-4c1e-9a45-c78890ea5cba   \n",
       "3  337a351d-19e6-4675-bc65-3dbfdea97022   \n",
       "4  2036da86-0cf7-4f78-9667-43c0af5c2f3e   \n",
       "\n",
       "                                                 url  \\\n",
       "0  https://stat.ink/@Laplusdestiny/spl3/4d02b8c4-...   \n",
       "1  https://stat.ink/@Laplusdestiny/spl3/6cb80f4b-...   \n",
       "2  https://stat.ink/@Laplusdestiny/spl3/e00005cf-...   \n",
       "3  https://stat.ink/@Laplusdestiny/spl3/337a351d-...   \n",
       "4  https://stat.ink/@Laplusdestiny/spl3/2036da86-...   \n",
       "\n",
       "                                           images  \\\n",
       "0  {'judge': None, 'results': None, 'gear': None}   \n",
       "1  {'judge': None, 'results': None, 'gear': None}   \n",
       "2  {'judge': None, 'results': None, 'gear': None}   \n",
       "3  {'judge': None, 'results': None, 'gear': None}   \n",
       "4  {'judge': None, 'results': None, 'gear': None}   \n",
       "\n",
       "                                                user  \\\n",
       "0  {'id': 13408, 'name': 'らぷらす', 'screen_name': '...   \n",
       "1  {'id': 13408, 'name': 'らぷらす', 'screen_name': '...   \n",
       "2  {'id': 13408, 'name': 'らぷらす', 'screen_name': '...   \n",
       "3  {'id': 13408, 'name': 'らぷらす', 'screen_name': '...   \n",
       "4  {'id': 13408, 'name': 'らぷらす', 'screen_name': '...   \n",
       "\n",
       "                                               lobby  \\\n",
       "0  {'key': 'bankara_open', 'name': {'en_US': 'Ana...   \n",
       "1  {'key': 'bankara_challenge', 'name': {'en_US':...   \n",
       "2  {'key': 'bankara_challenge', 'name': {'en_US':...   \n",
       "3  {'key': 'bankara_challenge', 'name': {'en_US':...   \n",
       "4  {'key': 'bankara_challenge', 'name': {'en_US':...   \n",
       "\n",
       "                                                rule  \\\n",
       "0  {'key': 'asari', 'aliases': ['clam', 'clam_bli...   \n",
       "1  {'key': 'yagura', 'aliases': ['loft', 'tower_c...   \n",
       "2  {'key': 'yagura', 'aliases': ['loft', 'tower_c...   \n",
       "3  {'key': 'yagura', 'aliases': ['loft', 'tower_c...   \n",
       "4  {'key': 'yagura', 'aliases': ['loft', 'tower_c...   \n",
       "\n",
       "                                               stage  \\\n",
       "0  {'key': 'sumeshi', 'aliases': ['wahoo_world', ...   \n",
       "1  {'key': 'gonzui', 'aliases': ['alley', 'eeltai...   \n",
       "2  {'key': 'gonzui', 'aliases': ['alley', 'eeltai...   \n",
       "3  {'key': 'kinmedai', 'aliases': ['museum', 'mus...   \n",
       "4  {'key': 'gonzui', 'aliases': ['alley', 'eeltai...   \n",
       "\n",
       "                                              weapon result knockout  ...  \\\n",
       "0  {'key': 'sputtery', 'aliases': ['dapple_dualie...    win    False  ...   \n",
       "1  {'key': 'splatroller', 'aliases': ['splat_roll...    win    False  ...   \n",
       "2  {'key': 'splatroller', 'aliases': ['splat_roll...    win     True  ...   \n",
       "3  {'key': 'splatroller', 'aliases': ['splat_roll...   lose     True  ...   \n",
       "4  {'key': 'splatroller', 'aliases': ['splat_roll...    win     True  ...   \n",
       "\n",
       "                                            start_at  \\\n",
       "0  {'time': 1664360534, 'iso8601': '2022-09-28T10...   \n",
       "1  {'time': 1664361206, 'iso8601': '2022-09-28T10...   \n",
       "2  {'time': 1664361616, 'iso8601': '2022-09-28T10...   \n",
       "3  {'time': 1664361862, 'iso8601': '2022-09-28T10...   \n",
       "4  {'time': 1664362162, 'iso8601': '2022-09-28T10...   \n",
       "\n",
       "                                              end_at  \\\n",
       "0  {'time': 1664360854, 'iso8601': '2022-09-28T10...   \n",
       "1  {'time': 1664361520, 'iso8601': '2022-09-28T10...   \n",
       "2  {'time': 1664361765, 'iso8601': '2022-09-28T10...   \n",
       "3  {'time': 1664362065, 'iso8601': '2022-09-28T10...   \n",
       "4  {'time': 1664362227, 'iso8601': '2022-09-28T10...   \n",
       "\n",
       "                                              period  \\\n",
       "0  {'period': 231161, 'from': '2022-09-28T10:00:0...   \n",
       "1  {'period': 231161, 'from': '2022-09-28T10:00:0...   \n",
       "2  {'period': 231161, 'from': '2022-09-28T10:00:0...   \n",
       "3  {'period': 231161, 'from': '2022-09-28T10:00:0...   \n",
       "4  {'period': 231161, 'from': '2022-09-28T10:00:0...   \n",
       "\n",
       "                                          created_at  uuid  \\\n",
       "0  {'time': 1664589118, 'iso8601': '2022-10-01T01...   NaN   \n",
       "1  {'time': 1664589123, 'iso8601': '2022-10-01T01...   NaN   \n",
       "2  {'time': 1664589126, 'iso8601': '2022-10-01T01...   NaN   \n",
       "3  {'time': 1664589130, 'iso8601': '2022-10-01T01...   NaN   \n",
       "4  {'time': 1664589134, 'iso8601': '2022-10-01T01...   NaN   \n",
       "\n",
       "   bankara_power_after                 timestamp  rule_name stage_name  \\\n",
       "0                  NaN 2022-09-28 19:22:14+09:00      asari    sumeshi   \n",
       "1                  NaN 2022-09-28 19:33:26+09:00     yagura     gonzui   \n",
       "2                  NaN 2022-09-28 19:40:16+09:00     yagura     gonzui   \n",
       "3                  NaN 2022-09-28 19:44:22+09:00     yagura   kinmedai   \n",
       "4                  NaN 2022-09-28 19:49:22+09:00     yagura     gonzui   \n",
       "\n",
       "   weapon_name  \n",
       "0     sputtery  \n",
       "1  splatroller  \n",
       "2  splatroller  \n",
       "3  splatroller  \n",
       "4  splatroller  \n",
       "\n",
       "[5 rows x 60 columns]"
      ]
     },
     "execution_count": 4,
     "metadata": {},
     "output_type": "execute_result"
    }
   ],
   "source": [
    "df = pd.DataFrame(data).dropna(how=\"all\", axis=1)\n",
    "df[\"timestamp\"] = pd.to_datetime(df[\"start_at\"].apply(lambda x: x[\"iso8601\"])).dt.tz_convert(\"Asia/Tokyo\")\n",
    "df[\"rule_name\"] = df[\"rule\"].apply(lambda x: x[\"key\"])\n",
    "df[\"stage_name\"] = df[\"stage\"].apply(lambda x: x[\"key\"])\n",
    "df[\"weapon_name\"] = df[\"weapon\"].apply(lambda x: x[\"key\"])\n",
    "df.head()"
   ]
  },
  {
   "attachments": {},
   "cell_type": "markdown",
   "metadata": {},
   "source": [
    "## medals"
   ]
  },
  {
   "cell_type": "code",
   "execution_count": 16,
   "metadata": {},
   "outputs": [
    {
     "data": {
      "application/vnd.jupyter.widget-view+json": {
       "model_id": "56e5162c5ec04e4cbbc830fc19112e5e",
       "version_major": 2,
       "version_minor": 0
      },
      "text/plain": [
       "  0%|          | 0/2107 [00:00<?, ?it/s]"
      ]
     },
     "metadata": {},
     "output_type": "display_data"
    },
    {
     "data": {
      "text/html": [
       "<div>\n",
       "<style scoped>\n",
       "    .dataframe tbody tr th:only-of-type {\n",
       "        vertical-align: middle;\n",
       "    }\n",
       "\n",
       "    .dataframe tbody tr th {\n",
       "        vertical-align: top;\n",
       "    }\n",
       "\n",
       "    .dataframe thead th {\n",
       "        text-align: right;\n",
       "    }\n",
       "</style>\n",
       "<table border=\"1\" class=\"dataframe\">\n",
       "  <thead>\n",
       "    <tr style=\"text-align: right;\">\n",
       "      <th></th>\n",
       "      <th>medal1</th>\n",
       "      <th>medal2</th>\n",
       "      <th>medal3</th>\n",
       "    </tr>\n",
       "  </thead>\n",
       "  <tbody>\n",
       "    <tr>\n",
       "      <th>0</th>\n",
       "      <td>バトル No.1</td>\n",
       "      <td>塗りポイント No.1</td>\n",
       "      <td>アシスト数 No.1</td>\n",
       "    </tr>\n",
       "    <tr>\n",
       "      <th>1</th>\n",
       "      <td>トドメ数 No.1</td>\n",
       "      <td>カウント進行 No.1</td>\n",
       "      <td>ベストカウント更新</td>\n",
       "    </tr>\n",
       "    <tr>\n",
       "      <th>2</th>\n",
       "      <td>バトル No.1</td>\n",
       "      <td>カウント進行 No.1</td>\n",
       "      <td>ベストカウント更新</td>\n",
       "    </tr>\n",
       "    <tr>\n",
       "      <th>3</th>\n",
       "      <td>ベストカウント更新</td>\n",
       "      <td>味方のジャンプ先 No.1</td>\n",
       "      <td>グレートバリア No.1</td>\n",
       "    </tr>\n",
       "    <tr>\n",
       "      <th>4</th>\n",
       "      <td>移動距離 No.1</td>\n",
       "      <td>ベストカウント更新</td>\n",
       "      <td>ガチヤグラブロック No.1</td>\n",
       "    </tr>\n",
       "    <tr>\n",
       "      <th>...</th>\n",
       "      <td>...</td>\n",
       "      <td>...</td>\n",
       "      <td>...</td>\n",
       "    </tr>\n",
       "    <tr>\n",
       "      <th>2102</th>\n",
       "      <td>デコイチラシ No.1</td>\n",
       "      <td>注目された時間 No.2</td>\n",
       "      <td>NaN</td>\n",
       "    </tr>\n",
       "    <tr>\n",
       "      <th>2103</th>\n",
       "      <td>ナイスダマ No.1</td>\n",
       "      <td>移動距離 No.1</td>\n",
       "      <td>アシスト数 No.1</td>\n",
       "    </tr>\n",
       "    <tr>\n",
       "      <th>2104</th>\n",
       "      <td>ナイスダマ No.1</td>\n",
       "      <td>味方のジャンプ先 No.1</td>\n",
       "      <td>ベストカウント更新</td>\n",
       "    </tr>\n",
       "    <tr>\n",
       "      <th>2105</th>\n",
       "      <td>アシスト数 No.1</td>\n",
       "      <td>味方のジャンプ先 No.1</td>\n",
       "      <td>ベストカウント更新</td>\n",
       "    </tr>\n",
       "    <tr>\n",
       "      <th>2106</th>\n",
       "      <td>カンモン突破 No.1</td>\n",
       "      <td>トドメ数 No.1</td>\n",
       "      <td>カウント進行 No.1</td>\n",
       "    </tr>\n",
       "  </tbody>\n",
       "</table>\n",
       "<p>2107 rows × 3 columns</p>\n",
       "</div>"
      ],
      "text/plain": [
       "           medal1         medal2          medal3\n",
       "0        バトル No.1    塗りポイント No.1      アシスト数 No.1\n",
       "1       トドメ数 No.1    カウント進行 No.1       ベストカウント更新\n",
       "2        バトル No.1    カウント進行 No.1       ベストカウント更新\n",
       "3       ベストカウント更新  味方のジャンプ先 No.1    グレートバリア No.1\n",
       "4       移動距離 No.1      ベストカウント更新  ガチヤグラブロック No.1\n",
       "...           ...            ...             ...\n",
       "2102  デコイチラシ No.1   注目された時間 No.2             NaN\n",
       "2103   ナイスダマ No.1      移動距離 No.1      アシスト数 No.1\n",
       "2104   ナイスダマ No.1  味方のジャンプ先 No.1       ベストカウント更新\n",
       "2105   アシスト数 No.1  味方のジャンプ先 No.1       ベストカウント更新\n",
       "2106  カンモン突破 No.1      トドメ数 No.1     カウント進行 No.1\n",
       "\n",
       "[2107 rows x 3 columns]"
      ]
     },
     "execution_count": 16,
     "metadata": {},
     "output_type": "execute_result"
    }
   ],
   "source": [
    "medals = list()\n",
    "medal_all = list()\n",
    "for i in tqdm(df[\"medals\"]):\n",
    "    if isinstance(i, list):\n",
    "        medal_all.extend(i)\n",
    "    i = pd.Series(i)\n",
    "    medals.append(i)\n",
    "medals = pd.DataFrame(medals).rename(columns={0: \"medal1\", 1: \"medal2\", 2: \"medal3\"})\n",
    "medals"
   ]
  },
  {
   "cell_type": "code",
   "execution_count": 18,
   "metadata": {},
   "outputs": [
    {
     "data": {
      "text/html": [
       "<div>\n",
       "<style scoped>\n",
       "    .dataframe tbody tr th:only-of-type {\n",
       "        vertical-align: middle;\n",
       "    }\n",
       "\n",
       "    .dataframe tbody tr th {\n",
       "        vertical-align: top;\n",
       "    }\n",
       "\n",
       "    .dataframe thead th {\n",
       "        text-align: right;\n",
       "    }\n",
       "</style>\n",
       "<table border=\"1\" class=\"dataframe\">\n",
       "  <thead>\n",
       "    <tr style=\"text-align: right;\">\n",
       "      <th></th>\n",
       "      <th>medal</th>\n",
       "      <th>count</th>\n",
       "      <th>percent</th>\n",
       "    </tr>\n",
       "  </thead>\n",
       "  <tbody>\n",
       "    <tr>\n",
       "      <th>0</th>\n",
       "      <td>バトル No.1</td>\n",
       "      <td>510</td>\n",
       "      <td>8.58%</td>\n",
       "    </tr>\n",
       "    <tr>\n",
       "      <th>1</th>\n",
       "      <td>味方のジャンプ先 No.1</td>\n",
       "      <td>464</td>\n",
       "      <td>7.80%</td>\n",
       "    </tr>\n",
       "    <tr>\n",
       "      <th>2</th>\n",
       "      <td>移動距離 No.1</td>\n",
       "      <td>440</td>\n",
       "      <td>7.40%</td>\n",
       "    </tr>\n",
       "    <tr>\n",
       "      <th>3</th>\n",
       "      <td>アシスト数 No.1</td>\n",
       "      <td>423</td>\n",
       "      <td>7.12%</td>\n",
       "    </tr>\n",
       "    <tr>\n",
       "      <th>4</th>\n",
       "      <td>注目された時間 No.1</td>\n",
       "      <td>403</td>\n",
       "      <td>6.78%</td>\n",
       "    </tr>\n",
       "    <tr>\n",
       "      <th>5</th>\n",
       "      <td>トドメ数 No.1</td>\n",
       "      <td>397</td>\n",
       "      <td>6.68%</td>\n",
       "    </tr>\n",
       "    <tr>\n",
       "      <th>6</th>\n",
       "      <td>ベストカウント更新</td>\n",
       "      <td>283</td>\n",
       "      <td>4.76%</td>\n",
       "    </tr>\n",
       "    <tr>\n",
       "      <th>7</th>\n",
       "      <td>塗りポイント No.1</td>\n",
       "      <td>282</td>\n",
       "      <td>4.74%</td>\n",
       "    </tr>\n",
       "    <tr>\n",
       "      <th>8</th>\n",
       "      <td>カウント進行 No.1</td>\n",
       "      <td>275</td>\n",
       "      <td>4.63%</td>\n",
       "    </tr>\n",
       "    <tr>\n",
       "      <th>9</th>\n",
       "      <td>ファーストスプラット</td>\n",
       "      <td>160</td>\n",
       "      <td>2.69%</td>\n",
       "    </tr>\n",
       "    <tr>\n",
       "      <th>10</th>\n",
       "      <td>バトル No.2</td>\n",
       "      <td>148</td>\n",
       "      <td>2.49%</td>\n",
       "    </tr>\n",
       "    <tr>\n",
       "      <th>11</th>\n",
       "      <td>カンモン突破 No.1</td>\n",
       "      <td>148</td>\n",
       "      <td>2.49%</td>\n",
       "    </tr>\n",
       "    <tr>\n",
       "      <th>12</th>\n",
       "      <td>耐えたダメージ No.1</td>\n",
       "      <td>147</td>\n",
       "      <td>2.47%</td>\n",
       "    </tr>\n",
       "    <tr>\n",
       "      <th>13</th>\n",
       "      <td>ホーム塗り No.1</td>\n",
       "      <td>131</td>\n",
       "      <td>2.20%</td>\n",
       "    </tr>\n",
       "    <tr>\n",
       "      <th>14</th>\n",
       "      <td>ガチエリア塗り No.1</td>\n",
       "      <td>130</td>\n",
       "      <td>2.19%</td>\n",
       "    </tr>\n",
       "    <tr>\n",
       "      <th>15</th>\n",
       "      <td>インク消費量 No.1</td>\n",
       "      <td>107</td>\n",
       "      <td>1.80%</td>\n",
       "    </tr>\n",
       "    <tr>\n",
       "      <th>16</th>\n",
       "      <td>ガチエリア関与 No.1</td>\n",
       "      <td>101</td>\n",
       "      <td>1.70%</td>\n",
       "    </tr>\n",
       "    <tr>\n",
       "      <th>17</th>\n",
       "      <td>注目された時間 No.2</td>\n",
       "      <td>96</td>\n",
       "      <td>1.61%</td>\n",
       "    </tr>\n",
       "    <tr>\n",
       "      <th>18</th>\n",
       "      <td>ガチヤグラブロック No.1</td>\n",
       "      <td>93</td>\n",
       "      <td>1.56%</td>\n",
       "    </tr>\n",
       "    <tr>\n",
       "      <th>19</th>\n",
       "      <td>味方のジャンプ先 No.2</td>\n",
       "      <td>88</td>\n",
       "      <td>1.48%</td>\n",
       "    </tr>\n",
       "    <tr>\n",
       "      <th>20</th>\n",
       "      <td>エナジースタンド No.1</td>\n",
       "      <td>87</td>\n",
       "      <td>1.46%</td>\n",
       "    </tr>\n",
       "    <tr>\n",
       "      <th>21</th>\n",
       "      <td>ガチエリア前線キープ No.1</td>\n",
       "      <td>84</td>\n",
       "      <td>1.41%</td>\n",
       "    </tr>\n",
       "    <tr>\n",
       "      <th>22</th>\n",
       "      <td>カウント進行 No.2</td>\n",
       "      <td>83</td>\n",
       "      <td>1.40%</td>\n",
       "    </tr>\n",
       "    <tr>\n",
       "      <th>23</th>\n",
       "      <td>アウェイ塗り No.1</td>\n",
       "      <td>80</td>\n",
       "      <td>1.35%</td>\n",
       "    </tr>\n",
       "    <tr>\n",
       "      <th>24</th>\n",
       "      <td>塗りポイント No.2</td>\n",
       "      <td>69</td>\n",
       "      <td>1.16%</td>\n",
       "    </tr>\n",
       "    <tr>\n",
       "      <th>25</th>\n",
       "      <td>トドメ数 No.2</td>\n",
       "      <td>67</td>\n",
       "      <td>1.13%</td>\n",
       "    </tr>\n",
       "    <tr>\n",
       "      <th>26</th>\n",
       "      <td>ウルトラショット No.1</td>\n",
       "      <td>64</td>\n",
       "      <td>1.08%</td>\n",
       "    </tr>\n",
       "    <tr>\n",
       "      <th>27</th>\n",
       "      <td>マルチミサイル No.1</td>\n",
       "      <td>61</td>\n",
       "      <td>1.03%</td>\n",
       "    </tr>\n",
       "    <tr>\n",
       "      <th>28</th>\n",
       "      <td>アシスト数 No.2</td>\n",
       "      <td>61</td>\n",
       "      <td>1.03%</td>\n",
       "    </tr>\n",
       "    <tr>\n",
       "      <th>29</th>\n",
       "      <td>ガチホコブロック No.1</td>\n",
       "      <td>57</td>\n",
       "      <td>0.96%</td>\n",
       "    </tr>\n",
       "    <tr>\n",
       "      <th>30</th>\n",
       "      <td>ホーム防衛 No.1</td>\n",
       "      <td>48</td>\n",
       "      <td>0.81%</td>\n",
       "    </tr>\n",
       "    <tr>\n",
       "      <th>31</th>\n",
       "      <td>グレートバリア No.1</td>\n",
       "      <td>48</td>\n",
       "      <td>0.81%</td>\n",
       "    </tr>\n",
       "    <tr>\n",
       "      <th>32</th>\n",
       "      <td>ガチアサリブロック No.1</td>\n",
       "      <td>45</td>\n",
       "      <td>0.76%</td>\n",
       "    </tr>\n",
       "    <tr>\n",
       "      <th>33</th>\n",
       "      <td>ガチエリア塗り No.2</td>\n",
       "      <td>40</td>\n",
       "      <td>0.67%</td>\n",
       "    </tr>\n",
       "    <tr>\n",
       "      <th>34</th>\n",
       "      <td>ホップソナー No.1</td>\n",
       "      <td>37</td>\n",
       "      <td>0.62%</td>\n",
       "    </tr>\n",
       "    <tr>\n",
       "      <th>35</th>\n",
       "      <td>ガチホコ運んだ時間 No.1</td>\n",
       "      <td>37</td>\n",
       "      <td>0.62%</td>\n",
       "    </tr>\n",
       "    <tr>\n",
       "      <th>36</th>\n",
       "      <td>ホーム塗り No.2</td>\n",
       "      <td>34</td>\n",
       "      <td>0.57%</td>\n",
       "    </tr>\n",
       "    <tr>\n",
       "      <th>37</th>\n",
       "      <td>ナイスダマ No.1</td>\n",
       "      <td>20</td>\n",
       "      <td>0.34%</td>\n",
       "    </tr>\n",
       "    <tr>\n",
       "      <th>38</th>\n",
       "      <td>メガホンレーザー5.1ch No.1</td>\n",
       "      <td>18</td>\n",
       "      <td>0.30%</td>\n",
       "    </tr>\n",
       "    <tr>\n",
       "      <th>39</th>\n",
       "      <td>ガチエリア前線キープ No.2</td>\n",
       "      <td>18</td>\n",
       "      <td>0.30%</td>\n",
       "    </tr>\n",
       "    <tr>\n",
       "      <th>40</th>\n",
       "      <td>ガチアサリ運んだ時間 No.1</td>\n",
       "      <td>15</td>\n",
       "      <td>0.25%</td>\n",
       "    </tr>\n",
       "    <tr>\n",
       "      <th>41</th>\n",
       "      <td>ガチアサリ運んだ時間 No.2</td>\n",
       "      <td>11</td>\n",
       "      <td>0.19%</td>\n",
       "    </tr>\n",
       "    <tr>\n",
       "      <th>42</th>\n",
       "      <td>トリプルトルネード No.1</td>\n",
       "      <td>8</td>\n",
       "      <td>0.13%</td>\n",
       "    </tr>\n",
       "    <tr>\n",
       "      <th>43</th>\n",
       "      <td>アメフラシ No.1</td>\n",
       "      <td>7</td>\n",
       "      <td>0.12%</td>\n",
       "    </tr>\n",
       "    <tr>\n",
       "      <th>44</th>\n",
       "      <td>アウェイ塗り No.2</td>\n",
       "      <td>7</td>\n",
       "      <td>0.12%</td>\n",
       "    </tr>\n",
       "    <tr>\n",
       "      <th>45</th>\n",
       "      <td>テイオウイカ No.1</td>\n",
       "      <td>3</td>\n",
       "      <td>0.05%</td>\n",
       "    </tr>\n",
       "    <tr>\n",
       "      <th>46</th>\n",
       "      <td>キューインキ No.1</td>\n",
       "      <td>3</td>\n",
       "      <td>0.05%</td>\n",
       "    </tr>\n",
       "    <tr>\n",
       "      <th>47</th>\n",
       "      <td>ウルトラハンコ No.1</td>\n",
       "      <td>2</td>\n",
       "      <td>0.03%</td>\n",
       "    </tr>\n",
       "    <tr>\n",
       "      <th>48</th>\n",
       "      <td>カニタンク No.1</td>\n",
       "      <td>2</td>\n",
       "      <td>0.03%</td>\n",
       "    </tr>\n",
       "    <tr>\n",
       "      <th>49</th>\n",
       "      <td>サメライド No.1</td>\n",
       "      <td>1</td>\n",
       "      <td>0.02%</td>\n",
       "    </tr>\n",
       "    <tr>\n",
       "      <th>50</th>\n",
       "      <td>ショクワンダー No.1</td>\n",
       "      <td>1</td>\n",
       "      <td>0.02%</td>\n",
       "    </tr>\n",
       "    <tr>\n",
       "      <th>51</th>\n",
       "      <td>デコイチラシ No.1</td>\n",
       "      <td>1</td>\n",
       "      <td>0.02%</td>\n",
       "    </tr>\n",
       "  </tbody>\n",
       "</table>\n",
       "</div>"
      ],
      "text/plain": [
       "                 medal  count percent\n",
       "0             バトル No.1    510   8.58%\n",
       "1        味方のジャンプ先 No.1    464   7.80%\n",
       "2            移動距離 No.1    440   7.40%\n",
       "3           アシスト数 No.1    423   7.12%\n",
       "4         注目された時間 No.1    403   6.78%\n",
       "5            トドメ数 No.1    397   6.68%\n",
       "6            ベストカウント更新    283   4.76%\n",
       "7          塗りポイント No.1    282   4.74%\n",
       "8          カウント進行 No.1    275   4.63%\n",
       "9           ファーストスプラット    160   2.69%\n",
       "10            バトル No.2    148   2.49%\n",
       "11         カンモン突破 No.1    148   2.49%\n",
       "12        耐えたダメージ No.1    147   2.47%\n",
       "13          ホーム塗り No.1    131   2.20%\n",
       "14        ガチエリア塗り No.1    130   2.19%\n",
       "15         インク消費量 No.1    107   1.80%\n",
       "16        ガチエリア関与 No.1    101   1.70%\n",
       "17        注目された時間 No.2     96   1.61%\n",
       "18      ガチヤグラブロック No.1     93   1.56%\n",
       "19       味方のジャンプ先 No.2     88   1.48%\n",
       "20       エナジースタンド No.1     87   1.46%\n",
       "21     ガチエリア前線キープ No.1     84   1.41%\n",
       "22         カウント進行 No.2     83   1.40%\n",
       "23         アウェイ塗り No.1     80   1.35%\n",
       "24         塗りポイント No.2     69   1.16%\n",
       "25           トドメ数 No.2     67   1.13%\n",
       "26       ウルトラショット No.1     64   1.08%\n",
       "27        マルチミサイル No.1     61   1.03%\n",
       "28          アシスト数 No.2     61   1.03%\n",
       "29       ガチホコブロック No.1     57   0.96%\n",
       "30          ホーム防衛 No.1     48   0.81%\n",
       "31        グレートバリア No.1     48   0.81%\n",
       "32      ガチアサリブロック No.1     45   0.76%\n",
       "33        ガチエリア塗り No.2     40   0.67%\n",
       "34         ホップソナー No.1     37   0.62%\n",
       "35      ガチホコ運んだ時間 No.1     37   0.62%\n",
       "36          ホーム塗り No.2     34   0.57%\n",
       "37          ナイスダマ No.1     20   0.34%\n",
       "38  メガホンレーザー5.1ch No.1     18   0.30%\n",
       "39     ガチエリア前線キープ No.2     18   0.30%\n",
       "40     ガチアサリ運んだ時間 No.1     15   0.25%\n",
       "41     ガチアサリ運んだ時間 No.2     11   0.19%\n",
       "42      トリプルトルネード No.1      8   0.13%\n",
       "43          アメフラシ No.1      7   0.12%\n",
       "44         アウェイ塗り No.2      7   0.12%\n",
       "45         テイオウイカ No.1      3   0.05%\n",
       "46         キューインキ No.1      3   0.05%\n",
       "47        ウルトラハンコ No.1      2   0.03%\n",
       "48          カニタンク No.1      2   0.03%\n",
       "49          サメライド No.1      1   0.02%\n",
       "50        ショクワンダー No.1      1   0.02%\n",
       "51         デコイチラシ No.1      1   0.02%"
      ]
     },
     "execution_count": 18,
     "metadata": {},
     "output_type": "execute_result"
    }
   ],
   "source": [
    "medal_all = pd.Series(medal_all)\n",
    "medal_vc = medal_all.value_counts().reset_index().rename(columns={\"index\": \"medal\"})\n",
    "medal_vc[\"percent\"] = (medal_vc[\"count\"] / medal_vc[\"count\"].sum()).apply(lambda x: f\"{x * 100: .2f}%\")\n",
    "medal_vc"
   ]
  },
  {
   "cell_type": "code",
   "execution_count": 20,
   "metadata": {},
   "outputs": [
    {
     "data": {
      "application/vnd.plotly.v1+json": {
       "config": {
        "plotlyServerURL": "https://plot.ly"
       },
       "data": [
        {
         "alignmentgroup": "True",
         "hovertemplate": "medal=%{x}<br>count=%{y}<br>percent=%{text}<extra></extra>",
         "legendgroup": "",
         "marker": {
          "color": "#636efa",
          "pattern": {
           "shape": ""
          }
         },
         "name": "",
         "offsetgroup": "",
         "orientation": "v",
         "showlegend": false,
         "text": [
          " 8.58%",
          " 7.80%",
          " 7.40%",
          " 7.12%",
          " 6.78%",
          " 6.68%",
          " 4.76%",
          " 4.74%",
          " 4.63%",
          " 2.69%",
          " 2.49%",
          " 2.49%",
          " 2.47%",
          " 2.20%",
          " 2.19%",
          " 1.80%",
          " 1.70%"
         ],
         "textposition": "auto",
         "type": "bar",
         "x": [
          "バトル No.1",
          "味方のジャンプ先 No.1",
          "移動距離 No.1",
          "アシスト数 No.1",
          "注目された時間 No.1",
          "トドメ数 No.1",
          "ベストカウント更新",
          "塗りポイント No.1",
          "カウント進行 No.1",
          "ファーストスプラット",
          "バトル No.2",
          "カンモン突破 No.1",
          "耐えたダメージ No.1",
          "ホーム塗り No.1",
          "ガチエリア塗り No.1",
          "インク消費量 No.1",
          "ガチエリア関与 No.1"
         ],
         "xaxis": "x",
         "y": [
          510,
          464,
          440,
          423,
          403,
          397,
          283,
          282,
          275,
          160,
          148,
          148,
          147,
          131,
          130,
          107,
          101
         ],
         "yaxis": "y"
        }
       ],
       "layout": {
        "barmode": "relative",
        "height": 600,
        "legend": {
         "tracegroupgap": 0
        },
        "template": {
         "data": {
          "bar": [
           {
            "error_x": {
             "color": "#2a3f5f"
            },
            "error_y": {
             "color": "#2a3f5f"
            },
            "marker": {
             "line": {
              "color": "#E5ECF6",
              "width": 0.5
             },
             "pattern": {
              "fillmode": "overlay",
              "size": 10,
              "solidity": 0.2
             }
            },
            "type": "bar"
           }
          ],
          "barpolar": [
           {
            "marker": {
             "line": {
              "color": "#E5ECF6",
              "width": 0.5
             },
             "pattern": {
              "fillmode": "overlay",
              "size": 10,
              "solidity": 0.2
             }
            },
            "type": "barpolar"
           }
          ],
          "carpet": [
           {
            "aaxis": {
             "endlinecolor": "#2a3f5f",
             "gridcolor": "white",
             "linecolor": "white",
             "minorgridcolor": "white",
             "startlinecolor": "#2a3f5f"
            },
            "baxis": {
             "endlinecolor": "#2a3f5f",
             "gridcolor": "white",
             "linecolor": "white",
             "minorgridcolor": "white",
             "startlinecolor": "#2a3f5f"
            },
            "type": "carpet"
           }
          ],
          "choropleth": [
           {
            "colorbar": {
             "outlinewidth": 0,
             "ticks": ""
            },
            "type": "choropleth"
           }
          ],
          "contour": [
           {
            "colorbar": {
             "outlinewidth": 0,
             "ticks": ""
            },
            "colorscale": [
             [
              0,
              "#0d0887"
             ],
             [
              0.1111111111111111,
              "#46039f"
             ],
             [
              0.2222222222222222,
              "#7201a8"
             ],
             [
              0.3333333333333333,
              "#9c179e"
             ],
             [
              0.4444444444444444,
              "#bd3786"
             ],
             [
              0.5555555555555556,
              "#d8576b"
             ],
             [
              0.6666666666666666,
              "#ed7953"
             ],
             [
              0.7777777777777778,
              "#fb9f3a"
             ],
             [
              0.8888888888888888,
              "#fdca26"
             ],
             [
              1,
              "#f0f921"
             ]
            ],
            "type": "contour"
           }
          ],
          "contourcarpet": [
           {
            "colorbar": {
             "outlinewidth": 0,
             "ticks": ""
            },
            "type": "contourcarpet"
           }
          ],
          "heatmap": [
           {
            "colorbar": {
             "outlinewidth": 0,
             "ticks": ""
            },
            "colorscale": [
             [
              0,
              "#0d0887"
             ],
             [
              0.1111111111111111,
              "#46039f"
             ],
             [
              0.2222222222222222,
              "#7201a8"
             ],
             [
              0.3333333333333333,
              "#9c179e"
             ],
             [
              0.4444444444444444,
              "#bd3786"
             ],
             [
              0.5555555555555556,
              "#d8576b"
             ],
             [
              0.6666666666666666,
              "#ed7953"
             ],
             [
              0.7777777777777778,
              "#fb9f3a"
             ],
             [
              0.8888888888888888,
              "#fdca26"
             ],
             [
              1,
              "#f0f921"
             ]
            ],
            "type": "heatmap"
           }
          ],
          "heatmapgl": [
           {
            "colorbar": {
             "outlinewidth": 0,
             "ticks": ""
            },
            "colorscale": [
             [
              0,
              "#0d0887"
             ],
             [
              0.1111111111111111,
              "#46039f"
             ],
             [
              0.2222222222222222,
              "#7201a8"
             ],
             [
              0.3333333333333333,
              "#9c179e"
             ],
             [
              0.4444444444444444,
              "#bd3786"
             ],
             [
              0.5555555555555556,
              "#d8576b"
             ],
             [
              0.6666666666666666,
              "#ed7953"
             ],
             [
              0.7777777777777778,
              "#fb9f3a"
             ],
             [
              0.8888888888888888,
              "#fdca26"
             ],
             [
              1,
              "#f0f921"
             ]
            ],
            "type": "heatmapgl"
           }
          ],
          "histogram": [
           {
            "marker": {
             "pattern": {
              "fillmode": "overlay",
              "size": 10,
              "solidity": 0.2
             }
            },
            "type": "histogram"
           }
          ],
          "histogram2d": [
           {
            "colorbar": {
             "outlinewidth": 0,
             "ticks": ""
            },
            "colorscale": [
             [
              0,
              "#0d0887"
             ],
             [
              0.1111111111111111,
              "#46039f"
             ],
             [
              0.2222222222222222,
              "#7201a8"
             ],
             [
              0.3333333333333333,
              "#9c179e"
             ],
             [
              0.4444444444444444,
              "#bd3786"
             ],
             [
              0.5555555555555556,
              "#d8576b"
             ],
             [
              0.6666666666666666,
              "#ed7953"
             ],
             [
              0.7777777777777778,
              "#fb9f3a"
             ],
             [
              0.8888888888888888,
              "#fdca26"
             ],
             [
              1,
              "#f0f921"
             ]
            ],
            "type": "histogram2d"
           }
          ],
          "histogram2dcontour": [
           {
            "colorbar": {
             "outlinewidth": 0,
             "ticks": ""
            },
            "colorscale": [
             [
              0,
              "#0d0887"
             ],
             [
              0.1111111111111111,
              "#46039f"
             ],
             [
              0.2222222222222222,
              "#7201a8"
             ],
             [
              0.3333333333333333,
              "#9c179e"
             ],
             [
              0.4444444444444444,
              "#bd3786"
             ],
             [
              0.5555555555555556,
              "#d8576b"
             ],
             [
              0.6666666666666666,
              "#ed7953"
             ],
             [
              0.7777777777777778,
              "#fb9f3a"
             ],
             [
              0.8888888888888888,
              "#fdca26"
             ],
             [
              1,
              "#f0f921"
             ]
            ],
            "type": "histogram2dcontour"
           }
          ],
          "mesh3d": [
           {
            "colorbar": {
             "outlinewidth": 0,
             "ticks": ""
            },
            "type": "mesh3d"
           }
          ],
          "parcoords": [
           {
            "line": {
             "colorbar": {
              "outlinewidth": 0,
              "ticks": ""
             }
            },
            "type": "parcoords"
           }
          ],
          "pie": [
           {
            "automargin": true,
            "type": "pie"
           }
          ],
          "scatter": [
           {
            "fillpattern": {
             "fillmode": "overlay",
             "size": 10,
             "solidity": 0.2
            },
            "type": "scatter"
           }
          ],
          "scatter3d": [
           {
            "line": {
             "colorbar": {
              "outlinewidth": 0,
              "ticks": ""
             }
            },
            "marker": {
             "colorbar": {
              "outlinewidth": 0,
              "ticks": ""
             }
            },
            "type": "scatter3d"
           }
          ],
          "scattercarpet": [
           {
            "marker": {
             "colorbar": {
              "outlinewidth": 0,
              "ticks": ""
             }
            },
            "type": "scattercarpet"
           }
          ],
          "scattergeo": [
           {
            "marker": {
             "colorbar": {
              "outlinewidth": 0,
              "ticks": ""
             }
            },
            "type": "scattergeo"
           }
          ],
          "scattergl": [
           {
            "marker": {
             "colorbar": {
              "outlinewidth": 0,
              "ticks": ""
             }
            },
            "type": "scattergl"
           }
          ],
          "scattermapbox": [
           {
            "marker": {
             "colorbar": {
              "outlinewidth": 0,
              "ticks": ""
             }
            },
            "type": "scattermapbox"
           }
          ],
          "scatterpolar": [
           {
            "marker": {
             "colorbar": {
              "outlinewidth": 0,
              "ticks": ""
             }
            },
            "type": "scatterpolar"
           }
          ],
          "scatterpolargl": [
           {
            "marker": {
             "colorbar": {
              "outlinewidth": 0,
              "ticks": ""
             }
            },
            "type": "scatterpolargl"
           }
          ],
          "scatterternary": [
           {
            "marker": {
             "colorbar": {
              "outlinewidth": 0,
              "ticks": ""
             }
            },
            "type": "scatterternary"
           }
          ],
          "surface": [
           {
            "colorbar": {
             "outlinewidth": 0,
             "ticks": ""
            },
            "colorscale": [
             [
              0,
              "#0d0887"
             ],
             [
              0.1111111111111111,
              "#46039f"
             ],
             [
              0.2222222222222222,
              "#7201a8"
             ],
             [
              0.3333333333333333,
              "#9c179e"
             ],
             [
              0.4444444444444444,
              "#bd3786"
             ],
             [
              0.5555555555555556,
              "#d8576b"
             ],
             [
              0.6666666666666666,
              "#ed7953"
             ],
             [
              0.7777777777777778,
              "#fb9f3a"
             ],
             [
              0.8888888888888888,
              "#fdca26"
             ],
             [
              1,
              "#f0f921"
             ]
            ],
            "type": "surface"
           }
          ],
          "table": [
           {
            "cells": {
             "fill": {
              "color": "#EBF0F8"
             },
             "line": {
              "color": "white"
             }
            },
            "header": {
             "fill": {
              "color": "#C8D4E3"
             },
             "line": {
              "color": "white"
             }
            },
            "type": "table"
           }
          ]
         },
         "layout": {
          "annotationdefaults": {
           "arrowcolor": "#2a3f5f",
           "arrowhead": 0,
           "arrowwidth": 1
          },
          "autotypenumbers": "strict",
          "coloraxis": {
           "colorbar": {
            "outlinewidth": 0,
            "ticks": ""
           }
          },
          "colorscale": {
           "diverging": [
            [
             0,
             "#8e0152"
            ],
            [
             0.1,
             "#c51b7d"
            ],
            [
             0.2,
             "#de77ae"
            ],
            [
             0.3,
             "#f1b6da"
            ],
            [
             0.4,
             "#fde0ef"
            ],
            [
             0.5,
             "#f7f7f7"
            ],
            [
             0.6,
             "#e6f5d0"
            ],
            [
             0.7,
             "#b8e186"
            ],
            [
             0.8,
             "#7fbc41"
            ],
            [
             0.9,
             "#4d9221"
            ],
            [
             1,
             "#276419"
            ]
           ],
           "sequential": [
            [
             0,
             "#0d0887"
            ],
            [
             0.1111111111111111,
             "#46039f"
            ],
            [
             0.2222222222222222,
             "#7201a8"
            ],
            [
             0.3333333333333333,
             "#9c179e"
            ],
            [
             0.4444444444444444,
             "#bd3786"
            ],
            [
             0.5555555555555556,
             "#d8576b"
            ],
            [
             0.6666666666666666,
             "#ed7953"
            ],
            [
             0.7777777777777778,
             "#fb9f3a"
            ],
            [
             0.8888888888888888,
             "#fdca26"
            ],
            [
             1,
             "#f0f921"
            ]
           ],
           "sequentialminus": [
            [
             0,
             "#0d0887"
            ],
            [
             0.1111111111111111,
             "#46039f"
            ],
            [
             0.2222222222222222,
             "#7201a8"
            ],
            [
             0.3333333333333333,
             "#9c179e"
            ],
            [
             0.4444444444444444,
             "#bd3786"
            ],
            [
             0.5555555555555556,
             "#d8576b"
            ],
            [
             0.6666666666666666,
             "#ed7953"
            ],
            [
             0.7777777777777778,
             "#fb9f3a"
            ],
            [
             0.8888888888888888,
             "#fdca26"
            ],
            [
             1,
             "#f0f921"
            ]
           ]
          },
          "colorway": [
           "#636efa",
           "#EF553B",
           "#00cc96",
           "#ab63fa",
           "#FFA15A",
           "#19d3f3",
           "#FF6692",
           "#B6E880",
           "#FF97FF",
           "#FECB52"
          ],
          "font": {
           "color": "#2a3f5f"
          },
          "geo": {
           "bgcolor": "white",
           "lakecolor": "white",
           "landcolor": "#E5ECF6",
           "showlakes": true,
           "showland": true,
           "subunitcolor": "white"
          },
          "hoverlabel": {
           "align": "left"
          },
          "hovermode": "closest",
          "mapbox": {
           "style": "light"
          },
          "paper_bgcolor": "white",
          "plot_bgcolor": "#E5ECF6",
          "polar": {
           "angularaxis": {
            "gridcolor": "white",
            "linecolor": "white",
            "ticks": ""
           },
           "bgcolor": "#E5ECF6",
           "radialaxis": {
            "gridcolor": "white",
            "linecolor": "white",
            "ticks": ""
           }
          },
          "scene": {
           "xaxis": {
            "backgroundcolor": "#E5ECF6",
            "gridcolor": "white",
            "gridwidth": 2,
            "linecolor": "white",
            "showbackground": true,
            "ticks": "",
            "zerolinecolor": "white"
           },
           "yaxis": {
            "backgroundcolor": "#E5ECF6",
            "gridcolor": "white",
            "gridwidth": 2,
            "linecolor": "white",
            "showbackground": true,
            "ticks": "",
            "zerolinecolor": "white"
           },
           "zaxis": {
            "backgroundcolor": "#E5ECF6",
            "gridcolor": "white",
            "gridwidth": 2,
            "linecolor": "white",
            "showbackground": true,
            "ticks": "",
            "zerolinecolor": "white"
           }
          },
          "shapedefaults": {
           "line": {
            "color": "#2a3f5f"
           }
          },
          "ternary": {
           "aaxis": {
            "gridcolor": "white",
            "linecolor": "white",
            "ticks": ""
           },
           "baxis": {
            "gridcolor": "white",
            "linecolor": "white",
            "ticks": ""
           },
           "bgcolor": "#E5ECF6",
           "caxis": {
            "gridcolor": "white",
            "linecolor": "white",
            "ticks": ""
           }
          },
          "title": {
           "x": 0.05
          },
          "xaxis": {
           "automargin": true,
           "gridcolor": "white",
           "linecolor": "white",
           "ticks": "",
           "title": {
            "standoff": 15
           },
           "zerolinecolor": "white",
           "zerolinewidth": 2
          },
          "yaxis": {
           "automargin": true,
           "gridcolor": "white",
           "linecolor": "white",
           "ticks": "",
           "title": {
            "standoff": 15
           },
           "zerolinecolor": "white",
           "zerolinewidth": 2
          }
         }
        },
        "title": {
         "text": "表彰獲得回数とその割合"
        },
        "xaxis": {
         "anchor": "y",
         "domain": [
          0,
          1
         ],
         "title": {
          "text": "medal"
         }
        },
        "yaxis": {
         "anchor": "x",
         "domain": [
          0,
          1
         ],
         "title": {
          "text": "count"
         }
        }
       }
      },
      "text/html": [
       "<div>                            <div id=\"953fc023-2b36-43a2-8f09-afaa1bb53a0c\" class=\"plotly-graph-div\" style=\"height:600px; width:100%;\"></div>            <script type=\"text/javascript\">                require([\"plotly\"], function(Plotly) {                    window.PLOTLYENV=window.PLOTLYENV || {};                                    if (document.getElementById(\"953fc023-2b36-43a2-8f09-afaa1bb53a0c\")) {                    Plotly.newPlot(                        \"953fc023-2b36-43a2-8f09-afaa1bb53a0c\",                        [{\"alignmentgroup\":\"True\",\"hovertemplate\":\"medal=%{x}\\u003cbr\\u003ecount=%{y}\\u003cbr\\u003epercent=%{text}\\u003cextra\\u003e\\u003c\\u002fextra\\u003e\",\"legendgroup\":\"\",\"marker\":{\"color\":\"#636efa\",\"pattern\":{\"shape\":\"\"}},\"name\":\"\",\"offsetgroup\":\"\",\"orientation\":\"v\",\"showlegend\":false,\"text\":[\" 8.58%\",\" 7.80%\",\" 7.40%\",\" 7.12%\",\" 6.78%\",\" 6.68%\",\" 4.76%\",\" 4.74%\",\" 4.63%\",\" 2.69%\",\" 2.49%\",\" 2.49%\",\" 2.47%\",\" 2.20%\",\" 2.19%\",\" 1.80%\",\" 1.70%\"],\"textposition\":\"auto\",\"x\":[\"\\u30d0\\u30c8\\u30eb No.1\",\"\\u5473\\u65b9\\u306e\\u30b8\\u30e3\\u30f3\\u30d7\\u5148 No.1\",\"\\u79fb\\u52d5\\u8ddd\\u96e2 No.1\",\"\\u30a2\\u30b7\\u30b9\\u30c8\\u6570 No.1\",\"\\u6ce8\\u76ee\\u3055\\u308c\\u305f\\u6642\\u9593 No.1\",\"\\u30c8\\u30c9\\u30e1\\u6570 No.1\",\"\\u30d9\\u30b9\\u30c8\\u30ab\\u30a6\\u30f3\\u30c8\\u66f4\\u65b0\",\"\\u5857\\u308a\\u30dd\\u30a4\\u30f3\\u30c8 No.1\",\"\\u30ab\\u30a6\\u30f3\\u30c8\\u9032\\u884c No.1\",\"\\u30d5\\u30a1\\u30fc\\u30b9\\u30c8\\u30b9\\u30d7\\u30e9\\u30c3\\u30c8\",\"\\u30d0\\u30c8\\u30eb No.2\",\"\\u30ab\\u30f3\\u30e2\\u30f3\\u7a81\\u7834 No.1\",\"\\u8010\\u3048\\u305f\\u30c0\\u30e1\\u30fc\\u30b8 No.1\",\"\\u30db\\u30fc\\u30e0\\u5857\\u308a No.1\",\"\\u30ac\\u30c1\\u30a8\\u30ea\\u30a2\\u5857\\u308a No.1\",\"\\u30a4\\u30f3\\u30af\\u6d88\\u8cbb\\u91cf No.1\",\"\\u30ac\\u30c1\\u30a8\\u30ea\\u30a2\\u95a2\\u4e0e No.1\"],\"xaxis\":\"x\",\"y\":[510,464,440,423,403,397,283,282,275,160,148,148,147,131,130,107,101],\"yaxis\":\"y\",\"type\":\"bar\"}],                        {\"template\":{\"data\":{\"histogram2dcontour\":[{\"type\":\"histogram2dcontour\",\"colorbar\":{\"outlinewidth\":0,\"ticks\":\"\"},\"colorscale\":[[0.0,\"#0d0887\"],[0.1111111111111111,\"#46039f\"],[0.2222222222222222,\"#7201a8\"],[0.3333333333333333,\"#9c179e\"],[0.4444444444444444,\"#bd3786\"],[0.5555555555555556,\"#d8576b\"],[0.6666666666666666,\"#ed7953\"],[0.7777777777777778,\"#fb9f3a\"],[0.8888888888888888,\"#fdca26\"],[1.0,\"#f0f921\"]]}],\"choropleth\":[{\"type\":\"choropleth\",\"colorbar\":{\"outlinewidth\":0,\"ticks\":\"\"}}],\"histogram2d\":[{\"type\":\"histogram2d\",\"colorbar\":{\"outlinewidth\":0,\"ticks\":\"\"},\"colorscale\":[[0.0,\"#0d0887\"],[0.1111111111111111,\"#46039f\"],[0.2222222222222222,\"#7201a8\"],[0.3333333333333333,\"#9c179e\"],[0.4444444444444444,\"#bd3786\"],[0.5555555555555556,\"#d8576b\"],[0.6666666666666666,\"#ed7953\"],[0.7777777777777778,\"#fb9f3a\"],[0.8888888888888888,\"#fdca26\"],[1.0,\"#f0f921\"]]}],\"heatmap\":[{\"type\":\"heatmap\",\"colorbar\":{\"outlinewidth\":0,\"ticks\":\"\"},\"colorscale\":[[0.0,\"#0d0887\"],[0.1111111111111111,\"#46039f\"],[0.2222222222222222,\"#7201a8\"],[0.3333333333333333,\"#9c179e\"],[0.4444444444444444,\"#bd3786\"],[0.5555555555555556,\"#d8576b\"],[0.6666666666666666,\"#ed7953\"],[0.7777777777777778,\"#fb9f3a\"],[0.8888888888888888,\"#fdca26\"],[1.0,\"#f0f921\"]]}],\"heatmapgl\":[{\"type\":\"heatmapgl\",\"colorbar\":{\"outlinewidth\":0,\"ticks\":\"\"},\"colorscale\":[[0.0,\"#0d0887\"],[0.1111111111111111,\"#46039f\"],[0.2222222222222222,\"#7201a8\"],[0.3333333333333333,\"#9c179e\"],[0.4444444444444444,\"#bd3786\"],[0.5555555555555556,\"#d8576b\"],[0.6666666666666666,\"#ed7953\"],[0.7777777777777778,\"#fb9f3a\"],[0.8888888888888888,\"#fdca26\"],[1.0,\"#f0f921\"]]}],\"contourcarpet\":[{\"type\":\"contourcarpet\",\"colorbar\":{\"outlinewidth\":0,\"ticks\":\"\"}}],\"contour\":[{\"type\":\"contour\",\"colorbar\":{\"outlinewidth\":0,\"ticks\":\"\"},\"colorscale\":[[0.0,\"#0d0887\"],[0.1111111111111111,\"#46039f\"],[0.2222222222222222,\"#7201a8\"],[0.3333333333333333,\"#9c179e\"],[0.4444444444444444,\"#bd3786\"],[0.5555555555555556,\"#d8576b\"],[0.6666666666666666,\"#ed7953\"],[0.7777777777777778,\"#fb9f3a\"],[0.8888888888888888,\"#fdca26\"],[1.0,\"#f0f921\"]]}],\"surface\":[{\"type\":\"surface\",\"colorbar\":{\"outlinewidth\":0,\"ticks\":\"\"},\"colorscale\":[[0.0,\"#0d0887\"],[0.1111111111111111,\"#46039f\"],[0.2222222222222222,\"#7201a8\"],[0.3333333333333333,\"#9c179e\"],[0.4444444444444444,\"#bd3786\"],[0.5555555555555556,\"#d8576b\"],[0.6666666666666666,\"#ed7953\"],[0.7777777777777778,\"#fb9f3a\"],[0.8888888888888888,\"#fdca26\"],[1.0,\"#f0f921\"]]}],\"mesh3d\":[{\"type\":\"mesh3d\",\"colorbar\":{\"outlinewidth\":0,\"ticks\":\"\"}}],\"scatter\":[{\"fillpattern\":{\"fillmode\":\"overlay\",\"size\":10,\"solidity\":0.2},\"type\":\"scatter\"}],\"parcoords\":[{\"type\":\"parcoords\",\"line\":{\"colorbar\":{\"outlinewidth\":0,\"ticks\":\"\"}}}],\"scatterpolargl\":[{\"type\":\"scatterpolargl\",\"marker\":{\"colorbar\":{\"outlinewidth\":0,\"ticks\":\"\"}}}],\"bar\":[{\"error_x\":{\"color\":\"#2a3f5f\"},\"error_y\":{\"color\":\"#2a3f5f\"},\"marker\":{\"line\":{\"color\":\"#E5ECF6\",\"width\":0.5},\"pattern\":{\"fillmode\":\"overlay\",\"size\":10,\"solidity\":0.2}},\"type\":\"bar\"}],\"scattergeo\":[{\"type\":\"scattergeo\",\"marker\":{\"colorbar\":{\"outlinewidth\":0,\"ticks\":\"\"}}}],\"scatterpolar\":[{\"type\":\"scatterpolar\",\"marker\":{\"colorbar\":{\"outlinewidth\":0,\"ticks\":\"\"}}}],\"histogram\":[{\"marker\":{\"pattern\":{\"fillmode\":\"overlay\",\"size\":10,\"solidity\":0.2}},\"type\":\"histogram\"}],\"scattergl\":[{\"type\":\"scattergl\",\"marker\":{\"colorbar\":{\"outlinewidth\":0,\"ticks\":\"\"}}}],\"scatter3d\":[{\"type\":\"scatter3d\",\"line\":{\"colorbar\":{\"outlinewidth\":0,\"ticks\":\"\"}},\"marker\":{\"colorbar\":{\"outlinewidth\":0,\"ticks\":\"\"}}}],\"scattermapbox\":[{\"type\":\"scattermapbox\",\"marker\":{\"colorbar\":{\"outlinewidth\":0,\"ticks\":\"\"}}}],\"scatterternary\":[{\"type\":\"scatterternary\",\"marker\":{\"colorbar\":{\"outlinewidth\":0,\"ticks\":\"\"}}}],\"scattercarpet\":[{\"type\":\"scattercarpet\",\"marker\":{\"colorbar\":{\"outlinewidth\":0,\"ticks\":\"\"}}}],\"carpet\":[{\"aaxis\":{\"endlinecolor\":\"#2a3f5f\",\"gridcolor\":\"white\",\"linecolor\":\"white\",\"minorgridcolor\":\"white\",\"startlinecolor\":\"#2a3f5f\"},\"baxis\":{\"endlinecolor\":\"#2a3f5f\",\"gridcolor\":\"white\",\"linecolor\":\"white\",\"minorgridcolor\":\"white\",\"startlinecolor\":\"#2a3f5f\"},\"type\":\"carpet\"}],\"table\":[{\"cells\":{\"fill\":{\"color\":\"#EBF0F8\"},\"line\":{\"color\":\"white\"}},\"header\":{\"fill\":{\"color\":\"#C8D4E3\"},\"line\":{\"color\":\"white\"}},\"type\":\"table\"}],\"barpolar\":[{\"marker\":{\"line\":{\"color\":\"#E5ECF6\",\"width\":0.5},\"pattern\":{\"fillmode\":\"overlay\",\"size\":10,\"solidity\":0.2}},\"type\":\"barpolar\"}],\"pie\":[{\"automargin\":true,\"type\":\"pie\"}]},\"layout\":{\"autotypenumbers\":\"strict\",\"colorway\":[\"#636efa\",\"#EF553B\",\"#00cc96\",\"#ab63fa\",\"#FFA15A\",\"#19d3f3\",\"#FF6692\",\"#B6E880\",\"#FF97FF\",\"#FECB52\"],\"font\":{\"color\":\"#2a3f5f\"},\"hovermode\":\"closest\",\"hoverlabel\":{\"align\":\"left\"},\"paper_bgcolor\":\"white\",\"plot_bgcolor\":\"#E5ECF6\",\"polar\":{\"bgcolor\":\"#E5ECF6\",\"angularaxis\":{\"gridcolor\":\"white\",\"linecolor\":\"white\",\"ticks\":\"\"},\"radialaxis\":{\"gridcolor\":\"white\",\"linecolor\":\"white\",\"ticks\":\"\"}},\"ternary\":{\"bgcolor\":\"#E5ECF6\",\"aaxis\":{\"gridcolor\":\"white\",\"linecolor\":\"white\",\"ticks\":\"\"},\"baxis\":{\"gridcolor\":\"white\",\"linecolor\":\"white\",\"ticks\":\"\"},\"caxis\":{\"gridcolor\":\"white\",\"linecolor\":\"white\",\"ticks\":\"\"}},\"coloraxis\":{\"colorbar\":{\"outlinewidth\":0,\"ticks\":\"\"}},\"colorscale\":{\"sequential\":[[0.0,\"#0d0887\"],[0.1111111111111111,\"#46039f\"],[0.2222222222222222,\"#7201a8\"],[0.3333333333333333,\"#9c179e\"],[0.4444444444444444,\"#bd3786\"],[0.5555555555555556,\"#d8576b\"],[0.6666666666666666,\"#ed7953\"],[0.7777777777777778,\"#fb9f3a\"],[0.8888888888888888,\"#fdca26\"],[1.0,\"#f0f921\"]],\"sequentialminus\":[[0.0,\"#0d0887\"],[0.1111111111111111,\"#46039f\"],[0.2222222222222222,\"#7201a8\"],[0.3333333333333333,\"#9c179e\"],[0.4444444444444444,\"#bd3786\"],[0.5555555555555556,\"#d8576b\"],[0.6666666666666666,\"#ed7953\"],[0.7777777777777778,\"#fb9f3a\"],[0.8888888888888888,\"#fdca26\"],[1.0,\"#f0f921\"]],\"diverging\":[[0,\"#8e0152\"],[0.1,\"#c51b7d\"],[0.2,\"#de77ae\"],[0.3,\"#f1b6da\"],[0.4,\"#fde0ef\"],[0.5,\"#f7f7f7\"],[0.6,\"#e6f5d0\"],[0.7,\"#b8e186\"],[0.8,\"#7fbc41\"],[0.9,\"#4d9221\"],[1,\"#276419\"]]},\"xaxis\":{\"gridcolor\":\"white\",\"linecolor\":\"white\",\"ticks\":\"\",\"title\":{\"standoff\":15},\"zerolinecolor\":\"white\",\"automargin\":true,\"zerolinewidth\":2},\"yaxis\":{\"gridcolor\":\"white\",\"linecolor\":\"white\",\"ticks\":\"\",\"title\":{\"standoff\":15},\"zerolinecolor\":\"white\",\"automargin\":true,\"zerolinewidth\":2},\"scene\":{\"xaxis\":{\"backgroundcolor\":\"#E5ECF6\",\"gridcolor\":\"white\",\"linecolor\":\"white\",\"showbackground\":true,\"ticks\":\"\",\"zerolinecolor\":\"white\",\"gridwidth\":2},\"yaxis\":{\"backgroundcolor\":\"#E5ECF6\",\"gridcolor\":\"white\",\"linecolor\":\"white\",\"showbackground\":true,\"ticks\":\"\",\"zerolinecolor\":\"white\",\"gridwidth\":2},\"zaxis\":{\"backgroundcolor\":\"#E5ECF6\",\"gridcolor\":\"white\",\"linecolor\":\"white\",\"showbackground\":true,\"ticks\":\"\",\"zerolinecolor\":\"white\",\"gridwidth\":2}},\"shapedefaults\":{\"line\":{\"color\":\"#2a3f5f\"}},\"annotationdefaults\":{\"arrowcolor\":\"#2a3f5f\",\"arrowhead\":0,\"arrowwidth\":1},\"geo\":{\"bgcolor\":\"white\",\"landcolor\":\"#E5ECF6\",\"subunitcolor\":\"white\",\"showland\":true,\"showlakes\":true,\"lakecolor\":\"white\"},\"title\":{\"x\":0.05},\"mapbox\":{\"style\":\"light\"}}},\"xaxis\":{\"anchor\":\"y\",\"domain\":[0.0,1.0],\"title\":{\"text\":\"medal\"}},\"yaxis\":{\"anchor\":\"x\",\"domain\":[0.0,1.0],\"title\":{\"text\":\"count\"}},\"legend\":{\"tracegroupgap\":0},\"title\":{\"text\":\"\\u8868\\u5f70\\u7372\\u5f97\\u56de\\u6570\\u3068\\u305d\\u306e\\u5272\\u5408\"},\"barmode\":\"relative\",\"height\":600},                        {\"responsive\": true}                    ).then(function(){\n",
       "                            \n",
       "var gd = document.getElementById('953fc023-2b36-43a2-8f09-afaa1bb53a0c');\n",
       "var x = new MutationObserver(function (mutations, observer) {{\n",
       "        var display = window.getComputedStyle(gd).display;\n",
       "        if (!display || display === 'none') {{\n",
       "            console.log([gd, 'removed!']);\n",
       "            Plotly.purge(gd);\n",
       "            observer.disconnect();\n",
       "        }}\n",
       "}});\n",
       "\n",
       "// Listen for the removal of the full notebook cells\n",
       "var notebookContainer = gd.closest('#notebook-container');\n",
       "if (notebookContainer) {{\n",
       "    x.observe(notebookContainer, {childList: true});\n",
       "}}\n",
       "\n",
       "// Listen for the clearing of the current output cell\n",
       "var outputEl = gd.closest('.output');\n",
       "if (outputEl) {{\n",
       "    x.observe(outputEl, {childList: true});\n",
       "}}\n",
       "\n",
       "                        })                };                });            </script>        </div>"
      ]
     },
     "metadata": {},
     "output_type": "display_data"
    }
   ],
   "source": [
    "px.bar(\n",
    "    medal_vc.query(\"count >= 100\"),\n",
    "    x=\"medal\",\n",
    "    y=\"count\",\n",
    "    text=\"percent\",\n",
    "    height=600,\n",
    "    # width=800,\n",
    "    title=\"表彰獲得回数とその割合\"\n",
    ")"
   ]
  },
  {
   "attachments": {},
   "cell_type": "markdown",
   "metadata": {},
   "source": [
    "## battle counts"
   ]
  },
  {
   "cell_type": "code",
   "execution_count": 21,
   "metadata": {},
   "outputs": [
    {
     "data": {
      "text/html": [
       "<div>\n",
       "<style scoped>\n",
       "    .dataframe tbody tr th:only-of-type {\n",
       "        vertical-align: middle;\n",
       "    }\n",
       "\n",
       "    .dataframe tbody tr th {\n",
       "        vertical-align: top;\n",
       "    }\n",
       "\n",
       "    .dataframe thead th {\n",
       "        text-align: right;\n",
       "    }\n",
       "</style>\n",
       "<table border=\"1\" class=\"dataframe\">\n",
       "  <thead>\n",
       "    <tr style=\"text-align: right;\">\n",
       "      <th></th>\n",
       "      <th>id</th>\n",
       "      <th>url</th>\n",
       "      <th>images</th>\n",
       "      <th>user</th>\n",
       "      <th>lobby</th>\n",
       "      <th>rule</th>\n",
       "      <th>stage</th>\n",
       "      <th>weapon</th>\n",
       "      <th>result</th>\n",
       "      <th>knockout</th>\n",
       "      <th>...</th>\n",
       "      <th>timestamp</th>\n",
       "      <th>rule_name</th>\n",
       "      <th>stage_name</th>\n",
       "      <th>weapon_name</th>\n",
       "      <th>medal1_x</th>\n",
       "      <th>medal2_x</th>\n",
       "      <th>medal3_x</th>\n",
       "      <th>medal1_y</th>\n",
       "      <th>medal2_y</th>\n",
       "      <th>medal3_y</th>\n",
       "    </tr>\n",
       "  </thead>\n",
       "  <tbody>\n",
       "    <tr>\n",
       "      <th>0</th>\n",
       "      <td>4d02b8c4-5101-4d89-a551-3234109b0eab</td>\n",
       "      <td>https://stat.ink/@Laplusdestiny/spl3/4d02b8c4-...</td>\n",
       "      <td>{'judge': None, 'results': None, 'gear': None}</td>\n",
       "      <td>{'id': 13408, 'name': 'らぷらす', 'screen_name': '...</td>\n",
       "      <td>{'key': 'bankara_open', 'name': {'en_US': 'Ana...</td>\n",
       "      <td>{'key': 'asari', 'aliases': ['clam', 'clam_bli...</td>\n",
       "      <td>{'key': 'sumeshi', 'aliases': ['wahoo_world', ...</td>\n",
       "      <td>{'key': 'sputtery', 'aliases': ['dapple_dualie...</td>\n",
       "      <td>win</td>\n",
       "      <td>False</td>\n",
       "      <td>...</td>\n",
       "      <td>2022-09-28 19:22:14+09:00</td>\n",
       "      <td>asari</td>\n",
       "      <td>sumeshi</td>\n",
       "      <td>sputtery</td>\n",
       "      <td>バトル No.1</td>\n",
       "      <td>塗りポイント No.1</td>\n",
       "      <td>アシスト数 No.1</td>\n",
       "      <td>バトル No.1</td>\n",
       "      <td>塗りポイント No.1</td>\n",
       "      <td>アシスト数 No.1</td>\n",
       "    </tr>\n",
       "    <tr>\n",
       "      <th>1</th>\n",
       "      <td>6cb80f4b-de9e-403e-b3f3-50a98a9a2bff</td>\n",
       "      <td>https://stat.ink/@Laplusdestiny/spl3/6cb80f4b-...</td>\n",
       "      <td>{'judge': None, 'results': None, 'gear': None}</td>\n",
       "      <td>{'id': 13408, 'name': 'らぷらす', 'screen_name': '...</td>\n",
       "      <td>{'key': 'bankara_challenge', 'name': {'en_US':...</td>\n",
       "      <td>{'key': 'yagura', 'aliases': ['loft', 'tower_c...</td>\n",
       "      <td>{'key': 'gonzui', 'aliases': ['alley', 'eeltai...</td>\n",
       "      <td>{'key': 'splatroller', 'aliases': ['splat_roll...</td>\n",
       "      <td>win</td>\n",
       "      <td>False</td>\n",
       "      <td>...</td>\n",
       "      <td>2022-09-28 19:33:26+09:00</td>\n",
       "      <td>yagura</td>\n",
       "      <td>gonzui</td>\n",
       "      <td>splatroller</td>\n",
       "      <td>トドメ数 No.1</td>\n",
       "      <td>カウント進行 No.1</td>\n",
       "      <td>ベストカウント更新</td>\n",
       "      <td>トドメ数 No.1</td>\n",
       "      <td>カウント進行 No.1</td>\n",
       "      <td>ベストカウント更新</td>\n",
       "    </tr>\n",
       "    <tr>\n",
       "      <th>2</th>\n",
       "      <td>e00005cf-ebb6-4c1e-9a45-c78890ea5cba</td>\n",
       "      <td>https://stat.ink/@Laplusdestiny/spl3/e00005cf-...</td>\n",
       "      <td>{'judge': None, 'results': None, 'gear': None}</td>\n",
       "      <td>{'id': 13408, 'name': 'らぷらす', 'screen_name': '...</td>\n",
       "      <td>{'key': 'bankara_challenge', 'name': {'en_US':...</td>\n",
       "      <td>{'key': 'yagura', 'aliases': ['loft', 'tower_c...</td>\n",
       "      <td>{'key': 'gonzui', 'aliases': ['alley', 'eeltai...</td>\n",
       "      <td>{'key': 'splatroller', 'aliases': ['splat_roll...</td>\n",
       "      <td>win</td>\n",
       "      <td>True</td>\n",
       "      <td>...</td>\n",
       "      <td>2022-09-28 19:40:16+09:00</td>\n",
       "      <td>yagura</td>\n",
       "      <td>gonzui</td>\n",
       "      <td>splatroller</td>\n",
       "      <td>バトル No.1</td>\n",
       "      <td>カウント進行 No.1</td>\n",
       "      <td>ベストカウント更新</td>\n",
       "      <td>バトル No.1</td>\n",
       "      <td>カウント進行 No.1</td>\n",
       "      <td>ベストカウント更新</td>\n",
       "    </tr>\n",
       "    <tr>\n",
       "      <th>3</th>\n",
       "      <td>337a351d-19e6-4675-bc65-3dbfdea97022</td>\n",
       "      <td>https://stat.ink/@Laplusdestiny/spl3/337a351d-...</td>\n",
       "      <td>{'judge': None, 'results': None, 'gear': None}</td>\n",
       "      <td>{'id': 13408, 'name': 'らぷらす', 'screen_name': '...</td>\n",
       "      <td>{'key': 'bankara_challenge', 'name': {'en_US':...</td>\n",
       "      <td>{'key': 'yagura', 'aliases': ['loft', 'tower_c...</td>\n",
       "      <td>{'key': 'kinmedai', 'aliases': ['museum', 'mus...</td>\n",
       "      <td>{'key': 'splatroller', 'aliases': ['splat_roll...</td>\n",
       "      <td>lose</td>\n",
       "      <td>True</td>\n",
       "      <td>...</td>\n",
       "      <td>2022-09-28 19:44:22+09:00</td>\n",
       "      <td>yagura</td>\n",
       "      <td>kinmedai</td>\n",
       "      <td>splatroller</td>\n",
       "      <td>ベストカウント更新</td>\n",
       "      <td>味方のジャンプ先 No.1</td>\n",
       "      <td>グレートバリア No.1</td>\n",
       "      <td>ベストカウント更新</td>\n",
       "      <td>味方のジャンプ先 No.1</td>\n",
       "      <td>グレートバリア No.1</td>\n",
       "    </tr>\n",
       "    <tr>\n",
       "      <th>4</th>\n",
       "      <td>2036da86-0cf7-4f78-9667-43c0af5c2f3e</td>\n",
       "      <td>https://stat.ink/@Laplusdestiny/spl3/2036da86-...</td>\n",
       "      <td>{'judge': None, 'results': None, 'gear': None}</td>\n",
       "      <td>{'id': 13408, 'name': 'らぷらす', 'screen_name': '...</td>\n",
       "      <td>{'key': 'bankara_challenge', 'name': {'en_US':...</td>\n",
       "      <td>{'key': 'yagura', 'aliases': ['loft', 'tower_c...</td>\n",
       "      <td>{'key': 'gonzui', 'aliases': ['alley', 'eeltai...</td>\n",
       "      <td>{'key': 'splatroller', 'aliases': ['splat_roll...</td>\n",
       "      <td>win</td>\n",
       "      <td>True</td>\n",
       "      <td>...</td>\n",
       "      <td>2022-09-28 19:49:22+09:00</td>\n",
       "      <td>yagura</td>\n",
       "      <td>gonzui</td>\n",
       "      <td>splatroller</td>\n",
       "      <td>移動距離 No.1</td>\n",
       "      <td>ベストカウント更新</td>\n",
       "      <td>ガチヤグラブロック No.1</td>\n",
       "      <td>移動距離 No.1</td>\n",
       "      <td>ベストカウント更新</td>\n",
       "      <td>ガチヤグラブロック No.1</td>\n",
       "    </tr>\n",
       "  </tbody>\n",
       "</table>\n",
       "<p>5 rows × 66 columns</p>\n",
       "</div>"
      ],
      "text/plain": [
       "                                     id  \\\n",
       "0  4d02b8c4-5101-4d89-a551-3234109b0eab   \n",
       "1  6cb80f4b-de9e-403e-b3f3-50a98a9a2bff   \n",
       "2  e00005cf-ebb6-4c1e-9a45-c78890ea5cba   \n",
       "3  337a351d-19e6-4675-bc65-3dbfdea97022   \n",
       "4  2036da86-0cf7-4f78-9667-43c0af5c2f3e   \n",
       "\n",
       "                                                 url  \\\n",
       "0  https://stat.ink/@Laplusdestiny/spl3/4d02b8c4-...   \n",
       "1  https://stat.ink/@Laplusdestiny/spl3/6cb80f4b-...   \n",
       "2  https://stat.ink/@Laplusdestiny/spl3/e00005cf-...   \n",
       "3  https://stat.ink/@Laplusdestiny/spl3/337a351d-...   \n",
       "4  https://stat.ink/@Laplusdestiny/spl3/2036da86-...   \n",
       "\n",
       "                                           images  \\\n",
       "0  {'judge': None, 'results': None, 'gear': None}   \n",
       "1  {'judge': None, 'results': None, 'gear': None}   \n",
       "2  {'judge': None, 'results': None, 'gear': None}   \n",
       "3  {'judge': None, 'results': None, 'gear': None}   \n",
       "4  {'judge': None, 'results': None, 'gear': None}   \n",
       "\n",
       "                                                user  \\\n",
       "0  {'id': 13408, 'name': 'らぷらす', 'screen_name': '...   \n",
       "1  {'id': 13408, 'name': 'らぷらす', 'screen_name': '...   \n",
       "2  {'id': 13408, 'name': 'らぷらす', 'screen_name': '...   \n",
       "3  {'id': 13408, 'name': 'らぷらす', 'screen_name': '...   \n",
       "4  {'id': 13408, 'name': 'らぷらす', 'screen_name': '...   \n",
       "\n",
       "                                               lobby  \\\n",
       "0  {'key': 'bankara_open', 'name': {'en_US': 'Ana...   \n",
       "1  {'key': 'bankara_challenge', 'name': {'en_US':...   \n",
       "2  {'key': 'bankara_challenge', 'name': {'en_US':...   \n",
       "3  {'key': 'bankara_challenge', 'name': {'en_US':...   \n",
       "4  {'key': 'bankara_challenge', 'name': {'en_US':...   \n",
       "\n",
       "                                                rule  \\\n",
       "0  {'key': 'asari', 'aliases': ['clam', 'clam_bli...   \n",
       "1  {'key': 'yagura', 'aliases': ['loft', 'tower_c...   \n",
       "2  {'key': 'yagura', 'aliases': ['loft', 'tower_c...   \n",
       "3  {'key': 'yagura', 'aliases': ['loft', 'tower_c...   \n",
       "4  {'key': 'yagura', 'aliases': ['loft', 'tower_c...   \n",
       "\n",
       "                                               stage  \\\n",
       "0  {'key': 'sumeshi', 'aliases': ['wahoo_world', ...   \n",
       "1  {'key': 'gonzui', 'aliases': ['alley', 'eeltai...   \n",
       "2  {'key': 'gonzui', 'aliases': ['alley', 'eeltai...   \n",
       "3  {'key': 'kinmedai', 'aliases': ['museum', 'mus...   \n",
       "4  {'key': 'gonzui', 'aliases': ['alley', 'eeltai...   \n",
       "\n",
       "                                              weapon result knockout  ...  \\\n",
       "0  {'key': 'sputtery', 'aliases': ['dapple_dualie...    win    False  ...   \n",
       "1  {'key': 'splatroller', 'aliases': ['splat_roll...    win    False  ...   \n",
       "2  {'key': 'splatroller', 'aliases': ['splat_roll...    win     True  ...   \n",
       "3  {'key': 'splatroller', 'aliases': ['splat_roll...   lose     True  ...   \n",
       "4  {'key': 'splatroller', 'aliases': ['splat_roll...    win     True  ...   \n",
       "\n",
       "                  timestamp  rule_name  stage_name  weapon_name   medal1_x  \\\n",
       "0 2022-09-28 19:22:14+09:00      asari     sumeshi     sputtery   バトル No.1   \n",
       "1 2022-09-28 19:33:26+09:00     yagura      gonzui  splatroller  トドメ数 No.1   \n",
       "2 2022-09-28 19:40:16+09:00     yagura      gonzui  splatroller   バトル No.1   \n",
       "3 2022-09-28 19:44:22+09:00     yagura    kinmedai  splatroller  ベストカウント更新   \n",
       "4 2022-09-28 19:49:22+09:00     yagura      gonzui  splatroller  移動距離 No.1   \n",
       "\n",
       "        medal2_x        medal3_x   medal1_y       medal2_y        medal3_y  \n",
       "0    塗りポイント No.1      アシスト数 No.1   バトル No.1    塗りポイント No.1      アシスト数 No.1  \n",
       "1    カウント進行 No.1       ベストカウント更新  トドメ数 No.1    カウント進行 No.1       ベストカウント更新  \n",
       "2    カウント進行 No.1       ベストカウント更新   バトル No.1    カウント進行 No.1       ベストカウント更新  \n",
       "3  味方のジャンプ先 No.1    グレートバリア No.1  ベストカウント更新  味方のジャンプ先 No.1    グレートバリア No.1  \n",
       "4      ベストカウント更新  ガチヤグラブロック No.1  移動距離 No.1      ベストカウント更新  ガチヤグラブロック No.1  \n",
       "\n",
       "[5 rows x 66 columns]"
      ]
     },
     "execution_count": 21,
     "metadata": {},
     "output_type": "execute_result"
    }
   ],
   "source": [
    "df = df.merge(medals, left_index=True, right_index=True)\n",
    "df.head()"
   ]
  },
  {
   "cell_type": "code",
   "execution_count": 23,
   "metadata": {},
   "outputs": [
    {
     "data": {
      "text/html": [
       "<div>\n",
       "<style scoped>\n",
       "    .dataframe tbody tr th:only-of-type {\n",
       "        vertical-align: middle;\n",
       "    }\n",
       "\n",
       "    .dataframe tbody tr th {\n",
       "        vertical-align: top;\n",
       "    }\n",
       "\n",
       "    .dataframe thead th {\n",
       "        text-align: right;\n",
       "    }\n",
       "</style>\n",
       "<table border=\"1\" class=\"dataframe\">\n",
       "  <thead>\n",
       "    <tr style=\"text-align: right;\">\n",
       "      <th></th>\n",
       "      <th>rule_name</th>\n",
       "      <th>stage_name</th>\n",
       "      <th>weapon_name</th>\n",
       "      <th>count</th>\n",
       "    </tr>\n",
       "  </thead>\n",
       "  <tbody>\n",
       "    <tr>\n",
       "      <th>0</th>\n",
       "      <td>yagura</td>\n",
       "      <td>hirame</td>\n",
       "      <td>clashblaster</td>\n",
       "      <td>31</td>\n",
       "    </tr>\n",
       "    <tr>\n",
       "      <th>1</th>\n",
       "      <td>yagura</td>\n",
       "      <td>hirame</td>\n",
       "      <td>longblaster</td>\n",
       "      <td>31</td>\n",
       "    </tr>\n",
       "    <tr>\n",
       "      <th>2</th>\n",
       "      <td>hoko</td>\n",
       "      <td>yunohana</td>\n",
       "      <td>variableroller</td>\n",
       "      <td>30</td>\n",
       "    </tr>\n",
       "    <tr>\n",
       "      <th>3</th>\n",
       "      <td>hoko</td>\n",
       "      <td>amabi</td>\n",
       "      <td>variableroller</td>\n",
       "      <td>26</td>\n",
       "    </tr>\n",
       "    <tr>\n",
       "      <th>4</th>\n",
       "      <td>hoko</td>\n",
       "      <td>mahimahi</td>\n",
       "      <td>variableroller</td>\n",
       "      <td>25</td>\n",
       "    </tr>\n",
       "    <tr>\n",
       "      <th>...</th>\n",
       "      <td>...</td>\n",
       "      <td>...</td>\n",
       "      <td>...</td>\n",
       "      <td>...</td>\n",
       "    </tr>\n",
       "    <tr>\n",
       "      <th>521</th>\n",
       "      <td>hoko</td>\n",
       "      <td>amabi</td>\n",
       "      <td>sputtery</td>\n",
       "      <td>1</td>\n",
       "    </tr>\n",
       "    <tr>\n",
       "      <th>522</th>\n",
       "      <td>nawabari</td>\n",
       "      <td>yunohana</td>\n",
       "      <td>splatroller</td>\n",
       "      <td>1</td>\n",
       "    </tr>\n",
       "    <tr>\n",
       "      <th>523</th>\n",
       "      <td>nawabari</td>\n",
       "      <td>yunohana</td>\n",
       "      <td>splatroller_collabo</td>\n",
       "      <td>1</td>\n",
       "    </tr>\n",
       "    <tr>\n",
       "      <th>524</th>\n",
       "      <td>hoko</td>\n",
       "      <td>amabi</td>\n",
       "      <td>sharp</td>\n",
       "      <td>1</td>\n",
       "    </tr>\n",
       "    <tr>\n",
       "      <th>525</th>\n",
       "      <td>area</td>\n",
       "      <td>amabi</td>\n",
       "      <td>bold</td>\n",
       "      <td>1</td>\n",
       "    </tr>\n",
       "  </tbody>\n",
       "</table>\n",
       "<p>526 rows × 4 columns</p>\n",
       "</div>"
      ],
      "text/plain": [
       "    rule_name stage_name          weapon_name  count\n",
       "0      yagura     hirame         clashblaster     31\n",
       "1      yagura     hirame          longblaster     31\n",
       "2        hoko   yunohana       variableroller     30\n",
       "3        hoko      amabi       variableroller     26\n",
       "4        hoko   mahimahi       variableroller     25\n",
       "..        ...        ...                  ...    ...\n",
       "521      hoko      amabi             sputtery      1\n",
       "522  nawabari   yunohana          splatroller      1\n",
       "523  nawabari   yunohana  splatroller_collabo      1\n",
       "524      hoko      amabi                sharp      1\n",
       "525      area      amabi                 bold      1\n",
       "\n",
       "[526 rows x 4 columns]"
      ]
     },
     "execution_count": 23,
     "metadata": {},
     "output_type": "execute_result"
    }
   ],
   "source": [
    "vc = df.value_counts(subset=[\"rule_name\", \"stage_name\", \"weapon_name\"]).reset_index(name=\"count\")\n",
    "vc"
   ]
  },
  {
   "cell_type": "code",
   "execution_count": 24,
   "metadata": {},
   "outputs": [
    {
     "data": {
      "application/vnd.plotly.v1+json": {
       "config": {
        "plotlyServerURL": "https://plot.ly"
       },
       "data": [
        {
         "alignmentgroup": "True",
         "bingroup": "x",
         "histfunc": "sum",
         "hovertemplate": "weapon_name=clashblaster<br>rule_name=yagura<br>stage_name=%{x}<br>sum of count=%{y}<extra></extra>",
         "legendgroup": "clashblaster",
         "marker": {
          "color": "#636efa",
          "pattern": {
           "shape": ""
          }
         },
         "name": "clashblaster",
         "offsetgroup": "clashblaster",
         "orientation": "v",
         "showlegend": true,
         "type": "histogram",
         "x": [
          "hirame",
          "namero",
          "chozame",
          "yunohana",
          "kusaya",
          "zatou",
          "kinmedai",
          "sumeshi",
          "amabi",
          "mategai",
          "gonzui",
          "masaba",
          "nampla"
         ],
         "xaxis": "x",
         "y": [
          31,
          14,
          13,
          12,
          9,
          9,
          7,
          6,
          6,
          6,
          5,
          4,
          1
         ],
         "yaxis": "y"
        },
        {
         "alignmentgroup": "True",
         "bingroup": "x",
         "histfunc": "sum",
         "hovertemplate": "weapon_name=clashblaster<br>rule_name=hoko<br>stage_name=%{x}<br>sum of count=%{y}<extra></extra>",
         "legendgroup": "clashblaster",
         "marker": {
          "color": "#636efa",
          "pattern": {
           "shape": ""
          }
         },
         "name": "clashblaster",
         "offsetgroup": "clashblaster",
         "orientation": "v",
         "showlegend": false,
         "type": "histogram",
         "x": [
          "masaba",
          "mategai"
         ],
         "xaxis": "x2",
         "y": [
          3,
          2
         ],
         "yaxis": "y2"
        },
        {
         "alignmentgroup": "True",
         "bingroup": "x",
         "histfunc": "sum",
         "hovertemplate": "weapon_name=clashblaster<br>rule_name=area<br>stage_name=%{x}<br>sum of count=%{y}<extra></extra>",
         "legendgroup": "clashblaster",
         "marker": {
          "color": "#636efa",
          "pattern": {
           "shape": ""
          }
         },
         "name": "clashblaster",
         "offsetgroup": "clashblaster",
         "orientation": "v",
         "showlegend": false,
         "type": "histogram",
         "x": [
          "amabi",
          "namero"
         ],
         "xaxis": "x4",
         "y": [
          3,
          1
         ],
         "yaxis": "y4"
        },
        {
         "alignmentgroup": "True",
         "bingroup": "x",
         "histfunc": "sum",
         "hovertemplate": "weapon_name=longblaster<br>rule_name=yagura<br>stage_name=%{x}<br>sum of count=%{y}<extra></extra>",
         "legendgroup": "longblaster",
         "marker": {
          "color": "#EF553B",
          "pattern": {
           "shape": ""
          }
         },
         "name": "longblaster",
         "offsetgroup": "longblaster",
         "orientation": "v",
         "showlegend": true,
         "type": "histogram",
         "x": [
          "hirame",
          "namero",
          "kusaya",
          "kinmedai",
          "mategai",
          "amabi",
          "nampla",
          "mahimahi",
          "yunohana",
          "zatou",
          "masaba",
          "chozame",
          "gonzui",
          "sumeshi",
          "manta"
         ],
         "xaxis": "x",
         "y": [
          31,
          19,
          17,
          13,
          12,
          12,
          12,
          8,
          8,
          7,
          6,
          5,
          4,
          3,
          3
         ],
         "yaxis": "y"
        },
        {
         "alignmentgroup": "True",
         "bingroup": "x",
         "histfunc": "sum",
         "hovertemplate": "weapon_name=longblaster<br>rule_name=hoko<br>stage_name=%{x}<br>sum of count=%{y}<extra></extra>",
         "legendgroup": "longblaster",
         "marker": {
          "color": "#EF553B",
          "pattern": {
           "shape": ""
          }
         },
         "name": "longblaster",
         "offsetgroup": "longblaster",
         "orientation": "v",
         "showlegend": false,
         "type": "histogram",
         "x": [
          "namero",
          "mahimahi"
         ],
         "xaxis": "x2",
         "y": [
          2,
          1
         ],
         "yaxis": "y2"
        },
        {
         "alignmentgroup": "True",
         "bingroup": "x",
         "histfunc": "sum",
         "hovertemplate": "weapon_name=longblaster<br>rule_name=tricolor<br>stage_name=%{x}<br>sum of count=%{y}<extra></extra>",
         "legendgroup": "longblaster",
         "marker": {
          "color": "#EF553B",
          "pattern": {
           "shape": ""
          }
         },
         "name": "longblaster",
         "offsetgroup": "longblaster",
         "orientation": "v",
         "showlegend": false,
         "type": "histogram",
         "x": [
          "mategai"
         ],
         "xaxis": "x6",
         "y": [
          3
         ],
         "yaxis": "y6"
        },
        {
         "alignmentgroup": "True",
         "bingroup": "x",
         "histfunc": "sum",
         "hovertemplate": "weapon_name=variableroller<br>rule_name=yagura<br>stage_name=%{x}<br>sum of count=%{y}<extra></extra>",
         "legendgroup": "variableroller",
         "marker": {
          "color": "#00cc96",
          "pattern": {
           "shape": ""
          }
         },
         "name": "variableroller",
         "offsetgroup": "variableroller",
         "orientation": "v",
         "showlegend": true,
         "type": "histogram",
         "x": [
          "gonzui",
          "kinmedai",
          "masaba",
          "namero"
         ],
         "xaxis": "x",
         "y": [
          5,
          2,
          1,
          1
         ],
         "yaxis": "y"
        },
        {
         "alignmentgroup": "True",
         "bingroup": "x",
         "histfunc": "sum",
         "hovertemplate": "weapon_name=variableroller<br>rule_name=hoko<br>stage_name=%{x}<br>sum of count=%{y}<extra></extra>",
         "legendgroup": "variableroller",
         "marker": {
          "color": "#00cc96",
          "pattern": {
           "shape": ""
          }
         },
         "name": "variableroller",
         "offsetgroup": "variableroller",
         "orientation": "v",
         "showlegend": false,
         "type": "histogram",
         "x": [
          "yunohana",
          "amabi",
          "mahimahi",
          "kusaya",
          "mategai",
          "masaba",
          "yagara",
          "chozame",
          "namero",
          "sumeshi",
          "gonzui",
          "kombu",
          "zatou",
          "hirame",
          "taraport",
          "kinmedai"
         ],
         "xaxis": "x2",
         "y": [
          30,
          26,
          25,
          22,
          17,
          15,
          14,
          11,
          9,
          9,
          8,
          4,
          4,
          3,
          2,
          1
         ],
         "yaxis": "y2"
        },
        {
         "alignmentgroup": "True",
         "bingroup": "x",
         "histfunc": "sum",
         "hovertemplate": "weapon_name=variableroller<br>rule_name=nawabari<br>stage_name=%{x}<br>sum of count=%{y}<extra></extra>",
         "legendgroup": "variableroller",
         "marker": {
          "color": "#00cc96",
          "pattern": {
           "shape": ""
          }
         },
         "name": "variableroller",
         "offsetgroup": "variableroller",
         "orientation": "v",
         "showlegend": false,
         "type": "histogram",
         "x": [
          "yagara",
          "namero",
          "mahimahi",
          "sumeshi",
          "gonzui",
          "masaba",
          "chozame",
          "kinmedai",
          "zatou",
          "mategai",
          "amabi"
         ],
         "xaxis": "x3",
         "y": [
          10,
          8,
          6,
          6,
          5,
          5,
          3,
          3,
          2,
          1,
          1
         ],
         "yaxis": "y3"
        },
        {
         "alignmentgroup": "True",
         "bingroup": "x",
         "histfunc": "sum",
         "hovertemplate": "weapon_name=variableroller<br>rule_name=area<br>stage_name=%{x}<br>sum of count=%{y}<extra></extra>",
         "legendgroup": "variableroller",
         "marker": {
          "color": "#00cc96",
          "pattern": {
           "shape": ""
          }
         },
         "name": "variableroller",
         "offsetgroup": "variableroller",
         "orientation": "v",
         "showlegend": false,
         "type": "histogram",
         "x": [
          "kinmedai",
          "mategai",
          "gonzui",
          "sumeshi",
          "namero",
          "mahimahi",
          "yagara",
          "amabi",
          "yunohana"
         ],
         "xaxis": "x4",
         "y": [
          14,
          5,
          5,
          3,
          3,
          2,
          2,
          1,
          1
         ],
         "yaxis": "y4"
        },
        {
         "alignmentgroup": "True",
         "bingroup": "x",
         "histfunc": "sum",
         "hovertemplate": "weapon_name=variableroller<br>rule_name=asari<br>stage_name=%{x}<br>sum of count=%{y}<extra></extra>",
         "legendgroup": "variableroller",
         "marker": {
          "color": "#00cc96",
          "pattern": {
           "shape": ""
          }
         },
         "name": "variableroller",
         "offsetgroup": "variableroller",
         "orientation": "v",
         "showlegend": false,
         "type": "histogram",
         "x": [
          "yunohana",
          "zatou",
          "gonzui",
          "mategai",
          "mahimahi",
          "masaba",
          "kinmedai",
          "taraport"
         ],
         "xaxis": "x5",
         "y": [
          8,
          6,
          6,
          5,
          2,
          2,
          1,
          1
         ],
         "yaxis": "y5"
        },
        {
         "alignmentgroup": "True",
         "bingroup": "x",
         "histfunc": "sum",
         "hovertemplate": "weapon_name=splatroller<br>rule_name=yagura<br>stage_name=%{x}<br>sum of count=%{y}<extra></extra>",
         "legendgroup": "splatroller",
         "marker": {
          "color": "#ab63fa",
          "pattern": {
           "shape": ""
          }
         },
         "name": "splatroller",
         "offsetgroup": "splatroller",
         "orientation": "v",
         "showlegend": true,
         "type": "histogram",
         "x": [
          "namero",
          "yagara",
          "masaba",
          "sumeshi",
          "amabi",
          "zatou",
          "gonzui",
          "hirame",
          "kusaya",
          "kinmedai",
          "yunohana",
          "mategai"
         ],
         "xaxis": "x",
         "y": [
          21,
          18,
          15,
          14,
          10,
          7,
          5,
          5,
          4,
          4,
          3,
          1
         ],
         "yaxis": "y"
        },
        {
         "alignmentgroup": "True",
         "bingroup": "x",
         "histfunc": "sum",
         "hovertemplate": "weapon_name=splatroller<br>rule_name=hoko<br>stage_name=%{x}<br>sum of count=%{y}<extra></extra>",
         "legendgroup": "splatroller",
         "marker": {
          "color": "#ab63fa",
          "pattern": {
           "shape": ""
          }
         },
         "name": "splatroller",
         "offsetgroup": "splatroller",
         "orientation": "v",
         "showlegend": false,
         "type": "histogram",
         "x": [
          "mategai",
          "kinmedai",
          "yunohana",
          "chozame",
          "sumeshi"
         ],
         "xaxis": "x2",
         "y": [
          10,
          7,
          6,
          5,
          1
         ],
         "yaxis": "y2"
        },
        {
         "alignmentgroup": "True",
         "bingroup": "x",
         "histfunc": "sum",
         "hovertemplate": "weapon_name=splatroller<br>rule_name=nawabari<br>stage_name=%{x}<br>sum of count=%{y}<extra></extra>",
         "legendgroup": "splatroller",
         "marker": {
          "color": "#ab63fa",
          "pattern": {
           "shape": ""
          }
         },
         "name": "splatroller",
         "offsetgroup": "splatroller",
         "orientation": "v",
         "showlegend": false,
         "type": "histogram",
         "x": [
          "masaba",
          "amabi",
          "yagara",
          "sumeshi",
          "gonzui",
          "chozame",
          "namero",
          "kinmedai",
          "mahimahi",
          "yunohana"
         ],
         "xaxis": "x3",
         "y": [
          6,
          5,
          2,
          2,
          2,
          1,
          1,
          1,
          1,
          1
         ],
         "yaxis": "y3"
        },
        {
         "alignmentgroup": "True",
         "bingroup": "x",
         "histfunc": "sum",
         "hovertemplate": "weapon_name=splatroller<br>rule_name=area<br>stage_name=%{x}<br>sum of count=%{y}<extra></extra>",
         "legendgroup": "splatroller",
         "marker": {
          "color": "#ab63fa",
          "pattern": {
           "shape": ""
          }
         },
         "name": "splatroller",
         "offsetgroup": "splatroller",
         "orientation": "v",
         "showlegend": false,
         "type": "histogram",
         "x": [
          "mahimahi",
          "yunohana",
          "amabi",
          "chozame",
          "gonzui",
          "mategai"
         ],
         "xaxis": "x4",
         "y": [
          5,
          4,
          2,
          1,
          1,
          1
         ],
         "yaxis": "y4"
        },
        {
         "alignmentgroup": "True",
         "bingroup": "x",
         "histfunc": "sum",
         "hovertemplate": "weapon_name=splatroller<br>rule_name=asari<br>stage_name=%{x}<br>sum of count=%{y}<extra></extra>",
         "legendgroup": "splatroller",
         "marker": {
          "color": "#ab63fa",
          "pattern": {
           "shape": ""
          }
         },
         "name": "splatroller",
         "offsetgroup": "splatroller",
         "orientation": "v",
         "showlegend": false,
         "type": "histogram",
         "x": [
          "yagara",
          "chozame",
          "kinmedai",
          "hirame",
          "gonzui",
          "mahimahi",
          "masaba"
         ],
         "xaxis": "x5",
         "y": [
          12,
          7,
          4,
          1,
          1,
          1,
          1
         ],
         "yaxis": "y5"
        },
        {
         "alignmentgroup": "True",
         "bingroup": "x",
         "histfunc": "sum",
         "hovertemplate": "weapon_name=sputtery<br>rule_name=yagura<br>stage_name=%{x}<br>sum of count=%{y}<extra></extra>",
         "legendgroup": "sputtery",
         "marker": {
          "color": "#FFA15A",
          "pattern": {
           "shape": ""
          }
         },
         "name": "sputtery",
         "offsetgroup": "sputtery",
         "orientation": "v",
         "showlegend": true,
         "type": "histogram",
         "x": [
          "namero",
          "chozame",
          "zatou",
          "nampla",
          "mahimahi",
          "kinmedai",
          "gonzui",
          "mategai",
          "manta"
         ],
         "xaxis": "x",
         "y": [
          8,
          5,
          5,
          5,
          5,
          4,
          2,
          1,
          1
         ],
         "yaxis": "y"
        },
        {
         "alignmentgroup": "True",
         "bingroup": "x",
         "histfunc": "sum",
         "hovertemplate": "weapon_name=sputtery<br>rule_name=hoko<br>stage_name=%{x}<br>sum of count=%{y}<extra></extra>",
         "legendgroup": "sputtery",
         "marker": {
          "color": "#FFA15A",
          "pattern": {
           "shape": ""
          }
         },
         "name": "sputtery",
         "offsetgroup": "sputtery",
         "orientation": "v",
         "showlegend": false,
         "type": "histogram",
         "x": [
          "kusaya",
          "yunohana",
          "taraport",
          "gonzui",
          "yagara",
          "sumeshi",
          "masaba",
          "mahimahi",
          "kinmedai",
          "namero",
          "mategai",
          "kombu",
          "zatou",
          "amabi"
         ],
         "xaxis": "x2",
         "y": [
          16,
          11,
          6,
          6,
          5,
          5,
          5,
          5,
          5,
          3,
          3,
          2,
          2,
          1
         ],
         "yaxis": "y2"
        },
        {
         "alignmentgroup": "True",
         "bingroup": "x",
         "histfunc": "sum",
         "hovertemplate": "weapon_name=sputtery<br>rule_name=nawabari<br>stage_name=%{x}<br>sum of count=%{y}<extra></extra>",
         "legendgroup": "sputtery",
         "marker": {
          "color": "#FFA15A",
          "pattern": {
           "shape": ""
          }
         },
         "name": "sputtery",
         "offsetgroup": "sputtery",
         "orientation": "v",
         "showlegend": false,
         "type": "histogram",
         "x": [
          "yagara",
          "kinmedai",
          "sumeshi",
          "zatou",
          "yunohana",
          "masaba",
          "namero",
          "amabi",
          "chozame",
          "mategai",
          "gonzui",
          "mahimahi",
          "nampla"
         ],
         "xaxis": "x3",
         "y": [
          18,
          16,
          16,
          14,
          14,
          13,
          9,
          8,
          6,
          3,
          3,
          2,
          2
         ],
         "yaxis": "y3"
        },
        {
         "alignmentgroup": "True",
         "bingroup": "x",
         "histfunc": "sum",
         "hovertemplate": "weapon_name=sputtery<br>rule_name=area<br>stage_name=%{x}<br>sum of count=%{y}<extra></extra>",
         "legendgroup": "sputtery",
         "marker": {
          "color": "#FFA15A",
          "pattern": {
           "shape": ""
          }
         },
         "name": "sputtery",
         "offsetgroup": "sputtery",
         "orientation": "v",
         "showlegend": false,
         "type": "histogram",
         "x": [
          "gonzui",
          "mategai",
          "amabi",
          "mahimahi",
          "zatou",
          "hirame",
          "kinmedai",
          "manta",
          "kusaya",
          "sumeshi",
          "yunohana",
          "masaba"
         ],
         "xaxis": "x4",
         "y": [
          12,
          7,
          6,
          6,
          5,
          4,
          4,
          2,
          2,
          1,
          1,
          1
         ],
         "yaxis": "y4"
        },
        {
         "alignmentgroup": "True",
         "bingroup": "x",
         "histfunc": "sum",
         "hovertemplate": "weapon_name=sputtery<br>rule_name=asari<br>stage_name=%{x}<br>sum of count=%{y}<extra></extra>",
         "legendgroup": "sputtery",
         "marker": {
          "color": "#FFA15A",
          "pattern": {
           "shape": ""
          }
         },
         "name": "sputtery",
         "offsetgroup": "sputtery",
         "orientation": "v",
         "showlegend": false,
         "type": "histogram",
         "x": [
          "yunohana",
          "sumeshi",
          "zatou",
          "mahimahi",
          "yagara",
          "amabi",
          "kinmedai",
          "chozame",
          "mategai",
          "masaba",
          "namero",
          "gonzui"
         ],
         "xaxis": "x5",
         "y": [
          14,
          7,
          7,
          5,
          5,
          5,
          4,
          4,
          3,
          2,
          2,
          2
         ],
         "yaxis": "y5"
        },
        {
         "alignmentgroup": "True",
         "bingroup": "x",
         "histfunc": "sum",
         "hovertemplate": "weapon_name=heroshooter_replica<br>rule_name=yagura<br>stage_name=%{x}<br>sum of count=%{y}<extra></extra>",
         "legendgroup": "heroshooter_replica",
         "marker": {
          "color": "#19d3f3",
          "pattern": {
           "shape": ""
          }
         },
         "name": "heroshooter_replica",
         "offsetgroup": "heroshooter_replica",
         "orientation": "v",
         "showlegend": true,
         "type": "histogram",
         "x": [
          "masaba",
          "kinmedai",
          "namero",
          "yunohana",
          "amabi",
          "chozame"
         ],
         "xaxis": "x",
         "y": [
          8,
          4,
          2,
          1,
          1,
          1
         ],
         "yaxis": "y"
        },
        {
         "alignmentgroup": "True",
         "bingroup": "x",
         "histfunc": "sum",
         "hovertemplate": "weapon_name=heroshooter_replica<br>rule_name=hoko<br>stage_name=%{x}<br>sum of count=%{y}<extra></extra>",
         "legendgroup": "heroshooter_replica",
         "marker": {
          "color": "#19d3f3",
          "pattern": {
           "shape": ""
          }
         },
         "name": "heroshooter_replica",
         "offsetgroup": "heroshooter_replica",
         "orientation": "v",
         "showlegend": false,
         "type": "histogram",
         "x": [
          "mategai",
          "yunohana",
          "kombu",
          "masaba",
          "namero",
          "kusaya",
          "mahimahi",
          "hirame",
          "gonzui"
         ],
         "xaxis": "x2",
         "y": [
          6,
          6,
          5,
          4,
          3,
          3,
          3,
          2,
          2
         ],
         "yaxis": "y2"
        },
        {
         "alignmentgroup": "True",
         "bingroup": "x",
         "histfunc": "sum",
         "hovertemplate": "weapon_name=heroshooter_replica<br>rule_name=nawabari<br>stage_name=%{x}<br>sum of count=%{y}<extra></extra>",
         "legendgroup": "heroshooter_replica",
         "marker": {
          "color": "#19d3f3",
          "pattern": {
           "shape": ""
          }
         },
         "name": "heroshooter_replica",
         "offsetgroup": "heroshooter_replica",
         "orientation": "v",
         "showlegend": false,
         "type": "histogram",
         "x": [
          "mahimahi",
          "namero",
          "hirame",
          "masaba",
          "chozame",
          "kusaya",
          "gonzui",
          "yagara",
          "mategai",
          "sumeshi",
          "nampla",
          "yunohana",
          "zatou",
          "kinmedai"
         ],
         "xaxis": "x3",
         "y": [
          14,
          13,
          13,
          10,
          10,
          7,
          6,
          4,
          4,
          3,
          3,
          3,
          2,
          2
         ],
         "yaxis": "y3"
        },
        {
         "alignmentgroup": "True",
         "bingroup": "x",
         "histfunc": "sum",
         "hovertemplate": "weapon_name=heroshooter_replica<br>rule_name=area<br>stage_name=%{x}<br>sum of count=%{y}<extra></extra>",
         "legendgroup": "heroshooter_replica",
         "marker": {
          "color": "#19d3f3",
          "pattern": {
           "shape": ""
          }
         },
         "name": "heroshooter_replica",
         "offsetgroup": "heroshooter_replica",
         "orientation": "v",
         "showlegend": false,
         "type": "histogram",
         "x": [
          "mahimahi",
          "mategai",
          "nampla",
          "kinmedai",
          "manta",
          "zatou",
          "namero",
          "hirame",
          "kusaya",
          "yunohana",
          "sumeshi"
         ],
         "xaxis": "x4",
         "y": [
          16,
          10,
          9,
          8,
          8,
          5,
          4,
          4,
          4,
          3,
          2
         ],
         "yaxis": "y4"
        },
        {
         "alignmentgroup": "True",
         "bingroup": "x",
         "histfunc": "sum",
         "hovertemplate": "weapon_name=heroshooter_replica<br>rule_name=asari<br>stage_name=%{x}<br>sum of count=%{y}<extra></extra>",
         "legendgroup": "heroshooter_replica",
         "marker": {
          "color": "#19d3f3",
          "pattern": {
           "shape": ""
          }
         },
         "name": "heroshooter_replica",
         "offsetgroup": "heroshooter_replica",
         "orientation": "v",
         "showlegend": false,
         "type": "histogram",
         "x": [
          "yunohana"
         ],
         "xaxis": "x5",
         "y": [
          2
         ],
         "yaxis": "y5"
        },
        {
         "alignmentgroup": "True",
         "bingroup": "x",
         "histfunc": "sum",
         "hovertemplate": "weapon_name=heroshooter_replica<br>rule_name=tricolor<br>stage_name=%{x}<br>sum of count=%{y}<extra></extra>",
         "legendgroup": "heroshooter_replica",
         "marker": {
          "color": "#19d3f3",
          "pattern": {
           "shape": ""
          }
         },
         "name": "heroshooter_replica",
         "offsetgroup": "heroshooter_replica",
         "orientation": "v",
         "showlegend": false,
         "type": "histogram",
         "x": [
          "mategai"
         ],
         "xaxis": "x6",
         "y": [
          10
         ],
         "yaxis": "y6"
        },
        {
         "alignmentgroup": "True",
         "bingroup": "x",
         "histfunc": "sum",
         "hovertemplate": "weapon_name=carbon_deco<br>rule_name=yagura<br>stage_name=%{x}<br>sum of count=%{y}<extra></extra>",
         "legendgroup": "carbon_deco",
         "marker": {
          "color": "#FF6692",
          "pattern": {
           "shape": ""
          }
         },
         "name": "carbon_deco",
         "offsetgroup": "carbon_deco",
         "orientation": "v",
         "showlegend": true,
         "type": "histogram",
         "x": [
          "masaba",
          "amabi",
          "hirame",
          "yunohana",
          "chozame",
          "sumeshi",
          "mategai"
         ],
         "xaxis": "x",
         "y": [
          6,
          4,
          3,
          3,
          2,
          2,
          1
         ],
         "yaxis": "y"
        },
        {
         "alignmentgroup": "True",
         "bingroup": "x",
         "histfunc": "sum",
         "hovertemplate": "weapon_name=carbon_deco<br>rule_name=hoko<br>stage_name=%{x}<br>sum of count=%{y}<extra></extra>",
         "legendgroup": "carbon_deco",
         "marker": {
          "color": "#FF6692",
          "pattern": {
           "shape": ""
          }
         },
         "name": "carbon_deco",
         "offsetgroup": "carbon_deco",
         "orientation": "v",
         "showlegend": false,
         "type": "histogram",
         "x": [
          "mategai",
          "kusaya",
          "sumeshi",
          "zatou",
          "chozame",
          "manta",
          "kinmedai",
          "yagara",
          "amabi"
         ],
         "xaxis": "x2",
         "y": [
          5,
          4,
          4,
          4,
          4,
          4,
          3,
          2,
          1
         ],
         "yaxis": "y2"
        },
        {
         "alignmentgroup": "True",
         "bingroup": "x",
         "histfunc": "sum",
         "hovertemplate": "weapon_name=carbon_deco<br>rule_name=nawabari<br>stage_name=%{x}<br>sum of count=%{y}<extra></extra>",
         "legendgroup": "carbon_deco",
         "marker": {
          "color": "#FF6692",
          "pattern": {
           "shape": ""
          }
         },
         "name": "carbon_deco",
         "offsetgroup": "carbon_deco",
         "orientation": "v",
         "showlegend": false,
         "type": "histogram",
         "x": [
          "sumeshi",
          "yunohana",
          "mahimahi"
         ],
         "xaxis": "x3",
         "y": [
          3,
          3,
          1
         ],
         "yaxis": "y3"
        },
        {
         "alignmentgroup": "True",
         "bingroup": "x",
         "histfunc": "sum",
         "hovertemplate": "weapon_name=carbon_deco<br>rule_name=area<br>stage_name=%{x}<br>sum of count=%{y}<extra></extra>",
         "legendgroup": "carbon_deco",
         "marker": {
          "color": "#FF6692",
          "pattern": {
           "shape": ""
          }
         },
         "name": "carbon_deco",
         "offsetgroup": "carbon_deco",
         "orientation": "v",
         "showlegend": false,
         "type": "histogram",
         "x": [
          "masaba",
          "zatou",
          "sumeshi",
          "mahimahi",
          "gonzui",
          "yunohana"
         ],
         "xaxis": "x4",
         "y": [
          10,
          7,
          4,
          4,
          4,
          3
         ],
         "yaxis": "y4"
        },
        {
         "alignmentgroup": "True",
         "bingroup": "x",
         "histfunc": "sum",
         "hovertemplate": "weapon_name=carbon_deco<br>rule_name=asari<br>stage_name=%{x}<br>sum of count=%{y}<extra></extra>",
         "legendgroup": "carbon_deco",
         "marker": {
          "color": "#FF6692",
          "pattern": {
           "shape": ""
          }
         },
         "name": "carbon_deco",
         "offsetgroup": "carbon_deco",
         "orientation": "v",
         "showlegend": false,
         "type": "histogram",
         "x": [
          "kinmedai",
          "zatou"
         ],
         "xaxis": "x5",
         "y": [
          5,
          1
         ],
         "yaxis": "y5"
        },
        {
         "alignmentgroup": "True",
         "bingroup": "x",
         "histfunc": "sum",
         "hovertemplate": "weapon_name=nzap85<br>rule_name=yagura<br>stage_name=%{x}<br>sum of count=%{y}<extra></extra>",
         "legendgroup": "nzap85",
         "marker": {
          "color": "#B6E880",
          "pattern": {
           "shape": ""
          }
         },
         "name": "nzap85",
         "offsetgroup": "nzap85",
         "orientation": "v",
         "showlegend": true,
         "type": "histogram",
         "x": [
          "sumeshi",
          "amabi",
          "zatou"
         ],
         "xaxis": "x",
         "y": [
          4,
          2,
          1
         ],
         "yaxis": "y"
        },
        {
         "alignmentgroup": "True",
         "bingroup": "x",
         "histfunc": "sum",
         "hovertemplate": "weapon_name=nzap85<br>rule_name=hoko<br>stage_name=%{x}<br>sum of count=%{y}<extra></extra>",
         "legendgroup": "nzap85",
         "marker": {
          "color": "#B6E880",
          "pattern": {
           "shape": ""
          }
         },
         "name": "nzap85",
         "offsetgroup": "nzap85",
         "orientation": "v",
         "showlegend": false,
         "type": "histogram",
         "x": [
          "yunohana",
          "kusaya"
         ],
         "xaxis": "x2",
         "y": [
          10,
          8
         ],
         "yaxis": "y2"
        },
        {
         "alignmentgroup": "True",
         "bingroup": "x",
         "histfunc": "sum",
         "hovertemplate": "weapon_name=nzap85<br>rule_name=nawabari<br>stage_name=%{x}<br>sum of count=%{y}<extra></extra>",
         "legendgroup": "nzap85",
         "marker": {
          "color": "#B6E880",
          "pattern": {
           "shape": ""
          }
         },
         "name": "nzap85",
         "offsetgroup": "nzap85",
         "orientation": "v",
         "showlegend": false,
         "type": "histogram",
         "x": [
          "yunohana",
          "mahimahi"
         ],
         "xaxis": "x3",
         "y": [
          3,
          1
         ],
         "yaxis": "y3"
        },
        {
         "alignmentgroup": "True",
         "bingroup": "x",
         "histfunc": "sum",
         "hovertemplate": "weapon_name=nzap85<br>rule_name=area<br>stage_name=%{x}<br>sum of count=%{y}<extra></extra>",
         "legendgroup": "nzap85",
         "marker": {
          "color": "#B6E880",
          "pattern": {
           "shape": ""
          }
         },
         "name": "nzap85",
         "offsetgroup": "nzap85",
         "orientation": "v",
         "showlegend": false,
         "type": "histogram",
         "x": [
          "yagara"
         ],
         "xaxis": "x4",
         "y": [
          1
         ],
         "yaxis": "y4"
        },
        {
         "alignmentgroup": "True",
         "bingroup": "x",
         "histfunc": "sum",
         "hovertemplate": "weapon_name=sharp_neo<br>rule_name=hoko<br>stage_name=%{x}<br>sum of count=%{y}<extra></extra>",
         "legendgroup": "sharp_neo",
         "marker": {
          "color": "#FF97FF",
          "pattern": {
           "shape": ""
          }
         },
         "name": "sharp_neo",
         "offsetgroup": "sharp_neo",
         "orientation": "v",
         "showlegend": true,
         "type": "histogram",
         "x": [
          "sumeshi",
          "zatou"
         ],
         "xaxis": "x2",
         "y": [
          6,
          5
         ],
         "yaxis": "y2"
        },
        {
         "alignmentgroup": "True",
         "bingroup": "x",
         "histfunc": "sum",
         "hovertemplate": "weapon_name=sharp_neo<br>rule_name=nawabari<br>stage_name=%{x}<br>sum of count=%{y}<extra></extra>",
         "legendgroup": "sharp_neo",
         "marker": {
          "color": "#FF97FF",
          "pattern": {
           "shape": ""
          }
         },
         "name": "sharp_neo",
         "offsetgroup": "sharp_neo",
         "orientation": "v",
         "showlegend": false,
         "type": "histogram",
         "x": [
          "masaba"
         ],
         "xaxis": "x3",
         "y": [
          2
         ],
         "yaxis": "y3"
        },
        {
         "alignmentgroup": "True",
         "bingroup": "x",
         "histfunc": "sum",
         "hovertemplate": "weapon_name=sharp_neo<br>rule_name=area<br>stage_name=%{x}<br>sum of count=%{y}<extra></extra>",
         "legendgroup": "sharp_neo",
         "marker": {
          "color": "#FF97FF",
          "pattern": {
           "shape": ""
          }
         },
         "name": "sharp_neo",
         "offsetgroup": "sharp_neo",
         "orientation": "v",
         "showlegend": false,
         "type": "histogram",
         "x": [
          "masaba",
          "mahimahi",
          "gonzui",
          "sumeshi",
          "nampla",
          "kinmedai",
          "manta",
          "namero"
         ],
         "xaxis": "x4",
         "y": [
          9,
          9,
          8,
          4,
          3,
          2,
          1,
          1
         ],
         "yaxis": "y4"
        },
        {
         "alignmentgroup": "True",
         "bingroup": "x",
         "histfunc": "sum",
         "hovertemplate": "weapon_name=sharp_neo<br>rule_name=asari<br>stage_name=%{x}<br>sum of count=%{y}<extra></extra>",
         "legendgroup": "sharp_neo",
         "marker": {
          "color": "#FF97FF",
          "pattern": {
           "shape": ""
          }
         },
         "name": "sharp_neo",
         "offsetgroup": "sharp_neo",
         "orientation": "v",
         "showlegend": false,
         "type": "histogram",
         "x": [
          "yagara",
          "sumeshi"
         ],
         "xaxis": "x5",
         "y": [
          4,
          1
         ],
         "yaxis": "y5"
        },
        {
         "alignmentgroup": "True",
         "bingroup": "x",
         "histfunc": "sum",
         "hovertemplate": "weapon_name=furo<br>rule_name=nawabari<br>stage_name=%{x}<br>sum of count=%{y}<extra></extra>",
         "legendgroup": "furo",
         "marker": {
          "color": "#FECB52",
          "pattern": {
           "shape": ""
          }
         },
         "name": "furo",
         "offsetgroup": "furo",
         "orientation": "v",
         "showlegend": true,
         "type": "histogram",
         "x": [
          "yagara",
          "masaba",
          "kusaya",
          "mahimahi"
         ],
         "xaxis": "x3",
         "y": [
          2,
          1,
          1,
          1
         ],
         "yaxis": "y3"
        },
        {
         "alignmentgroup": "True",
         "bingroup": "x",
         "histfunc": "sum",
         "hovertemplate": "weapon_name=furo<br>rule_name=area<br>stage_name=%{x}<br>sum of count=%{y}<extra></extra>",
         "legendgroup": "furo",
         "marker": {
          "color": "#FECB52",
          "pattern": {
           "shape": ""
          }
         },
         "name": "furo",
         "offsetgroup": "furo",
         "orientation": "v",
         "showlegend": false,
         "type": "histogram",
         "x": [
          "kinmedai",
          "kusaya",
          "hirame",
          "amabi",
          "namero",
          "mategai",
          "masaba",
          "yagara",
          "chozame",
          "yunohana",
          "sumeshi"
         ],
         "xaxis": "x4",
         "y": [
          9,
          7,
          5,
          3,
          3,
          2,
          2,
          2,
          2,
          1,
          1
         ],
         "yaxis": "y4"
        },
        {
         "alignmentgroup": "True",
         "bingroup": "x",
         "histfunc": "sum",
         "hovertemplate": "weapon_name=spaceshooter<br>rule_name=nawabari<br>stage_name=%{x}<br>sum of count=%{y}<extra></extra>",
         "legendgroup": "spaceshooter",
         "marker": {
          "color": "#636efa",
          "pattern": {
           "shape": ""
          }
         },
         "name": "spaceshooter",
         "offsetgroup": "spaceshooter",
         "orientation": "v",
         "showlegend": true,
         "type": "histogram",
         "x": [
          "zatou",
          "sumeshi",
          "hirame",
          "gonzui"
         ],
         "xaxis": "x3",
         "y": [
          8,
          5,
          1,
          1
         ],
         "yaxis": "y3"
        },
        {
         "alignmentgroup": "True",
         "bingroup": "x",
         "histfunc": "sum",
         "hovertemplate": "weapon_name=spaceshooter<br>rule_name=area<br>stage_name=%{x}<br>sum of count=%{y}<extra></extra>",
         "legendgroup": "spaceshooter",
         "marker": {
          "color": "#636efa",
          "pattern": {
           "shape": ""
          }
         },
         "name": "spaceshooter",
         "offsetgroup": "spaceshooter",
         "orientation": "v",
         "showlegend": false,
         "type": "histogram",
         "x": [
          "sumeshi",
          "kinmedai"
         ],
         "xaxis": "x4",
         "y": [
          1,
          1
         ],
         "yaxis": "y4"
        },
        {
         "alignmentgroup": "True",
         "bingroup": "x",
         "histfunc": "sum",
         "hovertemplate": "weapon_name=hydra<br>rule_name=yagura<br>stage_name=%{x}<br>sum of count=%{y}<extra></extra>",
         "legendgroup": "hydra",
         "marker": {
          "color": "#EF553B",
          "pattern": {
           "shape": ""
          }
         },
         "name": "hydra",
         "offsetgroup": "hydra",
         "orientation": "v",
         "showlegend": true,
         "type": "histogram",
         "x": [
          "yunohana",
          "hirame",
          "namero",
          "zatou",
          "gonzui",
          "chozame",
          "kinmedai",
          "mategai"
         ],
         "xaxis": "x",
         "y": [
          4,
          4,
          3,
          2,
          2,
          2,
          1,
          1
         ],
         "yaxis": "y"
        },
        {
         "alignmentgroup": "True",
         "bingroup": "x",
         "histfunc": "sum",
         "hovertemplate": "weapon_name=hydra<br>rule_name=nawabari<br>stage_name=%{x}<br>sum of count=%{y}<extra></extra>",
         "legendgroup": "hydra",
         "marker": {
          "color": "#EF553B",
          "pattern": {
           "shape": ""
          }
         },
         "name": "hydra",
         "offsetgroup": "hydra",
         "orientation": "v",
         "showlegend": false,
         "type": "histogram",
         "x": [
          "zatou",
          "chozame",
          "sumeshi",
          "mategai",
          "masaba",
          "mahimahi",
          "yagara"
         ],
         "xaxis": "x3",
         "y": [
          8,
          5,
          4,
          2,
          2,
          1,
          1
         ],
         "yaxis": "y3"
        },
        {
         "alignmentgroup": "True",
         "bingroup": "x",
         "histfunc": "sum",
         "hovertemplate": "weapon_name=hydra<br>rule_name=area<br>stage_name=%{x}<br>sum of count=%{y}<extra></extra>",
         "legendgroup": "hydra",
         "marker": {
          "color": "#EF553B",
          "pattern": {
           "shape": ""
          }
         },
         "name": "hydra",
         "offsetgroup": "hydra",
         "orientation": "v",
         "showlegend": false,
         "type": "histogram",
         "x": [
          "zatou",
          "yunohana",
          "yagara",
          "kinmedai",
          "mahimahi"
         ],
         "xaxis": "x4",
         "y": [
          3,
          2,
          2,
          1,
          1
         ],
         "yaxis": "y4"
        },
        {
         "alignmentgroup": "True",
         "bingroup": "x",
         "histfunc": "sum",
         "hovertemplate": "weapon_name=hydra<br>rule_name=asari<br>stage_name=%{x}<br>sum of count=%{y}<extra></extra>",
         "legendgroup": "hydra",
         "marker": {
          "color": "#EF553B",
          "pattern": {
           "shape": ""
          }
         },
         "name": "hydra",
         "offsetgroup": "hydra",
         "orientation": "v",
         "showlegend": false,
         "type": "histogram",
         "x": [
          "masaba",
          "kinmedai"
         ],
         "xaxis": "x5",
         "y": [
          4,
          2
         ],
         "yaxis": "y5"
        },
        {
         "alignmentgroup": "True",
         "bingroup": "x",
         "histfunc": "sum",
         "hovertemplate": "weapon_name=sshooter_collabo<br>rule_name=nawabari<br>stage_name=%{x}<br>sum of count=%{y}<extra></extra>",
         "legendgroup": "sshooter_collabo",
         "marker": {
          "color": "#00cc96",
          "pattern": {
           "shape": ""
          }
         },
         "name": "sshooter_collabo",
         "offsetgroup": "sshooter_collabo",
         "orientation": "v",
         "showlegend": true,
         "type": "histogram",
         "x": [
          "namero",
          "mahimahi"
         ],
         "xaxis": "x3",
         "y": [
          1,
          1
         ],
         "yaxis": "y3"
        },
        {
         "alignmentgroup": "True",
         "bingroup": "x",
         "histfunc": "sum",
         "hovertemplate": "weapon_name=sshooter_collabo<br>rule_name=asari<br>stage_name=%{x}<br>sum of count=%{y}<extra></extra>",
         "legendgroup": "sshooter_collabo",
         "marker": {
          "color": "#00cc96",
          "pattern": {
           "shape": ""
          }
         },
         "name": "sshooter_collabo",
         "offsetgroup": "sshooter_collabo",
         "orientation": "v",
         "showlegend": false,
         "type": "histogram",
         "x": [
          "yunohana",
          "mahimahi"
         ],
         "xaxis": "x5",
         "y": [
          7,
          6
         ],
         "yaxis": "y5"
        },
        {
         "alignmentgroup": "True",
         "bingroup": "x",
         "histfunc": "sum",
         "hovertemplate": "weapon_name=barrelspinner<br>rule_name=yagura<br>stage_name=%{x}<br>sum of count=%{y}<extra></extra>",
         "legendgroup": "barrelspinner",
         "marker": {
          "color": "#ab63fa",
          "pattern": {
           "shape": ""
          }
         },
         "name": "barrelspinner",
         "offsetgroup": "barrelspinner",
         "orientation": "v",
         "showlegend": true,
         "type": "histogram",
         "x": [
          "sumeshi",
          "gonzui"
         ],
         "xaxis": "x",
         "y": [
          3,
          2
         ],
         "yaxis": "y"
        },
        {
         "alignmentgroup": "True",
         "bingroup": "x",
         "histfunc": "sum",
         "hovertemplate": "weapon_name=barrelspinner<br>rule_name=hoko<br>stage_name=%{x}<br>sum of count=%{y}<extra></extra>",
         "legendgroup": "barrelspinner",
         "marker": {
          "color": "#ab63fa",
          "pattern": {
           "shape": ""
          }
         },
         "name": "barrelspinner",
         "offsetgroup": "barrelspinner",
         "orientation": "v",
         "showlegend": false,
         "type": "histogram",
         "x": [
          "kusaya"
         ],
         "xaxis": "x2",
         "y": [
          1
         ],
         "yaxis": "y2"
        },
        {
         "alignmentgroup": "True",
         "bingroup": "x",
         "histfunc": "sum",
         "hovertemplate": "weapon_name=barrelspinner<br>rule_name=nawabari<br>stage_name=%{x}<br>sum of count=%{y}<extra></extra>",
         "legendgroup": "barrelspinner",
         "marker": {
          "color": "#ab63fa",
          "pattern": {
           "shape": ""
          }
         },
         "name": "barrelspinner",
         "offsetgroup": "barrelspinner",
         "orientation": "v",
         "showlegend": false,
         "type": "histogram",
         "x": [
          "sumeshi",
          "gonzui",
          "hirame",
          "kinmedai",
          "masaba",
          "zatou",
          "yagara"
         ],
         "xaxis": "x3",
         "y": [
          2,
          2,
          1,
          1,
          1,
          1,
          1
         ],
         "yaxis": "y3"
        },
        {
         "alignmentgroup": "True",
         "bingroup": "x",
         "histfunc": "sum",
         "hovertemplate": "weapon_name=barrelspinner<br>rule_name=area<br>stage_name=%{x}<br>sum of count=%{y}<extra></extra>",
         "legendgroup": "barrelspinner",
         "marker": {
          "color": "#ab63fa",
          "pattern": {
           "shape": ""
          }
         },
         "name": "barrelspinner",
         "offsetgroup": "barrelspinner",
         "orientation": "v",
         "showlegend": false,
         "type": "histogram",
         "x": [
          "gonzui",
          "yunohana",
          "yagara",
          "mahimahi",
          "sumeshi",
          "nampla",
          "namero"
         ],
         "xaxis": "x4",
         "y": [
          7,
          6,
          1,
          1,
          1,
          1,
          1
         ],
         "yaxis": "y4"
        },
        {
         "alignmentgroup": "True",
         "bingroup": "x",
         "histfunc": "sum",
         "hovertemplate": "weapon_name=barrelspinner<br>rule_name=asari<br>stage_name=%{x}<br>sum of count=%{y}<extra></extra>",
         "legendgroup": "barrelspinner",
         "marker": {
          "color": "#ab63fa",
          "pattern": {
           "shape": ""
          }
         },
         "name": "barrelspinner",
         "offsetgroup": "barrelspinner",
         "orientation": "v",
         "showlegend": false,
         "type": "histogram",
         "x": [
          "kinmedai",
          "masaba"
         ],
         "xaxis": "x5",
         "y": [
          3,
          1
         ],
         "yaxis": "y5"
        },
        {
         "alignmentgroup": "True",
         "bingroup": "x",
         "histfunc": "sum",
         "hovertemplate": "weapon_name=screwslosher<br>rule_name=yagura<br>stage_name=%{x}<br>sum of count=%{y}<extra></extra>",
         "legendgroup": "screwslosher",
         "marker": {
          "color": "#FFA15A",
          "pattern": {
           "shape": ""
          }
         },
         "name": "screwslosher",
         "offsetgroup": "screwslosher",
         "orientation": "v",
         "showlegend": true,
         "type": "histogram",
         "x": [
          "gonzui",
          "masaba",
          "yunohana",
          "zatou",
          "sumeshi"
         ],
         "xaxis": "x",
         "y": [
          5,
          3,
          1,
          1,
          1
         ],
         "yaxis": "y"
        },
        {
         "alignmentgroup": "True",
         "bingroup": "x",
         "histfunc": "sum",
         "hovertemplate": "weapon_name=screwslosher<br>rule_name=nawabari<br>stage_name=%{x}<br>sum of count=%{y}<extra></extra>",
         "legendgroup": "screwslosher",
         "marker": {
          "color": "#FFA15A",
          "pattern": {
           "shape": ""
          }
         },
         "name": "screwslosher",
         "offsetgroup": "screwslosher",
         "orientation": "v",
         "showlegend": false,
         "type": "histogram",
         "x": [
          "masaba",
          "mategai",
          "kusaya",
          "yagara"
         ],
         "xaxis": "x3",
         "y": [
          1,
          1,
          1,
          1
         ],
         "yaxis": "y3"
        },
        {
         "alignmentgroup": "True",
         "bingroup": "x",
         "histfunc": "sum",
         "hovertemplate": "weapon_name=screwslosher<br>rule_name=area<br>stage_name=%{x}<br>sum of count=%{y}<extra></extra>",
         "legendgroup": "screwslosher",
         "marker": {
          "color": "#FFA15A",
          "pattern": {
           "shape": ""
          }
         },
         "name": "screwslosher",
         "offsetgroup": "screwslosher",
         "orientation": "v",
         "showlegend": false,
         "type": "histogram",
         "x": [
          "kinmedai",
          "gonzui",
          "chozame",
          "hirame",
          "amabi",
          "masaba"
         ],
         "xaxis": "x4",
         "y": [
          7,
          4,
          2,
          1,
          1,
          1
         ],
         "yaxis": "y4"
        },
        {
         "alignmentgroup": "True",
         "bingroup": "x",
         "histfunc": "sum",
         "hovertemplate": "weapon_name=quadhopper_black<br>rule_name=nawabari<br>stage_name=%{x}<br>sum of count=%{y}<extra></extra>",
         "legendgroup": "quadhopper_black",
         "marker": {
          "color": "#19d3f3",
          "pattern": {
           "shape": ""
          }
         },
         "name": "quadhopper_black",
         "offsetgroup": "quadhopper_black",
         "orientation": "v",
         "showlegend": true,
         "type": "histogram",
         "x": [
          "masaba"
         ],
         "xaxis": "x3",
         "y": [
          1
         ],
         "yaxis": "y3"
        },
        {
         "alignmentgroup": "True",
         "bingroup": "x",
         "histfunc": "sum",
         "hovertemplate": "weapon_name=quadhopper_black<br>rule_name=area<br>stage_name=%{x}<br>sum of count=%{y}<extra></extra>",
         "legendgroup": "quadhopper_black",
         "marker": {
          "color": "#19d3f3",
          "pattern": {
           "shape": ""
          }
         },
         "name": "quadhopper_black",
         "offsetgroup": "quadhopper_black",
         "orientation": "v",
         "showlegend": false,
         "type": "histogram",
         "x": [
          "namero",
          "amabi",
          "kinmedai",
          "masaba"
         ],
         "xaxis": "x4",
         "y": [
          6,
          2,
          1,
          1
         ],
         "yaxis": "y4"
        },
        {
         "alignmentgroup": "True",
         "bingroup": "x",
         "histfunc": "sum",
         "hovertemplate": "weapon_name=52gal<br>rule_name=hoko<br>stage_name=%{x}<br>sum of count=%{y}<extra></extra>",
         "legendgroup": "52gal",
         "marker": {
          "color": "#FF6692",
          "pattern": {
           "shape": ""
          }
         },
         "name": "52gal",
         "offsetgroup": "52gal",
         "orientation": "v",
         "showlegend": true,
         "type": "histogram",
         "x": [
          "namero",
          "masaba"
         ],
         "xaxis": "x2",
         "y": [
          2,
          1
         ],
         "yaxis": "y2"
        },
        {
         "alignmentgroup": "True",
         "bingroup": "x",
         "histfunc": "sum",
         "hovertemplate": "weapon_name=52gal<br>rule_name=nawabari<br>stage_name=%{x}<br>sum of count=%{y}<extra></extra>",
         "legendgroup": "52gal",
         "marker": {
          "color": "#FF6692",
          "pattern": {
           "shape": ""
          }
         },
         "name": "52gal",
         "offsetgroup": "52gal",
         "orientation": "v",
         "showlegend": false,
         "type": "histogram",
         "x": [
          "yagara",
          "gonzui",
          "mahimahi",
          "kinmedai",
          "namero",
          "masaba",
          "sumeshi",
          "chozame",
          "amabi",
          "kusaya",
          "yunohana"
         ],
         "xaxis": "x3",
         "y": [
          6,
          5,
          4,
          3,
          3,
          2,
          2,
          2,
          1,
          1,
          1
         ],
         "yaxis": "y3"
        },
        {
         "alignmentgroup": "True",
         "bingroup": "x",
         "histfunc": "sum",
         "hovertemplate": "weapon_name=52gal<br>rule_name=area<br>stage_name=%{x}<br>sum of count=%{y}<extra></extra>",
         "legendgroup": "52gal",
         "marker": {
          "color": "#FF6692",
          "pattern": {
           "shape": ""
          }
         },
         "name": "52gal",
         "offsetgroup": "52gal",
         "orientation": "v",
         "showlegend": false,
         "type": "histogram",
         "x": [
          "gonzui",
          "kinmedai",
          "namero"
         ],
         "xaxis": "x4",
         "y": [
          5,
          3,
          3
         ],
         "yaxis": "y4"
        },
        {
         "alignmentgroup": "True",
         "bingroup": "x",
         "histfunc": "sum",
         "hovertemplate": "weapon_name=hotblaster<br>rule_name=yagura<br>stage_name=%{x}<br>sum of count=%{y}<extra></extra>",
         "legendgroup": "hotblaster",
         "marker": {
          "color": "#B6E880",
          "pattern": {
           "shape": ""
          }
         },
         "name": "hotblaster",
         "offsetgroup": "hotblaster",
         "orientation": "v",
         "showlegend": true,
         "type": "histogram",
         "x": [
          "gonzui",
          "zatou",
          "kinmedai",
          "mategai"
         ],
         "xaxis": "x",
         "y": [
          5,
          5,
          2,
          2
         ],
         "yaxis": "y"
        },
        {
         "alignmentgroup": "True",
         "bingroup": "x",
         "histfunc": "sum",
         "hovertemplate": "weapon_name=hotblaster<br>rule_name=area<br>stage_name=%{x}<br>sum of count=%{y}<extra></extra>",
         "legendgroup": "hotblaster",
         "marker": {
          "color": "#B6E880",
          "pattern": {
           "shape": ""
          }
         },
         "name": "hotblaster",
         "offsetgroup": "hotblaster",
         "orientation": "v",
         "showlegend": false,
         "type": "histogram",
         "x": [
          "mahimahi",
          "yunohana"
         ],
         "xaxis": "x4",
         "y": [
          2,
          1
         ],
         "yaxis": "y4"
        },
        {
         "alignmentgroup": "True",
         "bingroup": "x",
         "histfunc": "sum",
         "hovertemplate": "weapon_name=hokusai<br>rule_name=asari<br>stage_name=%{x}<br>sum of count=%{y}<extra></extra>",
         "legendgroup": "hokusai",
         "marker": {
          "color": "#FF97FF",
          "pattern": {
           "shape": ""
          }
         },
         "name": "hokusai",
         "offsetgroup": "hokusai",
         "orientation": "v",
         "showlegend": true,
         "type": "histogram",
         "x": [
          "sumeshi",
          "yagara"
         ],
         "xaxis": "x5",
         "y": [
          5,
          1
         ],
         "yaxis": "y5"
        },
        {
         "alignmentgroup": "True",
         "bingroup": "x",
         "histfunc": "sum",
         "hovertemplate": "weapon_name=hokusai<br>rule_name=tricolor<br>stage_name=%{x}<br>sum of count=%{y}<extra></extra>",
         "legendgroup": "hokusai",
         "marker": {
          "color": "#FF97FF",
          "pattern": {
           "shape": ""
          }
         },
         "name": "hokusai",
         "offsetgroup": "hokusai",
         "orientation": "v",
         "showlegend": false,
         "type": "histogram",
         "x": [
          "mategai"
         ],
         "xaxis": "x6",
         "y": [
          3
         ],
         "yaxis": "y6"
        },
        {
         "alignmentgroup": "True",
         "bingroup": "x",
         "histfunc": "sum",
         "hovertemplate": "weapon_name=splatroller_collabo<br>rule_name=yagura<br>stage_name=%{x}<br>sum of count=%{y}<extra></extra>",
         "legendgroup": "splatroller_collabo",
         "marker": {
          "color": "#FECB52",
          "pattern": {
           "shape": ""
          }
         },
         "name": "splatroller_collabo",
         "offsetgroup": "splatroller_collabo",
         "orientation": "v",
         "showlegend": true,
         "type": "histogram",
         "x": [
          "chozame",
          "kusaya"
         ],
         "xaxis": "x",
         "y": [
          5,
          4
         ],
         "yaxis": "y"
        },
        {
         "alignmentgroup": "True",
         "bingroup": "x",
         "histfunc": "sum",
         "hovertemplate": "weapon_name=splatroller_collabo<br>rule_name=hoko<br>stage_name=%{x}<br>sum of count=%{y}<extra></extra>",
         "legendgroup": "splatroller_collabo",
         "marker": {
          "color": "#FECB52",
          "pattern": {
           "shape": ""
          }
         },
         "name": "splatroller_collabo",
         "offsetgroup": "splatroller_collabo",
         "orientation": "v",
         "showlegend": false,
         "type": "histogram",
         "x": [
          "gonzui",
          "manta"
         ],
         "xaxis": "x2",
         "y": [
          5,
          4
         ],
         "yaxis": "y2"
        },
        {
         "alignmentgroup": "True",
         "bingroup": "x",
         "histfunc": "sum",
         "hovertemplate": "weapon_name=splatroller_collabo<br>rule_name=nawabari<br>stage_name=%{x}<br>sum of count=%{y}<extra></extra>",
         "legendgroup": "splatroller_collabo",
         "marker": {
          "color": "#FECB52",
          "pattern": {
           "shape": ""
          }
         },
         "name": "splatroller_collabo",
         "offsetgroup": "splatroller_collabo",
         "orientation": "v",
         "showlegend": false,
         "type": "histogram",
         "x": [
          "nampla",
          "yunohana"
         ],
         "xaxis": "x3",
         "y": [
          1,
          1
         ],
         "yaxis": "y3"
        },
        {
         "alignmentgroup": "True",
         "bingroup": "x",
         "histfunc": "sum",
         "hovertemplate": "weapon_name=splatroller_collabo<br>rule_name=area<br>stage_name=%{x}<br>sum of count=%{y}<extra></extra>",
         "legendgroup": "splatroller_collabo",
         "marker": {
          "color": "#FECB52",
          "pattern": {
           "shape": ""
          }
         },
         "name": "splatroller_collabo",
         "offsetgroup": "splatroller_collabo",
         "orientation": "v",
         "showlegend": false,
         "type": "histogram",
         "x": [
          "namero",
          "sumeshi",
          "kinmedai"
         ],
         "xaxis": "x4",
         "y": [
          2,
          2,
          1
         ],
         "yaxis": "y4"
        },
        {
         "alignmentgroup": "True",
         "bingroup": "x",
         "histfunc": "sum",
         "hovertemplate": "weapon_name=splatroller_collabo<br>rule_name=asari<br>stage_name=%{x}<br>sum of count=%{y}<extra></extra>",
         "legendgroup": "splatroller_collabo",
         "marker": {
          "color": "#FECB52",
          "pattern": {
           "shape": ""
          }
         },
         "name": "splatroller_collabo",
         "offsetgroup": "splatroller_collabo",
         "orientation": "v",
         "showlegend": false,
         "type": "histogram",
         "x": [
          "yagara",
          "sumeshi"
         ],
         "xaxis": "x5",
         "y": [
          1,
          1
         ],
         "yaxis": "y5"
        },
        {
         "alignmentgroup": "True",
         "bingroup": "x",
         "histfunc": "sum",
         "hovertemplate": "weapon_name=drivewiper<br>rule_name=hoko<br>stage_name=%{x}<br>sum of count=%{y}<extra></extra>",
         "legendgroup": "drivewiper",
         "marker": {
          "color": "#636efa",
          "pattern": {
           "shape": ""
          }
         },
         "name": "drivewiper",
         "offsetgroup": "drivewiper",
         "orientation": "v",
         "showlegend": true,
         "type": "histogram",
         "x": [
          "masaba",
          "kusaya"
         ],
         "xaxis": "x2",
         "y": [
          4,
          1
         ],
         "yaxis": "y2"
        },
        {
         "alignmentgroup": "True",
         "bingroup": "x",
         "histfunc": "sum",
         "hovertemplate": "weapon_name=drivewiper<br>rule_name=nawabari<br>stage_name=%{x}<br>sum of count=%{y}<extra></extra>",
         "legendgroup": "drivewiper",
         "marker": {
          "color": "#636efa",
          "pattern": {
           "shape": ""
          }
         },
         "name": "drivewiper",
         "offsetgroup": "drivewiper",
         "orientation": "v",
         "showlegend": false,
         "type": "histogram",
         "x": [
          "gonzui",
          "yagara"
         ],
         "xaxis": "x3",
         "y": [
          1,
          1
         ],
         "yaxis": "y3"
        },
        {
         "alignmentgroup": "True",
         "bingroup": "x",
         "histfunc": "sum",
         "hovertemplate": "weapon_name=drivewiper<br>rule_name=area<br>stage_name=%{x}<br>sum of count=%{y}<extra></extra>",
         "legendgroup": "drivewiper",
         "marker": {
          "color": "#636efa",
          "pattern": {
           "shape": ""
          }
         },
         "name": "drivewiper",
         "offsetgroup": "drivewiper",
         "orientation": "v",
         "showlegend": false,
         "type": "histogram",
         "x": [
          "mahimahi",
          "yunohana"
         ],
         "xaxis": "x4",
         "y": [
          5,
          5
         ],
         "yaxis": "y4"
        },
        {
         "alignmentgroup": "True",
         "bingroup": "x",
         "histfunc": "sum",
         "hovertemplate": "weapon_name=bold_neo<br>rule_name=yagura<br>stage_name=%{x}<br>sum of count=%{y}<extra></extra>",
         "legendgroup": "bold_neo",
         "marker": {
          "color": "#EF553B",
          "pattern": {
           "shape": ""
          }
         },
         "name": "bold_neo",
         "offsetgroup": "bold_neo",
         "orientation": "v",
         "showlegend": true,
         "type": "histogram",
         "x": [
          "kinmedai",
          "manta"
         ],
         "xaxis": "x",
         "y": [
          4,
          2
         ],
         "yaxis": "y"
        },
        {
         "alignmentgroup": "True",
         "bingroup": "x",
         "histfunc": "sum",
         "hovertemplate": "weapon_name=bold_neo<br>rule_name=area<br>stage_name=%{x}<br>sum of count=%{y}<extra></extra>",
         "legendgroup": "bold_neo",
         "marker": {
          "color": "#EF553B",
          "pattern": {
           "shape": ""
          }
         },
         "name": "bold_neo",
         "offsetgroup": "bold_neo",
         "orientation": "v",
         "showlegend": false,
         "type": "histogram",
         "x": [
          "nampla"
         ],
         "xaxis": "x4",
         "y": [
          4
         ],
         "yaxis": "y4"
        },
        {
         "alignmentgroup": "True",
         "bingroup": "x",
         "histfunc": "sum",
         "hovertemplate": "weapon_name=bold_neo<br>rule_name=asari<br>stage_name=%{x}<br>sum of count=%{y}<extra></extra>",
         "legendgroup": "bold_neo",
         "marker": {
          "color": "#EF553B",
          "pattern": {
           "shape": ""
          }
         },
         "name": "bold_neo",
         "offsetgroup": "bold_neo",
         "orientation": "v",
         "showlegend": false,
         "type": "histogram",
         "x": [
          "masaba"
         ],
         "xaxis": "x5",
         "y": [
          2
         ],
         "yaxis": "y5"
        },
        {
         "alignmentgroup": "True",
         "bingroup": "x",
         "histfunc": "sum",
         "hovertemplate": "weapon_name=campingshelter<br>rule_name=hoko<br>stage_name=%{x}<br>sum of count=%{y}<extra></extra>",
         "legendgroup": "campingshelter",
         "marker": {
          "color": "#00cc96",
          "pattern": {
           "shape": ""
          }
         },
         "name": "campingshelter",
         "offsetgroup": "campingshelter",
         "orientation": "v",
         "showlegend": true,
         "type": "histogram",
         "x": [
          "kombu"
         ],
         "xaxis": "x2",
         "y": [
          2
         ],
         "yaxis": "y2"
        },
        {
         "alignmentgroup": "True",
         "bingroup": "x",
         "histfunc": "sum",
         "hovertemplate": "weapon_name=campingshelter<br>rule_name=area<br>stage_name=%{x}<br>sum of count=%{y}<extra></extra>",
         "legendgroup": "campingshelter",
         "marker": {
          "color": "#00cc96",
          "pattern": {
           "shape": ""
          }
         },
         "name": "campingshelter",
         "offsetgroup": "campingshelter",
         "orientation": "v",
         "showlegend": false,
         "type": "histogram",
         "x": [
          "kinmedai",
          "sumeshi"
         ],
         "xaxis": "x4",
         "y": [
          4,
          1
         ],
         "yaxis": "y4"
        },
        {
         "alignmentgroup": "True",
         "bingroup": "x",
         "histfunc": "sum",
         "hovertemplate": "weapon_name=campingshelter<br>rule_name=asari<br>stage_name=%{x}<br>sum of count=%{y}<extra></extra>",
         "legendgroup": "campingshelter",
         "marker": {
          "color": "#00cc96",
          "pattern": {
           "shape": ""
          }
         },
         "name": "campingshelter",
         "offsetgroup": "campingshelter",
         "orientation": "v",
         "showlegend": false,
         "type": "histogram",
         "x": [
          "yagara",
          "sumeshi"
         ],
         "xaxis": "x5",
         "y": [
          1,
          1
         ],
         "yaxis": "y5"
        },
        {
         "alignmentgroup": "True",
         "bingroup": "x",
         "histfunc": "sum",
         "hovertemplate": "weapon_name=bucketslosher<br>rule_name=yagura<br>stage_name=%{x}<br>sum of count=%{y}<extra></extra>",
         "legendgroup": "bucketslosher",
         "marker": {
          "color": "#ab63fa",
          "pattern": {
           "shape": ""
          }
         },
         "name": "bucketslosher",
         "offsetgroup": "bucketslosher",
         "orientation": "v",
         "showlegend": true,
         "type": "histogram",
         "x": [
          "hirame",
          "mategai",
          "kusaya",
          "yunohana",
          "namero",
          "mahimahi",
          "chozame"
         ],
         "xaxis": "x",
         "y": [
          2,
          2,
          1,
          1,
          1,
          1,
          1
         ],
         "yaxis": "y"
        },
        {
         "alignmentgroup": "True",
         "bingroup": "x",
         "histfunc": "sum",
         "hovertemplate": "weapon_name=bucketslosher<br>rule_name=hoko<br>stage_name=%{x}<br>sum of count=%{y}<extra></extra>",
         "legendgroup": "bucketslosher",
         "marker": {
          "color": "#ab63fa",
          "pattern": {
           "shape": ""
          }
         },
         "name": "bucketslosher",
         "offsetgroup": "bucketslosher",
         "orientation": "v",
         "showlegend": false,
         "type": "histogram",
         "x": [
          "kombu",
          "yunohana",
          "kusaya"
         ],
         "xaxis": "x2",
         "y": [
          2,
          1,
          1
         ],
         "yaxis": "y2"
        },
        {
         "alignmentgroup": "True",
         "bingroup": "x",
         "histfunc": "sum",
         "hovertemplate": "weapon_name=bucketslosher<br>rule_name=nawabari<br>stage_name=%{x}<br>sum of count=%{y}<extra></extra>",
         "legendgroup": "bucketslosher",
         "marker": {
          "color": "#ab63fa",
          "pattern": {
           "shape": ""
          }
         },
         "name": "bucketslosher",
         "offsetgroup": "bucketslosher",
         "orientation": "v",
         "showlegend": false,
         "type": "histogram",
         "x": [
          "mategai",
          "sumeshi"
         ],
         "xaxis": "x3",
         "y": [
          2,
          1
         ],
         "yaxis": "y3"
        },
        {
         "alignmentgroup": "True",
         "bingroup": "x",
         "histfunc": "sum",
         "hovertemplate": "weapon_name=bucketslosher<br>rule_name=area<br>stage_name=%{x}<br>sum of count=%{y}<extra></extra>",
         "legendgroup": "bucketslosher",
         "marker": {
          "color": "#ab63fa",
          "pattern": {
           "shape": ""
          }
         },
         "name": "bucketslosher",
         "offsetgroup": "bucketslosher",
         "orientation": "v",
         "showlegend": false,
         "type": "histogram",
         "x": [
          "mahimahi",
          "amabi",
          "masaba",
          "kombu"
         ],
         "xaxis": "x4",
         "y": [
          4,
          2,
          2,
          1
         ],
         "yaxis": "y4"
        },
        {
         "alignmentgroup": "True",
         "bingroup": "x",
         "histfunc": "sum",
         "hovertemplate": "weapon_name=bucketslosher<br>rule_name=asari<br>stage_name=%{x}<br>sum of count=%{y}<extra></extra>",
         "legendgroup": "bucketslosher",
         "marker": {
          "color": "#ab63fa",
          "pattern": {
           "shape": ""
          }
         },
         "name": "bucketslosher",
         "offsetgroup": "bucketslosher",
         "orientation": "v",
         "showlegend": false,
         "type": "histogram",
         "x": [
          "mahimahi",
          "yunohana"
         ],
         "xaxis": "x5",
         "y": [
          1,
          1
         ],
         "yaxis": "y5"
        },
        {
         "alignmentgroup": "True",
         "bingroup": "x",
         "histfunc": "sum",
         "hovertemplate": "weapon_name=pablo<br>rule_name=tricolor<br>stage_name=%{x}<br>sum of count=%{y}<extra></extra>",
         "legendgroup": "pablo",
         "marker": {
          "color": "#FFA15A",
          "pattern": {
           "shape": ""
          }
         },
         "name": "pablo",
         "offsetgroup": "pablo",
         "orientation": "v",
         "showlegend": true,
         "type": "histogram",
         "x": [
          "mategai"
         ],
         "xaxis": "x6",
         "y": [
          4
         ],
         "yaxis": "y6"
        },
        {
         "alignmentgroup": "True",
         "bingroup": "x",
         "histfunc": "sum",
         "hovertemplate": "weapon_name=nova<br>rule_name=yagura<br>stage_name=%{x}<br>sum of count=%{y}<extra></extra>",
         "legendgroup": "nova",
         "marker": {
          "color": "#19d3f3",
          "pattern": {
           "shape": ""
          }
         },
         "name": "nova",
         "offsetgroup": "nova",
         "orientation": "v",
         "showlegend": true,
         "type": "histogram",
         "x": [
          "hirame",
          "yagara"
         ],
         "xaxis": "x",
         "y": [
          4,
          1
         ],
         "yaxis": "y"
        },
        {
         "alignmentgroup": "True",
         "bingroup": "x",
         "histfunc": "sum",
         "hovertemplate": "weapon_name=maneuver<br>rule_name=yagura<br>stage_name=%{x}<br>sum of count=%{y}<extra></extra>",
         "legendgroup": "maneuver",
         "marker": {
          "color": "#FF6692",
          "pattern": {
           "shape": ""
          }
         },
         "name": "maneuver",
         "offsetgroup": "maneuver",
         "orientation": "v",
         "showlegend": true,
         "type": "histogram",
         "x": [
          "hirame"
         ],
         "xaxis": "x",
         "y": [
          1
         ],
         "yaxis": "y"
        },
        {
         "alignmentgroup": "True",
         "bingroup": "x",
         "histfunc": "sum",
         "hovertemplate": "weapon_name=maneuver<br>rule_name=nawabari<br>stage_name=%{x}<br>sum of count=%{y}<extra></extra>",
         "legendgroup": "maneuver",
         "marker": {
          "color": "#FF6692",
          "pattern": {
           "shape": ""
          }
         },
         "name": "maneuver",
         "offsetgroup": "maneuver",
         "orientation": "v",
         "showlegend": false,
         "type": "histogram",
         "x": [
          "sumeshi"
         ],
         "xaxis": "x3",
         "y": [
          3
         ],
         "yaxis": "y3"
        },
        {
         "alignmentgroup": "True",
         "bingroup": "x",
         "histfunc": "sum",
         "hovertemplate": "weapon_name=sshooter<br>rule_name=nawabari<br>stage_name=%{x}<br>sum of count=%{y}<extra></extra>",
         "legendgroup": "sshooter",
         "marker": {
          "color": "#B6E880",
          "pattern": {
           "shape": ""
          }
         },
         "name": "sshooter",
         "offsetgroup": "sshooter",
         "orientation": "v",
         "showlegend": true,
         "type": "histogram",
         "x": [
          "masaba",
          "sumeshi",
          "chozame",
          "yagara"
         ],
         "xaxis": "x3",
         "y": [
          3,
          3,
          2,
          1
         ],
         "yaxis": "y3"
        },
        {
         "alignmentgroup": "True",
         "bingroup": "x",
         "histfunc": "sum",
         "hovertemplate": "weapon_name=sshooter<br>rule_name=area<br>stage_name=%{x}<br>sum of count=%{y}<extra></extra>",
         "legendgroup": "sshooter",
         "marker": {
          "color": "#B6E880",
          "pattern": {
           "shape": ""
          }
         },
         "name": "sshooter",
         "offsetgroup": "sshooter",
         "orientation": "v",
         "showlegend": false,
         "type": "histogram",
         "x": [
          "kinmedai",
          "yagara"
         ],
         "xaxis": "x4",
         "y": [
          3,
          2
         ],
         "yaxis": "y4"
        },
        {
         "alignmentgroup": "True",
         "bingroup": "x",
         "histfunc": "sum",
         "hovertemplate": "weapon_name=parashelter<br>rule_name=yagura<br>stage_name=%{x}<br>sum of count=%{y}<extra></extra>",
         "legendgroup": "parashelter",
         "marker": {
          "color": "#FF97FF",
          "pattern": {
           "shape": ""
          }
         },
         "name": "parashelter",
         "offsetgroup": "parashelter",
         "orientation": "v",
         "showlegend": true,
         "type": "histogram",
         "x": [
          "hirame",
          "kusaya"
         ],
         "xaxis": "x",
         "y": [
          1,
          1
         ],
         "yaxis": "y"
        },
        {
         "alignmentgroup": "True",
         "bingroup": "x",
         "histfunc": "sum",
         "hovertemplate": "weapon_name=parashelter<br>rule_name=hoko<br>stage_name=%{x}<br>sum of count=%{y}<extra></extra>",
         "legendgroup": "parashelter",
         "marker": {
          "color": "#FF97FF",
          "pattern": {
           "shape": ""
          }
         },
         "name": "parashelter",
         "offsetgroup": "parashelter",
         "orientation": "v",
         "showlegend": false,
         "type": "histogram",
         "x": [
          "mategai",
          "amabi"
         ],
         "xaxis": "x2",
         "y": [
          3,
          3
         ],
         "yaxis": "y2"
        },
        {
         "alignmentgroup": "True",
         "bingroup": "x",
         "histfunc": "sum",
         "hovertemplate": "weapon_name=parashelter<br>rule_name=nawabari<br>stage_name=%{x}<br>sum of count=%{y}<extra></extra>",
         "legendgroup": "parashelter",
         "marker": {
          "color": "#FF97FF",
          "pattern": {
           "shape": ""
          }
         },
         "name": "parashelter",
         "offsetgroup": "parashelter",
         "orientation": "v",
         "showlegend": false,
         "type": "histogram",
         "x": [
          "kusaya"
         ],
         "xaxis": "x3",
         "y": [
          1
         ],
         "yaxis": "y3"
        },
        {
         "alignmentgroup": "True",
         "bingroup": "x",
         "histfunc": "sum",
         "hovertemplate": "weapon_name=wideroller<br>rule_name=nawabari<br>stage_name=%{x}<br>sum of count=%{y}<extra></extra>",
         "legendgroup": "wideroller",
         "marker": {
          "color": "#FECB52",
          "pattern": {
           "shape": ""
          }
         },
         "name": "wideroller",
         "offsetgroup": "wideroller",
         "orientation": "v",
         "showlegend": true,
         "type": "histogram",
         "x": [
          "sumeshi",
          "mahimahi",
          "zatou"
         ],
         "xaxis": "x3",
         "y": [
          2,
          1,
          1
         ],
         "yaxis": "y3"
        },
        {
         "alignmentgroup": "True",
         "bingroup": "x",
         "histfunc": "sum",
         "hovertemplate": "weapon_name=wideroller<br>rule_name=area<br>stage_name=%{x}<br>sum of count=%{y}<extra></extra>",
         "legendgroup": "wideroller",
         "marker": {
          "color": "#FECB52",
          "pattern": {
           "shape": ""
          }
         },
         "name": "wideroller",
         "offsetgroup": "wideroller",
         "orientation": "v",
         "showlegend": false,
         "type": "histogram",
         "x": [
          "gonzui",
          "yagara",
          "kinmedai"
         ],
         "xaxis": "x4",
         "y": [
          3,
          2,
          1
         ],
         "yaxis": "y4"
        },
        {
         "alignmentgroup": "True",
         "bingroup": "x",
         "histfunc": "sum",
         "hovertemplate": "weapon_name=bold<br>rule_name=nawabari<br>stage_name=%{x}<br>sum of count=%{y}<extra></extra>",
         "legendgroup": "bold",
         "marker": {
          "color": "#636efa",
          "pattern": {
           "shape": ""
          }
         },
         "name": "bold",
         "offsetgroup": "bold",
         "orientation": "v",
         "showlegend": true,
         "type": "histogram",
         "x": [
          "sumeshi",
          "chozame"
         ],
         "xaxis": "x3",
         "y": [
          2,
          1
         ],
         "yaxis": "y3"
        },
        {
         "alignmentgroup": "True",
         "bingroup": "x",
         "histfunc": "sum",
         "hovertemplate": "weapon_name=bold<br>rule_name=area<br>stage_name=%{x}<br>sum of count=%{y}<extra></extra>",
         "legendgroup": "bold",
         "marker": {
          "color": "#636efa",
          "pattern": {
           "shape": ""
          }
         },
         "name": "bold",
         "offsetgroup": "bold",
         "orientation": "v",
         "showlegend": false,
         "type": "histogram",
         "x": [
          "namero",
          "kinmedai",
          "sumeshi",
          "amabi"
         ],
         "xaxis": "x4",
         "y": [
          2,
          1,
          1,
          1
         ],
         "yaxis": "y4"
        },
        {
         "alignmentgroup": "True",
         "bingroup": "x",
         "histfunc": "sum",
         "hovertemplate": "weapon_name=bold<br>rule_name=asari<br>stage_name=%{x}<br>sum of count=%{y}<extra></extra>",
         "legendgroup": "bold",
         "marker": {
          "color": "#636efa",
          "pattern": {
           "shape": ""
          }
         },
         "name": "bold",
         "offsetgroup": "bold",
         "orientation": "v",
         "showlegend": false,
         "type": "histogram",
         "x": [
          "chozame",
          "kinmedai",
          "yagara"
         ],
         "xaxis": "x5",
         "y": [
          3,
          1,
          1
         ],
         "yaxis": "y5"
        },
        {
         "alignmentgroup": "True",
         "bingroup": "x",
         "histfunc": "sum",
         "hovertemplate": "weapon_name=hissen<br>rule_name=yagura<br>stage_name=%{x}<br>sum of count=%{y}<extra></extra>",
         "legendgroup": "hissen",
         "marker": {
          "color": "#EF553B",
          "pattern": {
           "shape": ""
          }
         },
         "name": "hissen",
         "offsetgroup": "hissen",
         "orientation": "v",
         "showlegend": true,
         "type": "histogram",
         "x": [
          "yunohana",
          "kusaya",
          "hirame"
         ],
         "xaxis": "x",
         "y": [
          3,
          2,
          2
         ],
         "yaxis": "y"
        },
        {
         "alignmentgroup": "True",
         "bingroup": "x",
         "histfunc": "sum",
         "hovertemplate": "weapon_name=hissen<br>rule_name=nawabari<br>stage_name=%{x}<br>sum of count=%{y}<extra></extra>",
         "legendgroup": "hissen",
         "marker": {
          "color": "#EF553B",
          "pattern": {
           "shape": ""
          }
         },
         "name": "hissen",
         "offsetgroup": "hissen",
         "orientation": "v",
         "showlegend": false,
         "type": "histogram",
         "x": [
          "mahimahi"
         ],
         "xaxis": "x3",
         "y": [
          1
         ],
         "yaxis": "y3"
        },
        {
         "alignmentgroup": "True",
         "bingroup": "x",
         "histfunc": "sum",
         "hovertemplate": "weapon_name=wakaba<br>rule_name=yagura<br>stage_name=%{x}<br>sum of count=%{y}<extra></extra>",
         "legendgroup": "wakaba",
         "marker": {
          "color": "#00cc96",
          "pattern": {
           "shape": ""
          }
         },
         "name": "wakaba",
         "offsetgroup": "wakaba",
         "orientation": "v",
         "showlegend": true,
         "type": "histogram",
         "x": [
          "kinmedai",
          "gonzui"
         ],
         "xaxis": "x",
         "y": [
          3,
          2
         ],
         "yaxis": "y"
        },
        {
         "alignmentgroup": "True",
         "bingroup": "x",
         "histfunc": "sum",
         "hovertemplate": "weapon_name=wakaba<br>rule_name=nawabari<br>stage_name=%{x}<br>sum of count=%{y}<extra></extra>",
         "legendgroup": "wakaba",
         "marker": {
          "color": "#00cc96",
          "pattern": {
           "shape": ""
          }
         },
         "name": "wakaba",
         "offsetgroup": "wakaba",
         "orientation": "v",
         "showlegend": false,
         "type": "histogram",
         "x": [
          "masaba",
          "kinmedai",
          "mahimahi"
         ],
         "xaxis": "x3",
         "y": [
          2,
          1,
          1
         ],
         "yaxis": "y3"
        },
        {
         "alignmentgroup": "True",
         "bingroup": "x",
         "histfunc": "sum",
         "hovertemplate": "weapon_name=dynamo<br>rule_name=yagura<br>stage_name=%{x}<br>sum of count=%{y}<extra></extra>",
         "legendgroup": "dynamo",
         "marker": {
          "color": "#ab63fa",
          "pattern": {
           "shape": ""
          }
         },
         "name": "dynamo",
         "offsetgroup": "dynamo",
         "orientation": "v",
         "showlegend": true,
         "type": "histogram",
         "x": [
          "gonzui"
         ],
         "xaxis": "x",
         "y": [
          1
         ],
         "yaxis": "y"
        },
        {
         "alignmentgroup": "True",
         "bingroup": "x",
         "histfunc": "sum",
         "hovertemplate": "weapon_name=dynamo<br>rule_name=hoko<br>stage_name=%{x}<br>sum of count=%{y}<extra></extra>",
         "legendgroup": "dynamo",
         "marker": {
          "color": "#ab63fa",
          "pattern": {
           "shape": ""
          }
         },
         "name": "dynamo",
         "offsetgroup": "dynamo",
         "orientation": "v",
         "showlegend": false,
         "type": "histogram",
         "x": [
          "amabi",
          "mategai"
         ],
         "xaxis": "x2",
         "y": [
          3,
          2
         ],
         "yaxis": "y2"
        },
        {
         "alignmentgroup": "True",
         "bingroup": "x",
         "histfunc": "sum",
         "hovertemplate": "weapon_name=dynamo<br>rule_name=nawabari<br>stage_name=%{x}<br>sum of count=%{y}<extra></extra>",
         "legendgroup": "dynamo",
         "marker": {
          "color": "#ab63fa",
          "pattern": {
           "shape": ""
          }
         },
         "name": "dynamo",
         "offsetgroup": "dynamo",
         "orientation": "v",
         "showlegend": false,
         "type": "histogram",
         "x": [
          "sumeshi"
         ],
         "xaxis": "x3",
         "y": [
          1
         ],
         "yaxis": "y3"
        },
        {
         "alignmentgroup": "True",
         "bingroup": "x",
         "histfunc": "sum",
         "hovertemplate": "weapon_name=sharp<br>rule_name=hoko<br>stage_name=%{x}<br>sum of count=%{y}<extra></extra>",
         "legendgroup": "sharp",
         "marker": {
          "color": "#FFA15A",
          "pattern": {
           "shape": ""
          }
         },
         "name": "sharp",
         "offsetgroup": "sharp",
         "orientation": "v",
         "showlegend": true,
         "type": "histogram",
         "x": [
          "amabi"
         ],
         "xaxis": "x2",
         "y": [
          1
         ],
         "yaxis": "y2"
        },
        {
         "alignmentgroup": "True",
         "bingroup": "x",
         "histfunc": "sum",
         "hovertemplate": "weapon_name=sharp<br>rule_name=nawabari<br>stage_name=%{x}<br>sum of count=%{y}<extra></extra>",
         "legendgroup": "sharp",
         "marker": {
          "color": "#FFA15A",
          "pattern": {
           "shape": ""
          }
         },
         "name": "sharp",
         "offsetgroup": "sharp",
         "orientation": "v",
         "showlegend": false,
         "type": "histogram",
         "x": [
          "yagara",
          "chozame",
          "kinmedai",
          "mahimahi"
         ],
         "xaxis": "x3",
         "y": [
          3,
          2,
          2,
          1
         ],
         "yaxis": "y3"
        },
        {
         "alignmentgroup": "True",
         "bingroup": "x",
         "histfunc": "sum",
         "hovertemplate": "weapon_name=drivewiper_deco<br>rule_name=yagura<br>stage_name=%{x}<br>sum of count=%{y}<extra></extra>",
         "legendgroup": "drivewiper_deco",
         "marker": {
          "color": "#19d3f3",
          "pattern": {
           "shape": ""
          }
         },
         "name": "drivewiper_deco",
         "offsetgroup": "drivewiper_deco",
         "orientation": "v",
         "showlegend": true,
         "type": "histogram",
         "x": [
          "hirame",
          "sumeshi"
         ],
         "xaxis": "x",
         "y": [
          2,
          2
         ],
         "yaxis": "y"
        },
        {
         "alignmentgroup": "True",
         "bingroup": "x",
         "histfunc": "sum",
         "hovertemplate": "weapon_name=drivewiper_deco<br>rule_name=area<br>stage_name=%{x}<br>sum of count=%{y}<extra></extra>",
         "legendgroup": "drivewiper_deco",
         "marker": {
          "color": "#19d3f3",
          "pattern": {
           "shape": ""
          }
         },
         "name": "drivewiper_deco",
         "offsetgroup": "drivewiper_deco",
         "orientation": "v",
         "showlegend": false,
         "type": "histogram",
         "x": [
          "masaba",
          "kombu"
         ],
         "xaxis": "x4",
         "y": [
          2,
          1
         ],
         "yaxis": "y4"
        },
        {
         "alignmentgroup": "True",
         "bingroup": "x",
         "histfunc": "sum",
         "hovertemplate": "weapon_name=drivewiper_deco<br>rule_name=asari<br>stage_name=%{x}<br>sum of count=%{y}<extra></extra>",
         "legendgroup": "drivewiper_deco",
         "marker": {
          "color": "#19d3f3",
          "pattern": {
           "shape": ""
          }
         },
         "name": "drivewiper_deco",
         "offsetgroup": "drivewiper_deco",
         "orientation": "v",
         "showlegend": false,
         "type": "histogram",
         "x": [
          "taraport",
          "mahimahi"
         ],
         "xaxis": "x5",
         "y": [
          2,
          1
         ],
         "yaxis": "y5"
        },
        {
         "alignmentgroup": "True",
         "bingroup": "x",
         "histfunc": "sum",
         "hovertemplate": "weapon_name=pablo_hue<br>rule_name=tricolor<br>stage_name=%{x}<br>sum of count=%{y}<extra></extra>",
         "legendgroup": "pablo_hue",
         "marker": {
          "color": "#FF6692",
          "pattern": {
           "shape": ""
          }
         },
         "name": "pablo_hue",
         "offsetgroup": "pablo_hue",
         "orientation": "v",
         "showlegend": true,
         "type": "histogram",
         "x": [
          "mategai"
         ],
         "xaxis": "x6",
         "y": [
          2
         ],
         "yaxis": "y6"
        },
        {
         "alignmentgroup": "True",
         "bingroup": "x",
         "histfunc": "sum",
         "hovertemplate": "weapon_name=liter4k<br>rule_name=hoko<br>stage_name=%{x}<br>sum of count=%{y}<extra></extra>",
         "legendgroup": "liter4k",
         "marker": {
          "color": "#B6E880",
          "pattern": {
           "shape": ""
          }
         },
         "name": "liter4k",
         "offsetgroup": "liter4k",
         "orientation": "v",
         "showlegend": true,
         "type": "histogram",
         "x": [
          "namero",
          "masaba"
         ],
         "xaxis": "x2",
         "y": [
          1,
          1
         ],
         "yaxis": "y2"
        },
        {
         "alignmentgroup": "True",
         "bingroup": "x",
         "histfunc": "sum",
         "hovertemplate": "weapon_name=liter4k<br>rule_name=nawabari<br>stage_name=%{x}<br>sum of count=%{y}<extra></extra>",
         "legendgroup": "liter4k",
         "marker": {
          "color": "#B6E880",
          "pattern": {
           "shape": ""
          }
         },
         "name": "liter4k",
         "offsetgroup": "liter4k",
         "orientation": "v",
         "showlegend": false,
         "type": "histogram",
         "x": [
          "namero",
          "gonzui",
          "chozame",
          "kinmedai",
          "sumeshi",
          "yagara"
         ],
         "xaxis": "x3",
         "y": [
          2,
          1,
          1,
          1,
          1,
          1
         ],
         "yaxis": "y3"
        },
        {
         "alignmentgroup": "True",
         "bingroup": "x",
         "histfunc": "sum",
         "hovertemplate": "weapon_name=kelvin525<br>rule_name=yagura<br>stage_name=%{x}<br>sum of count=%{y}<extra></extra>",
         "legendgroup": "kelvin525",
         "marker": {
          "color": "#FF97FF",
          "pattern": {
           "shape": ""
          }
         },
         "name": "kelvin525",
         "offsetgroup": "kelvin525",
         "orientation": "v",
         "showlegend": true,
         "type": "histogram",
         "x": [
          "chozame"
         ],
         "xaxis": "x",
         "y": [
          2
         ],
         "yaxis": "y"
        },
        {
         "alignmentgroup": "True",
         "bingroup": "x",
         "histfunc": "sum",
         "hovertemplate": "weapon_name=kelvin525<br>rule_name=nawabari<br>stage_name=%{x}<br>sum of count=%{y}<extra></extra>",
         "legendgroup": "kelvin525",
         "marker": {
          "color": "#FF97FF",
          "pattern": {
           "shape": ""
          }
         },
         "name": "kelvin525",
         "offsetgroup": "kelvin525",
         "orientation": "v",
         "showlegend": false,
         "type": "histogram",
         "x": [
          "masaba"
         ],
         "xaxis": "x3",
         "y": [
          1
         ],
         "yaxis": "y3"
        },
        {
         "alignmentgroup": "True",
         "bingroup": "x",
         "histfunc": "sum",
         "hovertemplate": "weapon_name=prime_collabo<br>rule_name=yagura<br>stage_name=%{x}<br>sum of count=%{y}<extra></extra>",
         "legendgroup": "prime_collabo",
         "marker": {
          "color": "#FECB52",
          "pattern": {
           "shape": ""
          }
         },
         "name": "prime_collabo",
         "offsetgroup": "prime_collabo",
         "orientation": "v",
         "showlegend": true,
         "type": "histogram",
         "x": [
          "kusaya"
         ],
         "xaxis": "x",
         "y": [
          2
         ],
         "yaxis": "y"
        },
        {
         "alignmentgroup": "True",
         "bingroup": "x",
         "histfunc": "sum",
         "hovertemplate": "weapon_name=prime_collabo<br>rule_name=hoko<br>stage_name=%{x}<br>sum of count=%{y}<extra></extra>",
         "legendgroup": "prime_collabo",
         "marker": {
          "color": "#FECB52",
          "pattern": {
           "shape": ""
          }
         },
         "name": "prime_collabo",
         "offsetgroup": "prime_collabo",
         "orientation": "v",
         "showlegend": false,
         "type": "histogram",
         "x": [
          "yunohana",
          "masaba"
         ],
         "xaxis": "x2",
         "y": [
          1,
          1
         ],
         "yaxis": "y2"
        },
        {
         "alignmentgroup": "True",
         "bingroup": "x",
         "histfunc": "sum",
         "hovertemplate": "weapon_name=prime_collabo<br>rule_name=nawabari<br>stage_name=%{x}<br>sum of count=%{y}<extra></extra>",
         "legendgroup": "prime_collabo",
         "marker": {
          "color": "#FECB52",
          "pattern": {
           "shape": ""
          }
         },
         "name": "prime_collabo",
         "offsetgroup": "prime_collabo",
         "orientation": "v",
         "showlegend": false,
         "type": "histogram",
         "x": [
          "zatou"
         ],
         "xaxis": "x3",
         "y": [
          1
         ],
         "yaxis": "y3"
        },
        {
         "alignmentgroup": "True",
         "bingroup": "x",
         "histfunc": "sum",
         "hovertemplate": "weapon_name=promodeler_rg<br>rule_name=yagura<br>stage_name=%{x}<br>sum of count=%{y}<extra></extra>",
         "legendgroup": "promodeler_rg",
         "marker": {
          "color": "#636efa",
          "pattern": {
           "shape": ""
          }
         },
         "name": "promodeler_rg",
         "offsetgroup": "promodeler_rg",
         "orientation": "v",
         "showlegend": true,
         "type": "histogram",
         "x": [
          "kinmedai",
          "manta"
         ],
         "xaxis": "x",
         "y": [
          2,
          1
         ],
         "yaxis": "y"
        },
        {
         "alignmentgroup": "True",
         "bingroup": "x",
         "histfunc": "sum",
         "hovertemplate": "weapon_name=clashblaster_neo<br>rule_name=yagura<br>stage_name=%{x}<br>sum of count=%{y}<extra></extra>",
         "legendgroup": "clashblaster_neo",
         "marker": {
          "color": "#EF553B",
          "pattern": {
           "shape": ""
          }
         },
         "name": "clashblaster_neo",
         "offsetgroup": "clashblaster_neo",
         "orientation": "v",
         "showlegend": true,
         "type": "histogram",
         "x": [
          "masaba"
         ],
         "xaxis": "x",
         "y": [
          2
         ],
         "yaxis": "y"
        },
        {
         "alignmentgroup": "True",
         "bingroup": "x",
         "histfunc": "sum",
         "hovertemplate": "weapon_name=bottlegeyser<br>rule_name=nawabari<br>stage_name=%{x}<br>sum of count=%{y}<extra></extra>",
         "legendgroup": "bottlegeyser",
         "marker": {
          "color": "#00cc96",
          "pattern": {
           "shape": ""
          }
         },
         "name": "bottlegeyser",
         "offsetgroup": "bottlegeyser",
         "orientation": "v",
         "showlegend": true,
         "type": "histogram",
         "x": [
          "amabi"
         ],
         "xaxis": "x3",
         "y": [
          2
         ],
         "yaxis": "y3"
        },
        {
         "alignmentgroup": "True",
         "bingroup": "x",
         "histfunc": "sum",
         "hovertemplate": "weapon_name=dualsweeper<br>rule_name=asari<br>stage_name=%{x}<br>sum of count=%{y}<extra></extra>",
         "legendgroup": "dualsweeper",
         "marker": {
          "color": "#ab63fa",
          "pattern": {
           "shape": ""
          }
         },
         "name": "dualsweeper",
         "offsetgroup": "dualsweeper",
         "orientation": "v",
         "showlegend": true,
         "type": "histogram",
         "x": [
          "sumeshi",
          "yagara"
         ],
         "xaxis": "x5",
         "y": [
          2,
          1
         ],
         "yaxis": "y5"
        },
        {
         "alignmentgroup": "True",
         "bingroup": "x",
         "histfunc": "sum",
         "hovertemplate": "weapon_name=momiji<br>rule_name=nawabari<br>stage_name=%{x}<br>sum of count=%{y}<extra></extra>",
         "legendgroup": "momiji",
         "marker": {
          "color": "#FFA15A",
          "pattern": {
           "shape": ""
          }
         },
         "name": "momiji",
         "offsetgroup": "momiji",
         "orientation": "v",
         "showlegend": true,
         "type": "histogram",
         "x": [
          "sumeshi"
         ],
         "xaxis": "x3",
         "y": [
          1
         ],
         "yaxis": "y3"
        },
        {
         "alignmentgroup": "True",
         "bingroup": "x",
         "histfunc": "sum",
         "hovertemplate": "weapon_name=momiji<br>rule_name=area<br>stage_name=%{x}<br>sum of count=%{y}<extra></extra>",
         "legendgroup": "momiji",
         "marker": {
          "color": "#FFA15A",
          "pattern": {
           "shape": ""
          }
         },
         "name": "momiji",
         "offsetgroup": "momiji",
         "orientation": "v",
         "showlegend": false,
         "type": "histogram",
         "x": [
          "mahimahi",
          "nampla"
         ],
         "xaxis": "x4",
         "y": [
          2,
          1
         ],
         "yaxis": "y4"
        },
        {
         "alignmentgroup": "True",
         "bingroup": "x",
         "histfunc": "sum",
         "hovertemplate": "weapon_name=rapid<br>rule_name=yagura<br>stage_name=%{x}<br>sum of count=%{y}<extra></extra>",
         "legendgroup": "rapid",
         "marker": {
          "color": "#19d3f3",
          "pattern": {
           "shape": ""
          }
         },
         "name": "rapid",
         "offsetgroup": "rapid",
         "orientation": "v",
         "showlegend": true,
         "type": "histogram",
         "x": [
          "namero",
          "hirame"
         ],
         "xaxis": "x",
         "y": [
          1,
          1
         ],
         "yaxis": "y"
        },
        {
         "alignmentgroup": "True",
         "bingroup": "x",
         "histfunc": "sum",
         "hovertemplate": "weapon_name=campingshelter_sorella<br>rule_name=asari<br>stage_name=%{x}<br>sum of count=%{y}<extra></extra>",
         "legendgroup": "campingshelter_sorella",
         "marker": {
          "color": "#FF6692",
          "pattern": {
           "shape": ""
          }
         },
         "name": "campingshelter_sorella",
         "offsetgroup": "campingshelter_sorella",
         "orientation": "v",
         "showlegend": true,
         "type": "histogram",
         "x": [
          "mahimahi"
         ],
         "xaxis": "x5",
         "y": [
          1
         ],
         "yaxis": "y5"
        },
        {
         "alignmentgroup": "True",
         "bingroup": "x",
         "histfunc": "sum",
         "hovertemplate": "weapon_name=barrelspinner_deco<br>rule_name=asari<br>stage_name=%{x}<br>sum of count=%{y}<extra></extra>",
         "legendgroup": "barrelspinner_deco",
         "marker": {
          "color": "#B6E880",
          "pattern": {
           "shape": ""
          }
         },
         "name": "barrelspinner_deco",
         "offsetgroup": "barrelspinner_deco",
         "orientation": "v",
         "showlegend": true,
         "type": "histogram",
         "x": [
          "mahimahi"
         ],
         "xaxis": "x5",
         "y": [
          1
         ],
         "yaxis": "y5"
        },
        {
         "alignmentgroup": "True",
         "bingroup": "x",
         "histfunc": "sum",
         "hovertemplate": "weapon_name=dualsweeper_custom<br>rule_name=yagura<br>stage_name=%{x}<br>sum of count=%{y}<extra></extra>",
         "legendgroup": "dualsweeper_custom",
         "marker": {
          "color": "#FF97FF",
          "pattern": {
           "shape": ""
          }
         },
         "name": "dualsweeper_custom",
         "offsetgroup": "dualsweeper_custom",
         "orientation": "v",
         "showlegend": true,
         "type": "histogram",
         "x": [
          "namero",
          "chozame"
         ],
         "xaxis": "x",
         "y": [
          1,
          1
         ],
         "yaxis": "y"
        },
        {
         "alignmentgroup": "True",
         "bingroup": "x",
         "histfunc": "sum",
         "hovertemplate": "weapon_name=dualsweeper_custom<br>rule_name=asari<br>stage_name=%{x}<br>sum of count=%{y}<extra></extra>",
         "legendgroup": "dualsweeper_custom",
         "marker": {
          "color": "#FF97FF",
          "pattern": {
           "shape": ""
          }
         },
         "name": "dualsweeper_custom",
         "offsetgroup": "dualsweeper_custom",
         "orientation": "v",
         "showlegend": false,
         "type": "histogram",
         "x": [
          "mahimahi",
          "taraport"
         ],
         "xaxis": "x5",
         "y": [
          1,
          1
         ],
         "yaxis": "y5"
        },
        {
         "alignmentgroup": "True",
         "bingroup": "x",
         "histfunc": "sum",
         "hovertemplate": "weapon_name=sblast92<br>rule_name=area<br>stage_name=%{x}<br>sum of count=%{y}<extra></extra>",
         "legendgroup": "sblast92",
         "marker": {
          "color": "#FECB52",
          "pattern": {
           "shape": ""
          }
         },
         "name": "sblast92",
         "offsetgroup": "sblast92",
         "orientation": "v",
         "showlegend": true,
         "type": "histogram",
         "x": [
          "masaba"
         ],
         "xaxis": "x4",
         "y": [
          1
         ],
         "yaxis": "y4"
        },
        {
         "alignmentgroup": "True",
         "bingroup": "x",
         "histfunc": "sum",
         "hovertemplate": "weapon_name=spaceshooter_collabo<br>rule_name=asari<br>stage_name=%{x}<br>sum of count=%{y}<extra></extra>",
         "legendgroup": "spaceshooter_collabo",
         "marker": {
          "color": "#636efa",
          "pattern": {
           "shape": ""
          }
         },
         "name": "spaceshooter_collabo",
         "offsetgroup": "spaceshooter_collabo",
         "orientation": "v",
         "showlegend": true,
         "type": "histogram",
         "x": [
          "mahimahi"
         ],
         "xaxis": "x5",
         "y": [
          1
         ],
         "yaxis": "y5"
        },
        {
         "alignmentgroup": "True",
         "bingroup": "x",
         "histfunc": "sum",
         "hovertemplate": "weapon_name=splatcharger<br>rule_name=nawabari<br>stage_name=%{x}<br>sum of count=%{y}<extra></extra>",
         "legendgroup": "splatcharger",
         "marker": {
          "color": "#EF553B",
          "pattern": {
           "shape": ""
          }
         },
         "name": "splatcharger",
         "offsetgroup": "splatcharger",
         "orientation": "v",
         "showlegend": true,
         "type": "histogram",
         "x": [
          "namero"
         ],
         "xaxis": "x3",
         "y": [
          1
         ],
         "yaxis": "y3"
        },
        {
         "alignmentgroup": "True",
         "bingroup": "x",
         "histfunc": "sum",
         "hovertemplate": "weapon_name=explosher<br>rule_name=nawabari<br>stage_name=%{x}<br>sum of count=%{y}<extra></extra>",
         "legendgroup": "explosher",
         "marker": {
          "color": "#00cc96",
          "pattern": {
           "shape": ""
          }
         },
         "name": "explosher",
         "offsetgroup": "explosher",
         "orientation": "v",
         "showlegend": true,
         "type": "histogram",
         "x": [
          "mahimahi"
         ],
         "xaxis": "x3",
         "y": [
          1
         ],
         "yaxis": "y3"
        },
        {
         "alignmentgroup": "True",
         "bingroup": "x",
         "histfunc": "sum",
         "hovertemplate": "weapon_name=promodeler_mg<br>rule_name=nawabari<br>stage_name=%{x}<br>sum of count=%{y}<extra></extra>",
         "legendgroup": "promodeler_mg",
         "marker": {
          "color": "#ab63fa",
          "pattern": {
           "shape": ""
          }
         },
         "name": "promodeler_mg",
         "offsetgroup": "promodeler_mg",
         "orientation": "v",
         "showlegend": true,
         "type": "histogram",
         "x": [
          "kinmedai",
          "mahimahi"
         ],
         "xaxis": "x3",
         "y": [
          1,
          1
         ],
         "yaxis": "y3"
        },
        {
         "alignmentgroup": "True",
         "bingroup": "x",
         "histfunc": "sum",
         "hovertemplate": "weapon_name=jimuwiper<br>rule_name=nawabari<br>stage_name=%{x}<br>sum of count=%{y}<extra></extra>",
         "legendgroup": "jimuwiper",
         "marker": {
          "color": "#FFA15A",
          "pattern": {
           "shape": ""
          }
         },
         "name": "jimuwiper",
         "offsetgroup": "jimuwiper",
         "orientation": "v",
         "showlegend": true,
         "type": "histogram",
         "x": [
          "mahimahi",
          "yunohana"
         ],
         "xaxis": "x3",
         "y": [
          1,
          1
         ],
         "yaxis": "y3"
        },
        {
         "alignmentgroup": "True",
         "bingroup": "x",
         "histfunc": "sum",
         "hovertemplate": "weapon_name=lact450<br>rule_name=nawabari<br>stage_name=%{x}<br>sum of count=%{y}<extra></extra>",
         "legendgroup": "lact450",
         "marker": {
          "color": "#19d3f3",
          "pattern": {
           "shape": ""
          }
         },
         "name": "lact450",
         "offsetgroup": "lact450",
         "orientation": "v",
         "showlegend": true,
         "type": "histogram",
         "x": [
          "kinmedai"
         ],
         "xaxis": "x3",
         "y": [
          1
         ],
         "yaxis": "y3"
        },
        {
         "alignmentgroup": "True",
         "bingroup": "x",
         "histfunc": "sum",
         "hovertemplate": "weapon_name=fincent<br>rule_name=asari<br>stage_name=%{x}<br>sum of count=%{y}<extra></extra>",
         "legendgroup": "fincent",
         "marker": {
          "color": "#FF6692",
          "pattern": {
           "shape": ""
          }
         },
         "name": "fincent",
         "offsetgroup": "fincent",
         "orientation": "v",
         "showlegend": true,
         "type": "histogram",
         "x": [
          "taraport"
         ],
         "xaxis": "x5",
         "y": [
          1
         ],
         "yaxis": "y5"
        },
        {
         "alignmentgroup": "True",
         "bingroup": "x",
         "histfunc": "sum",
         "hovertemplate": "weapon_name=rpen_5h<br>rule_name=nawabari<br>stage_name=%{x}<br>sum of count=%{y}<extra></extra>",
         "legendgroup": "rpen_5h",
         "marker": {
          "color": "#B6E880",
          "pattern": {
           "shape": ""
          }
         },
         "name": "rpen_5h",
         "offsetgroup": "rpen_5h",
         "orientation": "v",
         "showlegend": true,
         "type": "histogram",
         "x": [
          "sumeshi"
         ],
         "xaxis": "x3",
         "y": [
          1
         ],
         "yaxis": "y3"
        }
       ],
       "layout": {
        "annotations": [
         {
          "font": {},
          "showarrow": false,
          "text": "rule_name=yagura",
          "x": 0.075,
          "xanchor": "center",
          "xref": "paper",
          "y": 1,
          "yanchor": "bottom",
          "yref": "paper"
         },
         {
          "font": {},
          "showarrow": false,
          "text": "rule_name=hoko",
          "x": 0.24499999999999997,
          "xanchor": "center",
          "xref": "paper",
          "y": 1,
          "yanchor": "bottom",
          "yref": "paper"
         },
         {
          "font": {},
          "showarrow": false,
          "text": "rule_name=nawabari",
          "x": 0.415,
          "xanchor": "center",
          "xref": "paper",
          "y": 1,
          "yanchor": "bottom",
          "yref": "paper"
         },
         {
          "font": {},
          "showarrow": false,
          "text": "rule_name=area",
          "x": 0.585,
          "xanchor": "center",
          "xref": "paper",
          "y": 1,
          "yanchor": "bottom",
          "yref": "paper"
         },
         {
          "font": {},
          "showarrow": false,
          "text": "rule_name=asari",
          "x": 0.7549999999999999,
          "xanchor": "center",
          "xref": "paper",
          "y": 1,
          "yanchor": "bottom",
          "yref": "paper"
         },
         {
          "font": {},
          "showarrow": false,
          "text": "rule_name=tricolor",
          "x": 0.925,
          "xanchor": "center",
          "xref": "paper",
          "y": 1,
          "yanchor": "bottom",
          "yref": "paper"
         }
        ],
        "barmode": "relative",
        "height": 800,
        "legend": {
         "title": {
          "text": "weapon_name"
         },
         "tracegroupgap": 0
        },
        "margin": {
         "t": 60
        },
        "template": {
         "data": {
          "bar": [
           {
            "error_x": {
             "color": "#2a3f5f"
            },
            "error_y": {
             "color": "#2a3f5f"
            },
            "marker": {
             "line": {
              "color": "#E5ECF6",
              "width": 0.5
             },
             "pattern": {
              "fillmode": "overlay",
              "size": 10,
              "solidity": 0.2
             }
            },
            "type": "bar"
           }
          ],
          "barpolar": [
           {
            "marker": {
             "line": {
              "color": "#E5ECF6",
              "width": 0.5
             },
             "pattern": {
              "fillmode": "overlay",
              "size": 10,
              "solidity": 0.2
             }
            },
            "type": "barpolar"
           }
          ],
          "carpet": [
           {
            "aaxis": {
             "endlinecolor": "#2a3f5f",
             "gridcolor": "white",
             "linecolor": "white",
             "minorgridcolor": "white",
             "startlinecolor": "#2a3f5f"
            },
            "baxis": {
             "endlinecolor": "#2a3f5f",
             "gridcolor": "white",
             "linecolor": "white",
             "minorgridcolor": "white",
             "startlinecolor": "#2a3f5f"
            },
            "type": "carpet"
           }
          ],
          "choropleth": [
           {
            "colorbar": {
             "outlinewidth": 0,
             "ticks": ""
            },
            "type": "choropleth"
           }
          ],
          "contour": [
           {
            "colorbar": {
             "outlinewidth": 0,
             "ticks": ""
            },
            "colorscale": [
             [
              0,
              "#0d0887"
             ],
             [
              0.1111111111111111,
              "#46039f"
             ],
             [
              0.2222222222222222,
              "#7201a8"
             ],
             [
              0.3333333333333333,
              "#9c179e"
             ],
             [
              0.4444444444444444,
              "#bd3786"
             ],
             [
              0.5555555555555556,
              "#d8576b"
             ],
             [
              0.6666666666666666,
              "#ed7953"
             ],
             [
              0.7777777777777778,
              "#fb9f3a"
             ],
             [
              0.8888888888888888,
              "#fdca26"
             ],
             [
              1,
              "#f0f921"
             ]
            ],
            "type": "contour"
           }
          ],
          "contourcarpet": [
           {
            "colorbar": {
             "outlinewidth": 0,
             "ticks": ""
            },
            "type": "contourcarpet"
           }
          ],
          "heatmap": [
           {
            "colorbar": {
             "outlinewidth": 0,
             "ticks": ""
            },
            "colorscale": [
             [
              0,
              "#0d0887"
             ],
             [
              0.1111111111111111,
              "#46039f"
             ],
             [
              0.2222222222222222,
              "#7201a8"
             ],
             [
              0.3333333333333333,
              "#9c179e"
             ],
             [
              0.4444444444444444,
              "#bd3786"
             ],
             [
              0.5555555555555556,
              "#d8576b"
             ],
             [
              0.6666666666666666,
              "#ed7953"
             ],
             [
              0.7777777777777778,
              "#fb9f3a"
             ],
             [
              0.8888888888888888,
              "#fdca26"
             ],
             [
              1,
              "#f0f921"
             ]
            ],
            "type": "heatmap"
           }
          ],
          "heatmapgl": [
           {
            "colorbar": {
             "outlinewidth": 0,
             "ticks": ""
            },
            "colorscale": [
             [
              0,
              "#0d0887"
             ],
             [
              0.1111111111111111,
              "#46039f"
             ],
             [
              0.2222222222222222,
              "#7201a8"
             ],
             [
              0.3333333333333333,
              "#9c179e"
             ],
             [
              0.4444444444444444,
              "#bd3786"
             ],
             [
              0.5555555555555556,
              "#d8576b"
             ],
             [
              0.6666666666666666,
              "#ed7953"
             ],
             [
              0.7777777777777778,
              "#fb9f3a"
             ],
             [
              0.8888888888888888,
              "#fdca26"
             ],
             [
              1,
              "#f0f921"
             ]
            ],
            "type": "heatmapgl"
           }
          ],
          "histogram": [
           {
            "marker": {
             "pattern": {
              "fillmode": "overlay",
              "size": 10,
              "solidity": 0.2
             }
            },
            "type": "histogram"
           }
          ],
          "histogram2d": [
           {
            "colorbar": {
             "outlinewidth": 0,
             "ticks": ""
            },
            "colorscale": [
             [
              0,
              "#0d0887"
             ],
             [
              0.1111111111111111,
              "#46039f"
             ],
             [
              0.2222222222222222,
              "#7201a8"
             ],
             [
              0.3333333333333333,
              "#9c179e"
             ],
             [
              0.4444444444444444,
              "#bd3786"
             ],
             [
              0.5555555555555556,
              "#d8576b"
             ],
             [
              0.6666666666666666,
              "#ed7953"
             ],
             [
              0.7777777777777778,
              "#fb9f3a"
             ],
             [
              0.8888888888888888,
              "#fdca26"
             ],
             [
              1,
              "#f0f921"
             ]
            ],
            "type": "histogram2d"
           }
          ],
          "histogram2dcontour": [
           {
            "colorbar": {
             "outlinewidth": 0,
             "ticks": ""
            },
            "colorscale": [
             [
              0,
              "#0d0887"
             ],
             [
              0.1111111111111111,
              "#46039f"
             ],
             [
              0.2222222222222222,
              "#7201a8"
             ],
             [
              0.3333333333333333,
              "#9c179e"
             ],
             [
              0.4444444444444444,
              "#bd3786"
             ],
             [
              0.5555555555555556,
              "#d8576b"
             ],
             [
              0.6666666666666666,
              "#ed7953"
             ],
             [
              0.7777777777777778,
              "#fb9f3a"
             ],
             [
              0.8888888888888888,
              "#fdca26"
             ],
             [
              1,
              "#f0f921"
             ]
            ],
            "type": "histogram2dcontour"
           }
          ],
          "mesh3d": [
           {
            "colorbar": {
             "outlinewidth": 0,
             "ticks": ""
            },
            "type": "mesh3d"
           }
          ],
          "parcoords": [
           {
            "line": {
             "colorbar": {
              "outlinewidth": 0,
              "ticks": ""
             }
            },
            "type": "parcoords"
           }
          ],
          "pie": [
           {
            "automargin": true,
            "type": "pie"
           }
          ],
          "scatter": [
           {
            "fillpattern": {
             "fillmode": "overlay",
             "size": 10,
             "solidity": 0.2
            },
            "type": "scatter"
           }
          ],
          "scatter3d": [
           {
            "line": {
             "colorbar": {
              "outlinewidth": 0,
              "ticks": ""
             }
            },
            "marker": {
             "colorbar": {
              "outlinewidth": 0,
              "ticks": ""
             }
            },
            "type": "scatter3d"
           }
          ],
          "scattercarpet": [
           {
            "marker": {
             "colorbar": {
              "outlinewidth": 0,
              "ticks": ""
             }
            },
            "type": "scattercarpet"
           }
          ],
          "scattergeo": [
           {
            "marker": {
             "colorbar": {
              "outlinewidth": 0,
              "ticks": ""
             }
            },
            "type": "scattergeo"
           }
          ],
          "scattergl": [
           {
            "marker": {
             "colorbar": {
              "outlinewidth": 0,
              "ticks": ""
             }
            },
            "type": "scattergl"
           }
          ],
          "scattermapbox": [
           {
            "marker": {
             "colorbar": {
              "outlinewidth": 0,
              "ticks": ""
             }
            },
            "type": "scattermapbox"
           }
          ],
          "scatterpolar": [
           {
            "marker": {
             "colorbar": {
              "outlinewidth": 0,
              "ticks": ""
             }
            },
            "type": "scatterpolar"
           }
          ],
          "scatterpolargl": [
           {
            "marker": {
             "colorbar": {
              "outlinewidth": 0,
              "ticks": ""
             }
            },
            "type": "scatterpolargl"
           }
          ],
          "scatterternary": [
           {
            "marker": {
             "colorbar": {
              "outlinewidth": 0,
              "ticks": ""
             }
            },
            "type": "scatterternary"
           }
          ],
          "surface": [
           {
            "colorbar": {
             "outlinewidth": 0,
             "ticks": ""
            },
            "colorscale": [
             [
              0,
              "#0d0887"
             ],
             [
              0.1111111111111111,
              "#46039f"
             ],
             [
              0.2222222222222222,
              "#7201a8"
             ],
             [
              0.3333333333333333,
              "#9c179e"
             ],
             [
              0.4444444444444444,
              "#bd3786"
             ],
             [
              0.5555555555555556,
              "#d8576b"
             ],
             [
              0.6666666666666666,
              "#ed7953"
             ],
             [
              0.7777777777777778,
              "#fb9f3a"
             ],
             [
              0.8888888888888888,
              "#fdca26"
             ],
             [
              1,
              "#f0f921"
             ]
            ],
            "type": "surface"
           }
          ],
          "table": [
           {
            "cells": {
             "fill": {
              "color": "#EBF0F8"
             },
             "line": {
              "color": "white"
             }
            },
            "header": {
             "fill": {
              "color": "#C8D4E3"
             },
             "line": {
              "color": "white"
             }
            },
            "type": "table"
           }
          ]
         },
         "layout": {
          "annotationdefaults": {
           "arrowcolor": "#2a3f5f",
           "arrowhead": 0,
           "arrowwidth": 1
          },
          "autotypenumbers": "strict",
          "coloraxis": {
           "colorbar": {
            "outlinewidth": 0,
            "ticks": ""
           }
          },
          "colorscale": {
           "diverging": [
            [
             0,
             "#8e0152"
            ],
            [
             0.1,
             "#c51b7d"
            ],
            [
             0.2,
             "#de77ae"
            ],
            [
             0.3,
             "#f1b6da"
            ],
            [
             0.4,
             "#fde0ef"
            ],
            [
             0.5,
             "#f7f7f7"
            ],
            [
             0.6,
             "#e6f5d0"
            ],
            [
             0.7,
             "#b8e186"
            ],
            [
             0.8,
             "#7fbc41"
            ],
            [
             0.9,
             "#4d9221"
            ],
            [
             1,
             "#276419"
            ]
           ],
           "sequential": [
            [
             0,
             "#0d0887"
            ],
            [
             0.1111111111111111,
             "#46039f"
            ],
            [
             0.2222222222222222,
             "#7201a8"
            ],
            [
             0.3333333333333333,
             "#9c179e"
            ],
            [
             0.4444444444444444,
             "#bd3786"
            ],
            [
             0.5555555555555556,
             "#d8576b"
            ],
            [
             0.6666666666666666,
             "#ed7953"
            ],
            [
             0.7777777777777778,
             "#fb9f3a"
            ],
            [
             0.8888888888888888,
             "#fdca26"
            ],
            [
             1,
             "#f0f921"
            ]
           ],
           "sequentialminus": [
            [
             0,
             "#0d0887"
            ],
            [
             0.1111111111111111,
             "#46039f"
            ],
            [
             0.2222222222222222,
             "#7201a8"
            ],
            [
             0.3333333333333333,
             "#9c179e"
            ],
            [
             0.4444444444444444,
             "#bd3786"
            ],
            [
             0.5555555555555556,
             "#d8576b"
            ],
            [
             0.6666666666666666,
             "#ed7953"
            ],
            [
             0.7777777777777778,
             "#fb9f3a"
            ],
            [
             0.8888888888888888,
             "#fdca26"
            ],
            [
             1,
             "#f0f921"
            ]
           ]
          },
          "colorway": [
           "#636efa",
           "#EF553B",
           "#00cc96",
           "#ab63fa",
           "#FFA15A",
           "#19d3f3",
           "#FF6692",
           "#B6E880",
           "#FF97FF",
           "#FECB52"
          ],
          "font": {
           "color": "#2a3f5f"
          },
          "geo": {
           "bgcolor": "white",
           "lakecolor": "white",
           "landcolor": "#E5ECF6",
           "showlakes": true,
           "showland": true,
           "subunitcolor": "white"
          },
          "hoverlabel": {
           "align": "left"
          },
          "hovermode": "closest",
          "mapbox": {
           "style": "light"
          },
          "paper_bgcolor": "white",
          "plot_bgcolor": "#E5ECF6",
          "polar": {
           "angularaxis": {
            "gridcolor": "white",
            "linecolor": "white",
            "ticks": ""
           },
           "bgcolor": "#E5ECF6",
           "radialaxis": {
            "gridcolor": "white",
            "linecolor": "white",
            "ticks": ""
           }
          },
          "scene": {
           "xaxis": {
            "backgroundcolor": "#E5ECF6",
            "gridcolor": "white",
            "gridwidth": 2,
            "linecolor": "white",
            "showbackground": true,
            "ticks": "",
            "zerolinecolor": "white"
           },
           "yaxis": {
            "backgroundcolor": "#E5ECF6",
            "gridcolor": "white",
            "gridwidth": 2,
            "linecolor": "white",
            "showbackground": true,
            "ticks": "",
            "zerolinecolor": "white"
           },
           "zaxis": {
            "backgroundcolor": "#E5ECF6",
            "gridcolor": "white",
            "gridwidth": 2,
            "linecolor": "white",
            "showbackground": true,
            "ticks": "",
            "zerolinecolor": "white"
           }
          },
          "shapedefaults": {
           "line": {
            "color": "#2a3f5f"
           }
          },
          "ternary": {
           "aaxis": {
            "gridcolor": "white",
            "linecolor": "white",
            "ticks": ""
           },
           "baxis": {
            "gridcolor": "white",
            "linecolor": "white",
            "ticks": ""
           },
           "bgcolor": "#E5ECF6",
           "caxis": {
            "gridcolor": "white",
            "linecolor": "white",
            "ticks": ""
           }
          },
          "title": {
           "x": 0.05
          },
          "xaxis": {
           "automargin": true,
           "gridcolor": "white",
           "linecolor": "white",
           "ticks": "",
           "title": {
            "standoff": 15
           },
           "zerolinecolor": "white",
           "zerolinewidth": 2
          },
          "yaxis": {
           "automargin": true,
           "gridcolor": "white",
           "linecolor": "white",
           "ticks": "",
           "title": {
            "standoff": 15
           },
           "zerolinecolor": "white",
           "zerolinewidth": 2
          }
         }
        },
        "xaxis": {
         "anchor": "y",
         "domain": [
          0,
          0.15
         ],
         "title": {
          "text": "stage_name"
         }
        },
        "xaxis2": {
         "anchor": "y2",
         "domain": [
          0.16999999999999998,
          0.31999999999999995
         ],
         "matches": "x",
         "title": {
          "text": "stage_name"
         }
        },
        "xaxis3": {
         "anchor": "y3",
         "domain": [
          0.33999999999999997,
          0.49
         ],
         "matches": "x",
         "title": {
          "text": "stage_name"
         }
        },
        "xaxis4": {
         "anchor": "y4",
         "domain": [
          0.51,
          0.66
         ],
         "matches": "x",
         "title": {
          "text": "stage_name"
         }
        },
        "xaxis5": {
         "anchor": "y5",
         "domain": [
          0.6799999999999999,
          0.83
         ],
         "matches": "x",
         "title": {
          "text": "stage_name"
         }
        },
        "xaxis6": {
         "anchor": "y6",
         "domain": [
          0.85,
          1
         ],
         "matches": "x",
         "title": {
          "text": "stage_name"
         }
        },
        "yaxis": {
         "anchor": "x",
         "domain": [
          0,
          1
         ],
         "title": {
          "text": "sum of count"
         }
        },
        "yaxis2": {
         "anchor": "x2",
         "domain": [
          0,
          1
         ],
         "matches": "y",
         "showticklabels": false
        },
        "yaxis3": {
         "anchor": "x3",
         "domain": [
          0,
          1
         ],
         "matches": "y",
         "showticklabels": false
        },
        "yaxis4": {
         "anchor": "x4",
         "domain": [
          0,
          1
         ],
         "matches": "y",
         "showticklabels": false
        },
        "yaxis5": {
         "anchor": "x5",
         "domain": [
          0,
          1
         ],
         "matches": "y",
         "showticklabels": false
        },
        "yaxis6": {
         "anchor": "x6",
         "domain": [
          0,
          1
         ],
         "matches": "y",
         "showticklabels": false
        }
       }
      },
      "text/html": [
       "<div>                            <div id=\"06fdee2b-8c5f-4cb7-a710-448f3823b53a\" class=\"plotly-graph-div\" style=\"height:800px; width:100%;\"></div>            <script type=\"text/javascript\">                require([\"plotly\"], function(Plotly) {                    window.PLOTLYENV=window.PLOTLYENV || {};                                    if (document.getElementById(\"06fdee2b-8c5f-4cb7-a710-448f3823b53a\")) {                    Plotly.newPlot(                        \"06fdee2b-8c5f-4cb7-a710-448f3823b53a\",                        [{\"alignmentgroup\":\"True\",\"bingroup\":\"x\",\"histfunc\":\"sum\",\"hovertemplate\":\"weapon_name=clashblaster\\u003cbr\\u003erule_name=yagura\\u003cbr\\u003estage_name=%{x}\\u003cbr\\u003esum of count=%{y}\\u003cextra\\u003e\\u003c\\u002fextra\\u003e\",\"legendgroup\":\"clashblaster\",\"marker\":{\"color\":\"#636efa\",\"pattern\":{\"shape\":\"\"}},\"name\":\"clashblaster\",\"offsetgroup\":\"clashblaster\",\"orientation\":\"v\",\"showlegend\":true,\"x\":[\"hirame\",\"namero\",\"chozame\",\"yunohana\",\"kusaya\",\"zatou\",\"kinmedai\",\"sumeshi\",\"amabi\",\"mategai\",\"gonzui\",\"masaba\",\"nampla\"],\"xaxis\":\"x\",\"y\":[31,14,13,12,9,9,7,6,6,6,5,4,1],\"yaxis\":\"y\",\"type\":\"histogram\"},{\"alignmentgroup\":\"True\",\"bingroup\":\"x\",\"histfunc\":\"sum\",\"hovertemplate\":\"weapon_name=clashblaster\\u003cbr\\u003erule_name=hoko\\u003cbr\\u003estage_name=%{x}\\u003cbr\\u003esum of count=%{y}\\u003cextra\\u003e\\u003c\\u002fextra\\u003e\",\"legendgroup\":\"clashblaster\",\"marker\":{\"color\":\"#636efa\",\"pattern\":{\"shape\":\"\"}},\"name\":\"clashblaster\",\"offsetgroup\":\"clashblaster\",\"orientation\":\"v\",\"showlegend\":false,\"x\":[\"masaba\",\"mategai\"],\"xaxis\":\"x2\",\"y\":[3,2],\"yaxis\":\"y2\",\"type\":\"histogram\"},{\"alignmentgroup\":\"True\",\"bingroup\":\"x\",\"histfunc\":\"sum\",\"hovertemplate\":\"weapon_name=clashblaster\\u003cbr\\u003erule_name=area\\u003cbr\\u003estage_name=%{x}\\u003cbr\\u003esum of count=%{y}\\u003cextra\\u003e\\u003c\\u002fextra\\u003e\",\"legendgroup\":\"clashblaster\",\"marker\":{\"color\":\"#636efa\",\"pattern\":{\"shape\":\"\"}},\"name\":\"clashblaster\",\"offsetgroup\":\"clashblaster\",\"orientation\":\"v\",\"showlegend\":false,\"x\":[\"amabi\",\"namero\"],\"xaxis\":\"x4\",\"y\":[3,1],\"yaxis\":\"y4\",\"type\":\"histogram\"},{\"alignmentgroup\":\"True\",\"bingroup\":\"x\",\"histfunc\":\"sum\",\"hovertemplate\":\"weapon_name=longblaster\\u003cbr\\u003erule_name=yagura\\u003cbr\\u003estage_name=%{x}\\u003cbr\\u003esum of count=%{y}\\u003cextra\\u003e\\u003c\\u002fextra\\u003e\",\"legendgroup\":\"longblaster\",\"marker\":{\"color\":\"#EF553B\",\"pattern\":{\"shape\":\"\"}},\"name\":\"longblaster\",\"offsetgroup\":\"longblaster\",\"orientation\":\"v\",\"showlegend\":true,\"x\":[\"hirame\",\"namero\",\"kusaya\",\"kinmedai\",\"mategai\",\"amabi\",\"nampla\",\"mahimahi\",\"yunohana\",\"zatou\",\"masaba\",\"chozame\",\"gonzui\",\"sumeshi\",\"manta\"],\"xaxis\":\"x\",\"y\":[31,19,17,13,12,12,12,8,8,7,6,5,4,3,3],\"yaxis\":\"y\",\"type\":\"histogram\"},{\"alignmentgroup\":\"True\",\"bingroup\":\"x\",\"histfunc\":\"sum\",\"hovertemplate\":\"weapon_name=longblaster\\u003cbr\\u003erule_name=hoko\\u003cbr\\u003estage_name=%{x}\\u003cbr\\u003esum of count=%{y}\\u003cextra\\u003e\\u003c\\u002fextra\\u003e\",\"legendgroup\":\"longblaster\",\"marker\":{\"color\":\"#EF553B\",\"pattern\":{\"shape\":\"\"}},\"name\":\"longblaster\",\"offsetgroup\":\"longblaster\",\"orientation\":\"v\",\"showlegend\":false,\"x\":[\"namero\",\"mahimahi\"],\"xaxis\":\"x2\",\"y\":[2,1],\"yaxis\":\"y2\",\"type\":\"histogram\"},{\"alignmentgroup\":\"True\",\"bingroup\":\"x\",\"histfunc\":\"sum\",\"hovertemplate\":\"weapon_name=longblaster\\u003cbr\\u003erule_name=tricolor\\u003cbr\\u003estage_name=%{x}\\u003cbr\\u003esum of count=%{y}\\u003cextra\\u003e\\u003c\\u002fextra\\u003e\",\"legendgroup\":\"longblaster\",\"marker\":{\"color\":\"#EF553B\",\"pattern\":{\"shape\":\"\"}},\"name\":\"longblaster\",\"offsetgroup\":\"longblaster\",\"orientation\":\"v\",\"showlegend\":false,\"x\":[\"mategai\"],\"xaxis\":\"x6\",\"y\":[3],\"yaxis\":\"y6\",\"type\":\"histogram\"},{\"alignmentgroup\":\"True\",\"bingroup\":\"x\",\"histfunc\":\"sum\",\"hovertemplate\":\"weapon_name=variableroller\\u003cbr\\u003erule_name=yagura\\u003cbr\\u003estage_name=%{x}\\u003cbr\\u003esum of count=%{y}\\u003cextra\\u003e\\u003c\\u002fextra\\u003e\",\"legendgroup\":\"variableroller\",\"marker\":{\"color\":\"#00cc96\",\"pattern\":{\"shape\":\"\"}},\"name\":\"variableroller\",\"offsetgroup\":\"variableroller\",\"orientation\":\"v\",\"showlegend\":true,\"x\":[\"gonzui\",\"kinmedai\",\"masaba\",\"namero\"],\"xaxis\":\"x\",\"y\":[5,2,1,1],\"yaxis\":\"y\",\"type\":\"histogram\"},{\"alignmentgroup\":\"True\",\"bingroup\":\"x\",\"histfunc\":\"sum\",\"hovertemplate\":\"weapon_name=variableroller\\u003cbr\\u003erule_name=hoko\\u003cbr\\u003estage_name=%{x}\\u003cbr\\u003esum of count=%{y}\\u003cextra\\u003e\\u003c\\u002fextra\\u003e\",\"legendgroup\":\"variableroller\",\"marker\":{\"color\":\"#00cc96\",\"pattern\":{\"shape\":\"\"}},\"name\":\"variableroller\",\"offsetgroup\":\"variableroller\",\"orientation\":\"v\",\"showlegend\":false,\"x\":[\"yunohana\",\"amabi\",\"mahimahi\",\"kusaya\",\"mategai\",\"masaba\",\"yagara\",\"chozame\",\"namero\",\"sumeshi\",\"gonzui\",\"kombu\",\"zatou\",\"hirame\",\"taraport\",\"kinmedai\"],\"xaxis\":\"x2\",\"y\":[30,26,25,22,17,15,14,11,9,9,8,4,4,3,2,1],\"yaxis\":\"y2\",\"type\":\"histogram\"},{\"alignmentgroup\":\"True\",\"bingroup\":\"x\",\"histfunc\":\"sum\",\"hovertemplate\":\"weapon_name=variableroller\\u003cbr\\u003erule_name=nawabari\\u003cbr\\u003estage_name=%{x}\\u003cbr\\u003esum of count=%{y}\\u003cextra\\u003e\\u003c\\u002fextra\\u003e\",\"legendgroup\":\"variableroller\",\"marker\":{\"color\":\"#00cc96\",\"pattern\":{\"shape\":\"\"}},\"name\":\"variableroller\",\"offsetgroup\":\"variableroller\",\"orientation\":\"v\",\"showlegend\":false,\"x\":[\"yagara\",\"namero\",\"mahimahi\",\"sumeshi\",\"gonzui\",\"masaba\",\"chozame\",\"kinmedai\",\"zatou\",\"mategai\",\"amabi\"],\"xaxis\":\"x3\",\"y\":[10,8,6,6,5,5,3,3,2,1,1],\"yaxis\":\"y3\",\"type\":\"histogram\"},{\"alignmentgroup\":\"True\",\"bingroup\":\"x\",\"histfunc\":\"sum\",\"hovertemplate\":\"weapon_name=variableroller\\u003cbr\\u003erule_name=area\\u003cbr\\u003estage_name=%{x}\\u003cbr\\u003esum of count=%{y}\\u003cextra\\u003e\\u003c\\u002fextra\\u003e\",\"legendgroup\":\"variableroller\",\"marker\":{\"color\":\"#00cc96\",\"pattern\":{\"shape\":\"\"}},\"name\":\"variableroller\",\"offsetgroup\":\"variableroller\",\"orientation\":\"v\",\"showlegend\":false,\"x\":[\"kinmedai\",\"mategai\",\"gonzui\",\"sumeshi\",\"namero\",\"mahimahi\",\"yagara\",\"amabi\",\"yunohana\"],\"xaxis\":\"x4\",\"y\":[14,5,5,3,3,2,2,1,1],\"yaxis\":\"y4\",\"type\":\"histogram\"},{\"alignmentgroup\":\"True\",\"bingroup\":\"x\",\"histfunc\":\"sum\",\"hovertemplate\":\"weapon_name=variableroller\\u003cbr\\u003erule_name=asari\\u003cbr\\u003estage_name=%{x}\\u003cbr\\u003esum of count=%{y}\\u003cextra\\u003e\\u003c\\u002fextra\\u003e\",\"legendgroup\":\"variableroller\",\"marker\":{\"color\":\"#00cc96\",\"pattern\":{\"shape\":\"\"}},\"name\":\"variableroller\",\"offsetgroup\":\"variableroller\",\"orientation\":\"v\",\"showlegend\":false,\"x\":[\"yunohana\",\"zatou\",\"gonzui\",\"mategai\",\"mahimahi\",\"masaba\",\"kinmedai\",\"taraport\"],\"xaxis\":\"x5\",\"y\":[8,6,6,5,2,2,1,1],\"yaxis\":\"y5\",\"type\":\"histogram\"},{\"alignmentgroup\":\"True\",\"bingroup\":\"x\",\"histfunc\":\"sum\",\"hovertemplate\":\"weapon_name=splatroller\\u003cbr\\u003erule_name=yagura\\u003cbr\\u003estage_name=%{x}\\u003cbr\\u003esum of count=%{y}\\u003cextra\\u003e\\u003c\\u002fextra\\u003e\",\"legendgroup\":\"splatroller\",\"marker\":{\"color\":\"#ab63fa\",\"pattern\":{\"shape\":\"\"}},\"name\":\"splatroller\",\"offsetgroup\":\"splatroller\",\"orientation\":\"v\",\"showlegend\":true,\"x\":[\"namero\",\"yagara\",\"masaba\",\"sumeshi\",\"amabi\",\"zatou\",\"gonzui\",\"hirame\",\"kusaya\",\"kinmedai\",\"yunohana\",\"mategai\"],\"xaxis\":\"x\",\"y\":[21,18,15,14,10,7,5,5,4,4,3,1],\"yaxis\":\"y\",\"type\":\"histogram\"},{\"alignmentgroup\":\"True\",\"bingroup\":\"x\",\"histfunc\":\"sum\",\"hovertemplate\":\"weapon_name=splatroller\\u003cbr\\u003erule_name=hoko\\u003cbr\\u003estage_name=%{x}\\u003cbr\\u003esum of count=%{y}\\u003cextra\\u003e\\u003c\\u002fextra\\u003e\",\"legendgroup\":\"splatroller\",\"marker\":{\"color\":\"#ab63fa\",\"pattern\":{\"shape\":\"\"}},\"name\":\"splatroller\",\"offsetgroup\":\"splatroller\",\"orientation\":\"v\",\"showlegend\":false,\"x\":[\"mategai\",\"kinmedai\",\"yunohana\",\"chozame\",\"sumeshi\"],\"xaxis\":\"x2\",\"y\":[10,7,6,5,1],\"yaxis\":\"y2\",\"type\":\"histogram\"},{\"alignmentgroup\":\"True\",\"bingroup\":\"x\",\"histfunc\":\"sum\",\"hovertemplate\":\"weapon_name=splatroller\\u003cbr\\u003erule_name=nawabari\\u003cbr\\u003estage_name=%{x}\\u003cbr\\u003esum of count=%{y}\\u003cextra\\u003e\\u003c\\u002fextra\\u003e\",\"legendgroup\":\"splatroller\",\"marker\":{\"color\":\"#ab63fa\",\"pattern\":{\"shape\":\"\"}},\"name\":\"splatroller\",\"offsetgroup\":\"splatroller\",\"orientation\":\"v\",\"showlegend\":false,\"x\":[\"masaba\",\"amabi\",\"yagara\",\"sumeshi\",\"gonzui\",\"chozame\",\"namero\",\"kinmedai\",\"mahimahi\",\"yunohana\"],\"xaxis\":\"x3\",\"y\":[6,5,2,2,2,1,1,1,1,1],\"yaxis\":\"y3\",\"type\":\"histogram\"},{\"alignmentgroup\":\"True\",\"bingroup\":\"x\",\"histfunc\":\"sum\",\"hovertemplate\":\"weapon_name=splatroller\\u003cbr\\u003erule_name=area\\u003cbr\\u003estage_name=%{x}\\u003cbr\\u003esum of count=%{y}\\u003cextra\\u003e\\u003c\\u002fextra\\u003e\",\"legendgroup\":\"splatroller\",\"marker\":{\"color\":\"#ab63fa\",\"pattern\":{\"shape\":\"\"}},\"name\":\"splatroller\",\"offsetgroup\":\"splatroller\",\"orientation\":\"v\",\"showlegend\":false,\"x\":[\"mahimahi\",\"yunohana\",\"amabi\",\"chozame\",\"gonzui\",\"mategai\"],\"xaxis\":\"x4\",\"y\":[5,4,2,1,1,1],\"yaxis\":\"y4\",\"type\":\"histogram\"},{\"alignmentgroup\":\"True\",\"bingroup\":\"x\",\"histfunc\":\"sum\",\"hovertemplate\":\"weapon_name=splatroller\\u003cbr\\u003erule_name=asari\\u003cbr\\u003estage_name=%{x}\\u003cbr\\u003esum of count=%{y}\\u003cextra\\u003e\\u003c\\u002fextra\\u003e\",\"legendgroup\":\"splatroller\",\"marker\":{\"color\":\"#ab63fa\",\"pattern\":{\"shape\":\"\"}},\"name\":\"splatroller\",\"offsetgroup\":\"splatroller\",\"orientation\":\"v\",\"showlegend\":false,\"x\":[\"yagara\",\"chozame\",\"kinmedai\",\"hirame\",\"gonzui\",\"mahimahi\",\"masaba\"],\"xaxis\":\"x5\",\"y\":[12,7,4,1,1,1,1],\"yaxis\":\"y5\",\"type\":\"histogram\"},{\"alignmentgroup\":\"True\",\"bingroup\":\"x\",\"histfunc\":\"sum\",\"hovertemplate\":\"weapon_name=sputtery\\u003cbr\\u003erule_name=yagura\\u003cbr\\u003estage_name=%{x}\\u003cbr\\u003esum of count=%{y}\\u003cextra\\u003e\\u003c\\u002fextra\\u003e\",\"legendgroup\":\"sputtery\",\"marker\":{\"color\":\"#FFA15A\",\"pattern\":{\"shape\":\"\"}},\"name\":\"sputtery\",\"offsetgroup\":\"sputtery\",\"orientation\":\"v\",\"showlegend\":true,\"x\":[\"namero\",\"chozame\",\"zatou\",\"nampla\",\"mahimahi\",\"kinmedai\",\"gonzui\",\"mategai\",\"manta\"],\"xaxis\":\"x\",\"y\":[8,5,5,5,5,4,2,1,1],\"yaxis\":\"y\",\"type\":\"histogram\"},{\"alignmentgroup\":\"True\",\"bingroup\":\"x\",\"histfunc\":\"sum\",\"hovertemplate\":\"weapon_name=sputtery\\u003cbr\\u003erule_name=hoko\\u003cbr\\u003estage_name=%{x}\\u003cbr\\u003esum of count=%{y}\\u003cextra\\u003e\\u003c\\u002fextra\\u003e\",\"legendgroup\":\"sputtery\",\"marker\":{\"color\":\"#FFA15A\",\"pattern\":{\"shape\":\"\"}},\"name\":\"sputtery\",\"offsetgroup\":\"sputtery\",\"orientation\":\"v\",\"showlegend\":false,\"x\":[\"kusaya\",\"yunohana\",\"taraport\",\"gonzui\",\"yagara\",\"sumeshi\",\"masaba\",\"mahimahi\",\"kinmedai\",\"namero\",\"mategai\",\"kombu\",\"zatou\",\"amabi\"],\"xaxis\":\"x2\",\"y\":[16,11,6,6,5,5,5,5,5,3,3,2,2,1],\"yaxis\":\"y2\",\"type\":\"histogram\"},{\"alignmentgroup\":\"True\",\"bingroup\":\"x\",\"histfunc\":\"sum\",\"hovertemplate\":\"weapon_name=sputtery\\u003cbr\\u003erule_name=nawabari\\u003cbr\\u003estage_name=%{x}\\u003cbr\\u003esum of count=%{y}\\u003cextra\\u003e\\u003c\\u002fextra\\u003e\",\"legendgroup\":\"sputtery\",\"marker\":{\"color\":\"#FFA15A\",\"pattern\":{\"shape\":\"\"}},\"name\":\"sputtery\",\"offsetgroup\":\"sputtery\",\"orientation\":\"v\",\"showlegend\":false,\"x\":[\"yagara\",\"kinmedai\",\"sumeshi\",\"zatou\",\"yunohana\",\"masaba\",\"namero\",\"amabi\",\"chozame\",\"mategai\",\"gonzui\",\"mahimahi\",\"nampla\"],\"xaxis\":\"x3\",\"y\":[18,16,16,14,14,13,9,8,6,3,3,2,2],\"yaxis\":\"y3\",\"type\":\"histogram\"},{\"alignmentgroup\":\"True\",\"bingroup\":\"x\",\"histfunc\":\"sum\",\"hovertemplate\":\"weapon_name=sputtery\\u003cbr\\u003erule_name=area\\u003cbr\\u003estage_name=%{x}\\u003cbr\\u003esum of count=%{y}\\u003cextra\\u003e\\u003c\\u002fextra\\u003e\",\"legendgroup\":\"sputtery\",\"marker\":{\"color\":\"#FFA15A\",\"pattern\":{\"shape\":\"\"}},\"name\":\"sputtery\",\"offsetgroup\":\"sputtery\",\"orientation\":\"v\",\"showlegend\":false,\"x\":[\"gonzui\",\"mategai\",\"amabi\",\"mahimahi\",\"zatou\",\"hirame\",\"kinmedai\",\"manta\",\"kusaya\",\"sumeshi\",\"yunohana\",\"masaba\"],\"xaxis\":\"x4\",\"y\":[12,7,6,6,5,4,4,2,2,1,1,1],\"yaxis\":\"y4\",\"type\":\"histogram\"},{\"alignmentgroup\":\"True\",\"bingroup\":\"x\",\"histfunc\":\"sum\",\"hovertemplate\":\"weapon_name=sputtery\\u003cbr\\u003erule_name=asari\\u003cbr\\u003estage_name=%{x}\\u003cbr\\u003esum of count=%{y}\\u003cextra\\u003e\\u003c\\u002fextra\\u003e\",\"legendgroup\":\"sputtery\",\"marker\":{\"color\":\"#FFA15A\",\"pattern\":{\"shape\":\"\"}},\"name\":\"sputtery\",\"offsetgroup\":\"sputtery\",\"orientation\":\"v\",\"showlegend\":false,\"x\":[\"yunohana\",\"sumeshi\",\"zatou\",\"mahimahi\",\"yagara\",\"amabi\",\"kinmedai\",\"chozame\",\"mategai\",\"masaba\",\"namero\",\"gonzui\"],\"xaxis\":\"x5\",\"y\":[14,7,7,5,5,5,4,4,3,2,2,2],\"yaxis\":\"y5\",\"type\":\"histogram\"},{\"alignmentgroup\":\"True\",\"bingroup\":\"x\",\"histfunc\":\"sum\",\"hovertemplate\":\"weapon_name=heroshooter_replica\\u003cbr\\u003erule_name=yagura\\u003cbr\\u003estage_name=%{x}\\u003cbr\\u003esum of count=%{y}\\u003cextra\\u003e\\u003c\\u002fextra\\u003e\",\"legendgroup\":\"heroshooter_replica\",\"marker\":{\"color\":\"#19d3f3\",\"pattern\":{\"shape\":\"\"}},\"name\":\"heroshooter_replica\",\"offsetgroup\":\"heroshooter_replica\",\"orientation\":\"v\",\"showlegend\":true,\"x\":[\"masaba\",\"kinmedai\",\"namero\",\"yunohana\",\"amabi\",\"chozame\"],\"xaxis\":\"x\",\"y\":[8,4,2,1,1,1],\"yaxis\":\"y\",\"type\":\"histogram\"},{\"alignmentgroup\":\"True\",\"bingroup\":\"x\",\"histfunc\":\"sum\",\"hovertemplate\":\"weapon_name=heroshooter_replica\\u003cbr\\u003erule_name=hoko\\u003cbr\\u003estage_name=%{x}\\u003cbr\\u003esum of count=%{y}\\u003cextra\\u003e\\u003c\\u002fextra\\u003e\",\"legendgroup\":\"heroshooter_replica\",\"marker\":{\"color\":\"#19d3f3\",\"pattern\":{\"shape\":\"\"}},\"name\":\"heroshooter_replica\",\"offsetgroup\":\"heroshooter_replica\",\"orientation\":\"v\",\"showlegend\":false,\"x\":[\"mategai\",\"yunohana\",\"kombu\",\"masaba\",\"namero\",\"kusaya\",\"mahimahi\",\"hirame\",\"gonzui\"],\"xaxis\":\"x2\",\"y\":[6,6,5,4,3,3,3,2,2],\"yaxis\":\"y2\",\"type\":\"histogram\"},{\"alignmentgroup\":\"True\",\"bingroup\":\"x\",\"histfunc\":\"sum\",\"hovertemplate\":\"weapon_name=heroshooter_replica\\u003cbr\\u003erule_name=nawabari\\u003cbr\\u003estage_name=%{x}\\u003cbr\\u003esum of count=%{y}\\u003cextra\\u003e\\u003c\\u002fextra\\u003e\",\"legendgroup\":\"heroshooter_replica\",\"marker\":{\"color\":\"#19d3f3\",\"pattern\":{\"shape\":\"\"}},\"name\":\"heroshooter_replica\",\"offsetgroup\":\"heroshooter_replica\",\"orientation\":\"v\",\"showlegend\":false,\"x\":[\"mahimahi\",\"namero\",\"hirame\",\"masaba\",\"chozame\",\"kusaya\",\"gonzui\",\"yagara\",\"mategai\",\"sumeshi\",\"nampla\",\"yunohana\",\"zatou\",\"kinmedai\"],\"xaxis\":\"x3\",\"y\":[14,13,13,10,10,7,6,4,4,3,3,3,2,2],\"yaxis\":\"y3\",\"type\":\"histogram\"},{\"alignmentgroup\":\"True\",\"bingroup\":\"x\",\"histfunc\":\"sum\",\"hovertemplate\":\"weapon_name=heroshooter_replica\\u003cbr\\u003erule_name=area\\u003cbr\\u003estage_name=%{x}\\u003cbr\\u003esum of count=%{y}\\u003cextra\\u003e\\u003c\\u002fextra\\u003e\",\"legendgroup\":\"heroshooter_replica\",\"marker\":{\"color\":\"#19d3f3\",\"pattern\":{\"shape\":\"\"}},\"name\":\"heroshooter_replica\",\"offsetgroup\":\"heroshooter_replica\",\"orientation\":\"v\",\"showlegend\":false,\"x\":[\"mahimahi\",\"mategai\",\"nampla\",\"kinmedai\",\"manta\",\"zatou\",\"namero\",\"hirame\",\"kusaya\",\"yunohana\",\"sumeshi\"],\"xaxis\":\"x4\",\"y\":[16,10,9,8,8,5,4,4,4,3,2],\"yaxis\":\"y4\",\"type\":\"histogram\"},{\"alignmentgroup\":\"True\",\"bingroup\":\"x\",\"histfunc\":\"sum\",\"hovertemplate\":\"weapon_name=heroshooter_replica\\u003cbr\\u003erule_name=asari\\u003cbr\\u003estage_name=%{x}\\u003cbr\\u003esum of count=%{y}\\u003cextra\\u003e\\u003c\\u002fextra\\u003e\",\"legendgroup\":\"heroshooter_replica\",\"marker\":{\"color\":\"#19d3f3\",\"pattern\":{\"shape\":\"\"}},\"name\":\"heroshooter_replica\",\"offsetgroup\":\"heroshooter_replica\",\"orientation\":\"v\",\"showlegend\":false,\"x\":[\"yunohana\"],\"xaxis\":\"x5\",\"y\":[2],\"yaxis\":\"y5\",\"type\":\"histogram\"},{\"alignmentgroup\":\"True\",\"bingroup\":\"x\",\"histfunc\":\"sum\",\"hovertemplate\":\"weapon_name=heroshooter_replica\\u003cbr\\u003erule_name=tricolor\\u003cbr\\u003estage_name=%{x}\\u003cbr\\u003esum of count=%{y}\\u003cextra\\u003e\\u003c\\u002fextra\\u003e\",\"legendgroup\":\"heroshooter_replica\",\"marker\":{\"color\":\"#19d3f3\",\"pattern\":{\"shape\":\"\"}},\"name\":\"heroshooter_replica\",\"offsetgroup\":\"heroshooter_replica\",\"orientation\":\"v\",\"showlegend\":false,\"x\":[\"mategai\"],\"xaxis\":\"x6\",\"y\":[10],\"yaxis\":\"y6\",\"type\":\"histogram\"},{\"alignmentgroup\":\"True\",\"bingroup\":\"x\",\"histfunc\":\"sum\",\"hovertemplate\":\"weapon_name=carbon_deco\\u003cbr\\u003erule_name=yagura\\u003cbr\\u003estage_name=%{x}\\u003cbr\\u003esum of count=%{y}\\u003cextra\\u003e\\u003c\\u002fextra\\u003e\",\"legendgroup\":\"carbon_deco\",\"marker\":{\"color\":\"#FF6692\",\"pattern\":{\"shape\":\"\"}},\"name\":\"carbon_deco\",\"offsetgroup\":\"carbon_deco\",\"orientation\":\"v\",\"showlegend\":true,\"x\":[\"masaba\",\"amabi\",\"hirame\",\"yunohana\",\"chozame\",\"sumeshi\",\"mategai\"],\"xaxis\":\"x\",\"y\":[6,4,3,3,2,2,1],\"yaxis\":\"y\",\"type\":\"histogram\"},{\"alignmentgroup\":\"True\",\"bingroup\":\"x\",\"histfunc\":\"sum\",\"hovertemplate\":\"weapon_name=carbon_deco\\u003cbr\\u003erule_name=hoko\\u003cbr\\u003estage_name=%{x}\\u003cbr\\u003esum of count=%{y}\\u003cextra\\u003e\\u003c\\u002fextra\\u003e\",\"legendgroup\":\"carbon_deco\",\"marker\":{\"color\":\"#FF6692\",\"pattern\":{\"shape\":\"\"}},\"name\":\"carbon_deco\",\"offsetgroup\":\"carbon_deco\",\"orientation\":\"v\",\"showlegend\":false,\"x\":[\"mategai\",\"kusaya\",\"sumeshi\",\"zatou\",\"chozame\",\"manta\",\"kinmedai\",\"yagara\",\"amabi\"],\"xaxis\":\"x2\",\"y\":[5,4,4,4,4,4,3,2,1],\"yaxis\":\"y2\",\"type\":\"histogram\"},{\"alignmentgroup\":\"True\",\"bingroup\":\"x\",\"histfunc\":\"sum\",\"hovertemplate\":\"weapon_name=carbon_deco\\u003cbr\\u003erule_name=nawabari\\u003cbr\\u003estage_name=%{x}\\u003cbr\\u003esum of count=%{y}\\u003cextra\\u003e\\u003c\\u002fextra\\u003e\",\"legendgroup\":\"carbon_deco\",\"marker\":{\"color\":\"#FF6692\",\"pattern\":{\"shape\":\"\"}},\"name\":\"carbon_deco\",\"offsetgroup\":\"carbon_deco\",\"orientation\":\"v\",\"showlegend\":false,\"x\":[\"sumeshi\",\"yunohana\",\"mahimahi\"],\"xaxis\":\"x3\",\"y\":[3,3,1],\"yaxis\":\"y3\",\"type\":\"histogram\"},{\"alignmentgroup\":\"True\",\"bingroup\":\"x\",\"histfunc\":\"sum\",\"hovertemplate\":\"weapon_name=carbon_deco\\u003cbr\\u003erule_name=area\\u003cbr\\u003estage_name=%{x}\\u003cbr\\u003esum of count=%{y}\\u003cextra\\u003e\\u003c\\u002fextra\\u003e\",\"legendgroup\":\"carbon_deco\",\"marker\":{\"color\":\"#FF6692\",\"pattern\":{\"shape\":\"\"}},\"name\":\"carbon_deco\",\"offsetgroup\":\"carbon_deco\",\"orientation\":\"v\",\"showlegend\":false,\"x\":[\"masaba\",\"zatou\",\"sumeshi\",\"mahimahi\",\"gonzui\",\"yunohana\"],\"xaxis\":\"x4\",\"y\":[10,7,4,4,4,3],\"yaxis\":\"y4\",\"type\":\"histogram\"},{\"alignmentgroup\":\"True\",\"bingroup\":\"x\",\"histfunc\":\"sum\",\"hovertemplate\":\"weapon_name=carbon_deco\\u003cbr\\u003erule_name=asari\\u003cbr\\u003estage_name=%{x}\\u003cbr\\u003esum of count=%{y}\\u003cextra\\u003e\\u003c\\u002fextra\\u003e\",\"legendgroup\":\"carbon_deco\",\"marker\":{\"color\":\"#FF6692\",\"pattern\":{\"shape\":\"\"}},\"name\":\"carbon_deco\",\"offsetgroup\":\"carbon_deco\",\"orientation\":\"v\",\"showlegend\":false,\"x\":[\"kinmedai\",\"zatou\"],\"xaxis\":\"x5\",\"y\":[5,1],\"yaxis\":\"y5\",\"type\":\"histogram\"},{\"alignmentgroup\":\"True\",\"bingroup\":\"x\",\"histfunc\":\"sum\",\"hovertemplate\":\"weapon_name=nzap85\\u003cbr\\u003erule_name=yagura\\u003cbr\\u003estage_name=%{x}\\u003cbr\\u003esum of count=%{y}\\u003cextra\\u003e\\u003c\\u002fextra\\u003e\",\"legendgroup\":\"nzap85\",\"marker\":{\"color\":\"#B6E880\",\"pattern\":{\"shape\":\"\"}},\"name\":\"nzap85\",\"offsetgroup\":\"nzap85\",\"orientation\":\"v\",\"showlegend\":true,\"x\":[\"sumeshi\",\"amabi\",\"zatou\"],\"xaxis\":\"x\",\"y\":[4,2,1],\"yaxis\":\"y\",\"type\":\"histogram\"},{\"alignmentgroup\":\"True\",\"bingroup\":\"x\",\"histfunc\":\"sum\",\"hovertemplate\":\"weapon_name=nzap85\\u003cbr\\u003erule_name=hoko\\u003cbr\\u003estage_name=%{x}\\u003cbr\\u003esum of count=%{y}\\u003cextra\\u003e\\u003c\\u002fextra\\u003e\",\"legendgroup\":\"nzap85\",\"marker\":{\"color\":\"#B6E880\",\"pattern\":{\"shape\":\"\"}},\"name\":\"nzap85\",\"offsetgroup\":\"nzap85\",\"orientation\":\"v\",\"showlegend\":false,\"x\":[\"yunohana\",\"kusaya\"],\"xaxis\":\"x2\",\"y\":[10,8],\"yaxis\":\"y2\",\"type\":\"histogram\"},{\"alignmentgroup\":\"True\",\"bingroup\":\"x\",\"histfunc\":\"sum\",\"hovertemplate\":\"weapon_name=nzap85\\u003cbr\\u003erule_name=nawabari\\u003cbr\\u003estage_name=%{x}\\u003cbr\\u003esum of count=%{y}\\u003cextra\\u003e\\u003c\\u002fextra\\u003e\",\"legendgroup\":\"nzap85\",\"marker\":{\"color\":\"#B6E880\",\"pattern\":{\"shape\":\"\"}},\"name\":\"nzap85\",\"offsetgroup\":\"nzap85\",\"orientation\":\"v\",\"showlegend\":false,\"x\":[\"yunohana\",\"mahimahi\"],\"xaxis\":\"x3\",\"y\":[3,1],\"yaxis\":\"y3\",\"type\":\"histogram\"},{\"alignmentgroup\":\"True\",\"bingroup\":\"x\",\"histfunc\":\"sum\",\"hovertemplate\":\"weapon_name=nzap85\\u003cbr\\u003erule_name=area\\u003cbr\\u003estage_name=%{x}\\u003cbr\\u003esum of count=%{y}\\u003cextra\\u003e\\u003c\\u002fextra\\u003e\",\"legendgroup\":\"nzap85\",\"marker\":{\"color\":\"#B6E880\",\"pattern\":{\"shape\":\"\"}},\"name\":\"nzap85\",\"offsetgroup\":\"nzap85\",\"orientation\":\"v\",\"showlegend\":false,\"x\":[\"yagara\"],\"xaxis\":\"x4\",\"y\":[1],\"yaxis\":\"y4\",\"type\":\"histogram\"},{\"alignmentgroup\":\"True\",\"bingroup\":\"x\",\"histfunc\":\"sum\",\"hovertemplate\":\"weapon_name=sharp_neo\\u003cbr\\u003erule_name=hoko\\u003cbr\\u003estage_name=%{x}\\u003cbr\\u003esum of count=%{y}\\u003cextra\\u003e\\u003c\\u002fextra\\u003e\",\"legendgroup\":\"sharp_neo\",\"marker\":{\"color\":\"#FF97FF\",\"pattern\":{\"shape\":\"\"}},\"name\":\"sharp_neo\",\"offsetgroup\":\"sharp_neo\",\"orientation\":\"v\",\"showlegend\":true,\"x\":[\"sumeshi\",\"zatou\"],\"xaxis\":\"x2\",\"y\":[6,5],\"yaxis\":\"y2\",\"type\":\"histogram\"},{\"alignmentgroup\":\"True\",\"bingroup\":\"x\",\"histfunc\":\"sum\",\"hovertemplate\":\"weapon_name=sharp_neo\\u003cbr\\u003erule_name=nawabari\\u003cbr\\u003estage_name=%{x}\\u003cbr\\u003esum of count=%{y}\\u003cextra\\u003e\\u003c\\u002fextra\\u003e\",\"legendgroup\":\"sharp_neo\",\"marker\":{\"color\":\"#FF97FF\",\"pattern\":{\"shape\":\"\"}},\"name\":\"sharp_neo\",\"offsetgroup\":\"sharp_neo\",\"orientation\":\"v\",\"showlegend\":false,\"x\":[\"masaba\"],\"xaxis\":\"x3\",\"y\":[2],\"yaxis\":\"y3\",\"type\":\"histogram\"},{\"alignmentgroup\":\"True\",\"bingroup\":\"x\",\"histfunc\":\"sum\",\"hovertemplate\":\"weapon_name=sharp_neo\\u003cbr\\u003erule_name=area\\u003cbr\\u003estage_name=%{x}\\u003cbr\\u003esum of count=%{y}\\u003cextra\\u003e\\u003c\\u002fextra\\u003e\",\"legendgroup\":\"sharp_neo\",\"marker\":{\"color\":\"#FF97FF\",\"pattern\":{\"shape\":\"\"}},\"name\":\"sharp_neo\",\"offsetgroup\":\"sharp_neo\",\"orientation\":\"v\",\"showlegend\":false,\"x\":[\"masaba\",\"mahimahi\",\"gonzui\",\"sumeshi\",\"nampla\",\"kinmedai\",\"manta\",\"namero\"],\"xaxis\":\"x4\",\"y\":[9,9,8,4,3,2,1,1],\"yaxis\":\"y4\",\"type\":\"histogram\"},{\"alignmentgroup\":\"True\",\"bingroup\":\"x\",\"histfunc\":\"sum\",\"hovertemplate\":\"weapon_name=sharp_neo\\u003cbr\\u003erule_name=asari\\u003cbr\\u003estage_name=%{x}\\u003cbr\\u003esum of count=%{y}\\u003cextra\\u003e\\u003c\\u002fextra\\u003e\",\"legendgroup\":\"sharp_neo\",\"marker\":{\"color\":\"#FF97FF\",\"pattern\":{\"shape\":\"\"}},\"name\":\"sharp_neo\",\"offsetgroup\":\"sharp_neo\",\"orientation\":\"v\",\"showlegend\":false,\"x\":[\"yagara\",\"sumeshi\"],\"xaxis\":\"x5\",\"y\":[4,1],\"yaxis\":\"y5\",\"type\":\"histogram\"},{\"alignmentgroup\":\"True\",\"bingroup\":\"x\",\"histfunc\":\"sum\",\"hovertemplate\":\"weapon_name=furo\\u003cbr\\u003erule_name=nawabari\\u003cbr\\u003estage_name=%{x}\\u003cbr\\u003esum of count=%{y}\\u003cextra\\u003e\\u003c\\u002fextra\\u003e\",\"legendgroup\":\"furo\",\"marker\":{\"color\":\"#FECB52\",\"pattern\":{\"shape\":\"\"}},\"name\":\"furo\",\"offsetgroup\":\"furo\",\"orientation\":\"v\",\"showlegend\":true,\"x\":[\"yagara\",\"masaba\",\"kusaya\",\"mahimahi\"],\"xaxis\":\"x3\",\"y\":[2,1,1,1],\"yaxis\":\"y3\",\"type\":\"histogram\"},{\"alignmentgroup\":\"True\",\"bingroup\":\"x\",\"histfunc\":\"sum\",\"hovertemplate\":\"weapon_name=furo\\u003cbr\\u003erule_name=area\\u003cbr\\u003estage_name=%{x}\\u003cbr\\u003esum of count=%{y}\\u003cextra\\u003e\\u003c\\u002fextra\\u003e\",\"legendgroup\":\"furo\",\"marker\":{\"color\":\"#FECB52\",\"pattern\":{\"shape\":\"\"}},\"name\":\"furo\",\"offsetgroup\":\"furo\",\"orientation\":\"v\",\"showlegend\":false,\"x\":[\"kinmedai\",\"kusaya\",\"hirame\",\"amabi\",\"namero\",\"mategai\",\"masaba\",\"yagara\",\"chozame\",\"yunohana\",\"sumeshi\"],\"xaxis\":\"x4\",\"y\":[9,7,5,3,3,2,2,2,2,1,1],\"yaxis\":\"y4\",\"type\":\"histogram\"},{\"alignmentgroup\":\"True\",\"bingroup\":\"x\",\"histfunc\":\"sum\",\"hovertemplate\":\"weapon_name=spaceshooter\\u003cbr\\u003erule_name=nawabari\\u003cbr\\u003estage_name=%{x}\\u003cbr\\u003esum of count=%{y}\\u003cextra\\u003e\\u003c\\u002fextra\\u003e\",\"legendgroup\":\"spaceshooter\",\"marker\":{\"color\":\"#636efa\",\"pattern\":{\"shape\":\"\"}},\"name\":\"spaceshooter\",\"offsetgroup\":\"spaceshooter\",\"orientation\":\"v\",\"showlegend\":true,\"x\":[\"zatou\",\"sumeshi\",\"hirame\",\"gonzui\"],\"xaxis\":\"x3\",\"y\":[8,5,1,1],\"yaxis\":\"y3\",\"type\":\"histogram\"},{\"alignmentgroup\":\"True\",\"bingroup\":\"x\",\"histfunc\":\"sum\",\"hovertemplate\":\"weapon_name=spaceshooter\\u003cbr\\u003erule_name=area\\u003cbr\\u003estage_name=%{x}\\u003cbr\\u003esum of count=%{y}\\u003cextra\\u003e\\u003c\\u002fextra\\u003e\",\"legendgroup\":\"spaceshooter\",\"marker\":{\"color\":\"#636efa\",\"pattern\":{\"shape\":\"\"}},\"name\":\"spaceshooter\",\"offsetgroup\":\"spaceshooter\",\"orientation\":\"v\",\"showlegend\":false,\"x\":[\"sumeshi\",\"kinmedai\"],\"xaxis\":\"x4\",\"y\":[1,1],\"yaxis\":\"y4\",\"type\":\"histogram\"},{\"alignmentgroup\":\"True\",\"bingroup\":\"x\",\"histfunc\":\"sum\",\"hovertemplate\":\"weapon_name=hydra\\u003cbr\\u003erule_name=yagura\\u003cbr\\u003estage_name=%{x}\\u003cbr\\u003esum of count=%{y}\\u003cextra\\u003e\\u003c\\u002fextra\\u003e\",\"legendgroup\":\"hydra\",\"marker\":{\"color\":\"#EF553B\",\"pattern\":{\"shape\":\"\"}},\"name\":\"hydra\",\"offsetgroup\":\"hydra\",\"orientation\":\"v\",\"showlegend\":true,\"x\":[\"yunohana\",\"hirame\",\"namero\",\"zatou\",\"gonzui\",\"chozame\",\"kinmedai\",\"mategai\"],\"xaxis\":\"x\",\"y\":[4,4,3,2,2,2,1,1],\"yaxis\":\"y\",\"type\":\"histogram\"},{\"alignmentgroup\":\"True\",\"bingroup\":\"x\",\"histfunc\":\"sum\",\"hovertemplate\":\"weapon_name=hydra\\u003cbr\\u003erule_name=nawabari\\u003cbr\\u003estage_name=%{x}\\u003cbr\\u003esum of count=%{y}\\u003cextra\\u003e\\u003c\\u002fextra\\u003e\",\"legendgroup\":\"hydra\",\"marker\":{\"color\":\"#EF553B\",\"pattern\":{\"shape\":\"\"}},\"name\":\"hydra\",\"offsetgroup\":\"hydra\",\"orientation\":\"v\",\"showlegend\":false,\"x\":[\"zatou\",\"chozame\",\"sumeshi\",\"mategai\",\"masaba\",\"mahimahi\",\"yagara\"],\"xaxis\":\"x3\",\"y\":[8,5,4,2,2,1,1],\"yaxis\":\"y3\",\"type\":\"histogram\"},{\"alignmentgroup\":\"True\",\"bingroup\":\"x\",\"histfunc\":\"sum\",\"hovertemplate\":\"weapon_name=hydra\\u003cbr\\u003erule_name=area\\u003cbr\\u003estage_name=%{x}\\u003cbr\\u003esum of count=%{y}\\u003cextra\\u003e\\u003c\\u002fextra\\u003e\",\"legendgroup\":\"hydra\",\"marker\":{\"color\":\"#EF553B\",\"pattern\":{\"shape\":\"\"}},\"name\":\"hydra\",\"offsetgroup\":\"hydra\",\"orientation\":\"v\",\"showlegend\":false,\"x\":[\"zatou\",\"yunohana\",\"yagara\",\"kinmedai\",\"mahimahi\"],\"xaxis\":\"x4\",\"y\":[3,2,2,1,1],\"yaxis\":\"y4\",\"type\":\"histogram\"},{\"alignmentgroup\":\"True\",\"bingroup\":\"x\",\"histfunc\":\"sum\",\"hovertemplate\":\"weapon_name=hydra\\u003cbr\\u003erule_name=asari\\u003cbr\\u003estage_name=%{x}\\u003cbr\\u003esum of count=%{y}\\u003cextra\\u003e\\u003c\\u002fextra\\u003e\",\"legendgroup\":\"hydra\",\"marker\":{\"color\":\"#EF553B\",\"pattern\":{\"shape\":\"\"}},\"name\":\"hydra\",\"offsetgroup\":\"hydra\",\"orientation\":\"v\",\"showlegend\":false,\"x\":[\"masaba\",\"kinmedai\"],\"xaxis\":\"x5\",\"y\":[4,2],\"yaxis\":\"y5\",\"type\":\"histogram\"},{\"alignmentgroup\":\"True\",\"bingroup\":\"x\",\"histfunc\":\"sum\",\"hovertemplate\":\"weapon_name=sshooter_collabo\\u003cbr\\u003erule_name=nawabari\\u003cbr\\u003estage_name=%{x}\\u003cbr\\u003esum of count=%{y}\\u003cextra\\u003e\\u003c\\u002fextra\\u003e\",\"legendgroup\":\"sshooter_collabo\",\"marker\":{\"color\":\"#00cc96\",\"pattern\":{\"shape\":\"\"}},\"name\":\"sshooter_collabo\",\"offsetgroup\":\"sshooter_collabo\",\"orientation\":\"v\",\"showlegend\":true,\"x\":[\"namero\",\"mahimahi\"],\"xaxis\":\"x3\",\"y\":[1,1],\"yaxis\":\"y3\",\"type\":\"histogram\"},{\"alignmentgroup\":\"True\",\"bingroup\":\"x\",\"histfunc\":\"sum\",\"hovertemplate\":\"weapon_name=sshooter_collabo\\u003cbr\\u003erule_name=asari\\u003cbr\\u003estage_name=%{x}\\u003cbr\\u003esum of count=%{y}\\u003cextra\\u003e\\u003c\\u002fextra\\u003e\",\"legendgroup\":\"sshooter_collabo\",\"marker\":{\"color\":\"#00cc96\",\"pattern\":{\"shape\":\"\"}},\"name\":\"sshooter_collabo\",\"offsetgroup\":\"sshooter_collabo\",\"orientation\":\"v\",\"showlegend\":false,\"x\":[\"yunohana\",\"mahimahi\"],\"xaxis\":\"x5\",\"y\":[7,6],\"yaxis\":\"y5\",\"type\":\"histogram\"},{\"alignmentgroup\":\"True\",\"bingroup\":\"x\",\"histfunc\":\"sum\",\"hovertemplate\":\"weapon_name=barrelspinner\\u003cbr\\u003erule_name=yagura\\u003cbr\\u003estage_name=%{x}\\u003cbr\\u003esum of count=%{y}\\u003cextra\\u003e\\u003c\\u002fextra\\u003e\",\"legendgroup\":\"barrelspinner\",\"marker\":{\"color\":\"#ab63fa\",\"pattern\":{\"shape\":\"\"}},\"name\":\"barrelspinner\",\"offsetgroup\":\"barrelspinner\",\"orientation\":\"v\",\"showlegend\":true,\"x\":[\"sumeshi\",\"gonzui\"],\"xaxis\":\"x\",\"y\":[3,2],\"yaxis\":\"y\",\"type\":\"histogram\"},{\"alignmentgroup\":\"True\",\"bingroup\":\"x\",\"histfunc\":\"sum\",\"hovertemplate\":\"weapon_name=barrelspinner\\u003cbr\\u003erule_name=hoko\\u003cbr\\u003estage_name=%{x}\\u003cbr\\u003esum of count=%{y}\\u003cextra\\u003e\\u003c\\u002fextra\\u003e\",\"legendgroup\":\"barrelspinner\",\"marker\":{\"color\":\"#ab63fa\",\"pattern\":{\"shape\":\"\"}},\"name\":\"barrelspinner\",\"offsetgroup\":\"barrelspinner\",\"orientation\":\"v\",\"showlegend\":false,\"x\":[\"kusaya\"],\"xaxis\":\"x2\",\"y\":[1],\"yaxis\":\"y2\",\"type\":\"histogram\"},{\"alignmentgroup\":\"True\",\"bingroup\":\"x\",\"histfunc\":\"sum\",\"hovertemplate\":\"weapon_name=barrelspinner\\u003cbr\\u003erule_name=nawabari\\u003cbr\\u003estage_name=%{x}\\u003cbr\\u003esum of count=%{y}\\u003cextra\\u003e\\u003c\\u002fextra\\u003e\",\"legendgroup\":\"barrelspinner\",\"marker\":{\"color\":\"#ab63fa\",\"pattern\":{\"shape\":\"\"}},\"name\":\"barrelspinner\",\"offsetgroup\":\"barrelspinner\",\"orientation\":\"v\",\"showlegend\":false,\"x\":[\"sumeshi\",\"gonzui\",\"hirame\",\"kinmedai\",\"masaba\",\"zatou\",\"yagara\"],\"xaxis\":\"x3\",\"y\":[2,2,1,1,1,1,1],\"yaxis\":\"y3\",\"type\":\"histogram\"},{\"alignmentgroup\":\"True\",\"bingroup\":\"x\",\"histfunc\":\"sum\",\"hovertemplate\":\"weapon_name=barrelspinner\\u003cbr\\u003erule_name=area\\u003cbr\\u003estage_name=%{x}\\u003cbr\\u003esum of count=%{y}\\u003cextra\\u003e\\u003c\\u002fextra\\u003e\",\"legendgroup\":\"barrelspinner\",\"marker\":{\"color\":\"#ab63fa\",\"pattern\":{\"shape\":\"\"}},\"name\":\"barrelspinner\",\"offsetgroup\":\"barrelspinner\",\"orientation\":\"v\",\"showlegend\":false,\"x\":[\"gonzui\",\"yunohana\",\"yagara\",\"mahimahi\",\"sumeshi\",\"nampla\",\"namero\"],\"xaxis\":\"x4\",\"y\":[7,6,1,1,1,1,1],\"yaxis\":\"y4\",\"type\":\"histogram\"},{\"alignmentgroup\":\"True\",\"bingroup\":\"x\",\"histfunc\":\"sum\",\"hovertemplate\":\"weapon_name=barrelspinner\\u003cbr\\u003erule_name=asari\\u003cbr\\u003estage_name=%{x}\\u003cbr\\u003esum of count=%{y}\\u003cextra\\u003e\\u003c\\u002fextra\\u003e\",\"legendgroup\":\"barrelspinner\",\"marker\":{\"color\":\"#ab63fa\",\"pattern\":{\"shape\":\"\"}},\"name\":\"barrelspinner\",\"offsetgroup\":\"barrelspinner\",\"orientation\":\"v\",\"showlegend\":false,\"x\":[\"kinmedai\",\"masaba\"],\"xaxis\":\"x5\",\"y\":[3,1],\"yaxis\":\"y5\",\"type\":\"histogram\"},{\"alignmentgroup\":\"True\",\"bingroup\":\"x\",\"histfunc\":\"sum\",\"hovertemplate\":\"weapon_name=screwslosher\\u003cbr\\u003erule_name=yagura\\u003cbr\\u003estage_name=%{x}\\u003cbr\\u003esum of count=%{y}\\u003cextra\\u003e\\u003c\\u002fextra\\u003e\",\"legendgroup\":\"screwslosher\",\"marker\":{\"color\":\"#FFA15A\",\"pattern\":{\"shape\":\"\"}},\"name\":\"screwslosher\",\"offsetgroup\":\"screwslosher\",\"orientation\":\"v\",\"showlegend\":true,\"x\":[\"gonzui\",\"masaba\",\"yunohana\",\"zatou\",\"sumeshi\"],\"xaxis\":\"x\",\"y\":[5,3,1,1,1],\"yaxis\":\"y\",\"type\":\"histogram\"},{\"alignmentgroup\":\"True\",\"bingroup\":\"x\",\"histfunc\":\"sum\",\"hovertemplate\":\"weapon_name=screwslosher\\u003cbr\\u003erule_name=nawabari\\u003cbr\\u003estage_name=%{x}\\u003cbr\\u003esum of count=%{y}\\u003cextra\\u003e\\u003c\\u002fextra\\u003e\",\"legendgroup\":\"screwslosher\",\"marker\":{\"color\":\"#FFA15A\",\"pattern\":{\"shape\":\"\"}},\"name\":\"screwslosher\",\"offsetgroup\":\"screwslosher\",\"orientation\":\"v\",\"showlegend\":false,\"x\":[\"masaba\",\"mategai\",\"kusaya\",\"yagara\"],\"xaxis\":\"x3\",\"y\":[1,1,1,1],\"yaxis\":\"y3\",\"type\":\"histogram\"},{\"alignmentgroup\":\"True\",\"bingroup\":\"x\",\"histfunc\":\"sum\",\"hovertemplate\":\"weapon_name=screwslosher\\u003cbr\\u003erule_name=area\\u003cbr\\u003estage_name=%{x}\\u003cbr\\u003esum of count=%{y}\\u003cextra\\u003e\\u003c\\u002fextra\\u003e\",\"legendgroup\":\"screwslosher\",\"marker\":{\"color\":\"#FFA15A\",\"pattern\":{\"shape\":\"\"}},\"name\":\"screwslosher\",\"offsetgroup\":\"screwslosher\",\"orientation\":\"v\",\"showlegend\":false,\"x\":[\"kinmedai\",\"gonzui\",\"chozame\",\"hirame\",\"amabi\",\"masaba\"],\"xaxis\":\"x4\",\"y\":[7,4,2,1,1,1],\"yaxis\":\"y4\",\"type\":\"histogram\"},{\"alignmentgroup\":\"True\",\"bingroup\":\"x\",\"histfunc\":\"sum\",\"hovertemplate\":\"weapon_name=quadhopper_black\\u003cbr\\u003erule_name=nawabari\\u003cbr\\u003estage_name=%{x}\\u003cbr\\u003esum of count=%{y}\\u003cextra\\u003e\\u003c\\u002fextra\\u003e\",\"legendgroup\":\"quadhopper_black\",\"marker\":{\"color\":\"#19d3f3\",\"pattern\":{\"shape\":\"\"}},\"name\":\"quadhopper_black\",\"offsetgroup\":\"quadhopper_black\",\"orientation\":\"v\",\"showlegend\":true,\"x\":[\"masaba\"],\"xaxis\":\"x3\",\"y\":[1],\"yaxis\":\"y3\",\"type\":\"histogram\"},{\"alignmentgroup\":\"True\",\"bingroup\":\"x\",\"histfunc\":\"sum\",\"hovertemplate\":\"weapon_name=quadhopper_black\\u003cbr\\u003erule_name=area\\u003cbr\\u003estage_name=%{x}\\u003cbr\\u003esum of count=%{y}\\u003cextra\\u003e\\u003c\\u002fextra\\u003e\",\"legendgroup\":\"quadhopper_black\",\"marker\":{\"color\":\"#19d3f3\",\"pattern\":{\"shape\":\"\"}},\"name\":\"quadhopper_black\",\"offsetgroup\":\"quadhopper_black\",\"orientation\":\"v\",\"showlegend\":false,\"x\":[\"namero\",\"amabi\",\"kinmedai\",\"masaba\"],\"xaxis\":\"x4\",\"y\":[6,2,1,1],\"yaxis\":\"y4\",\"type\":\"histogram\"},{\"alignmentgroup\":\"True\",\"bingroup\":\"x\",\"histfunc\":\"sum\",\"hovertemplate\":\"weapon_name=52gal\\u003cbr\\u003erule_name=hoko\\u003cbr\\u003estage_name=%{x}\\u003cbr\\u003esum of count=%{y}\\u003cextra\\u003e\\u003c\\u002fextra\\u003e\",\"legendgroup\":\"52gal\",\"marker\":{\"color\":\"#FF6692\",\"pattern\":{\"shape\":\"\"}},\"name\":\"52gal\",\"offsetgroup\":\"52gal\",\"orientation\":\"v\",\"showlegend\":true,\"x\":[\"namero\",\"masaba\"],\"xaxis\":\"x2\",\"y\":[2,1],\"yaxis\":\"y2\",\"type\":\"histogram\"},{\"alignmentgroup\":\"True\",\"bingroup\":\"x\",\"histfunc\":\"sum\",\"hovertemplate\":\"weapon_name=52gal\\u003cbr\\u003erule_name=nawabari\\u003cbr\\u003estage_name=%{x}\\u003cbr\\u003esum of count=%{y}\\u003cextra\\u003e\\u003c\\u002fextra\\u003e\",\"legendgroup\":\"52gal\",\"marker\":{\"color\":\"#FF6692\",\"pattern\":{\"shape\":\"\"}},\"name\":\"52gal\",\"offsetgroup\":\"52gal\",\"orientation\":\"v\",\"showlegend\":false,\"x\":[\"yagara\",\"gonzui\",\"mahimahi\",\"kinmedai\",\"namero\",\"masaba\",\"sumeshi\",\"chozame\",\"amabi\",\"kusaya\",\"yunohana\"],\"xaxis\":\"x3\",\"y\":[6,5,4,3,3,2,2,2,1,1,1],\"yaxis\":\"y3\",\"type\":\"histogram\"},{\"alignmentgroup\":\"True\",\"bingroup\":\"x\",\"histfunc\":\"sum\",\"hovertemplate\":\"weapon_name=52gal\\u003cbr\\u003erule_name=area\\u003cbr\\u003estage_name=%{x}\\u003cbr\\u003esum of count=%{y}\\u003cextra\\u003e\\u003c\\u002fextra\\u003e\",\"legendgroup\":\"52gal\",\"marker\":{\"color\":\"#FF6692\",\"pattern\":{\"shape\":\"\"}},\"name\":\"52gal\",\"offsetgroup\":\"52gal\",\"orientation\":\"v\",\"showlegend\":false,\"x\":[\"gonzui\",\"kinmedai\",\"namero\"],\"xaxis\":\"x4\",\"y\":[5,3,3],\"yaxis\":\"y4\",\"type\":\"histogram\"},{\"alignmentgroup\":\"True\",\"bingroup\":\"x\",\"histfunc\":\"sum\",\"hovertemplate\":\"weapon_name=hotblaster\\u003cbr\\u003erule_name=yagura\\u003cbr\\u003estage_name=%{x}\\u003cbr\\u003esum of count=%{y}\\u003cextra\\u003e\\u003c\\u002fextra\\u003e\",\"legendgroup\":\"hotblaster\",\"marker\":{\"color\":\"#B6E880\",\"pattern\":{\"shape\":\"\"}},\"name\":\"hotblaster\",\"offsetgroup\":\"hotblaster\",\"orientation\":\"v\",\"showlegend\":true,\"x\":[\"gonzui\",\"zatou\",\"kinmedai\",\"mategai\"],\"xaxis\":\"x\",\"y\":[5,5,2,2],\"yaxis\":\"y\",\"type\":\"histogram\"},{\"alignmentgroup\":\"True\",\"bingroup\":\"x\",\"histfunc\":\"sum\",\"hovertemplate\":\"weapon_name=hotblaster\\u003cbr\\u003erule_name=area\\u003cbr\\u003estage_name=%{x}\\u003cbr\\u003esum of count=%{y}\\u003cextra\\u003e\\u003c\\u002fextra\\u003e\",\"legendgroup\":\"hotblaster\",\"marker\":{\"color\":\"#B6E880\",\"pattern\":{\"shape\":\"\"}},\"name\":\"hotblaster\",\"offsetgroup\":\"hotblaster\",\"orientation\":\"v\",\"showlegend\":false,\"x\":[\"mahimahi\",\"yunohana\"],\"xaxis\":\"x4\",\"y\":[2,1],\"yaxis\":\"y4\",\"type\":\"histogram\"},{\"alignmentgroup\":\"True\",\"bingroup\":\"x\",\"histfunc\":\"sum\",\"hovertemplate\":\"weapon_name=hokusai\\u003cbr\\u003erule_name=asari\\u003cbr\\u003estage_name=%{x}\\u003cbr\\u003esum of count=%{y}\\u003cextra\\u003e\\u003c\\u002fextra\\u003e\",\"legendgroup\":\"hokusai\",\"marker\":{\"color\":\"#FF97FF\",\"pattern\":{\"shape\":\"\"}},\"name\":\"hokusai\",\"offsetgroup\":\"hokusai\",\"orientation\":\"v\",\"showlegend\":true,\"x\":[\"sumeshi\",\"yagara\"],\"xaxis\":\"x5\",\"y\":[5,1],\"yaxis\":\"y5\",\"type\":\"histogram\"},{\"alignmentgroup\":\"True\",\"bingroup\":\"x\",\"histfunc\":\"sum\",\"hovertemplate\":\"weapon_name=hokusai\\u003cbr\\u003erule_name=tricolor\\u003cbr\\u003estage_name=%{x}\\u003cbr\\u003esum of count=%{y}\\u003cextra\\u003e\\u003c\\u002fextra\\u003e\",\"legendgroup\":\"hokusai\",\"marker\":{\"color\":\"#FF97FF\",\"pattern\":{\"shape\":\"\"}},\"name\":\"hokusai\",\"offsetgroup\":\"hokusai\",\"orientation\":\"v\",\"showlegend\":false,\"x\":[\"mategai\"],\"xaxis\":\"x6\",\"y\":[3],\"yaxis\":\"y6\",\"type\":\"histogram\"},{\"alignmentgroup\":\"True\",\"bingroup\":\"x\",\"histfunc\":\"sum\",\"hovertemplate\":\"weapon_name=splatroller_collabo\\u003cbr\\u003erule_name=yagura\\u003cbr\\u003estage_name=%{x}\\u003cbr\\u003esum of count=%{y}\\u003cextra\\u003e\\u003c\\u002fextra\\u003e\",\"legendgroup\":\"splatroller_collabo\",\"marker\":{\"color\":\"#FECB52\",\"pattern\":{\"shape\":\"\"}},\"name\":\"splatroller_collabo\",\"offsetgroup\":\"splatroller_collabo\",\"orientation\":\"v\",\"showlegend\":true,\"x\":[\"chozame\",\"kusaya\"],\"xaxis\":\"x\",\"y\":[5,4],\"yaxis\":\"y\",\"type\":\"histogram\"},{\"alignmentgroup\":\"True\",\"bingroup\":\"x\",\"histfunc\":\"sum\",\"hovertemplate\":\"weapon_name=splatroller_collabo\\u003cbr\\u003erule_name=hoko\\u003cbr\\u003estage_name=%{x}\\u003cbr\\u003esum of count=%{y}\\u003cextra\\u003e\\u003c\\u002fextra\\u003e\",\"legendgroup\":\"splatroller_collabo\",\"marker\":{\"color\":\"#FECB52\",\"pattern\":{\"shape\":\"\"}},\"name\":\"splatroller_collabo\",\"offsetgroup\":\"splatroller_collabo\",\"orientation\":\"v\",\"showlegend\":false,\"x\":[\"gonzui\",\"manta\"],\"xaxis\":\"x2\",\"y\":[5,4],\"yaxis\":\"y2\",\"type\":\"histogram\"},{\"alignmentgroup\":\"True\",\"bingroup\":\"x\",\"histfunc\":\"sum\",\"hovertemplate\":\"weapon_name=splatroller_collabo\\u003cbr\\u003erule_name=nawabari\\u003cbr\\u003estage_name=%{x}\\u003cbr\\u003esum of count=%{y}\\u003cextra\\u003e\\u003c\\u002fextra\\u003e\",\"legendgroup\":\"splatroller_collabo\",\"marker\":{\"color\":\"#FECB52\",\"pattern\":{\"shape\":\"\"}},\"name\":\"splatroller_collabo\",\"offsetgroup\":\"splatroller_collabo\",\"orientation\":\"v\",\"showlegend\":false,\"x\":[\"nampla\",\"yunohana\"],\"xaxis\":\"x3\",\"y\":[1,1],\"yaxis\":\"y3\",\"type\":\"histogram\"},{\"alignmentgroup\":\"True\",\"bingroup\":\"x\",\"histfunc\":\"sum\",\"hovertemplate\":\"weapon_name=splatroller_collabo\\u003cbr\\u003erule_name=area\\u003cbr\\u003estage_name=%{x}\\u003cbr\\u003esum of count=%{y}\\u003cextra\\u003e\\u003c\\u002fextra\\u003e\",\"legendgroup\":\"splatroller_collabo\",\"marker\":{\"color\":\"#FECB52\",\"pattern\":{\"shape\":\"\"}},\"name\":\"splatroller_collabo\",\"offsetgroup\":\"splatroller_collabo\",\"orientation\":\"v\",\"showlegend\":false,\"x\":[\"namero\",\"sumeshi\",\"kinmedai\"],\"xaxis\":\"x4\",\"y\":[2,2,1],\"yaxis\":\"y4\",\"type\":\"histogram\"},{\"alignmentgroup\":\"True\",\"bingroup\":\"x\",\"histfunc\":\"sum\",\"hovertemplate\":\"weapon_name=splatroller_collabo\\u003cbr\\u003erule_name=asari\\u003cbr\\u003estage_name=%{x}\\u003cbr\\u003esum of count=%{y}\\u003cextra\\u003e\\u003c\\u002fextra\\u003e\",\"legendgroup\":\"splatroller_collabo\",\"marker\":{\"color\":\"#FECB52\",\"pattern\":{\"shape\":\"\"}},\"name\":\"splatroller_collabo\",\"offsetgroup\":\"splatroller_collabo\",\"orientation\":\"v\",\"showlegend\":false,\"x\":[\"yagara\",\"sumeshi\"],\"xaxis\":\"x5\",\"y\":[1,1],\"yaxis\":\"y5\",\"type\":\"histogram\"},{\"alignmentgroup\":\"True\",\"bingroup\":\"x\",\"histfunc\":\"sum\",\"hovertemplate\":\"weapon_name=drivewiper\\u003cbr\\u003erule_name=hoko\\u003cbr\\u003estage_name=%{x}\\u003cbr\\u003esum of count=%{y}\\u003cextra\\u003e\\u003c\\u002fextra\\u003e\",\"legendgroup\":\"drivewiper\",\"marker\":{\"color\":\"#636efa\",\"pattern\":{\"shape\":\"\"}},\"name\":\"drivewiper\",\"offsetgroup\":\"drivewiper\",\"orientation\":\"v\",\"showlegend\":true,\"x\":[\"masaba\",\"kusaya\"],\"xaxis\":\"x2\",\"y\":[4,1],\"yaxis\":\"y2\",\"type\":\"histogram\"},{\"alignmentgroup\":\"True\",\"bingroup\":\"x\",\"histfunc\":\"sum\",\"hovertemplate\":\"weapon_name=drivewiper\\u003cbr\\u003erule_name=nawabari\\u003cbr\\u003estage_name=%{x}\\u003cbr\\u003esum of count=%{y}\\u003cextra\\u003e\\u003c\\u002fextra\\u003e\",\"legendgroup\":\"drivewiper\",\"marker\":{\"color\":\"#636efa\",\"pattern\":{\"shape\":\"\"}},\"name\":\"drivewiper\",\"offsetgroup\":\"drivewiper\",\"orientation\":\"v\",\"showlegend\":false,\"x\":[\"gonzui\",\"yagara\"],\"xaxis\":\"x3\",\"y\":[1,1],\"yaxis\":\"y3\",\"type\":\"histogram\"},{\"alignmentgroup\":\"True\",\"bingroup\":\"x\",\"histfunc\":\"sum\",\"hovertemplate\":\"weapon_name=drivewiper\\u003cbr\\u003erule_name=area\\u003cbr\\u003estage_name=%{x}\\u003cbr\\u003esum of count=%{y}\\u003cextra\\u003e\\u003c\\u002fextra\\u003e\",\"legendgroup\":\"drivewiper\",\"marker\":{\"color\":\"#636efa\",\"pattern\":{\"shape\":\"\"}},\"name\":\"drivewiper\",\"offsetgroup\":\"drivewiper\",\"orientation\":\"v\",\"showlegend\":false,\"x\":[\"mahimahi\",\"yunohana\"],\"xaxis\":\"x4\",\"y\":[5,5],\"yaxis\":\"y4\",\"type\":\"histogram\"},{\"alignmentgroup\":\"True\",\"bingroup\":\"x\",\"histfunc\":\"sum\",\"hovertemplate\":\"weapon_name=bold_neo\\u003cbr\\u003erule_name=yagura\\u003cbr\\u003estage_name=%{x}\\u003cbr\\u003esum of count=%{y}\\u003cextra\\u003e\\u003c\\u002fextra\\u003e\",\"legendgroup\":\"bold_neo\",\"marker\":{\"color\":\"#EF553B\",\"pattern\":{\"shape\":\"\"}},\"name\":\"bold_neo\",\"offsetgroup\":\"bold_neo\",\"orientation\":\"v\",\"showlegend\":true,\"x\":[\"kinmedai\",\"manta\"],\"xaxis\":\"x\",\"y\":[4,2],\"yaxis\":\"y\",\"type\":\"histogram\"},{\"alignmentgroup\":\"True\",\"bingroup\":\"x\",\"histfunc\":\"sum\",\"hovertemplate\":\"weapon_name=bold_neo\\u003cbr\\u003erule_name=area\\u003cbr\\u003estage_name=%{x}\\u003cbr\\u003esum of count=%{y}\\u003cextra\\u003e\\u003c\\u002fextra\\u003e\",\"legendgroup\":\"bold_neo\",\"marker\":{\"color\":\"#EF553B\",\"pattern\":{\"shape\":\"\"}},\"name\":\"bold_neo\",\"offsetgroup\":\"bold_neo\",\"orientation\":\"v\",\"showlegend\":false,\"x\":[\"nampla\"],\"xaxis\":\"x4\",\"y\":[4],\"yaxis\":\"y4\",\"type\":\"histogram\"},{\"alignmentgroup\":\"True\",\"bingroup\":\"x\",\"histfunc\":\"sum\",\"hovertemplate\":\"weapon_name=bold_neo\\u003cbr\\u003erule_name=asari\\u003cbr\\u003estage_name=%{x}\\u003cbr\\u003esum of count=%{y}\\u003cextra\\u003e\\u003c\\u002fextra\\u003e\",\"legendgroup\":\"bold_neo\",\"marker\":{\"color\":\"#EF553B\",\"pattern\":{\"shape\":\"\"}},\"name\":\"bold_neo\",\"offsetgroup\":\"bold_neo\",\"orientation\":\"v\",\"showlegend\":false,\"x\":[\"masaba\"],\"xaxis\":\"x5\",\"y\":[2],\"yaxis\":\"y5\",\"type\":\"histogram\"},{\"alignmentgroup\":\"True\",\"bingroup\":\"x\",\"histfunc\":\"sum\",\"hovertemplate\":\"weapon_name=campingshelter\\u003cbr\\u003erule_name=hoko\\u003cbr\\u003estage_name=%{x}\\u003cbr\\u003esum of count=%{y}\\u003cextra\\u003e\\u003c\\u002fextra\\u003e\",\"legendgroup\":\"campingshelter\",\"marker\":{\"color\":\"#00cc96\",\"pattern\":{\"shape\":\"\"}},\"name\":\"campingshelter\",\"offsetgroup\":\"campingshelter\",\"orientation\":\"v\",\"showlegend\":true,\"x\":[\"kombu\"],\"xaxis\":\"x2\",\"y\":[2],\"yaxis\":\"y2\",\"type\":\"histogram\"},{\"alignmentgroup\":\"True\",\"bingroup\":\"x\",\"histfunc\":\"sum\",\"hovertemplate\":\"weapon_name=campingshelter\\u003cbr\\u003erule_name=area\\u003cbr\\u003estage_name=%{x}\\u003cbr\\u003esum of count=%{y}\\u003cextra\\u003e\\u003c\\u002fextra\\u003e\",\"legendgroup\":\"campingshelter\",\"marker\":{\"color\":\"#00cc96\",\"pattern\":{\"shape\":\"\"}},\"name\":\"campingshelter\",\"offsetgroup\":\"campingshelter\",\"orientation\":\"v\",\"showlegend\":false,\"x\":[\"kinmedai\",\"sumeshi\"],\"xaxis\":\"x4\",\"y\":[4,1],\"yaxis\":\"y4\",\"type\":\"histogram\"},{\"alignmentgroup\":\"True\",\"bingroup\":\"x\",\"histfunc\":\"sum\",\"hovertemplate\":\"weapon_name=campingshelter\\u003cbr\\u003erule_name=asari\\u003cbr\\u003estage_name=%{x}\\u003cbr\\u003esum of count=%{y}\\u003cextra\\u003e\\u003c\\u002fextra\\u003e\",\"legendgroup\":\"campingshelter\",\"marker\":{\"color\":\"#00cc96\",\"pattern\":{\"shape\":\"\"}},\"name\":\"campingshelter\",\"offsetgroup\":\"campingshelter\",\"orientation\":\"v\",\"showlegend\":false,\"x\":[\"yagara\",\"sumeshi\"],\"xaxis\":\"x5\",\"y\":[1,1],\"yaxis\":\"y5\",\"type\":\"histogram\"},{\"alignmentgroup\":\"True\",\"bingroup\":\"x\",\"histfunc\":\"sum\",\"hovertemplate\":\"weapon_name=bucketslosher\\u003cbr\\u003erule_name=yagura\\u003cbr\\u003estage_name=%{x}\\u003cbr\\u003esum of count=%{y}\\u003cextra\\u003e\\u003c\\u002fextra\\u003e\",\"legendgroup\":\"bucketslosher\",\"marker\":{\"color\":\"#ab63fa\",\"pattern\":{\"shape\":\"\"}},\"name\":\"bucketslosher\",\"offsetgroup\":\"bucketslosher\",\"orientation\":\"v\",\"showlegend\":true,\"x\":[\"hirame\",\"mategai\",\"kusaya\",\"yunohana\",\"namero\",\"mahimahi\",\"chozame\"],\"xaxis\":\"x\",\"y\":[2,2,1,1,1,1,1],\"yaxis\":\"y\",\"type\":\"histogram\"},{\"alignmentgroup\":\"True\",\"bingroup\":\"x\",\"histfunc\":\"sum\",\"hovertemplate\":\"weapon_name=bucketslosher\\u003cbr\\u003erule_name=hoko\\u003cbr\\u003estage_name=%{x}\\u003cbr\\u003esum of count=%{y}\\u003cextra\\u003e\\u003c\\u002fextra\\u003e\",\"legendgroup\":\"bucketslosher\",\"marker\":{\"color\":\"#ab63fa\",\"pattern\":{\"shape\":\"\"}},\"name\":\"bucketslosher\",\"offsetgroup\":\"bucketslosher\",\"orientation\":\"v\",\"showlegend\":false,\"x\":[\"kombu\",\"yunohana\",\"kusaya\"],\"xaxis\":\"x2\",\"y\":[2,1,1],\"yaxis\":\"y2\",\"type\":\"histogram\"},{\"alignmentgroup\":\"True\",\"bingroup\":\"x\",\"histfunc\":\"sum\",\"hovertemplate\":\"weapon_name=bucketslosher\\u003cbr\\u003erule_name=nawabari\\u003cbr\\u003estage_name=%{x}\\u003cbr\\u003esum of count=%{y}\\u003cextra\\u003e\\u003c\\u002fextra\\u003e\",\"legendgroup\":\"bucketslosher\",\"marker\":{\"color\":\"#ab63fa\",\"pattern\":{\"shape\":\"\"}},\"name\":\"bucketslosher\",\"offsetgroup\":\"bucketslosher\",\"orientation\":\"v\",\"showlegend\":false,\"x\":[\"mategai\",\"sumeshi\"],\"xaxis\":\"x3\",\"y\":[2,1],\"yaxis\":\"y3\",\"type\":\"histogram\"},{\"alignmentgroup\":\"True\",\"bingroup\":\"x\",\"histfunc\":\"sum\",\"hovertemplate\":\"weapon_name=bucketslosher\\u003cbr\\u003erule_name=area\\u003cbr\\u003estage_name=%{x}\\u003cbr\\u003esum of count=%{y}\\u003cextra\\u003e\\u003c\\u002fextra\\u003e\",\"legendgroup\":\"bucketslosher\",\"marker\":{\"color\":\"#ab63fa\",\"pattern\":{\"shape\":\"\"}},\"name\":\"bucketslosher\",\"offsetgroup\":\"bucketslosher\",\"orientation\":\"v\",\"showlegend\":false,\"x\":[\"mahimahi\",\"amabi\",\"masaba\",\"kombu\"],\"xaxis\":\"x4\",\"y\":[4,2,2,1],\"yaxis\":\"y4\",\"type\":\"histogram\"},{\"alignmentgroup\":\"True\",\"bingroup\":\"x\",\"histfunc\":\"sum\",\"hovertemplate\":\"weapon_name=bucketslosher\\u003cbr\\u003erule_name=asari\\u003cbr\\u003estage_name=%{x}\\u003cbr\\u003esum of count=%{y}\\u003cextra\\u003e\\u003c\\u002fextra\\u003e\",\"legendgroup\":\"bucketslosher\",\"marker\":{\"color\":\"#ab63fa\",\"pattern\":{\"shape\":\"\"}},\"name\":\"bucketslosher\",\"offsetgroup\":\"bucketslosher\",\"orientation\":\"v\",\"showlegend\":false,\"x\":[\"mahimahi\",\"yunohana\"],\"xaxis\":\"x5\",\"y\":[1,1],\"yaxis\":\"y5\",\"type\":\"histogram\"},{\"alignmentgroup\":\"True\",\"bingroup\":\"x\",\"histfunc\":\"sum\",\"hovertemplate\":\"weapon_name=pablo\\u003cbr\\u003erule_name=tricolor\\u003cbr\\u003estage_name=%{x}\\u003cbr\\u003esum of count=%{y}\\u003cextra\\u003e\\u003c\\u002fextra\\u003e\",\"legendgroup\":\"pablo\",\"marker\":{\"color\":\"#FFA15A\",\"pattern\":{\"shape\":\"\"}},\"name\":\"pablo\",\"offsetgroup\":\"pablo\",\"orientation\":\"v\",\"showlegend\":true,\"x\":[\"mategai\"],\"xaxis\":\"x6\",\"y\":[4],\"yaxis\":\"y6\",\"type\":\"histogram\"},{\"alignmentgroup\":\"True\",\"bingroup\":\"x\",\"histfunc\":\"sum\",\"hovertemplate\":\"weapon_name=nova\\u003cbr\\u003erule_name=yagura\\u003cbr\\u003estage_name=%{x}\\u003cbr\\u003esum of count=%{y}\\u003cextra\\u003e\\u003c\\u002fextra\\u003e\",\"legendgroup\":\"nova\",\"marker\":{\"color\":\"#19d3f3\",\"pattern\":{\"shape\":\"\"}},\"name\":\"nova\",\"offsetgroup\":\"nova\",\"orientation\":\"v\",\"showlegend\":true,\"x\":[\"hirame\",\"yagara\"],\"xaxis\":\"x\",\"y\":[4,1],\"yaxis\":\"y\",\"type\":\"histogram\"},{\"alignmentgroup\":\"True\",\"bingroup\":\"x\",\"histfunc\":\"sum\",\"hovertemplate\":\"weapon_name=maneuver\\u003cbr\\u003erule_name=yagura\\u003cbr\\u003estage_name=%{x}\\u003cbr\\u003esum of count=%{y}\\u003cextra\\u003e\\u003c\\u002fextra\\u003e\",\"legendgroup\":\"maneuver\",\"marker\":{\"color\":\"#FF6692\",\"pattern\":{\"shape\":\"\"}},\"name\":\"maneuver\",\"offsetgroup\":\"maneuver\",\"orientation\":\"v\",\"showlegend\":true,\"x\":[\"hirame\"],\"xaxis\":\"x\",\"y\":[1],\"yaxis\":\"y\",\"type\":\"histogram\"},{\"alignmentgroup\":\"True\",\"bingroup\":\"x\",\"histfunc\":\"sum\",\"hovertemplate\":\"weapon_name=maneuver\\u003cbr\\u003erule_name=nawabari\\u003cbr\\u003estage_name=%{x}\\u003cbr\\u003esum of count=%{y}\\u003cextra\\u003e\\u003c\\u002fextra\\u003e\",\"legendgroup\":\"maneuver\",\"marker\":{\"color\":\"#FF6692\",\"pattern\":{\"shape\":\"\"}},\"name\":\"maneuver\",\"offsetgroup\":\"maneuver\",\"orientation\":\"v\",\"showlegend\":false,\"x\":[\"sumeshi\"],\"xaxis\":\"x3\",\"y\":[3],\"yaxis\":\"y3\",\"type\":\"histogram\"},{\"alignmentgroup\":\"True\",\"bingroup\":\"x\",\"histfunc\":\"sum\",\"hovertemplate\":\"weapon_name=sshooter\\u003cbr\\u003erule_name=nawabari\\u003cbr\\u003estage_name=%{x}\\u003cbr\\u003esum of count=%{y}\\u003cextra\\u003e\\u003c\\u002fextra\\u003e\",\"legendgroup\":\"sshooter\",\"marker\":{\"color\":\"#B6E880\",\"pattern\":{\"shape\":\"\"}},\"name\":\"sshooter\",\"offsetgroup\":\"sshooter\",\"orientation\":\"v\",\"showlegend\":true,\"x\":[\"masaba\",\"sumeshi\",\"chozame\",\"yagara\"],\"xaxis\":\"x3\",\"y\":[3,3,2,1],\"yaxis\":\"y3\",\"type\":\"histogram\"},{\"alignmentgroup\":\"True\",\"bingroup\":\"x\",\"histfunc\":\"sum\",\"hovertemplate\":\"weapon_name=sshooter\\u003cbr\\u003erule_name=area\\u003cbr\\u003estage_name=%{x}\\u003cbr\\u003esum of count=%{y}\\u003cextra\\u003e\\u003c\\u002fextra\\u003e\",\"legendgroup\":\"sshooter\",\"marker\":{\"color\":\"#B6E880\",\"pattern\":{\"shape\":\"\"}},\"name\":\"sshooter\",\"offsetgroup\":\"sshooter\",\"orientation\":\"v\",\"showlegend\":false,\"x\":[\"kinmedai\",\"yagara\"],\"xaxis\":\"x4\",\"y\":[3,2],\"yaxis\":\"y4\",\"type\":\"histogram\"},{\"alignmentgroup\":\"True\",\"bingroup\":\"x\",\"histfunc\":\"sum\",\"hovertemplate\":\"weapon_name=parashelter\\u003cbr\\u003erule_name=yagura\\u003cbr\\u003estage_name=%{x}\\u003cbr\\u003esum of count=%{y}\\u003cextra\\u003e\\u003c\\u002fextra\\u003e\",\"legendgroup\":\"parashelter\",\"marker\":{\"color\":\"#FF97FF\",\"pattern\":{\"shape\":\"\"}},\"name\":\"parashelter\",\"offsetgroup\":\"parashelter\",\"orientation\":\"v\",\"showlegend\":true,\"x\":[\"hirame\",\"kusaya\"],\"xaxis\":\"x\",\"y\":[1,1],\"yaxis\":\"y\",\"type\":\"histogram\"},{\"alignmentgroup\":\"True\",\"bingroup\":\"x\",\"histfunc\":\"sum\",\"hovertemplate\":\"weapon_name=parashelter\\u003cbr\\u003erule_name=hoko\\u003cbr\\u003estage_name=%{x}\\u003cbr\\u003esum of count=%{y}\\u003cextra\\u003e\\u003c\\u002fextra\\u003e\",\"legendgroup\":\"parashelter\",\"marker\":{\"color\":\"#FF97FF\",\"pattern\":{\"shape\":\"\"}},\"name\":\"parashelter\",\"offsetgroup\":\"parashelter\",\"orientation\":\"v\",\"showlegend\":false,\"x\":[\"mategai\",\"amabi\"],\"xaxis\":\"x2\",\"y\":[3,3],\"yaxis\":\"y2\",\"type\":\"histogram\"},{\"alignmentgroup\":\"True\",\"bingroup\":\"x\",\"histfunc\":\"sum\",\"hovertemplate\":\"weapon_name=parashelter\\u003cbr\\u003erule_name=nawabari\\u003cbr\\u003estage_name=%{x}\\u003cbr\\u003esum of count=%{y}\\u003cextra\\u003e\\u003c\\u002fextra\\u003e\",\"legendgroup\":\"parashelter\",\"marker\":{\"color\":\"#FF97FF\",\"pattern\":{\"shape\":\"\"}},\"name\":\"parashelter\",\"offsetgroup\":\"parashelter\",\"orientation\":\"v\",\"showlegend\":false,\"x\":[\"kusaya\"],\"xaxis\":\"x3\",\"y\":[1],\"yaxis\":\"y3\",\"type\":\"histogram\"},{\"alignmentgroup\":\"True\",\"bingroup\":\"x\",\"histfunc\":\"sum\",\"hovertemplate\":\"weapon_name=wideroller\\u003cbr\\u003erule_name=nawabari\\u003cbr\\u003estage_name=%{x}\\u003cbr\\u003esum of count=%{y}\\u003cextra\\u003e\\u003c\\u002fextra\\u003e\",\"legendgroup\":\"wideroller\",\"marker\":{\"color\":\"#FECB52\",\"pattern\":{\"shape\":\"\"}},\"name\":\"wideroller\",\"offsetgroup\":\"wideroller\",\"orientation\":\"v\",\"showlegend\":true,\"x\":[\"sumeshi\",\"mahimahi\",\"zatou\"],\"xaxis\":\"x3\",\"y\":[2,1,1],\"yaxis\":\"y3\",\"type\":\"histogram\"},{\"alignmentgroup\":\"True\",\"bingroup\":\"x\",\"histfunc\":\"sum\",\"hovertemplate\":\"weapon_name=wideroller\\u003cbr\\u003erule_name=area\\u003cbr\\u003estage_name=%{x}\\u003cbr\\u003esum of count=%{y}\\u003cextra\\u003e\\u003c\\u002fextra\\u003e\",\"legendgroup\":\"wideroller\",\"marker\":{\"color\":\"#FECB52\",\"pattern\":{\"shape\":\"\"}},\"name\":\"wideroller\",\"offsetgroup\":\"wideroller\",\"orientation\":\"v\",\"showlegend\":false,\"x\":[\"gonzui\",\"yagara\",\"kinmedai\"],\"xaxis\":\"x4\",\"y\":[3,2,1],\"yaxis\":\"y4\",\"type\":\"histogram\"},{\"alignmentgroup\":\"True\",\"bingroup\":\"x\",\"histfunc\":\"sum\",\"hovertemplate\":\"weapon_name=bold\\u003cbr\\u003erule_name=nawabari\\u003cbr\\u003estage_name=%{x}\\u003cbr\\u003esum of count=%{y}\\u003cextra\\u003e\\u003c\\u002fextra\\u003e\",\"legendgroup\":\"bold\",\"marker\":{\"color\":\"#636efa\",\"pattern\":{\"shape\":\"\"}},\"name\":\"bold\",\"offsetgroup\":\"bold\",\"orientation\":\"v\",\"showlegend\":true,\"x\":[\"sumeshi\",\"chozame\"],\"xaxis\":\"x3\",\"y\":[2,1],\"yaxis\":\"y3\",\"type\":\"histogram\"},{\"alignmentgroup\":\"True\",\"bingroup\":\"x\",\"histfunc\":\"sum\",\"hovertemplate\":\"weapon_name=bold\\u003cbr\\u003erule_name=area\\u003cbr\\u003estage_name=%{x}\\u003cbr\\u003esum of count=%{y}\\u003cextra\\u003e\\u003c\\u002fextra\\u003e\",\"legendgroup\":\"bold\",\"marker\":{\"color\":\"#636efa\",\"pattern\":{\"shape\":\"\"}},\"name\":\"bold\",\"offsetgroup\":\"bold\",\"orientation\":\"v\",\"showlegend\":false,\"x\":[\"namero\",\"kinmedai\",\"sumeshi\",\"amabi\"],\"xaxis\":\"x4\",\"y\":[2,1,1,1],\"yaxis\":\"y4\",\"type\":\"histogram\"},{\"alignmentgroup\":\"True\",\"bingroup\":\"x\",\"histfunc\":\"sum\",\"hovertemplate\":\"weapon_name=bold\\u003cbr\\u003erule_name=asari\\u003cbr\\u003estage_name=%{x}\\u003cbr\\u003esum of count=%{y}\\u003cextra\\u003e\\u003c\\u002fextra\\u003e\",\"legendgroup\":\"bold\",\"marker\":{\"color\":\"#636efa\",\"pattern\":{\"shape\":\"\"}},\"name\":\"bold\",\"offsetgroup\":\"bold\",\"orientation\":\"v\",\"showlegend\":false,\"x\":[\"chozame\",\"kinmedai\",\"yagara\"],\"xaxis\":\"x5\",\"y\":[3,1,1],\"yaxis\":\"y5\",\"type\":\"histogram\"},{\"alignmentgroup\":\"True\",\"bingroup\":\"x\",\"histfunc\":\"sum\",\"hovertemplate\":\"weapon_name=hissen\\u003cbr\\u003erule_name=yagura\\u003cbr\\u003estage_name=%{x}\\u003cbr\\u003esum of count=%{y}\\u003cextra\\u003e\\u003c\\u002fextra\\u003e\",\"legendgroup\":\"hissen\",\"marker\":{\"color\":\"#EF553B\",\"pattern\":{\"shape\":\"\"}},\"name\":\"hissen\",\"offsetgroup\":\"hissen\",\"orientation\":\"v\",\"showlegend\":true,\"x\":[\"yunohana\",\"kusaya\",\"hirame\"],\"xaxis\":\"x\",\"y\":[3,2,2],\"yaxis\":\"y\",\"type\":\"histogram\"},{\"alignmentgroup\":\"True\",\"bingroup\":\"x\",\"histfunc\":\"sum\",\"hovertemplate\":\"weapon_name=hissen\\u003cbr\\u003erule_name=nawabari\\u003cbr\\u003estage_name=%{x}\\u003cbr\\u003esum of count=%{y}\\u003cextra\\u003e\\u003c\\u002fextra\\u003e\",\"legendgroup\":\"hissen\",\"marker\":{\"color\":\"#EF553B\",\"pattern\":{\"shape\":\"\"}},\"name\":\"hissen\",\"offsetgroup\":\"hissen\",\"orientation\":\"v\",\"showlegend\":false,\"x\":[\"mahimahi\"],\"xaxis\":\"x3\",\"y\":[1],\"yaxis\":\"y3\",\"type\":\"histogram\"},{\"alignmentgroup\":\"True\",\"bingroup\":\"x\",\"histfunc\":\"sum\",\"hovertemplate\":\"weapon_name=wakaba\\u003cbr\\u003erule_name=yagura\\u003cbr\\u003estage_name=%{x}\\u003cbr\\u003esum of count=%{y}\\u003cextra\\u003e\\u003c\\u002fextra\\u003e\",\"legendgroup\":\"wakaba\",\"marker\":{\"color\":\"#00cc96\",\"pattern\":{\"shape\":\"\"}},\"name\":\"wakaba\",\"offsetgroup\":\"wakaba\",\"orientation\":\"v\",\"showlegend\":true,\"x\":[\"kinmedai\",\"gonzui\"],\"xaxis\":\"x\",\"y\":[3,2],\"yaxis\":\"y\",\"type\":\"histogram\"},{\"alignmentgroup\":\"True\",\"bingroup\":\"x\",\"histfunc\":\"sum\",\"hovertemplate\":\"weapon_name=wakaba\\u003cbr\\u003erule_name=nawabari\\u003cbr\\u003estage_name=%{x}\\u003cbr\\u003esum of count=%{y}\\u003cextra\\u003e\\u003c\\u002fextra\\u003e\",\"legendgroup\":\"wakaba\",\"marker\":{\"color\":\"#00cc96\",\"pattern\":{\"shape\":\"\"}},\"name\":\"wakaba\",\"offsetgroup\":\"wakaba\",\"orientation\":\"v\",\"showlegend\":false,\"x\":[\"masaba\",\"kinmedai\",\"mahimahi\"],\"xaxis\":\"x3\",\"y\":[2,1,1],\"yaxis\":\"y3\",\"type\":\"histogram\"},{\"alignmentgroup\":\"True\",\"bingroup\":\"x\",\"histfunc\":\"sum\",\"hovertemplate\":\"weapon_name=dynamo\\u003cbr\\u003erule_name=yagura\\u003cbr\\u003estage_name=%{x}\\u003cbr\\u003esum of count=%{y}\\u003cextra\\u003e\\u003c\\u002fextra\\u003e\",\"legendgroup\":\"dynamo\",\"marker\":{\"color\":\"#ab63fa\",\"pattern\":{\"shape\":\"\"}},\"name\":\"dynamo\",\"offsetgroup\":\"dynamo\",\"orientation\":\"v\",\"showlegend\":true,\"x\":[\"gonzui\"],\"xaxis\":\"x\",\"y\":[1],\"yaxis\":\"y\",\"type\":\"histogram\"},{\"alignmentgroup\":\"True\",\"bingroup\":\"x\",\"histfunc\":\"sum\",\"hovertemplate\":\"weapon_name=dynamo\\u003cbr\\u003erule_name=hoko\\u003cbr\\u003estage_name=%{x}\\u003cbr\\u003esum of count=%{y}\\u003cextra\\u003e\\u003c\\u002fextra\\u003e\",\"legendgroup\":\"dynamo\",\"marker\":{\"color\":\"#ab63fa\",\"pattern\":{\"shape\":\"\"}},\"name\":\"dynamo\",\"offsetgroup\":\"dynamo\",\"orientation\":\"v\",\"showlegend\":false,\"x\":[\"amabi\",\"mategai\"],\"xaxis\":\"x2\",\"y\":[3,2],\"yaxis\":\"y2\",\"type\":\"histogram\"},{\"alignmentgroup\":\"True\",\"bingroup\":\"x\",\"histfunc\":\"sum\",\"hovertemplate\":\"weapon_name=dynamo\\u003cbr\\u003erule_name=nawabari\\u003cbr\\u003estage_name=%{x}\\u003cbr\\u003esum of count=%{y}\\u003cextra\\u003e\\u003c\\u002fextra\\u003e\",\"legendgroup\":\"dynamo\",\"marker\":{\"color\":\"#ab63fa\",\"pattern\":{\"shape\":\"\"}},\"name\":\"dynamo\",\"offsetgroup\":\"dynamo\",\"orientation\":\"v\",\"showlegend\":false,\"x\":[\"sumeshi\"],\"xaxis\":\"x3\",\"y\":[1],\"yaxis\":\"y3\",\"type\":\"histogram\"},{\"alignmentgroup\":\"True\",\"bingroup\":\"x\",\"histfunc\":\"sum\",\"hovertemplate\":\"weapon_name=sharp\\u003cbr\\u003erule_name=hoko\\u003cbr\\u003estage_name=%{x}\\u003cbr\\u003esum of count=%{y}\\u003cextra\\u003e\\u003c\\u002fextra\\u003e\",\"legendgroup\":\"sharp\",\"marker\":{\"color\":\"#FFA15A\",\"pattern\":{\"shape\":\"\"}},\"name\":\"sharp\",\"offsetgroup\":\"sharp\",\"orientation\":\"v\",\"showlegend\":true,\"x\":[\"amabi\"],\"xaxis\":\"x2\",\"y\":[1],\"yaxis\":\"y2\",\"type\":\"histogram\"},{\"alignmentgroup\":\"True\",\"bingroup\":\"x\",\"histfunc\":\"sum\",\"hovertemplate\":\"weapon_name=sharp\\u003cbr\\u003erule_name=nawabari\\u003cbr\\u003estage_name=%{x}\\u003cbr\\u003esum of count=%{y}\\u003cextra\\u003e\\u003c\\u002fextra\\u003e\",\"legendgroup\":\"sharp\",\"marker\":{\"color\":\"#FFA15A\",\"pattern\":{\"shape\":\"\"}},\"name\":\"sharp\",\"offsetgroup\":\"sharp\",\"orientation\":\"v\",\"showlegend\":false,\"x\":[\"yagara\",\"chozame\",\"kinmedai\",\"mahimahi\"],\"xaxis\":\"x3\",\"y\":[3,2,2,1],\"yaxis\":\"y3\",\"type\":\"histogram\"},{\"alignmentgroup\":\"True\",\"bingroup\":\"x\",\"histfunc\":\"sum\",\"hovertemplate\":\"weapon_name=drivewiper_deco\\u003cbr\\u003erule_name=yagura\\u003cbr\\u003estage_name=%{x}\\u003cbr\\u003esum of count=%{y}\\u003cextra\\u003e\\u003c\\u002fextra\\u003e\",\"legendgroup\":\"drivewiper_deco\",\"marker\":{\"color\":\"#19d3f3\",\"pattern\":{\"shape\":\"\"}},\"name\":\"drivewiper_deco\",\"offsetgroup\":\"drivewiper_deco\",\"orientation\":\"v\",\"showlegend\":true,\"x\":[\"hirame\",\"sumeshi\"],\"xaxis\":\"x\",\"y\":[2,2],\"yaxis\":\"y\",\"type\":\"histogram\"},{\"alignmentgroup\":\"True\",\"bingroup\":\"x\",\"histfunc\":\"sum\",\"hovertemplate\":\"weapon_name=drivewiper_deco\\u003cbr\\u003erule_name=area\\u003cbr\\u003estage_name=%{x}\\u003cbr\\u003esum of count=%{y}\\u003cextra\\u003e\\u003c\\u002fextra\\u003e\",\"legendgroup\":\"drivewiper_deco\",\"marker\":{\"color\":\"#19d3f3\",\"pattern\":{\"shape\":\"\"}},\"name\":\"drivewiper_deco\",\"offsetgroup\":\"drivewiper_deco\",\"orientation\":\"v\",\"showlegend\":false,\"x\":[\"masaba\",\"kombu\"],\"xaxis\":\"x4\",\"y\":[2,1],\"yaxis\":\"y4\",\"type\":\"histogram\"},{\"alignmentgroup\":\"True\",\"bingroup\":\"x\",\"histfunc\":\"sum\",\"hovertemplate\":\"weapon_name=drivewiper_deco\\u003cbr\\u003erule_name=asari\\u003cbr\\u003estage_name=%{x}\\u003cbr\\u003esum of count=%{y}\\u003cextra\\u003e\\u003c\\u002fextra\\u003e\",\"legendgroup\":\"drivewiper_deco\",\"marker\":{\"color\":\"#19d3f3\",\"pattern\":{\"shape\":\"\"}},\"name\":\"drivewiper_deco\",\"offsetgroup\":\"drivewiper_deco\",\"orientation\":\"v\",\"showlegend\":false,\"x\":[\"taraport\",\"mahimahi\"],\"xaxis\":\"x5\",\"y\":[2,1],\"yaxis\":\"y5\",\"type\":\"histogram\"},{\"alignmentgroup\":\"True\",\"bingroup\":\"x\",\"histfunc\":\"sum\",\"hovertemplate\":\"weapon_name=pablo_hue\\u003cbr\\u003erule_name=tricolor\\u003cbr\\u003estage_name=%{x}\\u003cbr\\u003esum of count=%{y}\\u003cextra\\u003e\\u003c\\u002fextra\\u003e\",\"legendgroup\":\"pablo_hue\",\"marker\":{\"color\":\"#FF6692\",\"pattern\":{\"shape\":\"\"}},\"name\":\"pablo_hue\",\"offsetgroup\":\"pablo_hue\",\"orientation\":\"v\",\"showlegend\":true,\"x\":[\"mategai\"],\"xaxis\":\"x6\",\"y\":[2],\"yaxis\":\"y6\",\"type\":\"histogram\"},{\"alignmentgroup\":\"True\",\"bingroup\":\"x\",\"histfunc\":\"sum\",\"hovertemplate\":\"weapon_name=liter4k\\u003cbr\\u003erule_name=hoko\\u003cbr\\u003estage_name=%{x}\\u003cbr\\u003esum of count=%{y}\\u003cextra\\u003e\\u003c\\u002fextra\\u003e\",\"legendgroup\":\"liter4k\",\"marker\":{\"color\":\"#B6E880\",\"pattern\":{\"shape\":\"\"}},\"name\":\"liter4k\",\"offsetgroup\":\"liter4k\",\"orientation\":\"v\",\"showlegend\":true,\"x\":[\"namero\",\"masaba\"],\"xaxis\":\"x2\",\"y\":[1,1],\"yaxis\":\"y2\",\"type\":\"histogram\"},{\"alignmentgroup\":\"True\",\"bingroup\":\"x\",\"histfunc\":\"sum\",\"hovertemplate\":\"weapon_name=liter4k\\u003cbr\\u003erule_name=nawabari\\u003cbr\\u003estage_name=%{x}\\u003cbr\\u003esum of count=%{y}\\u003cextra\\u003e\\u003c\\u002fextra\\u003e\",\"legendgroup\":\"liter4k\",\"marker\":{\"color\":\"#B6E880\",\"pattern\":{\"shape\":\"\"}},\"name\":\"liter4k\",\"offsetgroup\":\"liter4k\",\"orientation\":\"v\",\"showlegend\":false,\"x\":[\"namero\",\"gonzui\",\"chozame\",\"kinmedai\",\"sumeshi\",\"yagara\"],\"xaxis\":\"x3\",\"y\":[2,1,1,1,1,1],\"yaxis\":\"y3\",\"type\":\"histogram\"},{\"alignmentgroup\":\"True\",\"bingroup\":\"x\",\"histfunc\":\"sum\",\"hovertemplate\":\"weapon_name=kelvin525\\u003cbr\\u003erule_name=yagura\\u003cbr\\u003estage_name=%{x}\\u003cbr\\u003esum of count=%{y}\\u003cextra\\u003e\\u003c\\u002fextra\\u003e\",\"legendgroup\":\"kelvin525\",\"marker\":{\"color\":\"#FF97FF\",\"pattern\":{\"shape\":\"\"}},\"name\":\"kelvin525\",\"offsetgroup\":\"kelvin525\",\"orientation\":\"v\",\"showlegend\":true,\"x\":[\"chozame\"],\"xaxis\":\"x\",\"y\":[2],\"yaxis\":\"y\",\"type\":\"histogram\"},{\"alignmentgroup\":\"True\",\"bingroup\":\"x\",\"histfunc\":\"sum\",\"hovertemplate\":\"weapon_name=kelvin525\\u003cbr\\u003erule_name=nawabari\\u003cbr\\u003estage_name=%{x}\\u003cbr\\u003esum of count=%{y}\\u003cextra\\u003e\\u003c\\u002fextra\\u003e\",\"legendgroup\":\"kelvin525\",\"marker\":{\"color\":\"#FF97FF\",\"pattern\":{\"shape\":\"\"}},\"name\":\"kelvin525\",\"offsetgroup\":\"kelvin525\",\"orientation\":\"v\",\"showlegend\":false,\"x\":[\"masaba\"],\"xaxis\":\"x3\",\"y\":[1],\"yaxis\":\"y3\",\"type\":\"histogram\"},{\"alignmentgroup\":\"True\",\"bingroup\":\"x\",\"histfunc\":\"sum\",\"hovertemplate\":\"weapon_name=prime_collabo\\u003cbr\\u003erule_name=yagura\\u003cbr\\u003estage_name=%{x}\\u003cbr\\u003esum of count=%{y}\\u003cextra\\u003e\\u003c\\u002fextra\\u003e\",\"legendgroup\":\"prime_collabo\",\"marker\":{\"color\":\"#FECB52\",\"pattern\":{\"shape\":\"\"}},\"name\":\"prime_collabo\",\"offsetgroup\":\"prime_collabo\",\"orientation\":\"v\",\"showlegend\":true,\"x\":[\"kusaya\"],\"xaxis\":\"x\",\"y\":[2],\"yaxis\":\"y\",\"type\":\"histogram\"},{\"alignmentgroup\":\"True\",\"bingroup\":\"x\",\"histfunc\":\"sum\",\"hovertemplate\":\"weapon_name=prime_collabo\\u003cbr\\u003erule_name=hoko\\u003cbr\\u003estage_name=%{x}\\u003cbr\\u003esum of count=%{y}\\u003cextra\\u003e\\u003c\\u002fextra\\u003e\",\"legendgroup\":\"prime_collabo\",\"marker\":{\"color\":\"#FECB52\",\"pattern\":{\"shape\":\"\"}},\"name\":\"prime_collabo\",\"offsetgroup\":\"prime_collabo\",\"orientation\":\"v\",\"showlegend\":false,\"x\":[\"yunohana\",\"masaba\"],\"xaxis\":\"x2\",\"y\":[1,1],\"yaxis\":\"y2\",\"type\":\"histogram\"},{\"alignmentgroup\":\"True\",\"bingroup\":\"x\",\"histfunc\":\"sum\",\"hovertemplate\":\"weapon_name=prime_collabo\\u003cbr\\u003erule_name=nawabari\\u003cbr\\u003estage_name=%{x}\\u003cbr\\u003esum of count=%{y}\\u003cextra\\u003e\\u003c\\u002fextra\\u003e\",\"legendgroup\":\"prime_collabo\",\"marker\":{\"color\":\"#FECB52\",\"pattern\":{\"shape\":\"\"}},\"name\":\"prime_collabo\",\"offsetgroup\":\"prime_collabo\",\"orientation\":\"v\",\"showlegend\":false,\"x\":[\"zatou\"],\"xaxis\":\"x3\",\"y\":[1],\"yaxis\":\"y3\",\"type\":\"histogram\"},{\"alignmentgroup\":\"True\",\"bingroup\":\"x\",\"histfunc\":\"sum\",\"hovertemplate\":\"weapon_name=promodeler_rg\\u003cbr\\u003erule_name=yagura\\u003cbr\\u003estage_name=%{x}\\u003cbr\\u003esum of count=%{y}\\u003cextra\\u003e\\u003c\\u002fextra\\u003e\",\"legendgroup\":\"promodeler_rg\",\"marker\":{\"color\":\"#636efa\",\"pattern\":{\"shape\":\"\"}},\"name\":\"promodeler_rg\",\"offsetgroup\":\"promodeler_rg\",\"orientation\":\"v\",\"showlegend\":true,\"x\":[\"kinmedai\",\"manta\"],\"xaxis\":\"x\",\"y\":[2,1],\"yaxis\":\"y\",\"type\":\"histogram\"},{\"alignmentgroup\":\"True\",\"bingroup\":\"x\",\"histfunc\":\"sum\",\"hovertemplate\":\"weapon_name=clashblaster_neo\\u003cbr\\u003erule_name=yagura\\u003cbr\\u003estage_name=%{x}\\u003cbr\\u003esum of count=%{y}\\u003cextra\\u003e\\u003c\\u002fextra\\u003e\",\"legendgroup\":\"clashblaster_neo\",\"marker\":{\"color\":\"#EF553B\",\"pattern\":{\"shape\":\"\"}},\"name\":\"clashblaster_neo\",\"offsetgroup\":\"clashblaster_neo\",\"orientation\":\"v\",\"showlegend\":true,\"x\":[\"masaba\"],\"xaxis\":\"x\",\"y\":[2],\"yaxis\":\"y\",\"type\":\"histogram\"},{\"alignmentgroup\":\"True\",\"bingroup\":\"x\",\"histfunc\":\"sum\",\"hovertemplate\":\"weapon_name=bottlegeyser\\u003cbr\\u003erule_name=nawabari\\u003cbr\\u003estage_name=%{x}\\u003cbr\\u003esum of count=%{y}\\u003cextra\\u003e\\u003c\\u002fextra\\u003e\",\"legendgroup\":\"bottlegeyser\",\"marker\":{\"color\":\"#00cc96\",\"pattern\":{\"shape\":\"\"}},\"name\":\"bottlegeyser\",\"offsetgroup\":\"bottlegeyser\",\"orientation\":\"v\",\"showlegend\":true,\"x\":[\"amabi\"],\"xaxis\":\"x3\",\"y\":[2],\"yaxis\":\"y3\",\"type\":\"histogram\"},{\"alignmentgroup\":\"True\",\"bingroup\":\"x\",\"histfunc\":\"sum\",\"hovertemplate\":\"weapon_name=dualsweeper\\u003cbr\\u003erule_name=asari\\u003cbr\\u003estage_name=%{x}\\u003cbr\\u003esum of count=%{y}\\u003cextra\\u003e\\u003c\\u002fextra\\u003e\",\"legendgroup\":\"dualsweeper\",\"marker\":{\"color\":\"#ab63fa\",\"pattern\":{\"shape\":\"\"}},\"name\":\"dualsweeper\",\"offsetgroup\":\"dualsweeper\",\"orientation\":\"v\",\"showlegend\":true,\"x\":[\"sumeshi\",\"yagara\"],\"xaxis\":\"x5\",\"y\":[2,1],\"yaxis\":\"y5\",\"type\":\"histogram\"},{\"alignmentgroup\":\"True\",\"bingroup\":\"x\",\"histfunc\":\"sum\",\"hovertemplate\":\"weapon_name=momiji\\u003cbr\\u003erule_name=nawabari\\u003cbr\\u003estage_name=%{x}\\u003cbr\\u003esum of count=%{y}\\u003cextra\\u003e\\u003c\\u002fextra\\u003e\",\"legendgroup\":\"momiji\",\"marker\":{\"color\":\"#FFA15A\",\"pattern\":{\"shape\":\"\"}},\"name\":\"momiji\",\"offsetgroup\":\"momiji\",\"orientation\":\"v\",\"showlegend\":true,\"x\":[\"sumeshi\"],\"xaxis\":\"x3\",\"y\":[1],\"yaxis\":\"y3\",\"type\":\"histogram\"},{\"alignmentgroup\":\"True\",\"bingroup\":\"x\",\"histfunc\":\"sum\",\"hovertemplate\":\"weapon_name=momiji\\u003cbr\\u003erule_name=area\\u003cbr\\u003estage_name=%{x}\\u003cbr\\u003esum of count=%{y}\\u003cextra\\u003e\\u003c\\u002fextra\\u003e\",\"legendgroup\":\"momiji\",\"marker\":{\"color\":\"#FFA15A\",\"pattern\":{\"shape\":\"\"}},\"name\":\"momiji\",\"offsetgroup\":\"momiji\",\"orientation\":\"v\",\"showlegend\":false,\"x\":[\"mahimahi\",\"nampla\"],\"xaxis\":\"x4\",\"y\":[2,1],\"yaxis\":\"y4\",\"type\":\"histogram\"},{\"alignmentgroup\":\"True\",\"bingroup\":\"x\",\"histfunc\":\"sum\",\"hovertemplate\":\"weapon_name=rapid\\u003cbr\\u003erule_name=yagura\\u003cbr\\u003estage_name=%{x}\\u003cbr\\u003esum of count=%{y}\\u003cextra\\u003e\\u003c\\u002fextra\\u003e\",\"legendgroup\":\"rapid\",\"marker\":{\"color\":\"#19d3f3\",\"pattern\":{\"shape\":\"\"}},\"name\":\"rapid\",\"offsetgroup\":\"rapid\",\"orientation\":\"v\",\"showlegend\":true,\"x\":[\"namero\",\"hirame\"],\"xaxis\":\"x\",\"y\":[1,1],\"yaxis\":\"y\",\"type\":\"histogram\"},{\"alignmentgroup\":\"True\",\"bingroup\":\"x\",\"histfunc\":\"sum\",\"hovertemplate\":\"weapon_name=campingshelter_sorella\\u003cbr\\u003erule_name=asari\\u003cbr\\u003estage_name=%{x}\\u003cbr\\u003esum of count=%{y}\\u003cextra\\u003e\\u003c\\u002fextra\\u003e\",\"legendgroup\":\"campingshelter_sorella\",\"marker\":{\"color\":\"#FF6692\",\"pattern\":{\"shape\":\"\"}},\"name\":\"campingshelter_sorella\",\"offsetgroup\":\"campingshelter_sorella\",\"orientation\":\"v\",\"showlegend\":true,\"x\":[\"mahimahi\"],\"xaxis\":\"x5\",\"y\":[1],\"yaxis\":\"y5\",\"type\":\"histogram\"},{\"alignmentgroup\":\"True\",\"bingroup\":\"x\",\"histfunc\":\"sum\",\"hovertemplate\":\"weapon_name=barrelspinner_deco\\u003cbr\\u003erule_name=asari\\u003cbr\\u003estage_name=%{x}\\u003cbr\\u003esum of count=%{y}\\u003cextra\\u003e\\u003c\\u002fextra\\u003e\",\"legendgroup\":\"barrelspinner_deco\",\"marker\":{\"color\":\"#B6E880\",\"pattern\":{\"shape\":\"\"}},\"name\":\"barrelspinner_deco\",\"offsetgroup\":\"barrelspinner_deco\",\"orientation\":\"v\",\"showlegend\":true,\"x\":[\"mahimahi\"],\"xaxis\":\"x5\",\"y\":[1],\"yaxis\":\"y5\",\"type\":\"histogram\"},{\"alignmentgroup\":\"True\",\"bingroup\":\"x\",\"histfunc\":\"sum\",\"hovertemplate\":\"weapon_name=dualsweeper_custom\\u003cbr\\u003erule_name=yagura\\u003cbr\\u003estage_name=%{x}\\u003cbr\\u003esum of count=%{y}\\u003cextra\\u003e\\u003c\\u002fextra\\u003e\",\"legendgroup\":\"dualsweeper_custom\",\"marker\":{\"color\":\"#FF97FF\",\"pattern\":{\"shape\":\"\"}},\"name\":\"dualsweeper_custom\",\"offsetgroup\":\"dualsweeper_custom\",\"orientation\":\"v\",\"showlegend\":true,\"x\":[\"namero\",\"chozame\"],\"xaxis\":\"x\",\"y\":[1,1],\"yaxis\":\"y\",\"type\":\"histogram\"},{\"alignmentgroup\":\"True\",\"bingroup\":\"x\",\"histfunc\":\"sum\",\"hovertemplate\":\"weapon_name=dualsweeper_custom\\u003cbr\\u003erule_name=asari\\u003cbr\\u003estage_name=%{x}\\u003cbr\\u003esum of count=%{y}\\u003cextra\\u003e\\u003c\\u002fextra\\u003e\",\"legendgroup\":\"dualsweeper_custom\",\"marker\":{\"color\":\"#FF97FF\",\"pattern\":{\"shape\":\"\"}},\"name\":\"dualsweeper_custom\",\"offsetgroup\":\"dualsweeper_custom\",\"orientation\":\"v\",\"showlegend\":false,\"x\":[\"mahimahi\",\"taraport\"],\"xaxis\":\"x5\",\"y\":[1,1],\"yaxis\":\"y5\",\"type\":\"histogram\"},{\"alignmentgroup\":\"True\",\"bingroup\":\"x\",\"histfunc\":\"sum\",\"hovertemplate\":\"weapon_name=sblast92\\u003cbr\\u003erule_name=area\\u003cbr\\u003estage_name=%{x}\\u003cbr\\u003esum of count=%{y}\\u003cextra\\u003e\\u003c\\u002fextra\\u003e\",\"legendgroup\":\"sblast92\",\"marker\":{\"color\":\"#FECB52\",\"pattern\":{\"shape\":\"\"}},\"name\":\"sblast92\",\"offsetgroup\":\"sblast92\",\"orientation\":\"v\",\"showlegend\":true,\"x\":[\"masaba\"],\"xaxis\":\"x4\",\"y\":[1],\"yaxis\":\"y4\",\"type\":\"histogram\"},{\"alignmentgroup\":\"True\",\"bingroup\":\"x\",\"histfunc\":\"sum\",\"hovertemplate\":\"weapon_name=spaceshooter_collabo\\u003cbr\\u003erule_name=asari\\u003cbr\\u003estage_name=%{x}\\u003cbr\\u003esum of count=%{y}\\u003cextra\\u003e\\u003c\\u002fextra\\u003e\",\"legendgroup\":\"spaceshooter_collabo\",\"marker\":{\"color\":\"#636efa\",\"pattern\":{\"shape\":\"\"}},\"name\":\"spaceshooter_collabo\",\"offsetgroup\":\"spaceshooter_collabo\",\"orientation\":\"v\",\"showlegend\":true,\"x\":[\"mahimahi\"],\"xaxis\":\"x5\",\"y\":[1],\"yaxis\":\"y5\",\"type\":\"histogram\"},{\"alignmentgroup\":\"True\",\"bingroup\":\"x\",\"histfunc\":\"sum\",\"hovertemplate\":\"weapon_name=splatcharger\\u003cbr\\u003erule_name=nawabari\\u003cbr\\u003estage_name=%{x}\\u003cbr\\u003esum of count=%{y}\\u003cextra\\u003e\\u003c\\u002fextra\\u003e\",\"legendgroup\":\"splatcharger\",\"marker\":{\"color\":\"#EF553B\",\"pattern\":{\"shape\":\"\"}},\"name\":\"splatcharger\",\"offsetgroup\":\"splatcharger\",\"orientation\":\"v\",\"showlegend\":true,\"x\":[\"namero\"],\"xaxis\":\"x3\",\"y\":[1],\"yaxis\":\"y3\",\"type\":\"histogram\"},{\"alignmentgroup\":\"True\",\"bingroup\":\"x\",\"histfunc\":\"sum\",\"hovertemplate\":\"weapon_name=explosher\\u003cbr\\u003erule_name=nawabari\\u003cbr\\u003estage_name=%{x}\\u003cbr\\u003esum of count=%{y}\\u003cextra\\u003e\\u003c\\u002fextra\\u003e\",\"legendgroup\":\"explosher\",\"marker\":{\"color\":\"#00cc96\",\"pattern\":{\"shape\":\"\"}},\"name\":\"explosher\",\"offsetgroup\":\"explosher\",\"orientation\":\"v\",\"showlegend\":true,\"x\":[\"mahimahi\"],\"xaxis\":\"x3\",\"y\":[1],\"yaxis\":\"y3\",\"type\":\"histogram\"},{\"alignmentgroup\":\"True\",\"bingroup\":\"x\",\"histfunc\":\"sum\",\"hovertemplate\":\"weapon_name=promodeler_mg\\u003cbr\\u003erule_name=nawabari\\u003cbr\\u003estage_name=%{x}\\u003cbr\\u003esum of count=%{y}\\u003cextra\\u003e\\u003c\\u002fextra\\u003e\",\"legendgroup\":\"promodeler_mg\",\"marker\":{\"color\":\"#ab63fa\",\"pattern\":{\"shape\":\"\"}},\"name\":\"promodeler_mg\",\"offsetgroup\":\"promodeler_mg\",\"orientation\":\"v\",\"showlegend\":true,\"x\":[\"kinmedai\",\"mahimahi\"],\"xaxis\":\"x3\",\"y\":[1,1],\"yaxis\":\"y3\",\"type\":\"histogram\"},{\"alignmentgroup\":\"True\",\"bingroup\":\"x\",\"histfunc\":\"sum\",\"hovertemplate\":\"weapon_name=jimuwiper\\u003cbr\\u003erule_name=nawabari\\u003cbr\\u003estage_name=%{x}\\u003cbr\\u003esum of count=%{y}\\u003cextra\\u003e\\u003c\\u002fextra\\u003e\",\"legendgroup\":\"jimuwiper\",\"marker\":{\"color\":\"#FFA15A\",\"pattern\":{\"shape\":\"\"}},\"name\":\"jimuwiper\",\"offsetgroup\":\"jimuwiper\",\"orientation\":\"v\",\"showlegend\":true,\"x\":[\"mahimahi\",\"yunohana\"],\"xaxis\":\"x3\",\"y\":[1,1],\"yaxis\":\"y3\",\"type\":\"histogram\"},{\"alignmentgroup\":\"True\",\"bingroup\":\"x\",\"histfunc\":\"sum\",\"hovertemplate\":\"weapon_name=lact450\\u003cbr\\u003erule_name=nawabari\\u003cbr\\u003estage_name=%{x}\\u003cbr\\u003esum of count=%{y}\\u003cextra\\u003e\\u003c\\u002fextra\\u003e\",\"legendgroup\":\"lact450\",\"marker\":{\"color\":\"#19d3f3\",\"pattern\":{\"shape\":\"\"}},\"name\":\"lact450\",\"offsetgroup\":\"lact450\",\"orientation\":\"v\",\"showlegend\":true,\"x\":[\"kinmedai\"],\"xaxis\":\"x3\",\"y\":[1],\"yaxis\":\"y3\",\"type\":\"histogram\"},{\"alignmentgroup\":\"True\",\"bingroup\":\"x\",\"histfunc\":\"sum\",\"hovertemplate\":\"weapon_name=fincent\\u003cbr\\u003erule_name=asari\\u003cbr\\u003estage_name=%{x}\\u003cbr\\u003esum of count=%{y}\\u003cextra\\u003e\\u003c\\u002fextra\\u003e\",\"legendgroup\":\"fincent\",\"marker\":{\"color\":\"#FF6692\",\"pattern\":{\"shape\":\"\"}},\"name\":\"fincent\",\"offsetgroup\":\"fincent\",\"orientation\":\"v\",\"showlegend\":true,\"x\":[\"taraport\"],\"xaxis\":\"x5\",\"y\":[1],\"yaxis\":\"y5\",\"type\":\"histogram\"},{\"alignmentgroup\":\"True\",\"bingroup\":\"x\",\"histfunc\":\"sum\",\"hovertemplate\":\"weapon_name=rpen_5h\\u003cbr\\u003erule_name=nawabari\\u003cbr\\u003estage_name=%{x}\\u003cbr\\u003esum of count=%{y}\\u003cextra\\u003e\\u003c\\u002fextra\\u003e\",\"legendgroup\":\"rpen_5h\",\"marker\":{\"color\":\"#B6E880\",\"pattern\":{\"shape\":\"\"}},\"name\":\"rpen_5h\",\"offsetgroup\":\"rpen_5h\",\"orientation\":\"v\",\"showlegend\":true,\"x\":[\"sumeshi\"],\"xaxis\":\"x3\",\"y\":[1],\"yaxis\":\"y3\",\"type\":\"histogram\"}],                        {\"template\":{\"data\":{\"histogram2dcontour\":[{\"type\":\"histogram2dcontour\",\"colorbar\":{\"outlinewidth\":0,\"ticks\":\"\"},\"colorscale\":[[0.0,\"#0d0887\"],[0.1111111111111111,\"#46039f\"],[0.2222222222222222,\"#7201a8\"],[0.3333333333333333,\"#9c179e\"],[0.4444444444444444,\"#bd3786\"],[0.5555555555555556,\"#d8576b\"],[0.6666666666666666,\"#ed7953\"],[0.7777777777777778,\"#fb9f3a\"],[0.8888888888888888,\"#fdca26\"],[1.0,\"#f0f921\"]]}],\"choropleth\":[{\"type\":\"choropleth\",\"colorbar\":{\"outlinewidth\":0,\"ticks\":\"\"}}],\"histogram2d\":[{\"type\":\"histogram2d\",\"colorbar\":{\"outlinewidth\":0,\"ticks\":\"\"},\"colorscale\":[[0.0,\"#0d0887\"],[0.1111111111111111,\"#46039f\"],[0.2222222222222222,\"#7201a8\"],[0.3333333333333333,\"#9c179e\"],[0.4444444444444444,\"#bd3786\"],[0.5555555555555556,\"#d8576b\"],[0.6666666666666666,\"#ed7953\"],[0.7777777777777778,\"#fb9f3a\"],[0.8888888888888888,\"#fdca26\"],[1.0,\"#f0f921\"]]}],\"heatmap\":[{\"type\":\"heatmap\",\"colorbar\":{\"outlinewidth\":0,\"ticks\":\"\"},\"colorscale\":[[0.0,\"#0d0887\"],[0.1111111111111111,\"#46039f\"],[0.2222222222222222,\"#7201a8\"],[0.3333333333333333,\"#9c179e\"],[0.4444444444444444,\"#bd3786\"],[0.5555555555555556,\"#d8576b\"],[0.6666666666666666,\"#ed7953\"],[0.7777777777777778,\"#fb9f3a\"],[0.8888888888888888,\"#fdca26\"],[1.0,\"#f0f921\"]]}],\"heatmapgl\":[{\"type\":\"heatmapgl\",\"colorbar\":{\"outlinewidth\":0,\"ticks\":\"\"},\"colorscale\":[[0.0,\"#0d0887\"],[0.1111111111111111,\"#46039f\"],[0.2222222222222222,\"#7201a8\"],[0.3333333333333333,\"#9c179e\"],[0.4444444444444444,\"#bd3786\"],[0.5555555555555556,\"#d8576b\"],[0.6666666666666666,\"#ed7953\"],[0.7777777777777778,\"#fb9f3a\"],[0.8888888888888888,\"#fdca26\"],[1.0,\"#f0f921\"]]}],\"contourcarpet\":[{\"type\":\"contourcarpet\",\"colorbar\":{\"outlinewidth\":0,\"ticks\":\"\"}}],\"contour\":[{\"type\":\"contour\",\"colorbar\":{\"outlinewidth\":0,\"ticks\":\"\"},\"colorscale\":[[0.0,\"#0d0887\"],[0.1111111111111111,\"#46039f\"],[0.2222222222222222,\"#7201a8\"],[0.3333333333333333,\"#9c179e\"],[0.4444444444444444,\"#bd3786\"],[0.5555555555555556,\"#d8576b\"],[0.6666666666666666,\"#ed7953\"],[0.7777777777777778,\"#fb9f3a\"],[0.8888888888888888,\"#fdca26\"],[1.0,\"#f0f921\"]]}],\"surface\":[{\"type\":\"surface\",\"colorbar\":{\"outlinewidth\":0,\"ticks\":\"\"},\"colorscale\":[[0.0,\"#0d0887\"],[0.1111111111111111,\"#46039f\"],[0.2222222222222222,\"#7201a8\"],[0.3333333333333333,\"#9c179e\"],[0.4444444444444444,\"#bd3786\"],[0.5555555555555556,\"#d8576b\"],[0.6666666666666666,\"#ed7953\"],[0.7777777777777778,\"#fb9f3a\"],[0.8888888888888888,\"#fdca26\"],[1.0,\"#f0f921\"]]}],\"mesh3d\":[{\"type\":\"mesh3d\",\"colorbar\":{\"outlinewidth\":0,\"ticks\":\"\"}}],\"scatter\":[{\"fillpattern\":{\"fillmode\":\"overlay\",\"size\":10,\"solidity\":0.2},\"type\":\"scatter\"}],\"parcoords\":[{\"type\":\"parcoords\",\"line\":{\"colorbar\":{\"outlinewidth\":0,\"ticks\":\"\"}}}],\"scatterpolargl\":[{\"type\":\"scatterpolargl\",\"marker\":{\"colorbar\":{\"outlinewidth\":0,\"ticks\":\"\"}}}],\"bar\":[{\"error_x\":{\"color\":\"#2a3f5f\"},\"error_y\":{\"color\":\"#2a3f5f\"},\"marker\":{\"line\":{\"color\":\"#E5ECF6\",\"width\":0.5},\"pattern\":{\"fillmode\":\"overlay\",\"size\":10,\"solidity\":0.2}},\"type\":\"bar\"}],\"scattergeo\":[{\"type\":\"scattergeo\",\"marker\":{\"colorbar\":{\"outlinewidth\":0,\"ticks\":\"\"}}}],\"scatterpolar\":[{\"type\":\"scatterpolar\",\"marker\":{\"colorbar\":{\"outlinewidth\":0,\"ticks\":\"\"}}}],\"histogram\":[{\"marker\":{\"pattern\":{\"fillmode\":\"overlay\",\"size\":10,\"solidity\":0.2}},\"type\":\"histogram\"}],\"scattergl\":[{\"type\":\"scattergl\",\"marker\":{\"colorbar\":{\"outlinewidth\":0,\"ticks\":\"\"}}}],\"scatter3d\":[{\"type\":\"scatter3d\",\"line\":{\"colorbar\":{\"outlinewidth\":0,\"ticks\":\"\"}},\"marker\":{\"colorbar\":{\"outlinewidth\":0,\"ticks\":\"\"}}}],\"scattermapbox\":[{\"type\":\"scattermapbox\",\"marker\":{\"colorbar\":{\"outlinewidth\":0,\"ticks\":\"\"}}}],\"scatterternary\":[{\"type\":\"scatterternary\",\"marker\":{\"colorbar\":{\"outlinewidth\":0,\"ticks\":\"\"}}}],\"scattercarpet\":[{\"type\":\"scattercarpet\",\"marker\":{\"colorbar\":{\"outlinewidth\":0,\"ticks\":\"\"}}}],\"carpet\":[{\"aaxis\":{\"endlinecolor\":\"#2a3f5f\",\"gridcolor\":\"white\",\"linecolor\":\"white\",\"minorgridcolor\":\"white\",\"startlinecolor\":\"#2a3f5f\"},\"baxis\":{\"endlinecolor\":\"#2a3f5f\",\"gridcolor\":\"white\",\"linecolor\":\"white\",\"minorgridcolor\":\"white\",\"startlinecolor\":\"#2a3f5f\"},\"type\":\"carpet\"}],\"table\":[{\"cells\":{\"fill\":{\"color\":\"#EBF0F8\"},\"line\":{\"color\":\"white\"}},\"header\":{\"fill\":{\"color\":\"#C8D4E3\"},\"line\":{\"color\":\"white\"}},\"type\":\"table\"}],\"barpolar\":[{\"marker\":{\"line\":{\"color\":\"#E5ECF6\",\"width\":0.5},\"pattern\":{\"fillmode\":\"overlay\",\"size\":10,\"solidity\":0.2}},\"type\":\"barpolar\"}],\"pie\":[{\"automargin\":true,\"type\":\"pie\"}]},\"layout\":{\"autotypenumbers\":\"strict\",\"colorway\":[\"#636efa\",\"#EF553B\",\"#00cc96\",\"#ab63fa\",\"#FFA15A\",\"#19d3f3\",\"#FF6692\",\"#B6E880\",\"#FF97FF\",\"#FECB52\"],\"font\":{\"color\":\"#2a3f5f\"},\"hovermode\":\"closest\",\"hoverlabel\":{\"align\":\"left\"},\"paper_bgcolor\":\"white\",\"plot_bgcolor\":\"#E5ECF6\",\"polar\":{\"bgcolor\":\"#E5ECF6\",\"angularaxis\":{\"gridcolor\":\"white\",\"linecolor\":\"white\",\"ticks\":\"\"},\"radialaxis\":{\"gridcolor\":\"white\",\"linecolor\":\"white\",\"ticks\":\"\"}},\"ternary\":{\"bgcolor\":\"#E5ECF6\",\"aaxis\":{\"gridcolor\":\"white\",\"linecolor\":\"white\",\"ticks\":\"\"},\"baxis\":{\"gridcolor\":\"white\",\"linecolor\":\"white\",\"ticks\":\"\"},\"caxis\":{\"gridcolor\":\"white\",\"linecolor\":\"white\",\"ticks\":\"\"}},\"coloraxis\":{\"colorbar\":{\"outlinewidth\":0,\"ticks\":\"\"}},\"colorscale\":{\"sequential\":[[0.0,\"#0d0887\"],[0.1111111111111111,\"#46039f\"],[0.2222222222222222,\"#7201a8\"],[0.3333333333333333,\"#9c179e\"],[0.4444444444444444,\"#bd3786\"],[0.5555555555555556,\"#d8576b\"],[0.6666666666666666,\"#ed7953\"],[0.7777777777777778,\"#fb9f3a\"],[0.8888888888888888,\"#fdca26\"],[1.0,\"#f0f921\"]],\"sequentialminus\":[[0.0,\"#0d0887\"],[0.1111111111111111,\"#46039f\"],[0.2222222222222222,\"#7201a8\"],[0.3333333333333333,\"#9c179e\"],[0.4444444444444444,\"#bd3786\"],[0.5555555555555556,\"#d8576b\"],[0.6666666666666666,\"#ed7953\"],[0.7777777777777778,\"#fb9f3a\"],[0.8888888888888888,\"#fdca26\"],[1.0,\"#f0f921\"]],\"diverging\":[[0,\"#8e0152\"],[0.1,\"#c51b7d\"],[0.2,\"#de77ae\"],[0.3,\"#f1b6da\"],[0.4,\"#fde0ef\"],[0.5,\"#f7f7f7\"],[0.6,\"#e6f5d0\"],[0.7,\"#b8e186\"],[0.8,\"#7fbc41\"],[0.9,\"#4d9221\"],[1,\"#276419\"]]},\"xaxis\":{\"gridcolor\":\"white\",\"linecolor\":\"white\",\"ticks\":\"\",\"title\":{\"standoff\":15},\"zerolinecolor\":\"white\",\"automargin\":true,\"zerolinewidth\":2},\"yaxis\":{\"gridcolor\":\"white\",\"linecolor\":\"white\",\"ticks\":\"\",\"title\":{\"standoff\":15},\"zerolinecolor\":\"white\",\"automargin\":true,\"zerolinewidth\":2},\"scene\":{\"xaxis\":{\"backgroundcolor\":\"#E5ECF6\",\"gridcolor\":\"white\",\"linecolor\":\"white\",\"showbackground\":true,\"ticks\":\"\",\"zerolinecolor\":\"white\",\"gridwidth\":2},\"yaxis\":{\"backgroundcolor\":\"#E5ECF6\",\"gridcolor\":\"white\",\"linecolor\":\"white\",\"showbackground\":true,\"ticks\":\"\",\"zerolinecolor\":\"white\",\"gridwidth\":2},\"zaxis\":{\"backgroundcolor\":\"#E5ECF6\",\"gridcolor\":\"white\",\"linecolor\":\"white\",\"showbackground\":true,\"ticks\":\"\",\"zerolinecolor\":\"white\",\"gridwidth\":2}},\"shapedefaults\":{\"line\":{\"color\":\"#2a3f5f\"}},\"annotationdefaults\":{\"arrowcolor\":\"#2a3f5f\",\"arrowhead\":0,\"arrowwidth\":1},\"geo\":{\"bgcolor\":\"white\",\"landcolor\":\"#E5ECF6\",\"subunitcolor\":\"white\",\"showland\":true,\"showlakes\":true,\"lakecolor\":\"white\"},\"title\":{\"x\":0.05},\"mapbox\":{\"style\":\"light\"}}},\"xaxis\":{\"anchor\":\"y\",\"domain\":[0.0,0.15],\"title\":{\"text\":\"stage_name\"}},\"yaxis\":{\"anchor\":\"x\",\"domain\":[0.0,1.0],\"title\":{\"text\":\"sum of count\"}},\"xaxis2\":{\"anchor\":\"y2\",\"domain\":[0.16999999999999998,0.31999999999999995],\"matches\":\"x\",\"title\":{\"text\":\"stage_name\"}},\"yaxis2\":{\"anchor\":\"x2\",\"domain\":[0.0,1.0],\"matches\":\"y\",\"showticklabels\":false},\"xaxis3\":{\"anchor\":\"y3\",\"domain\":[0.33999999999999997,0.49],\"matches\":\"x\",\"title\":{\"text\":\"stage_name\"}},\"yaxis3\":{\"anchor\":\"x3\",\"domain\":[0.0,1.0],\"matches\":\"y\",\"showticklabels\":false},\"xaxis4\":{\"anchor\":\"y4\",\"domain\":[0.51,0.66],\"matches\":\"x\",\"title\":{\"text\":\"stage_name\"}},\"yaxis4\":{\"anchor\":\"x4\",\"domain\":[0.0,1.0],\"matches\":\"y\",\"showticklabels\":false},\"xaxis5\":{\"anchor\":\"y5\",\"domain\":[0.6799999999999999,0.83],\"matches\":\"x\",\"title\":{\"text\":\"stage_name\"}},\"yaxis5\":{\"anchor\":\"x5\",\"domain\":[0.0,1.0],\"matches\":\"y\",\"showticklabels\":false},\"xaxis6\":{\"anchor\":\"y6\",\"domain\":[0.85,1.0],\"matches\":\"x\",\"title\":{\"text\":\"stage_name\"}},\"yaxis6\":{\"anchor\":\"x6\",\"domain\":[0.0,1.0],\"matches\":\"y\",\"showticklabels\":false},\"annotations\":[{\"font\":{},\"showarrow\":false,\"text\":\"rule_name=yagura\",\"x\":0.075,\"xanchor\":\"center\",\"xref\":\"paper\",\"y\":1.0,\"yanchor\":\"bottom\",\"yref\":\"paper\"},{\"font\":{},\"showarrow\":false,\"text\":\"rule_name=hoko\",\"x\":0.24499999999999997,\"xanchor\":\"center\",\"xref\":\"paper\",\"y\":1.0,\"yanchor\":\"bottom\",\"yref\":\"paper\"},{\"font\":{},\"showarrow\":false,\"text\":\"rule_name=nawabari\",\"x\":0.415,\"xanchor\":\"center\",\"xref\":\"paper\",\"y\":1.0,\"yanchor\":\"bottom\",\"yref\":\"paper\"},{\"font\":{},\"showarrow\":false,\"text\":\"rule_name=area\",\"x\":0.585,\"xanchor\":\"center\",\"xref\":\"paper\",\"y\":1.0,\"yanchor\":\"bottom\",\"yref\":\"paper\"},{\"font\":{},\"showarrow\":false,\"text\":\"rule_name=asari\",\"x\":0.7549999999999999,\"xanchor\":\"center\",\"xref\":\"paper\",\"y\":1.0,\"yanchor\":\"bottom\",\"yref\":\"paper\"},{\"font\":{},\"showarrow\":false,\"text\":\"rule_name=tricolor\",\"x\":0.925,\"xanchor\":\"center\",\"xref\":\"paper\",\"y\":1.0,\"yanchor\":\"bottom\",\"yref\":\"paper\"}],\"legend\":{\"title\":{\"text\":\"weapon_name\"},\"tracegroupgap\":0},\"margin\":{\"t\":60},\"barmode\":\"relative\",\"height\":800},                        {\"responsive\": true}                    ).then(function(){\n",
       "                            \n",
       "var gd = document.getElementById('06fdee2b-8c5f-4cb7-a710-448f3823b53a');\n",
       "var x = new MutationObserver(function (mutations, observer) {{\n",
       "        var display = window.getComputedStyle(gd).display;\n",
       "        if (!display || display === 'none') {{\n",
       "            console.log([gd, 'removed!']);\n",
       "            Plotly.purge(gd);\n",
       "            observer.disconnect();\n",
       "        }}\n",
       "}});\n",
       "\n",
       "// Listen for the removal of the full notebook cells\n",
       "var notebookContainer = gd.closest('#notebook-container');\n",
       "if (notebookContainer) {{\n",
       "    x.observe(notebookContainer, {childList: true});\n",
       "}}\n",
       "\n",
       "// Listen for the clearing of the current output cell\n",
       "var outputEl = gd.closest('.output');\n",
       "if (outputEl) {{\n",
       "    x.observe(outputEl, {childList: true});\n",
       "}}\n",
       "\n",
       "                        })                };                });            </script>        </div>"
      ]
     },
     "metadata": {},
     "output_type": "display_data"
    }
   ],
   "source": [
    "px.histogram(\n",
    "    vc, \n",
    "    x=\"stage_name\", \n",
    "    y=\"count\", \n",
    "    color=\"weapon_name\", \n",
    "    facet_col=\"rule_name\", \n",
    "    height=800, \n",
    "    # barmode=\"overlay\"\n",
    ")"
   ]
  },
  {
   "attachments": {},
   "cell_type": "markdown",
   "metadata": {},
   "source": [
    "# salmon"
   ]
  },
  {
   "cell_type": "code",
   "execution_count": 25,
   "metadata": {},
   "outputs": [
    {
     "data": {
      "application/vnd.jupyter.widget-view+json": {
       "model_id": "04d015762b214724837259027b73d2cd",
       "version_major": 2,
       "version_minor": 0
      },
      "text/plain": [
       "0it [00:00, ?it/s]"
      ]
     },
     "metadata": {},
     "output_type": "display_data"
    }
   ],
   "source": [
    "salmon_path = Path(\"data/statink-salmon-Laplusdestiny\").resolve()\n",
    "with open(salmon_path) as f:\n",
    "    salmon = list()\n",
    "    for line in tqdm(f):\n",
    "        salmon.append(json.loads(line))\n",
    "        # data.append(line)"
   ]
  },
  {
   "cell_type": "code",
   "execution_count": 26,
   "metadata": {},
   "outputs": [
    {
     "data": {
      "text/html": [
       "<div>\n",
       "<style scoped>\n",
       "    .dataframe tbody tr th:only-of-type {\n",
       "        vertical-align: middle;\n",
       "    }\n",
       "\n",
       "    .dataframe tbody tr th {\n",
       "        vertical-align: top;\n",
       "    }\n",
       "\n",
       "    .dataframe thead th {\n",
       "        text-align: right;\n",
       "    }\n",
       "</style>\n",
       "<table border=\"1\" class=\"dataframe\">\n",
       "  <thead>\n",
       "    <tr style=\"text-align: right;\">\n",
       "      <th></th>\n",
       "      <th>id</th>\n",
       "      <th>url</th>\n",
       "      <th>user</th>\n",
       "      <th>uuid</th>\n",
       "      <th>private</th>\n",
       "      <th>big_run</th>\n",
       "      <th>stage</th>\n",
       "      <th>danger_rate</th>\n",
       "      <th>clear_waves</th>\n",
       "      <th>fail_reason</th>\n",
       "      <th>...</th>\n",
       "      <th>game_version</th>\n",
       "      <th>user_agent</th>\n",
       "      <th>automated</th>\n",
       "      <th>start_at</th>\n",
       "      <th>period</th>\n",
       "      <th>shift</th>\n",
       "      <th>created_at</th>\n",
       "      <th>eggstra_work</th>\n",
       "      <th>timestamp</th>\n",
       "      <th>stage_name</th>\n",
       "    </tr>\n",
       "  </thead>\n",
       "  <tbody>\n",
       "    <tr>\n",
       "      <th>0</th>\n",
       "      <td>91d07037-a33d-48be-81b0-2e03552c49b3</td>\n",
       "      <td>https://stat.ink/@Laplusdestiny/salmon3/91d070...</td>\n",
       "      <td>{'id': 13408, 'name': 'らぷらす', 'screen_name': '...</td>\n",
       "      <td>61c1a7ac-41c0-5ee1-b439-4e3e4e630478</td>\n",
       "      <td>False</td>\n",
       "      <td>False</td>\n",
       "      <td>{'key': 'meuniere', 'aliases': ['7', 'gone_fis...</td>\n",
       "      <td>178.4</td>\n",
       "      <td>2.0</td>\n",
       "      <td>{'key': 'time_limit', 'name': {'en_US': 'Time ...</td>\n",
       "      <td>...</td>\n",
       "      <td>{'tag': '1.2.1', 'name': {'en_US': 'v1.2.1', '...</td>\n",
       "      <td>{'name': 's3s', 'version': 'v0.2.0', 'variable...</td>\n",
       "      <td>True</td>\n",
       "      <td>{'time': 1668003197, 'iso8601': '2022-11-09T14...</td>\n",
       "      <td>{'period': 231667, 'from': '2022-11-09T14:00:0...</td>\n",
       "      <td>{'from': '2022-11-09T00:00:00+00:00', 'to': '2...</td>\n",
       "      <td>{'time': 1669450448, 'iso8601': '2022-11-26T08...</td>\n",
       "      <td>NaN</td>\n",
       "      <td>2022-11-09 23:13:17+09:00</td>\n",
       "      <td>meuniere</td>\n",
       "    </tr>\n",
       "    <tr>\n",
       "      <th>1</th>\n",
       "      <td>cf0054c9-3c55-49e3-a4f0-ac7e99aa96a8</td>\n",
       "      <td>https://stat.ink/@Laplusdestiny/salmon3/cf0054...</td>\n",
       "      <td>{'id': 13408, 'name': 'らぷらす', 'screen_name': '...</td>\n",
       "      <td>822d9e7c-26f1-5571-884a-1578bf784370</td>\n",
       "      <td>False</td>\n",
       "      <td>False</td>\n",
       "      <td>{'key': 'meuniere', 'aliases': ['7', 'gone_fis...</td>\n",
       "      <td>178.4</td>\n",
       "      <td>2.0</td>\n",
       "      <td>{'key': 'time_limit', 'name': {'en_US': 'Time ...</td>\n",
       "      <td>...</td>\n",
       "      <td>{'tag': '1.2.1', 'name': {'en_US': 'v1.2.1', '...</td>\n",
       "      <td>{'name': 's3s', 'version': 'v0.2.0', 'variable...</td>\n",
       "      <td>True</td>\n",
       "      <td>{'time': 1668003605, 'iso8601': '2022-11-09T14...</td>\n",
       "      <td>{'period': 231667, 'from': '2022-11-09T14:00:0...</td>\n",
       "      <td>{'from': '2022-11-09T00:00:00+00:00', 'to': '2...</td>\n",
       "      <td>{'time': 1669450450, 'iso8601': '2022-11-26T08...</td>\n",
       "      <td>NaN</td>\n",
       "      <td>2022-11-09 23:20:05+09:00</td>\n",
       "      <td>meuniere</td>\n",
       "    </tr>\n",
       "    <tr>\n",
       "      <th>2</th>\n",
       "      <td>f119928d-75f2-4eb1-bbfd-82d9a4f88623</td>\n",
       "      <td>https://stat.ink/@Laplusdestiny/salmon3/f11992...</td>\n",
       "      <td>{'id': 13408, 'name': 'らぷらす', 'screen_name': '...</td>\n",
       "      <td>1882dfce-6b88-56f8-9eb6-63749e433ad4</td>\n",
       "      <td>False</td>\n",
       "      <td>False</td>\n",
       "      <td>{'key': 'meuniere', 'aliases': ['7', 'gone_fis...</td>\n",
       "      <td>175.4</td>\n",
       "      <td>0.0</td>\n",
       "      <td>{'key': 'time_limit', 'name': {'en_US': 'Time ...</td>\n",
       "      <td>...</td>\n",
       "      <td>{'tag': '1.2.1', 'name': {'en_US': 'v1.2.1', '...</td>\n",
       "      <td>{'name': 's3s', 'version': 'v0.2.0', 'variable...</td>\n",
       "      <td>True</td>\n",
       "      <td>{'time': 1668004021, 'iso8601': '2022-11-09T14...</td>\n",
       "      <td>{'period': 231667, 'from': '2022-11-09T14:00:0...</td>\n",
       "      <td>{'from': '2022-11-09T00:00:00+00:00', 'to': '2...</td>\n",
       "      <td>{'time': 1669450453, 'iso8601': '2022-11-26T08...</td>\n",
       "      <td>NaN</td>\n",
       "      <td>2022-11-09 23:27:01+09:00</td>\n",
       "      <td>meuniere</td>\n",
       "    </tr>\n",
       "    <tr>\n",
       "      <th>3</th>\n",
       "      <td>a2c1f9bf-b892-49b4-9213-d921e83d607b</td>\n",
       "      <td>https://stat.ink/@Laplusdestiny/salmon3/a2c1f9...</td>\n",
       "      <td>{'id': 13408, 'name': 'らぷらす', 'screen_name': '...</td>\n",
       "      <td>a3667eb8-2414-5adb-bd28-af44d345921a</td>\n",
       "      <td>False</td>\n",
       "      <td>False</td>\n",
       "      <td>{'key': 'meuniere', 'aliases': ['7', 'gone_fis...</td>\n",
       "      <td>172.4</td>\n",
       "      <td>1.0</td>\n",
       "      <td>{'key': 'time_limit', 'name': {'en_US': 'Time ...</td>\n",
       "      <td>...</td>\n",
       "      <td>{'tag': '1.2.1', 'name': {'en_US': 'v1.2.1', '...</td>\n",
       "      <td>{'name': 's3s', 'version': 'v0.2.0', 'variable...</td>\n",
       "      <td>True</td>\n",
       "      <td>{'time': 1668004207, 'iso8601': '2022-11-09T14...</td>\n",
       "      <td>{'period': 231667, 'from': '2022-11-09T14:00:0...</td>\n",
       "      <td>{'from': '2022-11-09T00:00:00+00:00', 'to': '2...</td>\n",
       "      <td>{'time': 1669450456, 'iso8601': '2022-11-26T08...</td>\n",
       "      <td>NaN</td>\n",
       "      <td>2022-11-09 23:30:07+09:00</td>\n",
       "      <td>meuniere</td>\n",
       "    </tr>\n",
       "    <tr>\n",
       "      <th>4</th>\n",
       "      <td>72f96071-1dac-4357-af62-2affb1de56fd</td>\n",
       "      <td>https://stat.ink/@Laplusdestiny/salmon3/72f960...</td>\n",
       "      <td>{'id': 13408, 'name': 'らぷらす', 'screen_name': '...</td>\n",
       "      <td>5a5f4c44-c453-5d05-8cbc-9b8ee85d7477</td>\n",
       "      <td>False</td>\n",
       "      <td>False</td>\n",
       "      <td>{'key': 'meuniere', 'aliases': ['7', 'gone_fis...</td>\n",
       "      <td>170.4</td>\n",
       "      <td>0.0</td>\n",
       "      <td>{'key': 'time_limit', 'name': {'en_US': 'Time ...</td>\n",
       "      <td>...</td>\n",
       "      <td>{'tag': '1.2.1', 'name': {'en_US': 'v1.2.1', '...</td>\n",
       "      <td>{'name': 's3s', 'version': 'v0.2.0', 'variable...</td>\n",
       "      <td>True</td>\n",
       "      <td>{'time': 1668004495, 'iso8601': '2022-11-09T14...</td>\n",
       "      <td>{'period': 231667, 'from': '2022-11-09T14:00:0...</td>\n",
       "      <td>{'from': '2022-11-09T00:00:00+00:00', 'to': '2...</td>\n",
       "      <td>{'time': 1669450458, 'iso8601': '2022-11-26T08...</td>\n",
       "      <td>NaN</td>\n",
       "      <td>2022-11-09 23:34:55+09:00</td>\n",
       "      <td>meuniere</td>\n",
       "    </tr>\n",
       "  </tbody>\n",
       "</table>\n",
       "<p>5 rows × 39 columns</p>\n",
       "</div>"
      ],
      "text/plain": [
       "                                     id  \\\n",
       "0  91d07037-a33d-48be-81b0-2e03552c49b3   \n",
       "1  cf0054c9-3c55-49e3-a4f0-ac7e99aa96a8   \n",
       "2  f119928d-75f2-4eb1-bbfd-82d9a4f88623   \n",
       "3  a2c1f9bf-b892-49b4-9213-d921e83d607b   \n",
       "4  72f96071-1dac-4357-af62-2affb1de56fd   \n",
       "\n",
       "                                                 url  \\\n",
       "0  https://stat.ink/@Laplusdestiny/salmon3/91d070...   \n",
       "1  https://stat.ink/@Laplusdestiny/salmon3/cf0054...   \n",
       "2  https://stat.ink/@Laplusdestiny/salmon3/f11992...   \n",
       "3  https://stat.ink/@Laplusdestiny/salmon3/a2c1f9...   \n",
       "4  https://stat.ink/@Laplusdestiny/salmon3/72f960...   \n",
       "\n",
       "                                                user  \\\n",
       "0  {'id': 13408, 'name': 'らぷらす', 'screen_name': '...   \n",
       "1  {'id': 13408, 'name': 'らぷらす', 'screen_name': '...   \n",
       "2  {'id': 13408, 'name': 'らぷらす', 'screen_name': '...   \n",
       "3  {'id': 13408, 'name': 'らぷらす', 'screen_name': '...   \n",
       "4  {'id': 13408, 'name': 'らぷらす', 'screen_name': '...   \n",
       "\n",
       "                                   uuid  private  big_run  \\\n",
       "0  61c1a7ac-41c0-5ee1-b439-4e3e4e630478    False    False   \n",
       "1  822d9e7c-26f1-5571-884a-1578bf784370    False    False   \n",
       "2  1882dfce-6b88-56f8-9eb6-63749e433ad4    False    False   \n",
       "3  a3667eb8-2414-5adb-bd28-af44d345921a    False    False   \n",
       "4  5a5f4c44-c453-5d05-8cbc-9b8ee85d7477    False    False   \n",
       "\n",
       "                                               stage  danger_rate  \\\n",
       "0  {'key': 'meuniere', 'aliases': ['7', 'gone_fis...        178.4   \n",
       "1  {'key': 'meuniere', 'aliases': ['7', 'gone_fis...        178.4   \n",
       "2  {'key': 'meuniere', 'aliases': ['7', 'gone_fis...        175.4   \n",
       "3  {'key': 'meuniere', 'aliases': ['7', 'gone_fis...        172.4   \n",
       "4  {'key': 'meuniere', 'aliases': ['7', 'gone_fis...        170.4   \n",
       "\n",
       "   clear_waves                                        fail_reason  ...  \\\n",
       "0          2.0  {'key': 'time_limit', 'name': {'en_US': 'Time ...  ...   \n",
       "1          2.0  {'key': 'time_limit', 'name': {'en_US': 'Time ...  ...   \n",
       "2          0.0  {'key': 'time_limit', 'name': {'en_US': 'Time ...  ...   \n",
       "3          1.0  {'key': 'time_limit', 'name': {'en_US': 'Time ...  ...   \n",
       "4          0.0  {'key': 'time_limit', 'name': {'en_US': 'Time ...  ...   \n",
       "\n",
       "                                        game_version  \\\n",
       "0  {'tag': '1.2.1', 'name': {'en_US': 'v1.2.1', '...   \n",
       "1  {'tag': '1.2.1', 'name': {'en_US': 'v1.2.1', '...   \n",
       "2  {'tag': '1.2.1', 'name': {'en_US': 'v1.2.1', '...   \n",
       "3  {'tag': '1.2.1', 'name': {'en_US': 'v1.2.1', '...   \n",
       "4  {'tag': '1.2.1', 'name': {'en_US': 'v1.2.1', '...   \n",
       "\n",
       "                                          user_agent automated  \\\n",
       "0  {'name': 's3s', 'version': 'v0.2.0', 'variable...      True   \n",
       "1  {'name': 's3s', 'version': 'v0.2.0', 'variable...      True   \n",
       "2  {'name': 's3s', 'version': 'v0.2.0', 'variable...      True   \n",
       "3  {'name': 's3s', 'version': 'v0.2.0', 'variable...      True   \n",
       "4  {'name': 's3s', 'version': 'v0.2.0', 'variable...      True   \n",
       "\n",
       "                                            start_at  \\\n",
       "0  {'time': 1668003197, 'iso8601': '2022-11-09T14...   \n",
       "1  {'time': 1668003605, 'iso8601': '2022-11-09T14...   \n",
       "2  {'time': 1668004021, 'iso8601': '2022-11-09T14...   \n",
       "3  {'time': 1668004207, 'iso8601': '2022-11-09T14...   \n",
       "4  {'time': 1668004495, 'iso8601': '2022-11-09T14...   \n",
       "\n",
       "                                              period  \\\n",
       "0  {'period': 231667, 'from': '2022-11-09T14:00:0...   \n",
       "1  {'period': 231667, 'from': '2022-11-09T14:00:0...   \n",
       "2  {'period': 231667, 'from': '2022-11-09T14:00:0...   \n",
       "3  {'period': 231667, 'from': '2022-11-09T14:00:0...   \n",
       "4  {'period': 231667, 'from': '2022-11-09T14:00:0...   \n",
       "\n",
       "                                               shift  \\\n",
       "0  {'from': '2022-11-09T00:00:00+00:00', 'to': '2...   \n",
       "1  {'from': '2022-11-09T00:00:00+00:00', 'to': '2...   \n",
       "2  {'from': '2022-11-09T00:00:00+00:00', 'to': '2...   \n",
       "3  {'from': '2022-11-09T00:00:00+00:00', 'to': '2...   \n",
       "4  {'from': '2022-11-09T00:00:00+00:00', 'to': '2...   \n",
       "\n",
       "                                          created_at  eggstra_work  \\\n",
       "0  {'time': 1669450448, 'iso8601': '2022-11-26T08...           NaN   \n",
       "1  {'time': 1669450450, 'iso8601': '2022-11-26T08...           NaN   \n",
       "2  {'time': 1669450453, 'iso8601': '2022-11-26T08...           NaN   \n",
       "3  {'time': 1669450456, 'iso8601': '2022-11-26T08...           NaN   \n",
       "4  {'time': 1669450458, 'iso8601': '2022-11-26T08...           NaN   \n",
       "\n",
       "                  timestamp  stage_name  \n",
       "0 2022-11-09 23:13:17+09:00    meuniere  \n",
       "1 2022-11-09 23:20:05+09:00    meuniere  \n",
       "2 2022-11-09 23:27:01+09:00    meuniere  \n",
       "3 2022-11-09 23:30:07+09:00    meuniere  \n",
       "4 2022-11-09 23:34:55+09:00    meuniere  \n",
       "\n",
       "[5 rows x 39 columns]"
      ]
     },
     "execution_count": 26,
     "metadata": {},
     "output_type": "execute_result"
    }
   ],
   "source": [
    "salmon_df = pd.DataFrame(salmon).dropna(how=\"all\", axis=1)\n",
    "salmon_df[\"timestamp\"] = pd.to_datetime(salmon_df[\"start_at\"].apply(lambda x: x[\"iso8601\"])).dt.tz_convert(\"Asia/Tokyo\")\n",
    "# salmon_df[\"rule_name\"] = salmon_df[\"rule\"].apply(lambda x: x[\"key\"])\n",
    "salmon_df[\"stage_name\"] = salmon_df[\"stage\"].apply(lambda x: x[\"key\"])\n",
    "# salmon_df[\"weapon_name\"] = salmon_df[\"weapon\"].apply(lambda x: x[\"key\"])\n",
    "salmon_df.head()"
   ]
  },
  {
   "cell_type": "markdown",
   "metadata": {},
   "source": [
    "## キケン度"
   ]
  },
  {
   "cell_type": "code",
   "execution_count": 40,
   "metadata": {},
   "outputs": [
    {
     "data": {
      "application/vnd.plotly.v1+json": {
       "config": {
        "plotlyServerURL": "https://plot.ly"
       },
       "data": [
        {
         "alignmentgroup": "True",
         "bingroup": "x",
         "hovertemplate": "clear_waves=0.0<br>danger_rate=%{x}<br>count=%{y}<extra></extra>",
         "legendgroup": "0.0",
         "marker": {
          "color": "#636efa",
          "opacity": 0.5,
          "pattern": {
           "shape": ""
          }
         },
         "name": "0.0",
         "nbinsx": 20,
         "offsetgroup": "0.0",
         "orientation": "v",
         "showlegend": true,
         "type": "histogram",
         "x": [
          168,
          166.4,
          176,
          166,
          161,
          211,
          165,
          166,
          168.4,
          168,
          171,
          200,
          178,
          190.4,
          153.4,
          149.4,
          167,
          174,
          172,
          164,
          184,
          193,
          168,
          161.6,
          169.4,
          167,
          171.4,
          175.4,
          194,
          184.2,
          199.4,
          164.4,
          170.4,
          195.4,
          201,
          170.4,
          208.4,
          199,
          198,
          207,
          210
         ],
         "xaxis": "x",
         "yaxis": "y"
        },
        {
         "alignmentgroup": "True",
         "hovertemplate": "clear_waves=0.0<br>danger_rate=%{x}<extra></extra>",
         "legendgroup": "0.0",
         "marker": {
          "color": "#636efa"
         },
         "name": "0.0",
         "notched": true,
         "offsetgroup": "0.0",
         "showlegend": false,
         "type": "box",
         "x": [
          168,
          166.4,
          176,
          166,
          161,
          211,
          165,
          166,
          168.4,
          168,
          171,
          200,
          178,
          190.4,
          153.4,
          149.4,
          167,
          174,
          172,
          164,
          184,
          193,
          168,
          161.6,
          169.4,
          167,
          171.4,
          175.4,
          194,
          184.2,
          199.4,
          164.4,
          170.4,
          195.4,
          201,
          170.4,
          208.4,
          199,
          198,
          207,
          210
         ],
         "xaxis": "x2",
         "yaxis": "y2"
        },
        {
         "alignmentgroup": "True",
         "bingroup": "x",
         "hovertemplate": "clear_waves=1.0<br>danger_rate=%{x}<br>count=%{y}<extra></extra>",
         "legendgroup": "1.0",
         "marker": {
          "color": "#EF553B",
          "opacity": 0.5,
          "pattern": {
           "shape": ""
          }
         },
         "name": "1.0",
         "nbinsx": 20,
         "offsetgroup": "1.0",
         "orientation": "v",
         "showlegend": true,
         "type": "histogram",
         "x": [
          187,
          176.6,
          170.4,
          174.2,
          192,
          173,
          191.4,
          189.4,
          168,
          173.6,
          169,
          164.4,
          198.4,
          170,
          185,
          180.4,
          177,
          170,
          192.6,
          177.4,
          179,
          159.4,
          166.4,
          213.4,
          166.4,
          177,
          163,
          172,
          193,
          161,
          163,
          176,
          167.4,
          163,
          174,
          172,
          193,
          169,
          194,
          208,
          188,
          201,
          163,
          199,
          209,
          167,
          170,
          199,
          172.4,
          235,
          198,
          201,
          193.4,
          154,
          158,
          164.4,
          162,
          155.4,
          134.4,
          168,
          164,
          150.4,
          189,
          175,
          192,
          203,
          182,
          156
         ],
         "xaxis": "x",
         "yaxis": "y"
        },
        {
         "alignmentgroup": "True",
         "hovertemplate": "clear_waves=1.0<br>danger_rate=%{x}<extra></extra>",
         "legendgroup": "1.0",
         "marker": {
          "color": "#EF553B"
         },
         "name": "1.0",
         "notched": true,
         "offsetgroup": "1.0",
         "showlegend": false,
         "type": "box",
         "x": [
          187,
          176.6,
          170.4,
          174.2,
          192,
          173,
          191.4,
          189.4,
          168,
          173.6,
          169,
          164.4,
          198.4,
          170,
          185,
          180.4,
          177,
          170,
          192.6,
          177.4,
          179,
          159.4,
          166.4,
          213.4,
          166.4,
          177,
          163,
          172,
          193,
          161,
          163,
          176,
          167.4,
          163,
          174,
          172,
          193,
          169,
          194,
          208,
          188,
          201,
          163,
          199,
          209,
          167,
          170,
          199,
          172.4,
          235,
          198,
          201,
          193.4,
          154,
          158,
          164.4,
          162,
          155.4,
          134.4,
          168,
          164,
          150.4,
          189,
          175,
          192,
          203,
          182,
          156
         ],
         "xaxis": "x2",
         "yaxis": "y2"
        },
        {
         "alignmentgroup": "True",
         "bingroup": "x",
         "hovertemplate": "clear_waves=2.0<br>danger_rate=%{x}<br>count=%{y}<extra></extra>",
         "legendgroup": "2.0",
         "marker": {
          "color": "#00cc96",
          "opacity": 0.5,
          "pattern": {
           "shape": ""
          }
         },
         "name": "2.0",
         "nbinsx": 20,
         "offsetgroup": "2.0",
         "orientation": "v",
         "showlegend": true,
         "type": "histogram",
         "x": [
          203,
          206,
          200,
          195.4,
          173,
          165,
          167,
          167,
          189,
          172,
          191,
          170,
          156,
          174,
          173.6,
          183.4,
          237,
          170,
          168,
          178,
          168,
          180,
          172.4,
          200,
          195,
          189,
          178.4,
          181,
          160.4,
          162.4,
          185,
          170,
          167.4,
          168.4,
          145.4,
          166.4,
          156,
          163,
          163,
          163.4,
          174,
          181.4,
          169.4,
          166.6,
          163,
          200.4,
          145.4,
          178.4,
          201.4,
          175,
          211.4,
          167,
          173.4,
          194.4,
          155.4,
          211.4,
          175.4,
          201.4
         ],
         "xaxis": "x",
         "yaxis": "y"
        },
        {
         "alignmentgroup": "True",
         "hovertemplate": "clear_waves=2.0<br>danger_rate=%{x}<extra></extra>",
         "legendgroup": "2.0",
         "marker": {
          "color": "#00cc96"
         },
         "name": "2.0",
         "notched": true,
         "offsetgroup": "2.0",
         "showlegend": false,
         "type": "box",
         "x": [
          203,
          206,
          200,
          195.4,
          173,
          165,
          167,
          167,
          189,
          172,
          191,
          170,
          156,
          174,
          173.6,
          183.4,
          237,
          170,
          168,
          178,
          168,
          180,
          172.4,
          200,
          195,
          189,
          178.4,
          181,
          160.4,
          162.4,
          185,
          170,
          167.4,
          168.4,
          145.4,
          166.4,
          156,
          163,
          163,
          163.4,
          174,
          181.4,
          169.4,
          166.6,
          163,
          200.4,
          145.4,
          178.4,
          201.4,
          175,
          211.4,
          167,
          173.4,
          194.4,
          155.4,
          211.4,
          175.4,
          201.4
         ],
         "xaxis": "x2",
         "yaxis": "y2"
        },
        {
         "alignmentgroup": "True",
         "bingroup": "x",
         "hovertemplate": "clear_waves=3.0<br>danger_rate=%{x}<br>count=%{y}<extra></extra>",
         "legendgroup": "3.0",
         "marker": {
          "color": "#ab63fa",
          "opacity": 0.5,
          "pattern": {
           "shape": ""
          }
         },
         "name": "3.0",
         "nbinsx": 20,
         "offsetgroup": "3.0",
         "orientation": "v",
         "showlegend": true,
         "type": "histogram",
         "x": [
          155,
          173,
          180,
          180,
          184,
          162,
          168,
          178,
          166,
          207,
          205,
          157,
          171,
          175,
          186,
          190,
          176,
          190,
          204,
          194,
          173.4,
          172,
          197,
          166,
          163,
          210,
          198,
          186,
          172,
          178,
          177,
          199,
          173,
          194,
          198,
          202,
          169.4,
          199,
          206,
          208,
          168,
          194,
          166.2,
          171,
          165,
          233,
          210,
          159,
          195,
          191,
          168,
          173,
          169,
          169,
          172,
          160,
          168,
          181,
          166.4,
          174,
          175,
          182,
          186,
          166,
          190.4,
          185,
          161,
          133,
          168.4,
          156,
          175,
          187,
          181,
          169,
          170.4,
          177,
          169,
          181.4,
          163.4,
          167,
          169,
          173,
          168.4,
          168.4,
          164.4,
          169,
          165.4,
          173,
          168,
          174,
          161,
          165,
          193,
          166.4,
          190.4,
          205,
          164,
          178,
          202,
          168,
          179.4,
          198,
          173,
          190.4,
          185.4,
          170,
          162.4,
          162.4,
          177.2,
          169.4,
          191,
          157.6,
          167,
          171,
          147.4,
          174,
          179,
          157.6,
          171,
          179,
          183,
          189.4,
          170,
          151.4,
          152,
          137,
          175,
          189,
          161.6,
          165.4,
          169,
          186.4,
          182,
          171,
          172.6,
          177.4,
          174.4,
          173.4,
          169.4,
          174,
          179,
          177.4,
          175,
          185,
          186,
          189,
          167,
          160,
          237
         ],
         "xaxis": "x",
         "yaxis": "y"
        },
        {
         "alignmentgroup": "True",
         "hovertemplate": "clear_waves=3.0<br>danger_rate=%{x}<extra></extra>",
         "legendgroup": "3.0",
         "marker": {
          "color": "#ab63fa"
         },
         "name": "3.0",
         "notched": true,
         "offsetgroup": "3.0",
         "showlegend": false,
         "type": "box",
         "x": [
          155,
          173,
          180,
          180,
          184,
          162,
          168,
          178,
          166,
          207,
          205,
          157,
          171,
          175,
          186,
          190,
          176,
          190,
          204,
          194,
          173.4,
          172,
          197,
          166,
          163,
          210,
          198,
          186,
          172,
          178,
          177,
          199,
          173,
          194,
          198,
          202,
          169.4,
          199,
          206,
          208,
          168,
          194,
          166.2,
          171,
          165,
          233,
          210,
          159,
          195,
          191,
          168,
          173,
          169,
          169,
          172,
          160,
          168,
          181,
          166.4,
          174,
          175,
          182,
          186,
          166,
          190.4,
          185,
          161,
          133,
          168.4,
          156,
          175,
          187,
          181,
          169,
          170.4,
          177,
          169,
          181.4,
          163.4,
          167,
          169,
          173,
          168.4,
          168.4,
          164.4,
          169,
          165.4,
          173,
          168,
          174,
          161,
          165,
          193,
          166.4,
          190.4,
          205,
          164,
          178,
          202,
          168,
          179.4,
          198,
          173,
          190.4,
          185.4,
          170,
          162.4,
          162.4,
          177.2,
          169.4,
          191,
          157.6,
          167,
          171,
          147.4,
          174,
          179,
          157.6,
          171,
          179,
          183,
          189.4,
          170,
          151.4,
          152,
          137,
          175,
          189,
          161.6,
          165.4,
          169,
          186.4,
          182,
          171,
          172.6,
          177.4,
          174.4,
          173.4,
          169.4,
          174,
          179,
          177.4,
          175,
          185,
          186,
          189,
          167,
          160,
          237
         ],
         "xaxis": "x2",
         "yaxis": "y2"
        }
       ],
       "layout": {
        "barmode": "overlay",
        "height": 800,
        "legend": {
         "title": {
          "text": "clear_waves"
         },
         "tracegroupgap": 0
        },
        "template": {
         "data": {
          "bar": [
           {
            "error_x": {
             "color": "#2a3f5f"
            },
            "error_y": {
             "color": "#2a3f5f"
            },
            "marker": {
             "line": {
              "color": "#E5ECF6",
              "width": 0.5
             },
             "pattern": {
              "fillmode": "overlay",
              "size": 10,
              "solidity": 0.2
             }
            },
            "type": "bar"
           }
          ],
          "barpolar": [
           {
            "marker": {
             "line": {
              "color": "#E5ECF6",
              "width": 0.5
             },
             "pattern": {
              "fillmode": "overlay",
              "size": 10,
              "solidity": 0.2
             }
            },
            "type": "barpolar"
           }
          ],
          "carpet": [
           {
            "aaxis": {
             "endlinecolor": "#2a3f5f",
             "gridcolor": "white",
             "linecolor": "white",
             "minorgridcolor": "white",
             "startlinecolor": "#2a3f5f"
            },
            "baxis": {
             "endlinecolor": "#2a3f5f",
             "gridcolor": "white",
             "linecolor": "white",
             "minorgridcolor": "white",
             "startlinecolor": "#2a3f5f"
            },
            "type": "carpet"
           }
          ],
          "choropleth": [
           {
            "colorbar": {
             "outlinewidth": 0,
             "ticks": ""
            },
            "type": "choropleth"
           }
          ],
          "contour": [
           {
            "colorbar": {
             "outlinewidth": 0,
             "ticks": ""
            },
            "colorscale": [
             [
              0,
              "#0d0887"
             ],
             [
              0.1111111111111111,
              "#46039f"
             ],
             [
              0.2222222222222222,
              "#7201a8"
             ],
             [
              0.3333333333333333,
              "#9c179e"
             ],
             [
              0.4444444444444444,
              "#bd3786"
             ],
             [
              0.5555555555555556,
              "#d8576b"
             ],
             [
              0.6666666666666666,
              "#ed7953"
             ],
             [
              0.7777777777777778,
              "#fb9f3a"
             ],
             [
              0.8888888888888888,
              "#fdca26"
             ],
             [
              1,
              "#f0f921"
             ]
            ],
            "type": "contour"
           }
          ],
          "contourcarpet": [
           {
            "colorbar": {
             "outlinewidth": 0,
             "ticks": ""
            },
            "type": "contourcarpet"
           }
          ],
          "heatmap": [
           {
            "colorbar": {
             "outlinewidth": 0,
             "ticks": ""
            },
            "colorscale": [
             [
              0,
              "#0d0887"
             ],
             [
              0.1111111111111111,
              "#46039f"
             ],
             [
              0.2222222222222222,
              "#7201a8"
             ],
             [
              0.3333333333333333,
              "#9c179e"
             ],
             [
              0.4444444444444444,
              "#bd3786"
             ],
             [
              0.5555555555555556,
              "#d8576b"
             ],
             [
              0.6666666666666666,
              "#ed7953"
             ],
             [
              0.7777777777777778,
              "#fb9f3a"
             ],
             [
              0.8888888888888888,
              "#fdca26"
             ],
             [
              1,
              "#f0f921"
             ]
            ],
            "type": "heatmap"
           }
          ],
          "heatmapgl": [
           {
            "colorbar": {
             "outlinewidth": 0,
             "ticks": ""
            },
            "colorscale": [
             [
              0,
              "#0d0887"
             ],
             [
              0.1111111111111111,
              "#46039f"
             ],
             [
              0.2222222222222222,
              "#7201a8"
             ],
             [
              0.3333333333333333,
              "#9c179e"
             ],
             [
              0.4444444444444444,
              "#bd3786"
             ],
             [
              0.5555555555555556,
              "#d8576b"
             ],
             [
              0.6666666666666666,
              "#ed7953"
             ],
             [
              0.7777777777777778,
              "#fb9f3a"
             ],
             [
              0.8888888888888888,
              "#fdca26"
             ],
             [
              1,
              "#f0f921"
             ]
            ],
            "type": "heatmapgl"
           }
          ],
          "histogram": [
           {
            "marker": {
             "pattern": {
              "fillmode": "overlay",
              "size": 10,
              "solidity": 0.2
             }
            },
            "type": "histogram"
           }
          ],
          "histogram2d": [
           {
            "colorbar": {
             "outlinewidth": 0,
             "ticks": ""
            },
            "colorscale": [
             [
              0,
              "#0d0887"
             ],
             [
              0.1111111111111111,
              "#46039f"
             ],
             [
              0.2222222222222222,
              "#7201a8"
             ],
             [
              0.3333333333333333,
              "#9c179e"
             ],
             [
              0.4444444444444444,
              "#bd3786"
             ],
             [
              0.5555555555555556,
              "#d8576b"
             ],
             [
              0.6666666666666666,
              "#ed7953"
             ],
             [
              0.7777777777777778,
              "#fb9f3a"
             ],
             [
              0.8888888888888888,
              "#fdca26"
             ],
             [
              1,
              "#f0f921"
             ]
            ],
            "type": "histogram2d"
           }
          ],
          "histogram2dcontour": [
           {
            "colorbar": {
             "outlinewidth": 0,
             "ticks": ""
            },
            "colorscale": [
             [
              0,
              "#0d0887"
             ],
             [
              0.1111111111111111,
              "#46039f"
             ],
             [
              0.2222222222222222,
              "#7201a8"
             ],
             [
              0.3333333333333333,
              "#9c179e"
             ],
             [
              0.4444444444444444,
              "#bd3786"
             ],
             [
              0.5555555555555556,
              "#d8576b"
             ],
             [
              0.6666666666666666,
              "#ed7953"
             ],
             [
              0.7777777777777778,
              "#fb9f3a"
             ],
             [
              0.8888888888888888,
              "#fdca26"
             ],
             [
              1,
              "#f0f921"
             ]
            ],
            "type": "histogram2dcontour"
           }
          ],
          "mesh3d": [
           {
            "colorbar": {
             "outlinewidth": 0,
             "ticks": ""
            },
            "type": "mesh3d"
           }
          ],
          "parcoords": [
           {
            "line": {
             "colorbar": {
              "outlinewidth": 0,
              "ticks": ""
             }
            },
            "type": "parcoords"
           }
          ],
          "pie": [
           {
            "automargin": true,
            "type": "pie"
           }
          ],
          "scatter": [
           {
            "fillpattern": {
             "fillmode": "overlay",
             "size": 10,
             "solidity": 0.2
            },
            "type": "scatter"
           }
          ],
          "scatter3d": [
           {
            "line": {
             "colorbar": {
              "outlinewidth": 0,
              "ticks": ""
             }
            },
            "marker": {
             "colorbar": {
              "outlinewidth": 0,
              "ticks": ""
             }
            },
            "type": "scatter3d"
           }
          ],
          "scattercarpet": [
           {
            "marker": {
             "colorbar": {
              "outlinewidth": 0,
              "ticks": ""
             }
            },
            "type": "scattercarpet"
           }
          ],
          "scattergeo": [
           {
            "marker": {
             "colorbar": {
              "outlinewidth": 0,
              "ticks": ""
             }
            },
            "type": "scattergeo"
           }
          ],
          "scattergl": [
           {
            "marker": {
             "colorbar": {
              "outlinewidth": 0,
              "ticks": ""
             }
            },
            "type": "scattergl"
           }
          ],
          "scattermapbox": [
           {
            "marker": {
             "colorbar": {
              "outlinewidth": 0,
              "ticks": ""
             }
            },
            "type": "scattermapbox"
           }
          ],
          "scatterpolar": [
           {
            "marker": {
             "colorbar": {
              "outlinewidth": 0,
              "ticks": ""
             }
            },
            "type": "scatterpolar"
           }
          ],
          "scatterpolargl": [
           {
            "marker": {
             "colorbar": {
              "outlinewidth": 0,
              "ticks": ""
             }
            },
            "type": "scatterpolargl"
           }
          ],
          "scatterternary": [
           {
            "marker": {
             "colorbar": {
              "outlinewidth": 0,
              "ticks": ""
             }
            },
            "type": "scatterternary"
           }
          ],
          "surface": [
           {
            "colorbar": {
             "outlinewidth": 0,
             "ticks": ""
            },
            "colorscale": [
             [
              0,
              "#0d0887"
             ],
             [
              0.1111111111111111,
              "#46039f"
             ],
             [
              0.2222222222222222,
              "#7201a8"
             ],
             [
              0.3333333333333333,
              "#9c179e"
             ],
             [
              0.4444444444444444,
              "#bd3786"
             ],
             [
              0.5555555555555556,
              "#d8576b"
             ],
             [
              0.6666666666666666,
              "#ed7953"
             ],
             [
              0.7777777777777778,
              "#fb9f3a"
             ],
             [
              0.8888888888888888,
              "#fdca26"
             ],
             [
              1,
              "#f0f921"
             ]
            ],
            "type": "surface"
           }
          ],
          "table": [
           {
            "cells": {
             "fill": {
              "color": "#EBF0F8"
             },
             "line": {
              "color": "white"
             }
            },
            "header": {
             "fill": {
              "color": "#C8D4E3"
             },
             "line": {
              "color": "white"
             }
            },
            "type": "table"
           }
          ]
         },
         "layout": {
          "annotationdefaults": {
           "arrowcolor": "#2a3f5f",
           "arrowhead": 0,
           "arrowwidth": 1
          },
          "autotypenumbers": "strict",
          "coloraxis": {
           "colorbar": {
            "outlinewidth": 0,
            "ticks": ""
           }
          },
          "colorscale": {
           "diverging": [
            [
             0,
             "#8e0152"
            ],
            [
             0.1,
             "#c51b7d"
            ],
            [
             0.2,
             "#de77ae"
            ],
            [
             0.3,
             "#f1b6da"
            ],
            [
             0.4,
             "#fde0ef"
            ],
            [
             0.5,
             "#f7f7f7"
            ],
            [
             0.6,
             "#e6f5d0"
            ],
            [
             0.7,
             "#b8e186"
            ],
            [
             0.8,
             "#7fbc41"
            ],
            [
             0.9,
             "#4d9221"
            ],
            [
             1,
             "#276419"
            ]
           ],
           "sequential": [
            [
             0,
             "#0d0887"
            ],
            [
             0.1111111111111111,
             "#46039f"
            ],
            [
             0.2222222222222222,
             "#7201a8"
            ],
            [
             0.3333333333333333,
             "#9c179e"
            ],
            [
             0.4444444444444444,
             "#bd3786"
            ],
            [
             0.5555555555555556,
             "#d8576b"
            ],
            [
             0.6666666666666666,
             "#ed7953"
            ],
            [
             0.7777777777777778,
             "#fb9f3a"
            ],
            [
             0.8888888888888888,
             "#fdca26"
            ],
            [
             1,
             "#f0f921"
            ]
           ],
           "sequentialminus": [
            [
             0,
             "#0d0887"
            ],
            [
             0.1111111111111111,
             "#46039f"
            ],
            [
             0.2222222222222222,
             "#7201a8"
            ],
            [
             0.3333333333333333,
             "#9c179e"
            ],
            [
             0.4444444444444444,
             "#bd3786"
            ],
            [
             0.5555555555555556,
             "#d8576b"
            ],
            [
             0.6666666666666666,
             "#ed7953"
            ],
            [
             0.7777777777777778,
             "#fb9f3a"
            ],
            [
             0.8888888888888888,
             "#fdca26"
            ],
            [
             1,
             "#f0f921"
            ]
           ]
          },
          "colorway": [
           "#636efa",
           "#EF553B",
           "#00cc96",
           "#ab63fa",
           "#FFA15A",
           "#19d3f3",
           "#FF6692",
           "#B6E880",
           "#FF97FF",
           "#FECB52"
          ],
          "font": {
           "color": "#2a3f5f"
          },
          "geo": {
           "bgcolor": "white",
           "lakecolor": "white",
           "landcolor": "#E5ECF6",
           "showlakes": true,
           "showland": true,
           "subunitcolor": "white"
          },
          "hoverlabel": {
           "align": "left"
          },
          "hovermode": "closest",
          "mapbox": {
           "style": "light"
          },
          "paper_bgcolor": "white",
          "plot_bgcolor": "#E5ECF6",
          "polar": {
           "angularaxis": {
            "gridcolor": "white",
            "linecolor": "white",
            "ticks": ""
           },
           "bgcolor": "#E5ECF6",
           "radialaxis": {
            "gridcolor": "white",
            "linecolor": "white",
            "ticks": ""
           }
          },
          "scene": {
           "xaxis": {
            "backgroundcolor": "#E5ECF6",
            "gridcolor": "white",
            "gridwidth": 2,
            "linecolor": "white",
            "showbackground": true,
            "ticks": "",
            "zerolinecolor": "white"
           },
           "yaxis": {
            "backgroundcolor": "#E5ECF6",
            "gridcolor": "white",
            "gridwidth": 2,
            "linecolor": "white",
            "showbackground": true,
            "ticks": "",
            "zerolinecolor": "white"
           },
           "zaxis": {
            "backgroundcolor": "#E5ECF6",
            "gridcolor": "white",
            "gridwidth": 2,
            "linecolor": "white",
            "showbackground": true,
            "ticks": "",
            "zerolinecolor": "white"
           }
          },
          "shapedefaults": {
           "line": {
            "color": "#2a3f5f"
           }
          },
          "ternary": {
           "aaxis": {
            "gridcolor": "white",
            "linecolor": "white",
            "ticks": ""
           },
           "baxis": {
            "gridcolor": "white",
            "linecolor": "white",
            "ticks": ""
           },
           "bgcolor": "#E5ECF6",
           "caxis": {
            "gridcolor": "white",
            "linecolor": "white",
            "ticks": ""
           }
          },
          "title": {
           "x": 0.05
          },
          "xaxis": {
           "automargin": true,
           "gridcolor": "white",
           "linecolor": "white",
           "ticks": "",
           "title": {
            "standoff": 15
           },
           "zerolinecolor": "white",
           "zerolinewidth": 2
          },
          "yaxis": {
           "automargin": true,
           "gridcolor": "white",
           "linecolor": "white",
           "ticks": "",
           "title": {
            "standoff": 15
           },
           "zerolinecolor": "white",
           "zerolinewidth": 2
          }
         }
        },
        "title": {
         "text": "キケン度"
        },
        "xaxis": {
         "anchor": "y",
         "domain": [
          0,
          1
         ],
         "title": {
          "text": "danger_rate"
         }
        },
        "xaxis2": {
         "anchor": "y2",
         "domain": [
          0,
          1
         ],
         "matches": "x",
         "showgrid": true,
         "showticklabels": false
        },
        "yaxis": {
         "anchor": "x",
         "domain": [
          0,
          0.7326
         ],
         "title": {
          "text": "count"
         }
        },
        "yaxis2": {
         "anchor": "x2",
         "domain": [
          0.7426,
          1
         ],
         "matches": "y2",
         "showgrid": false,
         "showline": false,
         "showticklabels": false,
         "ticks": ""
        }
       }
      },
      "text/html": [
       "<div>                            <div id=\"31060cdc-8326-4cf6-b350-f61312410c0a\" class=\"plotly-graph-div\" style=\"height:800px; width:100%;\"></div>            <script type=\"text/javascript\">                require([\"plotly\"], function(Plotly) {                    window.PLOTLYENV=window.PLOTLYENV || {};                                    if (document.getElementById(\"31060cdc-8326-4cf6-b350-f61312410c0a\")) {                    Plotly.newPlot(                        \"31060cdc-8326-4cf6-b350-f61312410c0a\",                        [{\"alignmentgroup\":\"True\",\"bingroup\":\"x\",\"hovertemplate\":\"clear_waves=0.0\\u003cbr\\u003edanger_rate=%{x}\\u003cbr\\u003ecount=%{y}\\u003cextra\\u003e\\u003c\\u002fextra\\u003e\",\"legendgroup\":\"0.0\",\"marker\":{\"color\":\"#636efa\",\"opacity\":0.5,\"pattern\":{\"shape\":\"\"}},\"name\":\"0.0\",\"nbinsx\":20,\"offsetgroup\":\"0.0\",\"orientation\":\"v\",\"showlegend\":true,\"x\":[168.0,166.4,176.0,166.0,161.0,211.0,165.0,166.0,168.4,168.0,171.0,200.0,178.0,190.4,153.4,149.4,167.0,174.0,172.0,164.0,184.0,193.0,168.0,161.6,169.4,167.0,171.4,175.4,194.0,184.2,199.4,164.4,170.4,195.4,201.0,170.4,208.4,199.0,198.0,207.0,210.0],\"xaxis\":\"x\",\"yaxis\":\"y\",\"type\":\"histogram\"},{\"alignmentgroup\":\"True\",\"hovertemplate\":\"clear_waves=0.0\\u003cbr\\u003edanger_rate=%{x}\\u003cextra\\u003e\\u003c\\u002fextra\\u003e\",\"legendgroup\":\"0.0\",\"marker\":{\"color\":\"#636efa\"},\"name\":\"0.0\",\"notched\":true,\"offsetgroup\":\"0.0\",\"showlegend\":false,\"x\":[168.0,166.4,176.0,166.0,161.0,211.0,165.0,166.0,168.4,168.0,171.0,200.0,178.0,190.4,153.4,149.4,167.0,174.0,172.0,164.0,184.0,193.0,168.0,161.6,169.4,167.0,171.4,175.4,194.0,184.2,199.4,164.4,170.4,195.4,201.0,170.4,208.4,199.0,198.0,207.0,210.0],\"xaxis\":\"x2\",\"yaxis\":\"y2\",\"type\":\"box\"},{\"alignmentgroup\":\"True\",\"bingroup\":\"x\",\"hovertemplate\":\"clear_waves=1.0\\u003cbr\\u003edanger_rate=%{x}\\u003cbr\\u003ecount=%{y}\\u003cextra\\u003e\\u003c\\u002fextra\\u003e\",\"legendgroup\":\"1.0\",\"marker\":{\"color\":\"#EF553B\",\"opacity\":0.5,\"pattern\":{\"shape\":\"\"}},\"name\":\"1.0\",\"nbinsx\":20,\"offsetgroup\":\"1.0\",\"orientation\":\"v\",\"showlegend\":true,\"x\":[187.0,176.6,170.4,174.2,192.0,173.0,191.4,189.4,168.0,173.6,169.0,164.4,198.4,170.0,185.0,180.4,177.0,170.0,192.6,177.4,179.0,159.4,166.4,213.4,166.4,177.0,163.0,172.0,193.0,161.0,163.0,176.0,167.4,163.0,174.0,172.0,193.0,169.0,194.0,208.0,188.0,201.0,163.0,199.0,209.0,167.0,170.0,199.0,172.4,235.0,198.0,201.0,193.4,154.0,158.0,164.4,162.0,155.4,134.4,168.0,164.0,150.4,189.0,175.0,192.0,203.0,182.0,156.0],\"xaxis\":\"x\",\"yaxis\":\"y\",\"type\":\"histogram\"},{\"alignmentgroup\":\"True\",\"hovertemplate\":\"clear_waves=1.0\\u003cbr\\u003edanger_rate=%{x}\\u003cextra\\u003e\\u003c\\u002fextra\\u003e\",\"legendgroup\":\"1.0\",\"marker\":{\"color\":\"#EF553B\"},\"name\":\"1.0\",\"notched\":true,\"offsetgroup\":\"1.0\",\"showlegend\":false,\"x\":[187.0,176.6,170.4,174.2,192.0,173.0,191.4,189.4,168.0,173.6,169.0,164.4,198.4,170.0,185.0,180.4,177.0,170.0,192.6,177.4,179.0,159.4,166.4,213.4,166.4,177.0,163.0,172.0,193.0,161.0,163.0,176.0,167.4,163.0,174.0,172.0,193.0,169.0,194.0,208.0,188.0,201.0,163.0,199.0,209.0,167.0,170.0,199.0,172.4,235.0,198.0,201.0,193.4,154.0,158.0,164.4,162.0,155.4,134.4,168.0,164.0,150.4,189.0,175.0,192.0,203.0,182.0,156.0],\"xaxis\":\"x2\",\"yaxis\":\"y2\",\"type\":\"box\"},{\"alignmentgroup\":\"True\",\"bingroup\":\"x\",\"hovertemplate\":\"clear_waves=2.0\\u003cbr\\u003edanger_rate=%{x}\\u003cbr\\u003ecount=%{y}\\u003cextra\\u003e\\u003c\\u002fextra\\u003e\",\"legendgroup\":\"2.0\",\"marker\":{\"color\":\"#00cc96\",\"opacity\":0.5,\"pattern\":{\"shape\":\"\"}},\"name\":\"2.0\",\"nbinsx\":20,\"offsetgroup\":\"2.0\",\"orientation\":\"v\",\"showlegend\":true,\"x\":[203.0,206.0,200.0,195.4,173.0,165.0,167.0,167.0,189.0,172.0,191.0,170.0,156.0,174.0,173.6,183.4,237.0,170.0,168.0,178.0,168.0,180.0,172.4,200.0,195.0,189.0,178.4,181.0,160.4,162.4,185.0,170.0,167.4,168.4,145.4,166.4,156.0,163.0,163.0,163.4,174.0,181.4,169.4,166.6,163.0,200.4,145.4,178.4,201.4,175.0,211.4,167.0,173.4,194.4,155.4,211.4,175.4,201.4],\"xaxis\":\"x\",\"yaxis\":\"y\",\"type\":\"histogram\"},{\"alignmentgroup\":\"True\",\"hovertemplate\":\"clear_waves=2.0\\u003cbr\\u003edanger_rate=%{x}\\u003cextra\\u003e\\u003c\\u002fextra\\u003e\",\"legendgroup\":\"2.0\",\"marker\":{\"color\":\"#00cc96\"},\"name\":\"2.0\",\"notched\":true,\"offsetgroup\":\"2.0\",\"showlegend\":false,\"x\":[203.0,206.0,200.0,195.4,173.0,165.0,167.0,167.0,189.0,172.0,191.0,170.0,156.0,174.0,173.6,183.4,237.0,170.0,168.0,178.0,168.0,180.0,172.4,200.0,195.0,189.0,178.4,181.0,160.4,162.4,185.0,170.0,167.4,168.4,145.4,166.4,156.0,163.0,163.0,163.4,174.0,181.4,169.4,166.6,163.0,200.4,145.4,178.4,201.4,175.0,211.4,167.0,173.4,194.4,155.4,211.4,175.4,201.4],\"xaxis\":\"x2\",\"yaxis\":\"y2\",\"type\":\"box\"},{\"alignmentgroup\":\"True\",\"bingroup\":\"x\",\"hovertemplate\":\"clear_waves=3.0\\u003cbr\\u003edanger_rate=%{x}\\u003cbr\\u003ecount=%{y}\\u003cextra\\u003e\\u003c\\u002fextra\\u003e\",\"legendgroup\":\"3.0\",\"marker\":{\"color\":\"#ab63fa\",\"opacity\":0.5,\"pattern\":{\"shape\":\"\"}},\"name\":\"3.0\",\"nbinsx\":20,\"offsetgroup\":\"3.0\",\"orientation\":\"v\",\"showlegend\":true,\"x\":[155.0,173.0,180.0,180.0,184.0,162.0,168.0,178.0,166.0,207.0,205.0,157.0,171.0,175.0,186.0,190.0,176.0,190.0,204.0,194.0,173.4,172.0,197.0,166.0,163.0,210.0,198.0,186.0,172.0,178.0,177.0,199.0,173.0,194.0,198.0,202.0,169.4,199.0,206.0,208.0,168.0,194.0,166.2,171.0,165.0,233.0,210.0,159.0,195.0,191.0,168.0,173.0,169.0,169.0,172.0,160.0,168.0,181.0,166.4,174.0,175.0,182.0,186.0,166.0,190.4,185.0,161.0,133.0,168.4,156.0,175.0,187.0,181.0,169.0,170.4,177.0,169.0,181.4,163.4,167.0,169.0,173.0,168.4,168.4,164.4,169.0,165.4,173.0,168.0,174.0,161.0,165.0,193.0,166.4,190.4,205.0,164.0,178.0,202.0,168.0,179.4,198.0,173.0,190.4,185.4,170.0,162.4,162.4,177.2,169.4,191.0,157.6,167.0,171.0,147.4,174.0,179.0,157.6,171.0,179.0,183.0,189.4,170.0,151.4,152.0,137.0,175.0,189.0,161.6,165.4,169.0,186.4,182.0,171.0,172.6,177.4,174.4,173.4,169.4,174.0,179.0,177.4,175.0,185.0,186.0,189.0,167.0,160.0,237.0],\"xaxis\":\"x\",\"yaxis\":\"y\",\"type\":\"histogram\"},{\"alignmentgroup\":\"True\",\"hovertemplate\":\"clear_waves=3.0\\u003cbr\\u003edanger_rate=%{x}\\u003cextra\\u003e\\u003c\\u002fextra\\u003e\",\"legendgroup\":\"3.0\",\"marker\":{\"color\":\"#ab63fa\"},\"name\":\"3.0\",\"notched\":true,\"offsetgroup\":\"3.0\",\"showlegend\":false,\"x\":[155.0,173.0,180.0,180.0,184.0,162.0,168.0,178.0,166.0,207.0,205.0,157.0,171.0,175.0,186.0,190.0,176.0,190.0,204.0,194.0,173.4,172.0,197.0,166.0,163.0,210.0,198.0,186.0,172.0,178.0,177.0,199.0,173.0,194.0,198.0,202.0,169.4,199.0,206.0,208.0,168.0,194.0,166.2,171.0,165.0,233.0,210.0,159.0,195.0,191.0,168.0,173.0,169.0,169.0,172.0,160.0,168.0,181.0,166.4,174.0,175.0,182.0,186.0,166.0,190.4,185.0,161.0,133.0,168.4,156.0,175.0,187.0,181.0,169.0,170.4,177.0,169.0,181.4,163.4,167.0,169.0,173.0,168.4,168.4,164.4,169.0,165.4,173.0,168.0,174.0,161.0,165.0,193.0,166.4,190.4,205.0,164.0,178.0,202.0,168.0,179.4,198.0,173.0,190.4,185.4,170.0,162.4,162.4,177.2,169.4,191.0,157.6,167.0,171.0,147.4,174.0,179.0,157.6,171.0,179.0,183.0,189.4,170.0,151.4,152.0,137.0,175.0,189.0,161.6,165.4,169.0,186.4,182.0,171.0,172.6,177.4,174.4,173.4,169.4,174.0,179.0,177.4,175.0,185.0,186.0,189.0,167.0,160.0,237.0],\"xaxis\":\"x2\",\"yaxis\":\"y2\",\"type\":\"box\"}],                        {\"template\":{\"data\":{\"histogram2dcontour\":[{\"type\":\"histogram2dcontour\",\"colorbar\":{\"outlinewidth\":0,\"ticks\":\"\"},\"colorscale\":[[0.0,\"#0d0887\"],[0.1111111111111111,\"#46039f\"],[0.2222222222222222,\"#7201a8\"],[0.3333333333333333,\"#9c179e\"],[0.4444444444444444,\"#bd3786\"],[0.5555555555555556,\"#d8576b\"],[0.6666666666666666,\"#ed7953\"],[0.7777777777777778,\"#fb9f3a\"],[0.8888888888888888,\"#fdca26\"],[1.0,\"#f0f921\"]]}],\"choropleth\":[{\"type\":\"choropleth\",\"colorbar\":{\"outlinewidth\":0,\"ticks\":\"\"}}],\"histogram2d\":[{\"type\":\"histogram2d\",\"colorbar\":{\"outlinewidth\":0,\"ticks\":\"\"},\"colorscale\":[[0.0,\"#0d0887\"],[0.1111111111111111,\"#46039f\"],[0.2222222222222222,\"#7201a8\"],[0.3333333333333333,\"#9c179e\"],[0.4444444444444444,\"#bd3786\"],[0.5555555555555556,\"#d8576b\"],[0.6666666666666666,\"#ed7953\"],[0.7777777777777778,\"#fb9f3a\"],[0.8888888888888888,\"#fdca26\"],[1.0,\"#f0f921\"]]}],\"heatmap\":[{\"type\":\"heatmap\",\"colorbar\":{\"outlinewidth\":0,\"ticks\":\"\"},\"colorscale\":[[0.0,\"#0d0887\"],[0.1111111111111111,\"#46039f\"],[0.2222222222222222,\"#7201a8\"],[0.3333333333333333,\"#9c179e\"],[0.4444444444444444,\"#bd3786\"],[0.5555555555555556,\"#d8576b\"],[0.6666666666666666,\"#ed7953\"],[0.7777777777777778,\"#fb9f3a\"],[0.8888888888888888,\"#fdca26\"],[1.0,\"#f0f921\"]]}],\"heatmapgl\":[{\"type\":\"heatmapgl\",\"colorbar\":{\"outlinewidth\":0,\"ticks\":\"\"},\"colorscale\":[[0.0,\"#0d0887\"],[0.1111111111111111,\"#46039f\"],[0.2222222222222222,\"#7201a8\"],[0.3333333333333333,\"#9c179e\"],[0.4444444444444444,\"#bd3786\"],[0.5555555555555556,\"#d8576b\"],[0.6666666666666666,\"#ed7953\"],[0.7777777777777778,\"#fb9f3a\"],[0.8888888888888888,\"#fdca26\"],[1.0,\"#f0f921\"]]}],\"contourcarpet\":[{\"type\":\"contourcarpet\",\"colorbar\":{\"outlinewidth\":0,\"ticks\":\"\"}}],\"contour\":[{\"type\":\"contour\",\"colorbar\":{\"outlinewidth\":0,\"ticks\":\"\"},\"colorscale\":[[0.0,\"#0d0887\"],[0.1111111111111111,\"#46039f\"],[0.2222222222222222,\"#7201a8\"],[0.3333333333333333,\"#9c179e\"],[0.4444444444444444,\"#bd3786\"],[0.5555555555555556,\"#d8576b\"],[0.6666666666666666,\"#ed7953\"],[0.7777777777777778,\"#fb9f3a\"],[0.8888888888888888,\"#fdca26\"],[1.0,\"#f0f921\"]]}],\"surface\":[{\"type\":\"surface\",\"colorbar\":{\"outlinewidth\":0,\"ticks\":\"\"},\"colorscale\":[[0.0,\"#0d0887\"],[0.1111111111111111,\"#46039f\"],[0.2222222222222222,\"#7201a8\"],[0.3333333333333333,\"#9c179e\"],[0.4444444444444444,\"#bd3786\"],[0.5555555555555556,\"#d8576b\"],[0.6666666666666666,\"#ed7953\"],[0.7777777777777778,\"#fb9f3a\"],[0.8888888888888888,\"#fdca26\"],[1.0,\"#f0f921\"]]}],\"mesh3d\":[{\"type\":\"mesh3d\",\"colorbar\":{\"outlinewidth\":0,\"ticks\":\"\"}}],\"scatter\":[{\"fillpattern\":{\"fillmode\":\"overlay\",\"size\":10,\"solidity\":0.2},\"type\":\"scatter\"}],\"parcoords\":[{\"type\":\"parcoords\",\"line\":{\"colorbar\":{\"outlinewidth\":0,\"ticks\":\"\"}}}],\"scatterpolargl\":[{\"type\":\"scatterpolargl\",\"marker\":{\"colorbar\":{\"outlinewidth\":0,\"ticks\":\"\"}}}],\"bar\":[{\"error_x\":{\"color\":\"#2a3f5f\"},\"error_y\":{\"color\":\"#2a3f5f\"},\"marker\":{\"line\":{\"color\":\"#E5ECF6\",\"width\":0.5},\"pattern\":{\"fillmode\":\"overlay\",\"size\":10,\"solidity\":0.2}},\"type\":\"bar\"}],\"scattergeo\":[{\"type\":\"scattergeo\",\"marker\":{\"colorbar\":{\"outlinewidth\":0,\"ticks\":\"\"}}}],\"scatterpolar\":[{\"type\":\"scatterpolar\",\"marker\":{\"colorbar\":{\"outlinewidth\":0,\"ticks\":\"\"}}}],\"histogram\":[{\"marker\":{\"pattern\":{\"fillmode\":\"overlay\",\"size\":10,\"solidity\":0.2}},\"type\":\"histogram\"}],\"scattergl\":[{\"type\":\"scattergl\",\"marker\":{\"colorbar\":{\"outlinewidth\":0,\"ticks\":\"\"}}}],\"scatter3d\":[{\"type\":\"scatter3d\",\"line\":{\"colorbar\":{\"outlinewidth\":0,\"ticks\":\"\"}},\"marker\":{\"colorbar\":{\"outlinewidth\":0,\"ticks\":\"\"}}}],\"scattermapbox\":[{\"type\":\"scattermapbox\",\"marker\":{\"colorbar\":{\"outlinewidth\":0,\"ticks\":\"\"}}}],\"scatterternary\":[{\"type\":\"scatterternary\",\"marker\":{\"colorbar\":{\"outlinewidth\":0,\"ticks\":\"\"}}}],\"scattercarpet\":[{\"type\":\"scattercarpet\",\"marker\":{\"colorbar\":{\"outlinewidth\":0,\"ticks\":\"\"}}}],\"carpet\":[{\"aaxis\":{\"endlinecolor\":\"#2a3f5f\",\"gridcolor\":\"white\",\"linecolor\":\"white\",\"minorgridcolor\":\"white\",\"startlinecolor\":\"#2a3f5f\"},\"baxis\":{\"endlinecolor\":\"#2a3f5f\",\"gridcolor\":\"white\",\"linecolor\":\"white\",\"minorgridcolor\":\"white\",\"startlinecolor\":\"#2a3f5f\"},\"type\":\"carpet\"}],\"table\":[{\"cells\":{\"fill\":{\"color\":\"#EBF0F8\"},\"line\":{\"color\":\"white\"}},\"header\":{\"fill\":{\"color\":\"#C8D4E3\"},\"line\":{\"color\":\"white\"}},\"type\":\"table\"}],\"barpolar\":[{\"marker\":{\"line\":{\"color\":\"#E5ECF6\",\"width\":0.5},\"pattern\":{\"fillmode\":\"overlay\",\"size\":10,\"solidity\":0.2}},\"type\":\"barpolar\"}],\"pie\":[{\"automargin\":true,\"type\":\"pie\"}]},\"layout\":{\"autotypenumbers\":\"strict\",\"colorway\":[\"#636efa\",\"#EF553B\",\"#00cc96\",\"#ab63fa\",\"#FFA15A\",\"#19d3f3\",\"#FF6692\",\"#B6E880\",\"#FF97FF\",\"#FECB52\"],\"font\":{\"color\":\"#2a3f5f\"},\"hovermode\":\"closest\",\"hoverlabel\":{\"align\":\"left\"},\"paper_bgcolor\":\"white\",\"plot_bgcolor\":\"#E5ECF6\",\"polar\":{\"bgcolor\":\"#E5ECF6\",\"angularaxis\":{\"gridcolor\":\"white\",\"linecolor\":\"white\",\"ticks\":\"\"},\"radialaxis\":{\"gridcolor\":\"white\",\"linecolor\":\"white\",\"ticks\":\"\"}},\"ternary\":{\"bgcolor\":\"#E5ECF6\",\"aaxis\":{\"gridcolor\":\"white\",\"linecolor\":\"white\",\"ticks\":\"\"},\"baxis\":{\"gridcolor\":\"white\",\"linecolor\":\"white\",\"ticks\":\"\"},\"caxis\":{\"gridcolor\":\"white\",\"linecolor\":\"white\",\"ticks\":\"\"}},\"coloraxis\":{\"colorbar\":{\"outlinewidth\":0,\"ticks\":\"\"}},\"colorscale\":{\"sequential\":[[0.0,\"#0d0887\"],[0.1111111111111111,\"#46039f\"],[0.2222222222222222,\"#7201a8\"],[0.3333333333333333,\"#9c179e\"],[0.4444444444444444,\"#bd3786\"],[0.5555555555555556,\"#d8576b\"],[0.6666666666666666,\"#ed7953\"],[0.7777777777777778,\"#fb9f3a\"],[0.8888888888888888,\"#fdca26\"],[1.0,\"#f0f921\"]],\"sequentialminus\":[[0.0,\"#0d0887\"],[0.1111111111111111,\"#46039f\"],[0.2222222222222222,\"#7201a8\"],[0.3333333333333333,\"#9c179e\"],[0.4444444444444444,\"#bd3786\"],[0.5555555555555556,\"#d8576b\"],[0.6666666666666666,\"#ed7953\"],[0.7777777777777778,\"#fb9f3a\"],[0.8888888888888888,\"#fdca26\"],[1.0,\"#f0f921\"]],\"diverging\":[[0,\"#8e0152\"],[0.1,\"#c51b7d\"],[0.2,\"#de77ae\"],[0.3,\"#f1b6da\"],[0.4,\"#fde0ef\"],[0.5,\"#f7f7f7\"],[0.6,\"#e6f5d0\"],[0.7,\"#b8e186\"],[0.8,\"#7fbc41\"],[0.9,\"#4d9221\"],[1,\"#276419\"]]},\"xaxis\":{\"gridcolor\":\"white\",\"linecolor\":\"white\",\"ticks\":\"\",\"title\":{\"standoff\":15},\"zerolinecolor\":\"white\",\"automargin\":true,\"zerolinewidth\":2},\"yaxis\":{\"gridcolor\":\"white\",\"linecolor\":\"white\",\"ticks\":\"\",\"title\":{\"standoff\":15},\"zerolinecolor\":\"white\",\"automargin\":true,\"zerolinewidth\":2},\"scene\":{\"xaxis\":{\"backgroundcolor\":\"#E5ECF6\",\"gridcolor\":\"white\",\"linecolor\":\"white\",\"showbackground\":true,\"ticks\":\"\",\"zerolinecolor\":\"white\",\"gridwidth\":2},\"yaxis\":{\"backgroundcolor\":\"#E5ECF6\",\"gridcolor\":\"white\",\"linecolor\":\"white\",\"showbackground\":true,\"ticks\":\"\",\"zerolinecolor\":\"white\",\"gridwidth\":2},\"zaxis\":{\"backgroundcolor\":\"#E5ECF6\",\"gridcolor\":\"white\",\"linecolor\":\"white\",\"showbackground\":true,\"ticks\":\"\",\"zerolinecolor\":\"white\",\"gridwidth\":2}},\"shapedefaults\":{\"line\":{\"color\":\"#2a3f5f\"}},\"annotationdefaults\":{\"arrowcolor\":\"#2a3f5f\",\"arrowhead\":0,\"arrowwidth\":1},\"geo\":{\"bgcolor\":\"white\",\"landcolor\":\"#E5ECF6\",\"subunitcolor\":\"white\",\"showland\":true,\"showlakes\":true,\"lakecolor\":\"white\"},\"title\":{\"x\":0.05},\"mapbox\":{\"style\":\"light\"}}},\"xaxis\":{\"anchor\":\"y\",\"domain\":[0.0,1.0],\"title\":{\"text\":\"danger_rate\"}},\"yaxis\":{\"anchor\":\"x\",\"domain\":[0.0,0.7326],\"title\":{\"text\":\"count\"}},\"xaxis2\":{\"anchor\":\"y2\",\"domain\":[0.0,1.0],\"matches\":\"x\",\"showticklabels\":false,\"showgrid\":true},\"yaxis2\":{\"anchor\":\"x2\",\"domain\":[0.7426,1.0],\"matches\":\"y2\",\"showticklabels\":false,\"showline\":false,\"ticks\":\"\",\"showgrid\":false},\"legend\":{\"title\":{\"text\":\"clear_waves\"},\"tracegroupgap\":0},\"title\":{\"text\":\"\\u30ad\\u30b1\\u30f3\\u5ea6\"},\"barmode\":\"overlay\",\"height\":800},                        {\"responsive\": true}                    ).then(function(){\n",
       "                            \n",
       "var gd = document.getElementById('31060cdc-8326-4cf6-b350-f61312410c0a');\n",
       "var x = new MutationObserver(function (mutations, observer) {{\n",
       "        var display = window.getComputedStyle(gd).display;\n",
       "        if (!display || display === 'none') {{\n",
       "            console.log([gd, 'removed!']);\n",
       "            Plotly.purge(gd);\n",
       "            observer.disconnect();\n",
       "        }}\n",
       "}});\n",
       "\n",
       "// Listen for the removal of the full notebook cells\n",
       "var notebookContainer = gd.closest('#notebook-container');\n",
       "if (notebookContainer) {{\n",
       "    x.observe(notebookContainer, {childList: true});\n",
       "}}\n",
       "\n",
       "// Listen for the clearing of the current output cell\n",
       "var outputEl = gd.closest('.output');\n",
       "if (outputEl) {{\n",
       "    x.observe(outputEl, {childList: true});\n",
       "}}\n",
       "\n",
       "                        })                };                });            </script>        </div>"
      ]
     },
     "metadata": {},
     "output_type": "display_data"
    }
   ],
   "source": [
    "px.histogram(\n",
    "    salmon_df.query(\"danger_rate >= 50\").sort_values(by=\"clear_waves\"), \n",
    "    x=\"danger_rate\", \n",
    "    height=800,\n",
    "    color=\"clear_waves\",\n",
    "    title=\"キケン度\",\n",
    "    barmode=\"overlay\",\n",
    "    nbins=20,\n",
    "    marginal=\"box\",\n",
    "    # histnorm=\"probability\"\n",
    ")"
   ]
  },
  {
   "attachments": {},
   "cell_type": "markdown",
   "metadata": {},
   "source": [
    "## ボス討伐数"
   ]
  },
  {
   "cell_type": "code",
   "execution_count": 53,
   "metadata": {},
   "outputs": [
    {
     "data": {
      "application/vnd.jupyter.widget-view+json": {
       "model_id": "9990bb47372e49f4a37e9b994bf68635",
       "version_major": 2,
       "version_minor": 0
      },
      "text/plain": [
       "  0%|          | 0/325 [00:00<?, ?it/s]"
      ]
     },
     "metadata": {},
     "output_type": "display_data"
    },
    {
     "data": {
      "text/html": [
       "<div>\n",
       "<style scoped>\n",
       "    .dataframe tbody tr th:only-of-type {\n",
       "        vertical-align: middle;\n",
       "    }\n",
       "\n",
       "    .dataframe tbody tr th {\n",
       "        vertical-align: top;\n",
       "    }\n",
       "\n",
       "    .dataframe thead th {\n",
       "        text-align: right;\n",
       "    }\n",
       "</style>\n",
       "<table border=\"1\" class=\"dataframe\">\n",
       "  <thead>\n",
       "    <tr style=\"text-align: right;\">\n",
       "      <th></th>\n",
       "      <th>boss</th>\n",
       "      <th>appearances</th>\n",
       "      <th>defeated</th>\n",
       "      <th>defeated_by_me</th>\n",
       "    </tr>\n",
       "  </thead>\n",
       "  <tbody>\n",
       "    <tr>\n",
       "      <th>0</th>\n",
       "      <td>bakudan</td>\n",
       "      <td>6</td>\n",
       "      <td>6</td>\n",
       "      <td>2</td>\n",
       "    </tr>\n",
       "    <tr>\n",
       "      <th>1</th>\n",
       "      <td>diver</td>\n",
       "      <td>3</td>\n",
       "      <td>3</td>\n",
       "      <td>1</td>\n",
       "    </tr>\n",
       "    <tr>\n",
       "      <th>2</th>\n",
       "      <td>hashira</td>\n",
       "      <td>5</td>\n",
       "      <td>2</td>\n",
       "      <td>0</td>\n",
       "    </tr>\n",
       "    <tr>\n",
       "      <th>3</th>\n",
       "      <td>hebi</td>\n",
       "      <td>5</td>\n",
       "      <td>5</td>\n",
       "      <td>2</td>\n",
       "    </tr>\n",
       "    <tr>\n",
       "      <th>4</th>\n",
       "      <td>katapad</td>\n",
       "      <td>3</td>\n",
       "      <td>3</td>\n",
       "      <td>0</td>\n",
       "    </tr>\n",
       "  </tbody>\n",
       "</table>\n",
       "</div>"
      ],
      "text/plain": [
       "      boss appearances defeated defeated_by_me\n",
       "0  bakudan           6        6              2\n",
       "1    diver           3        3              1\n",
       "2  hashira           5        2              0\n",
       "3     hebi           5        5              2\n",
       "4  katapad           3        3              0"
      ]
     },
     "execution_count": 53,
     "metadata": {},
     "output_type": "execute_result"
    }
   ],
   "source": [
    "bosslist = list()\n",
    "for i in tqdm(salmon_df[\"bosses\"]):\n",
    "    # display(pd.DataFrame(i).T)\n",
    "    bosslist.append(pd.DataFrame(i).T.reset_index())\n",
    "bosslist = pd.concat(bosslist)\n",
    "bosslist = bosslist.drop(columns=\"boss\").rename(columns={\"index\": \"boss\"})\n",
    "bosslist.head()\n",
    "# tmp = pd.DataFrame(salmon_df.loc[0][\"bosses\"]).T\n",
    "# tmp"
   ]
  },
  {
   "cell_type": "code",
   "execution_count": 61,
   "metadata": {},
   "outputs": [
    {
     "data": {
      "text/html": [
       "<div>\n",
       "<style scoped>\n",
       "    .dataframe tbody tr th:only-of-type {\n",
       "        vertical-align: middle;\n",
       "    }\n",
       "\n",
       "    .dataframe tbody tr th {\n",
       "        vertical-align: top;\n",
       "    }\n",
       "\n",
       "    .dataframe thead th {\n",
       "        text-align: right;\n",
       "    }\n",
       "</style>\n",
       "<table border=\"1\" class=\"dataframe\">\n",
       "  <thead>\n",
       "    <tr style=\"text-align: right;\">\n",
       "      <th></th>\n",
       "      <th>boss</th>\n",
       "      <th>appearances</th>\n",
       "      <th>defeated</th>\n",
       "      <th>defeated_by_me</th>\n",
       "      <th>percent</th>\n",
       "    </tr>\n",
       "  </thead>\n",
       "  <tbody>\n",
       "    <tr>\n",
       "      <th>9</th>\n",
       "      <td>mogura</td>\n",
       "      <td>1342</td>\n",
       "      <td>1243</td>\n",
       "      <td>384</td>\n",
       "      <td>0.28614</td>\n",
       "    </tr>\n",
       "    <tr>\n",
       "      <th>1</th>\n",
       "      <td>diver</td>\n",
       "      <td>1274</td>\n",
       "      <td>1128</td>\n",
       "      <td>338</td>\n",
       "      <td>0.265306</td>\n",
       "    </tr>\n",
       "    <tr>\n",
       "      <th>4</th>\n",
       "      <td>hashira</td>\n",
       "      <td>1253</td>\n",
       "      <td>955</td>\n",
       "      <td>275</td>\n",
       "      <td>0.219473</td>\n",
       "    </tr>\n",
       "    <tr>\n",
       "      <th>12</th>\n",
       "      <td>teppan</td>\n",
       "      <td>1402</td>\n",
       "      <td>1281</td>\n",
       "      <td>294</td>\n",
       "      <td>0.2097</td>\n",
       "    </tr>\n",
       "    <tr>\n",
       "      <th>7</th>\n",
       "      <td>kin_shake</td>\n",
       "      <td>449</td>\n",
       "      <td>399</td>\n",
       "      <td>94</td>\n",
       "      <td>0.209354</td>\n",
       "    </tr>\n",
       "    <tr>\n",
       "      <th>5</th>\n",
       "      <td>hebi</td>\n",
       "      <td>1392</td>\n",
       "      <td>1332</td>\n",
       "      <td>290</td>\n",
       "      <td>0.208333</td>\n",
       "    </tr>\n",
       "    <tr>\n",
       "      <th>0</th>\n",
       "      <td>bakudan</td>\n",
       "      <td>1374</td>\n",
       "      <td>1212</td>\n",
       "      <td>284</td>\n",
       "      <td>0.206696</td>\n",
       "    </tr>\n",
       "    <tr>\n",
       "      <th>11</th>\n",
       "      <td>tekkyu</td>\n",
       "      <td>532</td>\n",
       "      <td>419</td>\n",
       "      <td>93</td>\n",
       "      <td>0.174812</td>\n",
       "    </tr>\n",
       "    <tr>\n",
       "      <th>2</th>\n",
       "      <td>doro_shake</td>\n",
       "      <td>87</td>\n",
       "      <td>70</td>\n",
       "      <td>13</td>\n",
       "      <td>0.149425</td>\n",
       "    </tr>\n",
       "    <tr>\n",
       "      <th>8</th>\n",
       "      <td>koumori</td>\n",
       "      <td>1381</td>\n",
       "      <td>889</td>\n",
       "      <td>187</td>\n",
       "      <td>0.135409</td>\n",
       "    </tr>\n",
       "    <tr>\n",
       "      <th>13</th>\n",
       "      <td>tower</td>\n",
       "      <td>1356</td>\n",
       "      <td>1185</td>\n",
       "      <td>171</td>\n",
       "      <td>0.126106</td>\n",
       "    </tr>\n",
       "    <tr>\n",
       "      <th>3</th>\n",
       "      <td>grill</td>\n",
       "      <td>159</td>\n",
       "      <td>127</td>\n",
       "      <td>17</td>\n",
       "      <td>0.106918</td>\n",
       "    </tr>\n",
       "    <tr>\n",
       "      <th>10</th>\n",
       "      <td>nabebuta</td>\n",
       "      <td>1423</td>\n",
       "      <td>1061</td>\n",
       "      <td>119</td>\n",
       "      <td>0.083626</td>\n",
       "    </tr>\n",
       "    <tr>\n",
       "      <th>6</th>\n",
       "      <td>katapad</td>\n",
       "      <td>1360</td>\n",
       "      <td>718</td>\n",
       "      <td>78</td>\n",
       "      <td>0.057353</td>\n",
       "    </tr>\n",
       "  </tbody>\n",
       "</table>\n",
       "</div>"
      ],
      "text/plain": [
       "          boss appearances defeated defeated_by_me   percent\n",
       "9       mogura        1342     1243            384   0.28614\n",
       "1        diver        1274     1128            338  0.265306\n",
       "4      hashira        1253      955            275  0.219473\n",
       "12      teppan        1402     1281            294    0.2097\n",
       "7    kin_shake         449      399             94  0.209354\n",
       "5         hebi        1392     1332            290  0.208333\n",
       "0      bakudan        1374     1212            284  0.206696\n",
       "11      tekkyu         532      419             93  0.174812\n",
       "2   doro_shake          87       70             13  0.149425\n",
       "8      koumori        1381      889            187  0.135409\n",
       "13       tower        1356     1185            171  0.126106\n",
       "3        grill         159      127             17  0.106918\n",
       "10    nabebuta        1423     1061            119  0.083626\n",
       "6      katapad        1360      718             78  0.057353"
      ]
     },
     "execution_count": 61,
     "metadata": {},
     "output_type": "execute_result"
    }
   ],
   "source": [
    "boss = bosslist.groupby(\"boss\").sum().reset_index()\n",
    "boss[\"percent\"] = boss[\"defeated_by_me\"] / boss[\"appearances\"]\n",
    "boss.sort_values(by=\"percent\", ascending=False)"
   ]
  },
  {
   "cell_type": "code",
   "execution_count": 65,
   "metadata": {},
   "outputs": [
    {
     "data": {
      "application/vnd.plotly.v1+json": {
       "config": {
        "plotlyServerURL": "https://plot.ly"
       },
       "data": [
        {
         "alignmentgroup": "True",
         "hovertemplate": "boss=%{x}<br>percent=%{y}<extra></extra>",
         "legendgroup": "",
         "marker": {
          "color": "#636efa",
          "pattern": {
           "shape": ""
          }
         },
         "name": "",
         "offsetgroup": "",
         "orientation": "v",
         "showlegend": false,
         "textposition": "auto",
         "type": "bar",
         "x": [
          "mogura",
          "diver",
          "hashira",
          "teppan",
          "kin_shake",
          "hebi",
          "bakudan",
          "tekkyu",
          "doro_shake",
          "koumori",
          "tower",
          "grill",
          "nabebuta",
          "katapad"
         ],
         "xaxis": "x",
         "y": [
          0.28614008941877794,
          0.2653061224489796,
          0.2194732641660016,
          0.20970042796005706,
          0.20935412026726058,
          0.20833333333333334,
          0.2066957787481805,
          0.17481203007518797,
          0.14942528735632185,
          0.13540912382331644,
          0.1261061946902655,
          0.1069182389937107,
          0.08362614195361912,
          0.057352941176470586
         ],
         "yaxis": "y"
        }
       ],
       "layout": {
        "barmode": "relative",
        "legend": {
         "tracegroupgap": 0
        },
        "template": {
         "data": {
          "bar": [
           {
            "error_x": {
             "color": "#2a3f5f"
            },
            "error_y": {
             "color": "#2a3f5f"
            },
            "marker": {
             "line": {
              "color": "#E5ECF6",
              "width": 0.5
             },
             "pattern": {
              "fillmode": "overlay",
              "size": 10,
              "solidity": 0.2
             }
            },
            "type": "bar"
           }
          ],
          "barpolar": [
           {
            "marker": {
             "line": {
              "color": "#E5ECF6",
              "width": 0.5
             },
             "pattern": {
              "fillmode": "overlay",
              "size": 10,
              "solidity": 0.2
             }
            },
            "type": "barpolar"
           }
          ],
          "carpet": [
           {
            "aaxis": {
             "endlinecolor": "#2a3f5f",
             "gridcolor": "white",
             "linecolor": "white",
             "minorgridcolor": "white",
             "startlinecolor": "#2a3f5f"
            },
            "baxis": {
             "endlinecolor": "#2a3f5f",
             "gridcolor": "white",
             "linecolor": "white",
             "minorgridcolor": "white",
             "startlinecolor": "#2a3f5f"
            },
            "type": "carpet"
           }
          ],
          "choropleth": [
           {
            "colorbar": {
             "outlinewidth": 0,
             "ticks": ""
            },
            "type": "choropleth"
           }
          ],
          "contour": [
           {
            "colorbar": {
             "outlinewidth": 0,
             "ticks": ""
            },
            "colorscale": [
             [
              0,
              "#0d0887"
             ],
             [
              0.1111111111111111,
              "#46039f"
             ],
             [
              0.2222222222222222,
              "#7201a8"
             ],
             [
              0.3333333333333333,
              "#9c179e"
             ],
             [
              0.4444444444444444,
              "#bd3786"
             ],
             [
              0.5555555555555556,
              "#d8576b"
             ],
             [
              0.6666666666666666,
              "#ed7953"
             ],
             [
              0.7777777777777778,
              "#fb9f3a"
             ],
             [
              0.8888888888888888,
              "#fdca26"
             ],
             [
              1,
              "#f0f921"
             ]
            ],
            "type": "contour"
           }
          ],
          "contourcarpet": [
           {
            "colorbar": {
             "outlinewidth": 0,
             "ticks": ""
            },
            "type": "contourcarpet"
           }
          ],
          "heatmap": [
           {
            "colorbar": {
             "outlinewidth": 0,
             "ticks": ""
            },
            "colorscale": [
             [
              0,
              "#0d0887"
             ],
             [
              0.1111111111111111,
              "#46039f"
             ],
             [
              0.2222222222222222,
              "#7201a8"
             ],
             [
              0.3333333333333333,
              "#9c179e"
             ],
             [
              0.4444444444444444,
              "#bd3786"
             ],
             [
              0.5555555555555556,
              "#d8576b"
             ],
             [
              0.6666666666666666,
              "#ed7953"
             ],
             [
              0.7777777777777778,
              "#fb9f3a"
             ],
             [
              0.8888888888888888,
              "#fdca26"
             ],
             [
              1,
              "#f0f921"
             ]
            ],
            "type": "heatmap"
           }
          ],
          "heatmapgl": [
           {
            "colorbar": {
             "outlinewidth": 0,
             "ticks": ""
            },
            "colorscale": [
             [
              0,
              "#0d0887"
             ],
             [
              0.1111111111111111,
              "#46039f"
             ],
             [
              0.2222222222222222,
              "#7201a8"
             ],
             [
              0.3333333333333333,
              "#9c179e"
             ],
             [
              0.4444444444444444,
              "#bd3786"
             ],
             [
              0.5555555555555556,
              "#d8576b"
             ],
             [
              0.6666666666666666,
              "#ed7953"
             ],
             [
              0.7777777777777778,
              "#fb9f3a"
             ],
             [
              0.8888888888888888,
              "#fdca26"
             ],
             [
              1,
              "#f0f921"
             ]
            ],
            "type": "heatmapgl"
           }
          ],
          "histogram": [
           {
            "marker": {
             "pattern": {
              "fillmode": "overlay",
              "size": 10,
              "solidity": 0.2
             }
            },
            "type": "histogram"
           }
          ],
          "histogram2d": [
           {
            "colorbar": {
             "outlinewidth": 0,
             "ticks": ""
            },
            "colorscale": [
             [
              0,
              "#0d0887"
             ],
             [
              0.1111111111111111,
              "#46039f"
             ],
             [
              0.2222222222222222,
              "#7201a8"
             ],
             [
              0.3333333333333333,
              "#9c179e"
             ],
             [
              0.4444444444444444,
              "#bd3786"
             ],
             [
              0.5555555555555556,
              "#d8576b"
             ],
             [
              0.6666666666666666,
              "#ed7953"
             ],
             [
              0.7777777777777778,
              "#fb9f3a"
             ],
             [
              0.8888888888888888,
              "#fdca26"
             ],
             [
              1,
              "#f0f921"
             ]
            ],
            "type": "histogram2d"
           }
          ],
          "histogram2dcontour": [
           {
            "colorbar": {
             "outlinewidth": 0,
             "ticks": ""
            },
            "colorscale": [
             [
              0,
              "#0d0887"
             ],
             [
              0.1111111111111111,
              "#46039f"
             ],
             [
              0.2222222222222222,
              "#7201a8"
             ],
             [
              0.3333333333333333,
              "#9c179e"
             ],
             [
              0.4444444444444444,
              "#bd3786"
             ],
             [
              0.5555555555555556,
              "#d8576b"
             ],
             [
              0.6666666666666666,
              "#ed7953"
             ],
             [
              0.7777777777777778,
              "#fb9f3a"
             ],
             [
              0.8888888888888888,
              "#fdca26"
             ],
             [
              1,
              "#f0f921"
             ]
            ],
            "type": "histogram2dcontour"
           }
          ],
          "mesh3d": [
           {
            "colorbar": {
             "outlinewidth": 0,
             "ticks": ""
            },
            "type": "mesh3d"
           }
          ],
          "parcoords": [
           {
            "line": {
             "colorbar": {
              "outlinewidth": 0,
              "ticks": ""
             }
            },
            "type": "parcoords"
           }
          ],
          "pie": [
           {
            "automargin": true,
            "type": "pie"
           }
          ],
          "scatter": [
           {
            "fillpattern": {
             "fillmode": "overlay",
             "size": 10,
             "solidity": 0.2
            },
            "type": "scatter"
           }
          ],
          "scatter3d": [
           {
            "line": {
             "colorbar": {
              "outlinewidth": 0,
              "ticks": ""
             }
            },
            "marker": {
             "colorbar": {
              "outlinewidth": 0,
              "ticks": ""
             }
            },
            "type": "scatter3d"
           }
          ],
          "scattercarpet": [
           {
            "marker": {
             "colorbar": {
              "outlinewidth": 0,
              "ticks": ""
             }
            },
            "type": "scattercarpet"
           }
          ],
          "scattergeo": [
           {
            "marker": {
             "colorbar": {
              "outlinewidth": 0,
              "ticks": ""
             }
            },
            "type": "scattergeo"
           }
          ],
          "scattergl": [
           {
            "marker": {
             "colorbar": {
              "outlinewidth": 0,
              "ticks": ""
             }
            },
            "type": "scattergl"
           }
          ],
          "scattermapbox": [
           {
            "marker": {
             "colorbar": {
              "outlinewidth": 0,
              "ticks": ""
             }
            },
            "type": "scattermapbox"
           }
          ],
          "scatterpolar": [
           {
            "marker": {
             "colorbar": {
              "outlinewidth": 0,
              "ticks": ""
             }
            },
            "type": "scatterpolar"
           }
          ],
          "scatterpolargl": [
           {
            "marker": {
             "colorbar": {
              "outlinewidth": 0,
              "ticks": ""
             }
            },
            "type": "scatterpolargl"
           }
          ],
          "scatterternary": [
           {
            "marker": {
             "colorbar": {
              "outlinewidth": 0,
              "ticks": ""
             }
            },
            "type": "scatterternary"
           }
          ],
          "surface": [
           {
            "colorbar": {
             "outlinewidth": 0,
             "ticks": ""
            },
            "colorscale": [
             [
              0,
              "#0d0887"
             ],
             [
              0.1111111111111111,
              "#46039f"
             ],
             [
              0.2222222222222222,
              "#7201a8"
             ],
             [
              0.3333333333333333,
              "#9c179e"
             ],
             [
              0.4444444444444444,
              "#bd3786"
             ],
             [
              0.5555555555555556,
              "#d8576b"
             ],
             [
              0.6666666666666666,
              "#ed7953"
             ],
             [
              0.7777777777777778,
              "#fb9f3a"
             ],
             [
              0.8888888888888888,
              "#fdca26"
             ],
             [
              1,
              "#f0f921"
             ]
            ],
            "type": "surface"
           }
          ],
          "table": [
           {
            "cells": {
             "fill": {
              "color": "#EBF0F8"
             },
             "line": {
              "color": "white"
             }
            },
            "header": {
             "fill": {
              "color": "#C8D4E3"
             },
             "line": {
              "color": "white"
             }
            },
            "type": "table"
           }
          ]
         },
         "layout": {
          "annotationdefaults": {
           "arrowcolor": "#2a3f5f",
           "arrowhead": 0,
           "arrowwidth": 1
          },
          "autotypenumbers": "strict",
          "coloraxis": {
           "colorbar": {
            "outlinewidth": 0,
            "ticks": ""
           }
          },
          "colorscale": {
           "diverging": [
            [
             0,
             "#8e0152"
            ],
            [
             0.1,
             "#c51b7d"
            ],
            [
             0.2,
             "#de77ae"
            ],
            [
             0.3,
             "#f1b6da"
            ],
            [
             0.4,
             "#fde0ef"
            ],
            [
             0.5,
             "#f7f7f7"
            ],
            [
             0.6,
             "#e6f5d0"
            ],
            [
             0.7,
             "#b8e186"
            ],
            [
             0.8,
             "#7fbc41"
            ],
            [
             0.9,
             "#4d9221"
            ],
            [
             1,
             "#276419"
            ]
           ],
           "sequential": [
            [
             0,
             "#0d0887"
            ],
            [
             0.1111111111111111,
             "#46039f"
            ],
            [
             0.2222222222222222,
             "#7201a8"
            ],
            [
             0.3333333333333333,
             "#9c179e"
            ],
            [
             0.4444444444444444,
             "#bd3786"
            ],
            [
             0.5555555555555556,
             "#d8576b"
            ],
            [
             0.6666666666666666,
             "#ed7953"
            ],
            [
             0.7777777777777778,
             "#fb9f3a"
            ],
            [
             0.8888888888888888,
             "#fdca26"
            ],
            [
             1,
             "#f0f921"
            ]
           ],
           "sequentialminus": [
            [
             0,
             "#0d0887"
            ],
            [
             0.1111111111111111,
             "#46039f"
            ],
            [
             0.2222222222222222,
             "#7201a8"
            ],
            [
             0.3333333333333333,
             "#9c179e"
            ],
            [
             0.4444444444444444,
             "#bd3786"
            ],
            [
             0.5555555555555556,
             "#d8576b"
            ],
            [
             0.6666666666666666,
             "#ed7953"
            ],
            [
             0.7777777777777778,
             "#fb9f3a"
            ],
            [
             0.8888888888888888,
             "#fdca26"
            ],
            [
             1,
             "#f0f921"
            ]
           ]
          },
          "colorway": [
           "#636efa",
           "#EF553B",
           "#00cc96",
           "#ab63fa",
           "#FFA15A",
           "#19d3f3",
           "#FF6692",
           "#B6E880",
           "#FF97FF",
           "#FECB52"
          ],
          "font": {
           "color": "#2a3f5f"
          },
          "geo": {
           "bgcolor": "white",
           "lakecolor": "white",
           "landcolor": "#E5ECF6",
           "showlakes": true,
           "showland": true,
           "subunitcolor": "white"
          },
          "hoverlabel": {
           "align": "left"
          },
          "hovermode": "closest",
          "mapbox": {
           "style": "light"
          },
          "paper_bgcolor": "white",
          "plot_bgcolor": "#E5ECF6",
          "polar": {
           "angularaxis": {
            "gridcolor": "white",
            "linecolor": "white",
            "ticks": ""
           },
           "bgcolor": "#E5ECF6",
           "radialaxis": {
            "gridcolor": "white",
            "linecolor": "white",
            "ticks": ""
           }
          },
          "scene": {
           "xaxis": {
            "backgroundcolor": "#E5ECF6",
            "gridcolor": "white",
            "gridwidth": 2,
            "linecolor": "white",
            "showbackground": true,
            "ticks": "",
            "zerolinecolor": "white"
           },
           "yaxis": {
            "backgroundcolor": "#E5ECF6",
            "gridcolor": "white",
            "gridwidth": 2,
            "linecolor": "white",
            "showbackground": true,
            "ticks": "",
            "zerolinecolor": "white"
           },
           "zaxis": {
            "backgroundcolor": "#E5ECF6",
            "gridcolor": "white",
            "gridwidth": 2,
            "linecolor": "white",
            "showbackground": true,
            "ticks": "",
            "zerolinecolor": "white"
           }
          },
          "shapedefaults": {
           "line": {
            "color": "#2a3f5f"
           }
          },
          "ternary": {
           "aaxis": {
            "gridcolor": "white",
            "linecolor": "white",
            "ticks": ""
           },
           "baxis": {
            "gridcolor": "white",
            "linecolor": "white",
            "ticks": ""
           },
           "bgcolor": "#E5ECF6",
           "caxis": {
            "gridcolor": "white",
            "linecolor": "white",
            "ticks": ""
           }
          },
          "title": {
           "x": 0.05
          },
          "xaxis": {
           "automargin": true,
           "gridcolor": "white",
           "linecolor": "white",
           "ticks": "",
           "title": {
            "standoff": 15
           },
           "zerolinecolor": "white",
           "zerolinewidth": 2
          },
          "yaxis": {
           "automargin": true,
           "gridcolor": "white",
           "linecolor": "white",
           "ticks": "",
           "title": {
            "standoff": 15
           },
           "zerolinecolor": "white",
           "zerolinewidth": 2
          }
         }
        },
        "title": {
         "text": "ボスの倒した割合"
        },
        "xaxis": {
         "anchor": "y",
         "domain": [
          0,
          1
         ],
         "title": {
          "text": "boss"
         }
        },
        "yaxis": {
         "anchor": "x",
         "domain": [
          0,
          1
         ],
         "title": {
          "text": "percent"
         }
        }
       }
      },
      "text/html": [
       "<div>                            <div id=\"6e5def6b-2564-4288-8160-103703eafa66\" class=\"plotly-graph-div\" style=\"height:525px; width:100%;\"></div>            <script type=\"text/javascript\">                require([\"plotly\"], function(Plotly) {                    window.PLOTLYENV=window.PLOTLYENV || {};                                    if (document.getElementById(\"6e5def6b-2564-4288-8160-103703eafa66\")) {                    Plotly.newPlot(                        \"6e5def6b-2564-4288-8160-103703eafa66\",                        [{\"alignmentgroup\":\"True\",\"hovertemplate\":\"boss=%{x}\\u003cbr\\u003epercent=%{y}\\u003cextra\\u003e\\u003c\\u002fextra\\u003e\",\"legendgroup\":\"\",\"marker\":{\"color\":\"#636efa\",\"pattern\":{\"shape\":\"\"}},\"name\":\"\",\"offsetgroup\":\"\",\"orientation\":\"v\",\"showlegend\":false,\"textposition\":\"auto\",\"x\":[\"mogura\",\"diver\",\"hashira\",\"teppan\",\"kin_shake\",\"hebi\",\"bakudan\",\"tekkyu\",\"doro_shake\",\"koumori\",\"tower\",\"grill\",\"nabebuta\",\"katapad\"],\"xaxis\":\"x\",\"y\":[0.28614008941877794,0.2653061224489796,0.2194732641660016,0.20970042796005706,0.20935412026726058,0.20833333333333334,0.2066957787481805,0.17481203007518797,0.14942528735632185,0.13540912382331644,0.1261061946902655,0.1069182389937107,0.08362614195361912,0.057352941176470586],\"yaxis\":\"y\",\"type\":\"bar\"}],                        {\"template\":{\"data\":{\"histogram2dcontour\":[{\"type\":\"histogram2dcontour\",\"colorbar\":{\"outlinewidth\":0,\"ticks\":\"\"},\"colorscale\":[[0.0,\"#0d0887\"],[0.1111111111111111,\"#46039f\"],[0.2222222222222222,\"#7201a8\"],[0.3333333333333333,\"#9c179e\"],[0.4444444444444444,\"#bd3786\"],[0.5555555555555556,\"#d8576b\"],[0.6666666666666666,\"#ed7953\"],[0.7777777777777778,\"#fb9f3a\"],[0.8888888888888888,\"#fdca26\"],[1.0,\"#f0f921\"]]}],\"choropleth\":[{\"type\":\"choropleth\",\"colorbar\":{\"outlinewidth\":0,\"ticks\":\"\"}}],\"histogram2d\":[{\"type\":\"histogram2d\",\"colorbar\":{\"outlinewidth\":0,\"ticks\":\"\"},\"colorscale\":[[0.0,\"#0d0887\"],[0.1111111111111111,\"#46039f\"],[0.2222222222222222,\"#7201a8\"],[0.3333333333333333,\"#9c179e\"],[0.4444444444444444,\"#bd3786\"],[0.5555555555555556,\"#d8576b\"],[0.6666666666666666,\"#ed7953\"],[0.7777777777777778,\"#fb9f3a\"],[0.8888888888888888,\"#fdca26\"],[1.0,\"#f0f921\"]]}],\"heatmap\":[{\"type\":\"heatmap\",\"colorbar\":{\"outlinewidth\":0,\"ticks\":\"\"},\"colorscale\":[[0.0,\"#0d0887\"],[0.1111111111111111,\"#46039f\"],[0.2222222222222222,\"#7201a8\"],[0.3333333333333333,\"#9c179e\"],[0.4444444444444444,\"#bd3786\"],[0.5555555555555556,\"#d8576b\"],[0.6666666666666666,\"#ed7953\"],[0.7777777777777778,\"#fb9f3a\"],[0.8888888888888888,\"#fdca26\"],[1.0,\"#f0f921\"]]}],\"heatmapgl\":[{\"type\":\"heatmapgl\",\"colorbar\":{\"outlinewidth\":0,\"ticks\":\"\"},\"colorscale\":[[0.0,\"#0d0887\"],[0.1111111111111111,\"#46039f\"],[0.2222222222222222,\"#7201a8\"],[0.3333333333333333,\"#9c179e\"],[0.4444444444444444,\"#bd3786\"],[0.5555555555555556,\"#d8576b\"],[0.6666666666666666,\"#ed7953\"],[0.7777777777777778,\"#fb9f3a\"],[0.8888888888888888,\"#fdca26\"],[1.0,\"#f0f921\"]]}],\"contourcarpet\":[{\"type\":\"contourcarpet\",\"colorbar\":{\"outlinewidth\":0,\"ticks\":\"\"}}],\"contour\":[{\"type\":\"contour\",\"colorbar\":{\"outlinewidth\":0,\"ticks\":\"\"},\"colorscale\":[[0.0,\"#0d0887\"],[0.1111111111111111,\"#46039f\"],[0.2222222222222222,\"#7201a8\"],[0.3333333333333333,\"#9c179e\"],[0.4444444444444444,\"#bd3786\"],[0.5555555555555556,\"#d8576b\"],[0.6666666666666666,\"#ed7953\"],[0.7777777777777778,\"#fb9f3a\"],[0.8888888888888888,\"#fdca26\"],[1.0,\"#f0f921\"]]}],\"surface\":[{\"type\":\"surface\",\"colorbar\":{\"outlinewidth\":0,\"ticks\":\"\"},\"colorscale\":[[0.0,\"#0d0887\"],[0.1111111111111111,\"#46039f\"],[0.2222222222222222,\"#7201a8\"],[0.3333333333333333,\"#9c179e\"],[0.4444444444444444,\"#bd3786\"],[0.5555555555555556,\"#d8576b\"],[0.6666666666666666,\"#ed7953\"],[0.7777777777777778,\"#fb9f3a\"],[0.8888888888888888,\"#fdca26\"],[1.0,\"#f0f921\"]]}],\"mesh3d\":[{\"type\":\"mesh3d\",\"colorbar\":{\"outlinewidth\":0,\"ticks\":\"\"}}],\"scatter\":[{\"fillpattern\":{\"fillmode\":\"overlay\",\"size\":10,\"solidity\":0.2},\"type\":\"scatter\"}],\"parcoords\":[{\"type\":\"parcoords\",\"line\":{\"colorbar\":{\"outlinewidth\":0,\"ticks\":\"\"}}}],\"scatterpolargl\":[{\"type\":\"scatterpolargl\",\"marker\":{\"colorbar\":{\"outlinewidth\":0,\"ticks\":\"\"}}}],\"bar\":[{\"error_x\":{\"color\":\"#2a3f5f\"},\"error_y\":{\"color\":\"#2a3f5f\"},\"marker\":{\"line\":{\"color\":\"#E5ECF6\",\"width\":0.5},\"pattern\":{\"fillmode\":\"overlay\",\"size\":10,\"solidity\":0.2}},\"type\":\"bar\"}],\"scattergeo\":[{\"type\":\"scattergeo\",\"marker\":{\"colorbar\":{\"outlinewidth\":0,\"ticks\":\"\"}}}],\"scatterpolar\":[{\"type\":\"scatterpolar\",\"marker\":{\"colorbar\":{\"outlinewidth\":0,\"ticks\":\"\"}}}],\"histogram\":[{\"marker\":{\"pattern\":{\"fillmode\":\"overlay\",\"size\":10,\"solidity\":0.2}},\"type\":\"histogram\"}],\"scattergl\":[{\"type\":\"scattergl\",\"marker\":{\"colorbar\":{\"outlinewidth\":0,\"ticks\":\"\"}}}],\"scatter3d\":[{\"type\":\"scatter3d\",\"line\":{\"colorbar\":{\"outlinewidth\":0,\"ticks\":\"\"}},\"marker\":{\"colorbar\":{\"outlinewidth\":0,\"ticks\":\"\"}}}],\"scattermapbox\":[{\"type\":\"scattermapbox\",\"marker\":{\"colorbar\":{\"outlinewidth\":0,\"ticks\":\"\"}}}],\"scatterternary\":[{\"type\":\"scatterternary\",\"marker\":{\"colorbar\":{\"outlinewidth\":0,\"ticks\":\"\"}}}],\"scattercarpet\":[{\"type\":\"scattercarpet\",\"marker\":{\"colorbar\":{\"outlinewidth\":0,\"ticks\":\"\"}}}],\"carpet\":[{\"aaxis\":{\"endlinecolor\":\"#2a3f5f\",\"gridcolor\":\"white\",\"linecolor\":\"white\",\"minorgridcolor\":\"white\",\"startlinecolor\":\"#2a3f5f\"},\"baxis\":{\"endlinecolor\":\"#2a3f5f\",\"gridcolor\":\"white\",\"linecolor\":\"white\",\"minorgridcolor\":\"white\",\"startlinecolor\":\"#2a3f5f\"},\"type\":\"carpet\"}],\"table\":[{\"cells\":{\"fill\":{\"color\":\"#EBF0F8\"},\"line\":{\"color\":\"white\"}},\"header\":{\"fill\":{\"color\":\"#C8D4E3\"},\"line\":{\"color\":\"white\"}},\"type\":\"table\"}],\"barpolar\":[{\"marker\":{\"line\":{\"color\":\"#E5ECF6\",\"width\":0.5},\"pattern\":{\"fillmode\":\"overlay\",\"size\":10,\"solidity\":0.2}},\"type\":\"barpolar\"}],\"pie\":[{\"automargin\":true,\"type\":\"pie\"}]},\"layout\":{\"autotypenumbers\":\"strict\",\"colorway\":[\"#636efa\",\"#EF553B\",\"#00cc96\",\"#ab63fa\",\"#FFA15A\",\"#19d3f3\",\"#FF6692\",\"#B6E880\",\"#FF97FF\",\"#FECB52\"],\"font\":{\"color\":\"#2a3f5f\"},\"hovermode\":\"closest\",\"hoverlabel\":{\"align\":\"left\"},\"paper_bgcolor\":\"white\",\"plot_bgcolor\":\"#E5ECF6\",\"polar\":{\"bgcolor\":\"#E5ECF6\",\"angularaxis\":{\"gridcolor\":\"white\",\"linecolor\":\"white\",\"ticks\":\"\"},\"radialaxis\":{\"gridcolor\":\"white\",\"linecolor\":\"white\",\"ticks\":\"\"}},\"ternary\":{\"bgcolor\":\"#E5ECF6\",\"aaxis\":{\"gridcolor\":\"white\",\"linecolor\":\"white\",\"ticks\":\"\"},\"baxis\":{\"gridcolor\":\"white\",\"linecolor\":\"white\",\"ticks\":\"\"},\"caxis\":{\"gridcolor\":\"white\",\"linecolor\":\"white\",\"ticks\":\"\"}},\"coloraxis\":{\"colorbar\":{\"outlinewidth\":0,\"ticks\":\"\"}},\"colorscale\":{\"sequential\":[[0.0,\"#0d0887\"],[0.1111111111111111,\"#46039f\"],[0.2222222222222222,\"#7201a8\"],[0.3333333333333333,\"#9c179e\"],[0.4444444444444444,\"#bd3786\"],[0.5555555555555556,\"#d8576b\"],[0.6666666666666666,\"#ed7953\"],[0.7777777777777778,\"#fb9f3a\"],[0.8888888888888888,\"#fdca26\"],[1.0,\"#f0f921\"]],\"sequentialminus\":[[0.0,\"#0d0887\"],[0.1111111111111111,\"#46039f\"],[0.2222222222222222,\"#7201a8\"],[0.3333333333333333,\"#9c179e\"],[0.4444444444444444,\"#bd3786\"],[0.5555555555555556,\"#d8576b\"],[0.6666666666666666,\"#ed7953\"],[0.7777777777777778,\"#fb9f3a\"],[0.8888888888888888,\"#fdca26\"],[1.0,\"#f0f921\"]],\"diverging\":[[0,\"#8e0152\"],[0.1,\"#c51b7d\"],[0.2,\"#de77ae\"],[0.3,\"#f1b6da\"],[0.4,\"#fde0ef\"],[0.5,\"#f7f7f7\"],[0.6,\"#e6f5d0\"],[0.7,\"#b8e186\"],[0.8,\"#7fbc41\"],[0.9,\"#4d9221\"],[1,\"#276419\"]]},\"xaxis\":{\"gridcolor\":\"white\",\"linecolor\":\"white\",\"ticks\":\"\",\"title\":{\"standoff\":15},\"zerolinecolor\":\"white\",\"automargin\":true,\"zerolinewidth\":2},\"yaxis\":{\"gridcolor\":\"white\",\"linecolor\":\"white\",\"ticks\":\"\",\"title\":{\"standoff\":15},\"zerolinecolor\":\"white\",\"automargin\":true,\"zerolinewidth\":2},\"scene\":{\"xaxis\":{\"backgroundcolor\":\"#E5ECF6\",\"gridcolor\":\"white\",\"linecolor\":\"white\",\"showbackground\":true,\"ticks\":\"\",\"zerolinecolor\":\"white\",\"gridwidth\":2},\"yaxis\":{\"backgroundcolor\":\"#E5ECF6\",\"gridcolor\":\"white\",\"linecolor\":\"white\",\"showbackground\":true,\"ticks\":\"\",\"zerolinecolor\":\"white\",\"gridwidth\":2},\"zaxis\":{\"backgroundcolor\":\"#E5ECF6\",\"gridcolor\":\"white\",\"linecolor\":\"white\",\"showbackground\":true,\"ticks\":\"\",\"zerolinecolor\":\"white\",\"gridwidth\":2}},\"shapedefaults\":{\"line\":{\"color\":\"#2a3f5f\"}},\"annotationdefaults\":{\"arrowcolor\":\"#2a3f5f\",\"arrowhead\":0,\"arrowwidth\":1},\"geo\":{\"bgcolor\":\"white\",\"landcolor\":\"#E5ECF6\",\"subunitcolor\":\"white\",\"showland\":true,\"showlakes\":true,\"lakecolor\":\"white\"},\"title\":{\"x\":0.05},\"mapbox\":{\"style\":\"light\"}}},\"xaxis\":{\"anchor\":\"y\",\"domain\":[0.0,1.0],\"title\":{\"text\":\"boss\"}},\"yaxis\":{\"anchor\":\"x\",\"domain\":[0.0,1.0],\"title\":{\"text\":\"percent\"}},\"legend\":{\"tracegroupgap\":0},\"title\":{\"text\":\"\\u30dc\\u30b9\\u306e\\u5012\\u3057\\u305f\\u5272\\u5408\"},\"barmode\":\"relative\"},                        {\"responsive\": true}                    ).then(function(){\n",
       "                            \n",
       "var gd = document.getElementById('6e5def6b-2564-4288-8160-103703eafa66');\n",
       "var x = new MutationObserver(function (mutations, observer) {{\n",
       "        var display = window.getComputedStyle(gd).display;\n",
       "        if (!display || display === 'none') {{\n",
       "            console.log([gd, 'removed!']);\n",
       "            Plotly.purge(gd);\n",
       "            observer.disconnect();\n",
       "        }}\n",
       "}});\n",
       "\n",
       "// Listen for the removal of the full notebook cells\n",
       "var notebookContainer = gd.closest('#notebook-container');\n",
       "if (notebookContainer) {{\n",
       "    x.observe(notebookContainer, {childList: true});\n",
       "}}\n",
       "\n",
       "// Listen for the clearing of the current output cell\n",
       "var outputEl = gd.closest('.output');\n",
       "if (outputEl) {{\n",
       "    x.observe(outputEl, {childList: true});\n",
       "}}\n",
       "\n",
       "                        })                };                });            </script>        </div>"
      ]
     },
     "metadata": {},
     "output_type": "display_data"
    }
   ],
   "source": [
    "px.bar(\n",
    "    boss.sort_values(by=\"percent\", ascending=False), \n",
    "    x=\"boss\", \n",
    "    y=\"percent\",\n",
    "    title=\"ボスの倒した割合\"\n",
    ")"
   ]
  },
  {
   "cell_type": "code",
   "execution_count": null,
   "metadata": {},
   "outputs": [],
   "source": []
  }
 ],
 "metadata": {
  "kernelspec": {
   "display_name": ".venv",
   "language": "python",
   "name": "python3"
  },
  "language_info": {
   "codemirror_mode": {
    "name": "ipython",
    "version": 3
   },
   "file_extension": ".py",
   "mimetype": "text/x-python",
   "name": "python",
   "nbconvert_exporter": "python",
   "pygments_lexer": "ipython3",
   "version": "3.10.8"
  },
  "orig_nbformat": 4
 },
 "nbformat": 4,
 "nbformat_minor": 2
}
